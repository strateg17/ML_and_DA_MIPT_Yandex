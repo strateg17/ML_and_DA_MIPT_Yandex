{
 "cells": [
  {
   "cell_type": "code",
   "execution_count": 1,
   "metadata": {
    "colab": {
     "base_uri": "https://localhost:8080/"
    },
    "executionInfo": {
     "elapsed": 595,
     "status": "ok",
     "timestamp": 1612105501665,
     "user": {
      "displayName": "Екатерина Маракова",
      "photoUrl": "https://lh3.googleusercontent.com/a-/AOh14GgvpkVnpRqwZZ_T3tE-1-wiKVe_v9XAdTLQXI5n8A=s64",
      "userId": "06825419021522521972"
     },
     "user_tz": -180
    },
    "id": "FHveP7tnHQxd",
    "outputId": "9d4bdfe5-9aca-4201-ee59-199ad979278d"
   },
   "outputs": [
    {
     "name": "stdout",
     "output_type": "stream",
     "text": [
      "Populating the interactive namespace from numpy and matplotlib\n"
     ]
    }
   ],
   "source": [
    "import numpy as np\n",
    "import pandas as pd\n",
    "import matplotlib.pyplot as plt\n",
    "%pylab inline\n",
    "from scipy import stats\n",
    "from statsmodels.stats.descriptivestats import sign_test\n",
    "import scipy\n",
    "from statsmodels.stats.weightstats import *\n",
    "from statsmodels.stats.proportion import proportion_confint\n",
    "import seaborn as sns"
   ]
  },
  {
   "cell_type": "code",
   "execution_count": 2,
   "metadata": {
    "executionInfo": {
     "elapsed": 941,
     "status": "ok",
     "timestamp": 1612091217781,
     "user": {
      "displayName": "Екатерина Маракова",
      "photoUrl": "https://lh3.googleusercontent.com/a-/AOh14GgvpkVnpRqwZZ_T3tE-1-wiKVe_v9XAdTLQXI5n8A=s64",
      "userId": "06825419021522521972"
     },
     "user_tz": -180
    },
    "id": "LIOccZ63Hslb"
   },
   "outputs": [],
   "source": [
    "df = pd.read_csv('credit_default.csv')"
   ]
  },
  {
   "cell_type": "code",
   "execution_count": 3,
   "metadata": {
    "colab": {
     "base_uri": "https://localhost:8080/",
     "height": 360
    },
    "executionInfo": {
     "elapsed": 734,
     "status": "ok",
     "timestamp": 1612091374347,
     "user": {
      "displayName": "Екатерина Маракова",
      "photoUrl": "https://lh3.googleusercontent.com/a-/AOh14GgvpkVnpRqwZZ_T3tE-1-wiKVe_v9XAdTLQXI5n8A=s64",
      "userId": "06825419021522521972"
     },
     "user_tz": -180
    },
    "id": "nyxcruz0IiFZ",
    "outputId": "8648bcb7-7fbe-4075-d1f6-1c7ef5ef8d85"
   },
   "outputs": [
    {
     "data": {
      "text/html": [
       "<div>\n",
       "<style scoped>\n",
       "    .dataframe tbody tr th:only-of-type {\n",
       "        vertical-align: middle;\n",
       "    }\n",
       "\n",
       "    .dataframe tbody tr th {\n",
       "        vertical-align: top;\n",
       "    }\n",
       "\n",
       "    .dataframe thead th {\n",
       "        text-align: right;\n",
       "    }\n",
       "</style>\n",
       "<table border=\"1\" class=\"dataframe\">\n",
       "  <thead>\n",
       "    <tr style=\"text-align: right;\">\n",
       "      <th></th>\n",
       "      <th>ID</th>\n",
       "      <th>LIMIT_BAL</th>\n",
       "      <th>SEX</th>\n",
       "      <th>EDUCATION</th>\n",
       "      <th>MARRIAGE</th>\n",
       "      <th>AGE</th>\n",
       "      <th>PAY_0</th>\n",
       "      <th>PAY_2</th>\n",
       "      <th>PAY_3</th>\n",
       "      <th>PAY_4</th>\n",
       "      <th>...</th>\n",
       "      <th>BILL_AMT4</th>\n",
       "      <th>BILL_AMT5</th>\n",
       "      <th>BILL_AMT6</th>\n",
       "      <th>PAY_AMT1</th>\n",
       "      <th>PAY_AMT2</th>\n",
       "      <th>PAY_AMT3</th>\n",
       "      <th>PAY_AMT4</th>\n",
       "      <th>PAY_AMT5</th>\n",
       "      <th>PAY_AMT6</th>\n",
       "      <th>default</th>\n",
       "    </tr>\n",
       "  </thead>\n",
       "  <tbody>\n",
       "    <tr>\n",
       "      <th>0</th>\n",
       "      <td>1</td>\n",
       "      <td>20000</td>\n",
       "      <td>2</td>\n",
       "      <td>2</td>\n",
       "      <td>1</td>\n",
       "      <td>24</td>\n",
       "      <td>2</td>\n",
       "      <td>2</td>\n",
       "      <td>0</td>\n",
       "      <td>0</td>\n",
       "      <td>...</td>\n",
       "      <td>0</td>\n",
       "      <td>0</td>\n",
       "      <td>0</td>\n",
       "      <td>0</td>\n",
       "      <td>689</td>\n",
       "      <td>0</td>\n",
       "      <td>0</td>\n",
       "      <td>0</td>\n",
       "      <td>0</td>\n",
       "      <td>1</td>\n",
       "    </tr>\n",
       "    <tr>\n",
       "      <th>1</th>\n",
       "      <td>2</td>\n",
       "      <td>120000</td>\n",
       "      <td>2</td>\n",
       "      <td>2</td>\n",
       "      <td>2</td>\n",
       "      <td>26</td>\n",
       "      <td>0</td>\n",
       "      <td>2</td>\n",
       "      <td>0</td>\n",
       "      <td>0</td>\n",
       "      <td>...</td>\n",
       "      <td>3272</td>\n",
       "      <td>3455</td>\n",
       "      <td>3261</td>\n",
       "      <td>0</td>\n",
       "      <td>1000</td>\n",
       "      <td>1000</td>\n",
       "      <td>1000</td>\n",
       "      <td>0</td>\n",
       "      <td>2000</td>\n",
       "      <td>1</td>\n",
       "    </tr>\n",
       "    <tr>\n",
       "      <th>2</th>\n",
       "      <td>3</td>\n",
       "      <td>90000</td>\n",
       "      <td>2</td>\n",
       "      <td>2</td>\n",
       "      <td>2</td>\n",
       "      <td>34</td>\n",
       "      <td>0</td>\n",
       "      <td>0</td>\n",
       "      <td>0</td>\n",
       "      <td>0</td>\n",
       "      <td>...</td>\n",
       "      <td>14331</td>\n",
       "      <td>14948</td>\n",
       "      <td>15549</td>\n",
       "      <td>1518</td>\n",
       "      <td>1500</td>\n",
       "      <td>1000</td>\n",
       "      <td>1000</td>\n",
       "      <td>1000</td>\n",
       "      <td>5000</td>\n",
       "      <td>0</td>\n",
       "    </tr>\n",
       "    <tr>\n",
       "      <th>3</th>\n",
       "      <td>4</td>\n",
       "      <td>50000</td>\n",
       "      <td>2</td>\n",
       "      <td>2</td>\n",
       "      <td>1</td>\n",
       "      <td>37</td>\n",
       "      <td>0</td>\n",
       "      <td>0</td>\n",
       "      <td>0</td>\n",
       "      <td>0</td>\n",
       "      <td>...</td>\n",
       "      <td>28314</td>\n",
       "      <td>28959</td>\n",
       "      <td>29547</td>\n",
       "      <td>2000</td>\n",
       "      <td>2019</td>\n",
       "      <td>1200</td>\n",
       "      <td>1100</td>\n",
       "      <td>1069</td>\n",
       "      <td>1000</td>\n",
       "      <td>0</td>\n",
       "    </tr>\n",
       "    <tr>\n",
       "      <th>4</th>\n",
       "      <td>5</td>\n",
       "      <td>50000</td>\n",
       "      <td>1</td>\n",
       "      <td>2</td>\n",
       "      <td>1</td>\n",
       "      <td>57</td>\n",
       "      <td>0</td>\n",
       "      <td>0</td>\n",
       "      <td>0</td>\n",
       "      <td>0</td>\n",
       "      <td>...</td>\n",
       "      <td>20940</td>\n",
       "      <td>19146</td>\n",
       "      <td>19131</td>\n",
       "      <td>2000</td>\n",
       "      <td>36681</td>\n",
       "      <td>10000</td>\n",
       "      <td>9000</td>\n",
       "      <td>689</td>\n",
       "      <td>679</td>\n",
       "      <td>0</td>\n",
       "    </tr>\n",
       "    <tr>\n",
       "      <th>5</th>\n",
       "      <td>6</td>\n",
       "      <td>50000</td>\n",
       "      <td>1</td>\n",
       "      <td>1</td>\n",
       "      <td>2</td>\n",
       "      <td>37</td>\n",
       "      <td>0</td>\n",
       "      <td>0</td>\n",
       "      <td>0</td>\n",
       "      <td>0</td>\n",
       "      <td>...</td>\n",
       "      <td>19394</td>\n",
       "      <td>19619</td>\n",
       "      <td>20024</td>\n",
       "      <td>2500</td>\n",
       "      <td>1815</td>\n",
       "      <td>657</td>\n",
       "      <td>1000</td>\n",
       "      <td>1000</td>\n",
       "      <td>800</td>\n",
       "      <td>0</td>\n",
       "    </tr>\n",
       "    <tr>\n",
       "      <th>6</th>\n",
       "      <td>7</td>\n",
       "      <td>500000</td>\n",
       "      <td>1</td>\n",
       "      <td>1</td>\n",
       "      <td>2</td>\n",
       "      <td>29</td>\n",
       "      <td>0</td>\n",
       "      <td>0</td>\n",
       "      <td>0</td>\n",
       "      <td>0</td>\n",
       "      <td>...</td>\n",
       "      <td>542653</td>\n",
       "      <td>483003</td>\n",
       "      <td>473944</td>\n",
       "      <td>55000</td>\n",
       "      <td>40000</td>\n",
       "      <td>38000</td>\n",
       "      <td>20239</td>\n",
       "      <td>13750</td>\n",
       "      <td>13770</td>\n",
       "      <td>0</td>\n",
       "    </tr>\n",
       "    <tr>\n",
       "      <th>7</th>\n",
       "      <td>8</td>\n",
       "      <td>100000</td>\n",
       "      <td>2</td>\n",
       "      <td>2</td>\n",
       "      <td>2</td>\n",
       "      <td>23</td>\n",
       "      <td>0</td>\n",
       "      <td>0</td>\n",
       "      <td>0</td>\n",
       "      <td>0</td>\n",
       "      <td>...</td>\n",
       "      <td>221</td>\n",
       "      <td>-159</td>\n",
       "      <td>567</td>\n",
       "      <td>380</td>\n",
       "      <td>601</td>\n",
       "      <td>0</td>\n",
       "      <td>581</td>\n",
       "      <td>1687</td>\n",
       "      <td>1542</td>\n",
       "      <td>0</td>\n",
       "    </tr>\n",
       "    <tr>\n",
       "      <th>8</th>\n",
       "      <td>9</td>\n",
       "      <td>140000</td>\n",
       "      <td>2</td>\n",
       "      <td>3</td>\n",
       "      <td>1</td>\n",
       "      <td>28</td>\n",
       "      <td>0</td>\n",
       "      <td>0</td>\n",
       "      <td>2</td>\n",
       "      <td>0</td>\n",
       "      <td>...</td>\n",
       "      <td>12211</td>\n",
       "      <td>11793</td>\n",
       "      <td>3719</td>\n",
       "      <td>3329</td>\n",
       "      <td>0</td>\n",
       "      <td>432</td>\n",
       "      <td>1000</td>\n",
       "      <td>1000</td>\n",
       "      <td>1000</td>\n",
       "      <td>0</td>\n",
       "    </tr>\n",
       "    <tr>\n",
       "      <th>9</th>\n",
       "      <td>10</td>\n",
       "      <td>20000</td>\n",
       "      <td>1</td>\n",
       "      <td>3</td>\n",
       "      <td>2</td>\n",
       "      <td>35</td>\n",
       "      <td>0</td>\n",
       "      <td>0</td>\n",
       "      <td>0</td>\n",
       "      <td>0</td>\n",
       "      <td>...</td>\n",
       "      <td>0</td>\n",
       "      <td>13007</td>\n",
       "      <td>13912</td>\n",
       "      <td>0</td>\n",
       "      <td>0</td>\n",
       "      <td>0</td>\n",
       "      <td>13007</td>\n",
       "      <td>1122</td>\n",
       "      <td>0</td>\n",
       "      <td>0</td>\n",
       "    </tr>\n",
       "  </tbody>\n",
       "</table>\n",
       "<p>10 rows × 25 columns</p>\n",
       "</div>"
      ],
      "text/plain": [
       "   ID  LIMIT_BAL  SEX  EDUCATION  MARRIAGE  AGE  PAY_0  PAY_2  PAY_3  PAY_4  \\\n",
       "0   1      20000    2          2         1   24      2      2      0      0   \n",
       "1   2     120000    2          2         2   26      0      2      0      0   \n",
       "2   3      90000    2          2         2   34      0      0      0      0   \n",
       "3   4      50000    2          2         1   37      0      0      0      0   \n",
       "4   5      50000    1          2         1   57      0      0      0      0   \n",
       "5   6      50000    1          1         2   37      0      0      0      0   \n",
       "6   7     500000    1          1         2   29      0      0      0      0   \n",
       "7   8     100000    2          2         2   23      0      0      0      0   \n",
       "8   9     140000    2          3         1   28      0      0      2      0   \n",
       "9  10      20000    1          3         2   35      0      0      0      0   \n",
       "\n",
       "   ...  BILL_AMT4  BILL_AMT5  BILL_AMT6  PAY_AMT1  PAY_AMT2  PAY_AMT3  \\\n",
       "0  ...          0          0          0         0       689         0   \n",
       "1  ...       3272       3455       3261         0      1000      1000   \n",
       "2  ...      14331      14948      15549      1518      1500      1000   \n",
       "3  ...      28314      28959      29547      2000      2019      1200   \n",
       "4  ...      20940      19146      19131      2000     36681     10000   \n",
       "5  ...      19394      19619      20024      2500      1815       657   \n",
       "6  ...     542653     483003     473944     55000     40000     38000   \n",
       "7  ...        221       -159        567       380       601         0   \n",
       "8  ...      12211      11793       3719      3329         0       432   \n",
       "9  ...          0      13007      13912         0         0         0   \n",
       "\n",
       "   PAY_AMT4  PAY_AMT5  PAY_AMT6  default  \n",
       "0         0         0         0        1  \n",
       "1      1000         0      2000        1  \n",
       "2      1000      1000      5000        0  \n",
       "3      1100      1069      1000        0  \n",
       "4      9000       689       679        0  \n",
       "5      1000      1000       800        0  \n",
       "6     20239     13750     13770        0  \n",
       "7       581      1687      1542        0  \n",
       "8      1000      1000      1000        0  \n",
       "9     13007      1122         0        0  \n",
       "\n",
       "[10 rows x 25 columns]"
      ]
     },
     "execution_count": 3,
     "metadata": {},
     "output_type": "execute_result"
    }
   ],
   "source": [
    "df.head(10)"
   ]
  },
  {
   "cell_type": "markdown",
   "metadata": {
    "id": "T5o0152lH_CL"
   },
   "source": [
    "# Задание 1"
   ]
  },
  {
   "cell_type": "code",
   "execution_count": 4,
   "metadata": {
    "colab": {
     "base_uri": "https://localhost:8080/",
     "height": 333
    },
    "executionInfo": {
     "elapsed": 898,
     "status": "ok",
     "timestamp": 1612094227134,
     "user": {
      "displayName": "Екатерина Маракова",
      "photoUrl": "https://lh3.googleusercontent.com/a-/AOh14GgvpkVnpRqwZZ_T3tE-1-wiKVe_v9XAdTLQXI5n8A=s64",
      "userId": "06825419021522521972"
     },
     "user_tz": -180
    },
    "id": "MpkhBah9TDRw",
    "outputId": "6fc1f973-aa7e-424e-a9c0-fe6e097a7960"
   },
   "outputs": [
    {
     "data": {
      "image/png": "[encoded data removed]",
      "text/plain": [
       "<Figure size 864x360 with 2 Axes>"
      ]
     },
     "metadata": {
      "needs_background": "light"
     },
     "output_type": "display_data"
    }
   ],
   "source": [
    "pylab.figure(figsize(12, 5))\n",
    "pylab.subplot(1,2,1)\n",
    "pylab.hist(df[df.default == 0].LIMIT_BAL, bins = 20, color = 'b', label = 'default = 0')\n",
    "pylab.legend()\n",
    "\n",
    "pylab.subplot(1,2,2)\n",
    "pylab.hist(df[df.default == 1].LIMIT_BAL, bins = 20, color = 'r',  label = 'default = 1')\n",
    "pylab.legend()\n",
    "\n",
    "pylab.show()"
   ]
  },
  {
   "cell_type": "markdown",
   "metadata": {
    "id": "8QRHBrUXWXUe"
   },
   "source": [
    "### 1.а. Гопотеза о равенсве медиан"
   ]
  },
  {
   "cell_type": "markdown",
   "metadata": {
    "id": "1v5iVaJu3jCf"
   },
   "source": [
    "Н0: Медианы на двух подвыборках равны\n",
    "\n",
    "Н1: Медианы на двух подвыборках не равны"
   ]
  },
  {
   "cell_type": "code",
   "execution_count": 5,
   "metadata": {
    "colab": {
     "base_uri": "https://localhost:8080/"
    },
    "executionInfo": {
     "elapsed": 474,
     "status": "ok",
     "timestamp": 1612107305162,
     "user": {
      "displayName": "Екатерина Маракова",
      "photoUrl": "https://lh3.googleusercontent.com/a-/AOh14GgvpkVnpRqwZZ_T3tE-1-wiKVe_v9XAdTLQXI5n8A=s64",
      "userId": "06825419021522521972"
     },
     "user_tz": -180
    },
    "id": "UfM_BAu9YBAV",
    "outputId": "f04b6ac4-4e83-4081-d582-117d31270123"
   },
   "outputs": [
    {
     "name": "stdout",
     "output_type": "stream",
     "text": [
      "Медиана лимита для тех, кто вернул кредит равна 150000.0\n",
      "Медиана лимита для тех, кто НЕ вернул кредит равна 90000.0\n"
     ]
    }
   ],
   "source": [
    "print('Медиана лимита для тех, кто вернул кредит равна', df[df.default == 0].LIMIT_BAL.median())\n",
    "print('Медиана лимита для тех, кто НЕ вернул кредит равна', df[df.default == 1].LIMIT_BAL.median())"
   ]
  },
  {
   "cell_type": "code",
   "execution_count": 6,
   "metadata": {
    "colab": {
     "base_uri": "https://localhost:8080/",
     "height": 499
    },
    "executionInfo": {
     "elapsed": 1191,
     "status": "ok",
     "timestamp": 1612107305894,
     "user": {
      "displayName": "Екатерина Маракова",
      "photoUrl": "https://lh3.googleusercontent.com/a-/AOh14GgvpkVnpRqwZZ_T3tE-1-wiKVe_v9XAdTLQXI5n8A=s64",
      "userId": "06825419021522521972"
     },
     "user_tz": -180
    },
    "id": "dL9qCV_WIJQE",
    "outputId": "88f75be3-bcc5-4142-b314-19fd542f09cd"
   },
   "outputs": [
    {
     "data": {
      "image/png": "[encoded data removed]",
      "text/plain": [
       "<Figure size 1080x576 with 2 Axes>"
      ]
     },
     "metadata": {
      "needs_background": "light"
     },
     "output_type": "display_data"
    }
   ],
   "source": [
    "fig, ax = plt.subplots(1,2, figsize = (15, 8))\n",
    "ax[0].boxplot(df[df.default == 0].LIMIT_BAL)\n",
    "ax[1].boxplot(df[df.default == 1].LIMIT_BAL)\n",
    "ax[0].set_title('default = 0')\n",
    "ax[1].set_title('default = 1');"
   ]
  },
  {
   "cell_type": "markdown",
   "metadata": {
    "id": "WGdrNEtON6Oh"
   },
   "source": [
    "На ящиковых диаграмма видно, то медиана лимита у недефолтных клиентов раположена немного выше"
   ]
  },
  {
   "cell_type": "markdown",
   "metadata": {
    "id": "6dSZFGF5WmhC"
   },
   "source": [
    "Построим интервальную оценку для медианы с помощью бутстрапа."
   ]
  },
  {
   "cell_type": "code",
   "execution_count": 7,
   "metadata": {
    "executionInfo": {
     "elapsed": 1186,
     "status": "ok",
     "timestamp": 1612107305899,
     "user": {
      "displayName": "Екатерина Маракова",
      "photoUrl": "https://lh3.googleusercontent.com/a-/AOh14GgvpkVnpRqwZZ_T3tE-1-wiKVe_v9XAdTLQXI5n8A=s64",
      "userId": "06825419021522521972"
     },
     "user_tz": -180
    },
    "id": "-Lt1v9F7MloC"
   },
   "outputs": [],
   "source": [
    "def get_bootstrap_samples(data, n_samples):\n",
    "    indices = np.random.randint(0, len(data), (n_samples, len(data)))\n",
    "    samples = data[indices]\n",
    "    return samples"
   ]
  },
  {
   "cell_type": "code",
   "execution_count": 8,
   "metadata": {
    "executionInfo": {
     "elapsed": 1514,
     "status": "ok",
     "timestamp": 1612107306237,
     "user": {
      "displayName": "Екатерина Маракова",
      "photoUrl": "https://lh3.googleusercontent.com/a-/AOh14GgvpkVnpRqwZZ_T3tE-1-wiKVe_v9XAdTLQXI5n8A=s64",
      "userId": "06825419021522521972"
     },
     "user_tz": -180
    },
    "id": "3U84s-yzTok-"
   },
   "outputs": [],
   "source": [
    "def stat_intervals(stat, alpha):\n",
    "    boundaries = np.percentile(stat, [100 * alpha / 2., 100 * (1 - alpha / 2.)])\n",
    "    return boundaries"
   ]
  },
  {
   "cell_type": "code",
   "execution_count": 9,
   "metadata": {
    "executionInfo": {
     "elapsed": 1505,
     "status": "ok",
     "timestamp": 1612107306240,
     "user": {
      "displayName": "Екатерина Маракова",
      "photoUrl": "https://lh3.googleusercontent.com/a-/AOh14GgvpkVnpRqwZZ_T3tE-1-wiKVe_v9XAdTLQXI5n8A=s64",
      "userId": "06825419021522521972"
     },
     "user_tz": -180
    },
    "id": "IbUT7oW4Tq0n"
   },
   "outputs": [],
   "source": [
    "limit_default = df[df.default == 1].LIMIT_BAL.values\n",
    "limit_non_default = df[df.default == 0].LIMIT_BAL.values"
   ]
  },
  {
   "cell_type": "code",
   "execution_count": 10,
   "metadata": {
    "colab": {
     "base_uri": "https://localhost:8080/"
    },
    "executionInfo": {
     "elapsed": 2349,
     "status": "ok",
     "timestamp": 1612107307097,
     "user": {
      "displayName": "Екатерина Маракова",
      "photoUrl": "https://lh3.googleusercontent.com/a-/AOh14GgvpkVnpRqwZZ_T3tE-1-wiKVe_v9XAdTLQXI5n8A=s64",
      "userId": "06825419021522521972"
     },
     "user_tz": -180
    },
    "id": "7l3aaFx_T__1",
    "outputId": "cb92c6b1-a073-4e5b-e63e-743b5ae5274b"
   },
   "outputs": [
    {
     "name": "stdout",
     "output_type": "stream",
     "text": [
      "95% confidence interval for the default median LIMIT BAL: [80000. 90000.]\n",
      "95% confidence interval for the non-default median LIMIT BAL: [150000. 150000.]\n"
     ]
    }
   ],
   "source": [
    "np.random.seed(0)\n",
    "\n",
    "ld_median_scores = list(map(np.median, get_bootstrap_samples(limit_default, 1000)))\n",
    "lnd_median_scores = list(map(np.median, get_bootstrap_samples(limit_non_default, 1000)))\n",
    "\n",
    "print(\"95% confidence interval for the default median LIMIT BAL:\",  stat_intervals(ld_median_scores, 0.05))\n",
    "print(\"95% confidence interval for the non-default median LIMIT BAL:\",  stat_intervals(lnd_median_scores, 0.05))"
   ]
  },
  {
   "cell_type": "markdown",
   "metadata": {
    "id": "RLJaQA5MUo_7"
   },
   "source": [
    "Из результатов видим, что доверительные интервалы для кредитного лимита в двух подвыборках не пересекаются, на основании чего можно ОТКЛОНИТЬ гипотезу о равенстве медиан для дех кто вернул и не вернул кредит."
   ]
  },
  {
   "cell_type": "markdown",
   "metadata": {
    "id": "6AGrsrifW1jI"
   },
   "source": [
    "### 1.б. Гипотеза о равенстве распределений"
   ]
  },
  {
   "cell_type": "code",
   "execution_count": 11,
   "metadata": {
    "colab": {
     "base_uri": "https://localhost:8080/"
    },
    "executionInfo": {
     "elapsed": 745,
     "status": "ok",
     "timestamp": 1612098082891,
     "user": {
      "displayName": "Екатерина Маракова",
      "photoUrl": "https://lh3.googleusercontent.com/a-/AOh14GgvpkVnpRqwZZ_T3tE-1-wiKVe_v9XAdTLQXI5n8A=s64",
      "userId": "06825419021522521972"
     },
     "user_tz": -180
    },
    "id": "Q1XrTf1ZYjtq",
    "outputId": "b22869b9-39ff-4ad5-82fa-907dda1b1978"
   },
   "outputs": [],
   "source": [
    "#stats.mannwhitneyu(limit_default, limit_non_default)"
   ]
  },
  {
   "cell_type": "markdown",
   "metadata": {
    "id": "f9lLvCA632p8"
   },
   "source": [
    "Н0: Распределения двух групп заемщиков равны\n",
    "\n",
    "Н1: Распределения двух групп не равны"
   ]
  },
  {
   "cell_type": "markdown",
   "metadata": {
    "id": "vbWyrqjgkA6a"
   },
   "source": [
    "Воспользуемся для проверки данной гипотезы перестановоччным критерием"
   ]
  },
  {
   "cell_type": "code",
   "execution_count": 12,
   "metadata": {
    "executionInfo": {
     "elapsed": 610,
     "status": "ok",
     "timestamp": 1612098101597,
     "user": {
      "displayName": "Екатерина Маракова",
      "photoUrl": "https://lh3.googleusercontent.com/a-/AOh14GgvpkVnpRqwZZ_T3tE-1-wiKVe_v9XAdTLQXI5n8A=s64",
      "userId": "06825419021522521972"
     },
     "user_tz": -180
    },
    "id": "GykZP6XLiG-N"
   },
   "outputs": [],
   "source": [
    "def permutation_t_stat_ind(sample1, sample2):\n",
    "    return np.mean(sample1) - np.mean(sample2)"
   ]
  },
  {
   "cell_type": "code",
   "execution_count": 13,
   "metadata": {
    "executionInfo": {
     "elapsed": 700,
     "status": "ok",
     "timestamp": 1612098475171,
     "user": {
      "displayName": "Екатерина Маракова",
      "photoUrl": "https://lh3.googleusercontent.com/a-/AOh14GgvpkVnpRqwZZ_T3tE-1-wiKVe_v9XAdTLQXI5n8A=s64",
      "userId": "06825419021522521972"
     },
     "user_tz": -180
    },
    "id": "VqjS7ZZ_iN6I"
   },
   "outputs": [],
   "source": [
    "def get_random_combinations(n1, n2, max_combinations):\n",
    "    index = list(range(n1 + n2))\n",
    "    indices = set([tuple(index)])\n",
    "    for i in range(max_combinations - 1):\n",
    "        np.random.shuffle(index)\n",
    "        indices.add(tuple(index))\n",
    "    return [(index[:n1], index[n1:]) for index in indices]"
   ]
  },
  {
   "cell_type": "code",
   "execution_count": 14,
   "metadata": {
    "executionInfo": {
     "elapsed": 784,
     "status": "ok",
     "timestamp": 1612098475529,
     "user": {
      "displayName": "Екатерина Маракова",
      "photoUrl": "https://lh3.googleusercontent.com/a-/AOh14GgvpkVnpRqwZZ_T3tE-1-wiKVe_v9XAdTLQXI5n8A=s64",
      "userId": "06825419021522521972"
     },
     "user_tz": -180
    },
    "id": "cYZvarsbiQKF"
   },
   "outputs": [],
   "source": [
    "def permutation_zero_dist_ind(sample1, sample2, max_combinations = None):\n",
    "    joined_sample = np.hstack((sample1, sample2))\n",
    "    n1 = len(sample1)\n",
    "    n = len(joined_sample)\n",
    "    \n",
    "    if max_combinations:\n",
    "        indices = get_random_combinations(n1, len(sample2), max_combinations)\n",
    "    else:\n",
    "        indices = [(list(index), filter(lambda i: i not in index, range(n))) \\\n",
    "                    for index in itertools.combinations(range(n), n1)]\n",
    "    \n",
    "    distr = [joined_sample[list(i[0])].mean() - joined_sample[list(i[1])].mean() \\\n",
    "             for i in indices]\n",
    "    return distr"
   ]
  },
  {
   "cell_type": "code",
   "execution_count": 15,
   "metadata": {
    "executionInfo": {
     "elapsed": 504,
     "status": "ok",
     "timestamp": 1612098475534,
     "user": {
      "displayName": "Екатерина Маракова",
      "photoUrl": "https://lh3.googleusercontent.com/a-/AOh14GgvpkVnpRqwZZ_T3tE-1-wiKVe_v9XAdTLQXI5n8A=s64",
      "userId": "06825419021522521972"
     },
     "user_tz": -180
    },
    "id": "nGhHDsiWiTCL"
   },
   "outputs": [],
   "source": [
    "def permutation_test(sample, mean, max_permutations = None, alternative = 'two-sided'):\n",
    "    if alternative not in ('two-sided', 'less', 'greater'):\n",
    "        raise ValueError(\"alternative not recognized\\n\"\n",
    "                         \"should be 'two-sided', 'less' or 'greater'\")\n",
    "    \n",
    "    t_stat = permutation_t_stat_ind(sample, mean)\n",
    "    \n",
    "    zero_distr = permutation_zero_dist_ind(sample, mean, max_permutations)\n",
    "    \n",
    "    if alternative == 'two-sided':\n",
    "        return sum([1. if abs(x) >= abs(t_stat) else 0. for x in zero_distr]) / len(zero_distr)\n",
    "    \n",
    "    if alternative == 'less':\n",
    "        return sum([1. if x <= t_stat else 0. for x in zero_distr]) / len(zero_distr)\n",
    "\n",
    "    if alternative == 'greater':\n",
    "        return sum([1. if x >= t_stat else 0. for x in zero_distr]) / len(zero_distr)"
   ]
  },
  {
   "cell_type": "code",
   "execution_count": 16,
   "metadata": {
    "colab": {
     "base_uri": "https://localhost:8080/"
    },
    "executionInfo": {
     "elapsed": 365,
     "status": "ok",
     "timestamp": 1612098530307,
     "user": {
      "displayName": "Екатерина Маракова",
      "photoUrl": "https://lh3.googleusercontent.com/a-/AOh14GgvpkVnpRqwZZ_T3tE-1-wiKVe_v9XAdTLQXI5n8A=s64",
      "userId": "06825419021522521972"
     },
     "user_tz": -180
    },
    "id": "pFdNyBHIiZyK",
    "outputId": "379b2db1-22f8-4012-8e3a-0737dae8d6c0"
   },
   "outputs": [
    {
     "name": "stdout",
     "output_type": "stream",
     "text": [
      "p-value: 0.0001\n"
     ]
    }
   ],
   "source": [
    "print(\"p-value:\", permutation_test(limit_default, limit_non_default, max_permutations = 10000))"
   ]
  },
  {
   "cell_type": "markdown",
   "metadata": {
    "id": "BTUsDV2gkKt9"
   },
   "source": [
    "Значение p-value меньше 0.05 позволяет отклонить нулевую гиотезу. Значит, распределения подвыборок различаются. Данный результ имеет практическую значимость, так как разница довольно высока. Кредитный лимит для тех, ктовернул кредит выше."
   ]
  },
  {
   "cell_type": "markdown",
   "metadata": {
    "id": "RWlj6vsckppR"
   },
   "source": [
    "# Задание 2"
   ]
  },
  {
   "cell_type": "markdown",
   "metadata": {
    "id": "Pu99xOpe4VGr"
   },
   "source": [
    "Переобозначим категории в переменной SEX, чтобы было удобнее сччитать доли.\n",
    "\n",
    "(0 = мужской, 1 = женский )"
   ]
  },
  {
   "cell_type": "code",
   "execution_count": 17,
   "metadata": {
    "executionInfo": {
     "elapsed": 539,
     "status": "ok",
     "timestamp": 1612099415112,
     "user": {
      "displayName": "Екатерина Маракова",
      "photoUrl": "https://lh3.googleusercontent.com/a-/AOh14GgvpkVnpRqwZZ_T3tE-1-wiKVe_v9XAdTLQXI5n8A=s64",
      "userId": "06825419021522521972"
     },
     "user_tz": -180
    },
    "id": "0f_q1bAGnEHc"
   },
   "outputs": [],
   "source": [
    "df.loc[df.SEX == 1, 'SEX'] = 0 # Мужчины\n",
    "df.loc[df.SEX == 2, 'SEX'] = 1 # Женщины"
   ]
  },
  {
   "cell_type": "code",
   "execution_count": 18,
   "metadata": {
    "colab": {
     "base_uri": "https://localhost:8080/",
     "height": 320
    },
    "executionInfo": {
     "elapsed": 960,
     "status": "ok",
     "timestamp": 1612099416762,
     "user": {
      "displayName": "Екатерина Маракова",
      "photoUrl": "https://lh3.googleusercontent.com/a-/AOh14GgvpkVnpRqwZZ_T3tE-1-wiKVe_v9XAdTLQXI5n8A=s64",
      "userId": "06825419021522521972"
     },
     "user_tz": -180
    },
    "id": "wgaAtJBdksYc",
    "outputId": "0a8258c6-8093-4b56-be6f-b2f48963345e"
   },
   "outputs": [
    {
     "data": {
      "image/png": "[encoded data removed]",
      "text/plain": [
       "<Figure size 864x360 with 2 Axes>"
      ]
     },
     "metadata": {
      "needs_background": "light"
     },
     "output_type": "display_data"
    }
   ],
   "source": [
    "pylab.figure(figsize(12, 5))\n",
    "pylab.subplot(1,2,1)\n",
    "pylab.hist(df[df.default == 0].SEX, bins = 20, color = 'b', label = 'default = 0')\n",
    "pylab.legend()\n",
    "\n",
    "pylab.subplot(1,2,2)\n",
    "pylab.hist(df[df.default == 1].SEX, bins = 20, color = 'r',  label = 'default = 1')\n",
    "pylab.legend()\n",
    "\n",
    "pylab.show()"
   ]
  },
  {
   "cell_type": "code",
   "execution_count": 19,
   "metadata": {
    "colab": {
     "base_uri": "https://localhost:8080/"
    },
    "executionInfo": {
     "elapsed": 569,
     "status": "ok",
     "timestamp": 1612099479235,
     "user": {
      "displayName": "Екатерина Маракова",
      "photoUrl": "https://lh3.googleusercontent.com/a-/AOh14GgvpkVnpRqwZZ_T3tE-1-wiKVe_v9XAdTLQXI5n8A=s64",
      "userId": "06825419021522521972"
     },
     "user_tz": -180
    },
    "id": "6qvf_uldlAEn",
    "outputId": "c3a462cb-9de9-47ce-caf8-201e3093fa27"
   },
   "outputs": [
    {
     "name": "stdout",
     "output_type": "stream",
     "text": [
      "Доля женщин в числе вернувших кредит =  0.6141499743194658\n",
      "Доля женщин в числе НЕ вернувших кредит =  0.5670584689572031\n"
     ]
    }
   ],
   "source": [
    "print('Доля женщин в числе вернувших кредит = ', df[df.default == 0].SEX.mean())\n",
    "print('Доля женщин в числе НЕ вернувших кредит = ', df[df.default == 1].SEX.mean())"
   ]
  },
  {
   "cell_type": "markdown",
   "metadata": {
    "id": "7CzYNs79nwNr"
   },
   "source": [
    "На первый взгляд, доля женщин в группе вернувших кредит немного выше, то есть гендерный состав подвыборок несколько отличается. Проверим, зачимо ли это различие статистически."
   ]
  },
  {
   "cell_type": "markdown",
   "metadata": {
    "id": "Ah-tiKBCnk9-"
   },
   "source": [
    "### Интервальная оценка разности долей в двух подвыборках"
   ]
  },
  {
   "cell_type": "code",
   "execution_count": 20,
   "metadata": {
    "executionInfo": {
     "elapsed": 688,
     "status": "ok",
     "timestamp": 1612099686848,
     "user": {
      "displayName": "Екатерина Маракова",
      "photoUrl": "https://lh3.googleusercontent.com/a-/AOh14GgvpkVnpRqwZZ_T3tE-1-wiKVe_v9XAdTLQXI5n8A=s64",
      "userId": "06825419021522521972"
     },
     "user_tz": -180
    },
    "id": "MxMswHpenCRw"
   },
   "outputs": [],
   "source": [
    "def proportions_confint_diff_ind(sample1, sample2, alpha = 0.05):    \n",
    "    z = scipy.stats.norm.ppf(1 - alpha / 2.)   \n",
    "    p1 = float(sum(sample1)) / len(sample1)\n",
    "    p2 = float(sum(sample2)) / len(sample2)\n",
    "    \n",
    "    left_boundary = (p1 - p2) - z * np.sqrt(p1 * (1 - p1)/ len(sample1) + p2 * (1 - p2)/ len(sample2))\n",
    "    right_boundary = (p1 - p2) + z * np.sqrt(p1 * (1 - p1)/ len(sample1) + p2 * (1 - p2)/ len(sample2))\n",
    "    \n",
    "    return (left_boundary, right_boundary)"
   ]
  },
  {
   "cell_type": "code",
   "execution_count": 21,
   "metadata": {
    "colab": {
     "base_uri": "https://localhost:8080/"
    },
    "executionInfo": {
     "elapsed": 773,
     "status": "ok",
     "timestamp": 1612099772294,
     "user": {
      "displayName": "Екатерина Маракова",
      "photoUrl": "https://lh3.googleusercontent.com/a-/AOh14GgvpkVnpRqwZZ_T3tE-1-wiKVe_v9XAdTLQXI5n8A=s64",
      "userId": "06825419021522521972"
     },
     "user_tz": -180
    },
    "id": "V7tpj1tuoQ6n",
    "outputId": "11801c58-354e-413f-938b-30a2ce3c87df"
   },
   "outputs": [
    {
     "name": "stdout",
     "output_type": "stream",
     "text": [
      "confidence interval: [0.033635, 0.060548]\n"
     ]
    }
   ],
   "source": [
    "print(\"confidence interval: [%f, %f]\" % proportions_confint_diff_ind(df[df.default == 0].SEX, df[df.default == 1].SEX))"
   ]
  },
  {
   "cell_type": "markdown",
   "metadata": {
    "id": "t0zrPcTbooJK"
   },
   "source": [
    "Доверительный интервал не включает ноль, что может говорить о наличие статистического отличия в гендерном составе двух подвыборок."
   ]
  },
  {
   "cell_type": "markdown",
   "metadata": {
    "id": "2M9DuwO7rugn"
   },
   "source": [
    "### Оценка разности долей с помощью Z-критерия"
   ]
  },
  {
   "cell_type": "markdown",
   "metadata": {
    "id": "4z5vMI584_-Z"
   },
   "source": [
    "Н0: Гендерный состав групп не отличается (доли женщин в подвыборках не отличаются)\n",
    "\n",
    "Н1: Гендерный состав грууп отличается (доли не равны)"
   ]
  },
  {
   "cell_type": "code",
   "execution_count": 22,
   "metadata": {
    "executionInfo": {
     "elapsed": 498,
     "status": "ok",
     "timestamp": 1612100646588,
     "user": {
      "displayName": "Екатерина Маракова",
      "photoUrl": "https://lh3.googleusercontent.com/a-/AOh14GgvpkVnpRqwZZ_T3tE-1-wiKVe_v9XAdTLQXI5n8A=s64",
      "userId": "06825419021522521972"
     },
     "user_tz": -180
    },
    "id": "vJEEJardofv7"
   },
   "outputs": [],
   "source": [
    "def proportions_diff_z_stat_ind(sample1, sample2):\n",
    "    n1 = len(sample1)\n",
    "    n2 = len(sample2)\n",
    "    \n",
    "    p1 = float(sum(sample1)) / n1\n",
    "    p2 = float(sum(sample2)) / n2 \n",
    "    P = float(p1*n1 + p2*n2) / (n1 + n2)\n",
    "    \n",
    "    return (p1 - p2) / np.sqrt(P * (1 - P) * (1. / n1 + 1. / n2))"
   ]
  },
  {
   "cell_type": "code",
   "execution_count": 23,
   "metadata": {
    "executionInfo": {
     "elapsed": 678,
     "status": "ok",
     "timestamp": 1612100665535,
     "user": {
      "displayName": "Екатерина Маракова",
      "photoUrl": "https://lh3.googleusercontent.com/a-/AOh14GgvpkVnpRqwZZ_T3tE-1-wiKVe_v9XAdTLQXI5n8A=s64",
      "userId": "06825419021522521972"
     },
     "user_tz": -180
    },
    "id": "SHIv8gfdr7Qt"
   },
   "outputs": [],
   "source": [
    "def proportions_diff_z_test(z_stat, alternative = 'two-sided'):\n",
    "    if alternative not in ('two-sided', 'less', 'greater'):\n",
    "        raise ValueError(\"alternative not recognized\\n\"\n",
    "                         \"should be 'two-sided', 'less' or 'greater'\")\n",
    "    \n",
    "    if alternative == 'two-sided':\n",
    "        return 2 * (1 - scipy.stats.norm.cdf(np.abs(z_stat)))\n",
    "    \n",
    "    if alternative == 'less':\n",
    "        return scipy.stats.norm.cdf(z_stat)\n",
    "\n",
    "    if alternative == 'greater':\n",
    "        return 1 - scipy.stats.norm.cdf(z_stat)"
   ]
  },
  {
   "cell_type": "code",
   "execution_count": 24,
   "metadata": {
    "colab": {
     "base_uri": "https://localhost:8080/"
    },
    "executionInfo": {
     "elapsed": 639,
     "status": "ok",
     "timestamp": 1612100711618,
     "user": {
      "displayName": "Екатерина Маракова",
      "photoUrl": "https://lh3.googleusercontent.com/a-/AOh14GgvpkVnpRqwZZ_T3tE-1-wiKVe_v9XAdTLQXI5n8A=s64",
      "userId": "06825419021522521972"
     },
     "user_tz": -180
    },
    "id": "1Ge7WAR9r_2j",
    "outputId": "d12c263b-6fa4-4d0e-dea3-8c5e1c54f0bf"
   },
   "outputs": [
    {
     "name": "stdout",
     "output_type": "stream",
     "text": [
      "p-value: 0.000000\n"
     ]
    }
   ],
   "source": [
    "print(\"p-value: %f\" % proportions_diff_z_test(proportions_diff_z_stat_ind(df[df.default == 0].SEX, df[df.default == 1].SEX)))"
   ]
  },
  {
   "cell_type": "markdown",
   "metadata": {
    "id": "52ANLbewsPBe"
   },
   "source": [
    "P-value оказалось равным нулю, что позволяет отклонить нулевую гипотезу о том, что доли не отлиаются, на 5% уровне значимости. Значит, гендерный состав тех, кто вернул и не вернул кредиты, действительно статистически различен. С практической точки зрения это говорит о том, что женщины являются немного более надежными заемщиками, чем мужчины (так как среди вернувших кредит доля женщин выше на 5%), но нельзя сказать. что это является очень весомым признаком в задаче скоринга."
   ]
  },
  {
   "cell_type": "markdown",
   "metadata": {
    "id": "LuhaKj_GtBH5"
   },
   "source": [
    "# Задание 3"
   ]
  },
  {
   "cell_type": "code",
   "execution_count": 26,
   "metadata": {
    "colab": {
     "base_uri": "https://localhost:8080/",
     "height": 279
    },
    "executionInfo": {
     "elapsed": 1135,
     "status": "ok",
     "timestamp": 1612105518441,
     "user": {
      "displayName": "Екатерина Маракова",
      "photoUrl": "https://lh3.googleusercontent.com/a-/AOh14GgvpkVnpRqwZZ_T3tE-1-wiKVe_v9XAdTLQXI5n8A=s64",
      "userId": "06825419021522521972"
     },
     "user_tz": -180
    },
    "id": "lTOL22Ke-T6S",
    "outputId": "509371e3-31b4-43d3-e4b6-e835cdadcd58"
   },
   "outputs": [
    {
     "data": {
      "image/png": "[encoded data removed]",
      "text/plain": [
       "<Figure size 864x360 with 1 Axes>"
      ]
     },
     "metadata": {
      "needs_background": "light"
     },
     "output_type": "display_data"
    }
   ],
   "source": [
    "sns.barplot(x = 'EDUCATION', y = 'default', data = df);"
   ]
  },
  {
   "cell_type": "code",
   "execution_count": 30,
   "metadata": {
    "colab": {
     "base_uri": "https://localhost:8080/",
     "height": 239
    },
    "executionInfo": {
     "elapsed": 780,
     "status": "error",
     "timestamp": 1612289118035,
     "user": {
      "displayName": "Екатерина Маракова",
      "photoUrl": "https://lh3.googleusercontent.com/a-/AOh14GgvpkVnpRqwZZ_T3tE-1-wiKVe_v9XAdTLQXI5n8A=s64",
      "userId": "06825419021522521972"
     },
     "user_tz": -180
    },
    "id": "byUR16uu0-Mp",
    "outputId": "f0435917-2c48-4c44-832e-25dd43f26b44"
   },
   "outputs": [
    {
     "name": "stdout",
     "output_type": "stream",
     "text": [
      "Таблица сопряженности для наблюдаемых значений\n"
     ]
    },
    {
     "data": {
      "text/html": [
       "<div>\n",
       "<style scoped>\n",
       "    .dataframe tbody tr th:only-of-type {\n",
       "        vertical-align: middle;\n",
       "    }\n",
       "\n",
       "    .dataframe tbody tr th {\n",
       "        vertical-align: top;\n",
       "    }\n",
       "\n",
       "    .dataframe thead th {\n",
       "        text-align: right;\n",
       "    }\n",
       "</style>\n",
       "<table border=\"1\" class=\"dataframe\">\n",
       "  <thead>\n",
       "    <tr style=\"text-align: right;\">\n",
       "      <th></th>\n",
       "      <th>def_0</th>\n",
       "      <th>def_1</th>\n",
       "    </tr>\n",
       "  </thead>\n",
       "  <tbody>\n",
       "    <tr>\n",
       "      <th>educ_0</th>\n",
       "      <td>14</td>\n",
       "      <td>0</td>\n",
       "    </tr>\n",
       "    <tr>\n",
       "      <th>educ_1</th>\n",
       "      <td>8549</td>\n",
       "      <td>2036</td>\n",
       "    </tr>\n",
       "    <tr>\n",
       "      <th>educ_2</th>\n",
       "      <td>10700</td>\n",
       "      <td>3330</td>\n",
       "    </tr>\n",
       "    <tr>\n",
       "      <th>educ_3</th>\n",
       "      <td>3680</td>\n",
       "      <td>1237</td>\n",
       "    </tr>\n",
       "    <tr>\n",
       "      <th>educ_4</th>\n",
       "      <td>116</td>\n",
       "      <td>7</td>\n",
       "    </tr>\n",
       "    <tr>\n",
       "      <th>educ_5</th>\n",
       "      <td>262</td>\n",
       "      <td>18</td>\n",
       "    </tr>\n",
       "    <tr>\n",
       "      <th>educ_6</th>\n",
       "      <td>43</td>\n",
       "      <td>8</td>\n",
       "    </tr>\n",
       "  </tbody>\n",
       "</table>\n",
       "</div>"
      ],
      "text/plain": [
       "        def_0 def_1\n",
       "educ_0     14     0\n",
       "educ_1   8549  2036\n",
       "educ_2  10700  3330\n",
       "educ_3   3680  1237\n",
       "educ_4    116     7\n",
       "educ_5    262    18\n",
       "educ_6     43     8"
      ]
     },
     "execution_count": 30,
     "metadata": {},
     "output_type": "execute_result"
    }
   ],
   "source": [
    "df_educ_observed = pd.DataFrame(columns = ['def_0', 'def_1'], index=['educ_0', 'educ_1', 'educ_2', 'educ_3', 'educ_4', 'educ_5', 'educ_6'])\n",
    "for j, d in zip(df_educ_observed.columns, [0,1]):\n",
    "  for i, e in zip(df_educ_observed.index, [0,1,2,3,4,5,6]):\n",
    "    df_educ_observed.loc[i, j] = df[(df.default == d)&(df.EDUCATION==e)].EDUCATION.count()\n",
    "print('Таблица сопряженности для наблюдаемых значений')\n",
    "df_educ_observed"
   ]
  },
  {
   "cell_type": "code",
   "execution_count": 31,
   "metadata": {
    "executionInfo": {
     "elapsed": 588,
     "status": "ok",
     "timestamp": 1612105973203,
     "user": {
      "displayName": "Екатерина Маракова",
      "photoUrl": "https://lh3.googleusercontent.com/a-/AOh14GgvpkVnpRqwZZ_T3tE-1-wiKVe_v9XAdTLQXI5n8A=s64",
      "userId": "06825419021522521972"
     },
     "user_tz": -180
    },
    "id": "0F1yKIhN4WUw"
   },
   "outputs": [],
   "source": [
    "_, p_val, _, educ_expected = scipy.stats.chi2_contingency(np.array(df_educ_observed))"
   ]
  },
  {
   "cell_type": "code",
   "execution_count": 32,
   "metadata": {
    "colab": {
     "base_uri": "https://localhost:8080/",
     "height": 252
    },
    "executionInfo": {
     "elapsed": 626,
     "status": "ok",
     "timestamp": 1612105974416,
     "user": {
      "displayName": "Екатерина Маракова",
      "photoUrl": "https://lh3.googleusercontent.com/a-/AOh14GgvpkVnpRqwZZ_T3tE-1-wiKVe_v9XAdTLQXI5n8A=s64",
      "userId": "06825419021522521972"
     },
     "user_tz": -180
    },
    "id": "Zp4_t2FN59-i",
    "outputId": "33640aff-dfdf-42f4-b46d-4cc40c4ee4ec"
   },
   "outputs": [
    {
     "name": "stdout",
     "output_type": "stream",
     "text": [
      "Таблица сопряженности для разности наблюдаемых и ожидаемых значений\n"
     ]
    },
    {
     "data": {
      "text/html": [
       "<div>\n",
       "<style scoped>\n",
       "    .dataframe tbody tr th:only-of-type {\n",
       "        vertical-align: middle;\n",
       "    }\n",
       "\n",
       "    .dataframe tbody tr th {\n",
       "        vertical-align: top;\n",
       "    }\n",
       "\n",
       "    .dataframe thead th {\n",
       "        text-align: right;\n",
       "    }\n",
       "</style>\n",
       "<table border=\"1\" class=\"dataframe\">\n",
       "  <thead>\n",
       "    <tr style=\"text-align: right;\">\n",
       "      <th></th>\n",
       "      <th>def_0</th>\n",
       "      <th>def_1</th>\n",
       "    </tr>\n",
       "  </thead>\n",
       "  <tbody>\n",
       "    <tr>\n",
       "      <th>educ_0</th>\n",
       "      <td>3.0968</td>\n",
       "      <td>-3.0968</td>\n",
       "    </tr>\n",
       "    <tr>\n",
       "      <th>educ_1</th>\n",
       "      <td>305.402</td>\n",
       "      <td>-305.402</td>\n",
       "    </tr>\n",
       "    <tr>\n",
       "      <th>educ_2</th>\n",
       "      <td>-226.564</td>\n",
       "      <td>226.564</td>\n",
       "    </tr>\n",
       "    <tr>\n",
       "      <th>educ_3</th>\n",
       "      <td>-149.36</td>\n",
       "      <td>149.36</td>\n",
       "    </tr>\n",
       "    <tr>\n",
       "      <th>educ_4</th>\n",
       "      <td>20.2076</td>\n",
       "      <td>-20.2076</td>\n",
       "    </tr>\n",
       "    <tr>\n",
       "      <th>educ_5</th>\n",
       "      <td>43.936</td>\n",
       "      <td>-43.936</td>\n",
       "    </tr>\n",
       "    <tr>\n",
       "      <th>educ_6</th>\n",
       "      <td>3.2812</td>\n",
       "      <td>-3.2812</td>\n",
       "    </tr>\n",
       "  </tbody>\n",
       "</table>\n",
       "</div>"
      ],
      "text/plain": [
       "          def_0    def_1\n",
       "educ_0   3.0968  -3.0968\n",
       "educ_1  305.402 -305.402\n",
       "educ_2 -226.564  226.564\n",
       "educ_3  -149.36   149.36\n",
       "educ_4  20.2076 -20.2076\n",
       "educ_5   43.936  -43.936\n",
       "educ_6   3.2812  -3.2812"
      ]
     },
     "execution_count": 32,
     "metadata": {},
     "output_type": "execute_result"
    }
   ],
   "source": [
    "new_table = pd.DataFrame(np.array(df_educ_observed) - educ_expected, columns = ['def_0', 'def_1'], index=['educ_0', 'educ_1', 'educ_2', 'educ_3', 'educ_4', 'educ_5', 'educ_6'])\n",
    "print('Таблица сопряженности для разности наблюдаемых и ожидаемых значений')\n",
    "new_table"
   ]
  },
  {
   "cell_type": "markdown",
   "metadata": {
    "id": "_sjKfc2n_se6"
   },
   "source": [
    "Для модификации данной таблицы, чтобы привести ее к единому масштабу, можно поделить значения на ожидаемые значения:"
   ]
  },
  {
   "cell_type": "code",
   "execution_count": 33,
   "metadata": {
    "colab": {
     "base_uri": "https://localhost:8080/",
     "height": 252
    },
    "executionInfo": {
     "elapsed": 643,
     "status": "ok",
     "timestamp": 1612105990960,
     "user": {
      "displayName": "Екатерина Маракова",
      "photoUrl": "https://lh3.googleusercontent.com/a-/AOh14GgvpkVnpRqwZZ_T3tE-1-wiKVe_v9XAdTLQXI5n8A=s64",
      "userId": "06825419021522521972"
     },
     "user_tz": -180
    },
    "id": "2rWscYgRABCw",
    "outputId": "c929689b-d396-4f25-b0ed-0c1c48e43d52"
   },
   "outputs": [
    {
     "data": {
      "text/html": [
       "<div>\n",
       "<style scoped>\n",
       "    .dataframe tbody tr th:only-of-type {\n",
       "        vertical-align: middle;\n",
       "    }\n",
       "\n",
       "    .dataframe tbody tr th {\n",
       "        vertical-align: top;\n",
       "    }\n",
       "\n",
       "    .dataframe thead th {\n",
       "        text-align: right;\n",
       "    }\n",
       "</style>\n",
       "<table border=\"1\" class=\"dataframe\">\n",
       "  <thead>\n",
       "    <tr style=\"text-align: right;\">\n",
       "      <th></th>\n",
       "      <th>def_0</th>\n",
       "      <th>def_1</th>\n",
       "    </tr>\n",
       "  </thead>\n",
       "  <tbody>\n",
       "    <tr>\n",
       "      <th>educ_0</th>\n",
       "      <td>0.284027</td>\n",
       "      <td>-1</td>\n",
       "    </tr>\n",
       "    <tr>\n",
       "      <th>educ_1</th>\n",
       "      <td>0.0370472</td>\n",
       "      <td>-0.130436</td>\n",
       "    </tr>\n",
       "    <tr>\n",
       "      <th>educ_2</th>\n",
       "      <td>-0.0207352</td>\n",
       "      <td>0.0730042</td>\n",
       "    </tr>\n",
       "    <tr>\n",
       "      <th>educ_3</th>\n",
       "      <td>-0.0390038</td>\n",
       "      <td>0.137324</td>\n",
       "    </tr>\n",
       "    <tr>\n",
       "      <th>educ_4</th>\n",
       "      <td>0.210952</td>\n",
       "      <td>-0.742719</td>\n",
       "    </tr>\n",
       "    <tr>\n",
       "      <th>educ_5</th>\n",
       "      <td>0.201482</td>\n",
       "      <td>-0.709377</td>\n",
       "    </tr>\n",
       "    <tr>\n",
       "      <th>educ_6</th>\n",
       "      <td>0.0826108</td>\n",
       "      <td>-0.290856</td>\n",
       "    </tr>\n",
       "  </tbody>\n",
       "</table>\n",
       "</div>"
      ],
      "text/plain": [
       "            def_0      def_1\n",
       "educ_0   0.284027         -1\n",
       "educ_1  0.0370472  -0.130436\n",
       "educ_2 -0.0207352  0.0730042\n",
       "educ_3 -0.0390038   0.137324\n",
       "educ_4   0.210952  -0.742719\n",
       "educ_5   0.201482  -0.709377\n",
       "educ_6  0.0826108  -0.290856"
      ]
     },
     "execution_count": 33,
     "metadata": {},
     "output_type": "execute_result"
    }
   ],
   "source": [
    "new_table_modified = new_table/educ_expected\n",
    "new_table_modified"
   ]
  },
  {
   "cell_type": "markdown",
   "metadata": {
    "id": "eRPLhp2D6DGg"
   },
   "source": [
    "Н0: Образование не влияет на возврат кредита\n",
    "\n",
    "Н1: Образование влияет на возврат кредита"
   ]
  },
  {
   "cell_type": "code",
   "execution_count": 34,
   "metadata": {
    "colab": {
     "base_uri": "https://localhost:8080/"
    },
    "executionInfo": {
     "elapsed": 575,
     "status": "ok",
     "timestamp": 1612105541963,
     "user": {
      "displayName": "Екатерина Маракова",
      "photoUrl": "https://lh3.googleusercontent.com/a-/AOh14GgvpkVnpRqwZZ_T3tE-1-wiKVe_v9XAdTLQXI5n8A=s64",
      "userId": "06825419021522521972"
     },
     "user_tz": -180
    },
    "id": "e5Q4ZvJe4YUm",
    "outputId": "8ef655ce-d6a8-4515-e9b4-762e6e5b5cdc"
   },
   "outputs": [
    {
     "name": "stdout",
     "output_type": "stream",
     "text": [
      "p-value =  1.2332626245415605e-32\n"
     ]
    }
   ],
   "source": [
    "print('p-value = ', p_val)"
   ]
  },
  {
   "cell_type": "markdown",
   "metadata": {
    "id": "WIJi-Udb-wrD"
   },
   "source": [
    "Нулевая гипотеза отвргается (р-значение меньше 0.05), значит, можем сделать вывод, что есть статистически значимая корреляция между уровнем образования и возвратом кредита. \n",
    "\n",
    "Также по столбиковой диарамме можно сказать, что наличие докторской степени является наилучшим индикатором, что человек вернет долг, так как среди таких людей не было тех, кто дефолтил. Индикатор образования \"выпускник школы\" напротив является индикатором того, что человек с высокой вероятностью может не вернуть долг."
   ]
  },
  {
   "cell_type": "markdown",
   "metadata": {
    "id": "zpbyeL7qAkie"
   },
   "source": [
    "# Задание 4"
   ]
  },
  {
   "cell_type": "code",
   "execution_count": 35,
   "metadata": {
    "colab": {
     "base_uri": "https://localhost:8080/",
     "height": 279
    },
    "executionInfo": {
     "elapsed": 964,
     "status": "ok",
     "timestamp": 1612106106688,
     "user": {
      "displayName": "Екатерина Маракова",
      "photoUrl": "https://lh3.googleusercontent.com/a-/AOh14GgvpkVnpRqwZZ_T3tE-1-wiKVe_v9XAdTLQXI5n8A=s64",
      "userId": "06825419021522521972"
     },
     "user_tz": -180
    },
    "id": "pYrgCdyf43-9",
    "outputId": "7c733d6c-895c-475a-9dfb-4f97380cc378"
   },
   "outputs": [
    {
     "data": {
      "image/png": "[encoded data removed]",
      "text/plain": [
       "<Figure size 864x360 with 1 Axes>"
      ]
     },
     "metadata": {
      "needs_background": "light"
     },
     "output_type": "display_data"
    }
   ],
   "source": [
    "sns.barplot(x = 'MARRIAGE', y = 'default', data = df);"
   ]
  },
  {
   "cell_type": "code",
   "execution_count": 36,
   "metadata": {
    "colab": {
     "base_uri": "https://localhost:8080/",
     "height": 194
    },
    "executionInfo": {
     "elapsed": 717,
     "status": "ok",
     "timestamp": 1612106670643,
     "user": {
      "displayName": "Екатерина Маракова",
      "photoUrl": "https://lh3.googleusercontent.com/a-/AOh14GgvpkVnpRqwZZ_T3tE-1-wiKVe_v9XAdTLQXI5n8A=s64",
      "userId": "06825419021522521972"
     },
     "user_tz": -180
    },
    "id": "kSiI0WscAwMa",
    "outputId": "2294339a-6820-48d4-c801-3c74f186c47b"
   },
   "outputs": [
    {
     "data": {
      "text/html": [
       "<div>\n",
       "<style scoped>\n",
       "    .dataframe tbody tr th:only-of-type {\n",
       "        vertical-align: middle;\n",
       "    }\n",
       "\n",
       "    .dataframe tbody tr th {\n",
       "        vertical-align: top;\n",
       "    }\n",
       "\n",
       "    .dataframe thead th {\n",
       "        text-align: right;\n",
       "    }\n",
       "</style>\n",
       "<table border=\"1\" class=\"dataframe\">\n",
       "  <thead>\n",
       "    <tr style=\"text-align: right;\">\n",
       "      <th>default</th>\n",
       "      <th>0</th>\n",
       "      <th>1</th>\n",
       "    </tr>\n",
       "    <tr>\n",
       "      <th>MARRIAGE</th>\n",
       "      <th></th>\n",
       "      <th></th>\n",
       "    </tr>\n",
       "  </thead>\n",
       "  <tbody>\n",
       "    <tr>\n",
       "      <th>0</th>\n",
       "      <td>49</td>\n",
       "      <td>5</td>\n",
       "    </tr>\n",
       "    <tr>\n",
       "      <th>1</th>\n",
       "      <td>10453</td>\n",
       "      <td>3206</td>\n",
       "    </tr>\n",
       "    <tr>\n",
       "      <th>2</th>\n",
       "      <td>12623</td>\n",
       "      <td>3341</td>\n",
       "    </tr>\n",
       "    <tr>\n",
       "      <th>3</th>\n",
       "      <td>239</td>\n",
       "      <td>84</td>\n",
       "    </tr>\n",
       "  </tbody>\n",
       "</table>\n",
       "</div>"
      ],
      "text/plain": [
       "default       0     1\n",
       "MARRIAGE             \n",
       "0            49     5\n",
       "1         10453  3206\n",
       "2         12623  3341\n",
       "3           239    84"
      ]
     },
     "execution_count": 36,
     "metadata": {},
     "output_type": "execute_result"
    }
   ],
   "source": [
    "df_marriage = pd.pivot_table(df, values = 'ID', aggfunc = 'count', index = 'MARRIAGE', columns = 'default', fill_value=0)\n",
    "df_marriage"
   ]
  },
  {
   "cell_type": "code",
   "execution_count": 37,
   "metadata": {
    "executionInfo": {
     "elapsed": 523,
     "status": "ok",
     "timestamp": 1612106944179,
     "user": {
      "displayName": "Екатерина Маракова",
      "photoUrl": "https://lh3.googleusercontent.com/a-/AOh14GgvpkVnpRqwZZ_T3tE-1-wiKVe_v9XAdTLQXI5n8A=s64",
      "userId": "06825419021522521972"
     },
     "user_tz": -180
    },
    "id": "2XD5e88hBtPK"
   },
   "outputs": [],
   "source": [
    "chi2, p_val, _, _ = scipy.stats.chi2_contingency(np.array(df_marriage))"
   ]
  },
  {
   "cell_type": "markdown",
   "metadata": {
    "id": "yokWZ3uM7oGv"
   },
   "source": [
    "Н0: Корреляция статистически не значима\n",
    "\n",
    "Н1: Корреляция статистически значима"
   ]
  },
  {
   "cell_type": "code",
   "execution_count": 38,
   "metadata": {
    "colab": {
     "base_uri": "https://localhost:8080/"
    },
    "executionInfo": {
     "elapsed": 532,
     "status": "ok",
     "timestamp": 1612107166281,
     "user": {
      "displayName": "Екатерина Маракова",
      "photoUrl": "https://lh3.googleusercontent.com/a-/AOh14GgvpkVnpRqwZZ_T3tE-1-wiKVe_v9XAdTLQXI5n8A=s64",
      "userId": "06825419021522521972"
     },
     "user_tz": -180
    },
    "id": "GQFLWvqVD-Kw",
    "outputId": "3b7f6f9b-3324-439a-d7b2-1d056d9c2289"
   },
   "outputs": [
    {
     "name": "stdout",
     "output_type": "stream",
     "text": [
      "Коэффициент корреляции Крамера = 0.034478203662766466\n",
      "p_value = 8.825862457577375e-08\n"
     ]
    }
   ],
   "source": [
    "n = df.shape[0]\n",
    "corr_Kramer = np.sqrt(chi2 / (n*(2-1)))\n",
    "print('Коэффициент корреляции Крамера =', corr_Kramer)\n",
    "print('p_value =', p_val)"
   ]
  },
  {
   "cell_type": "markdown",
   "metadata": {},
   "source": [
    "Р-значение меньше 0.05, что позволяет отклонить нулевую гипотезу о незначимости корреляции. Однако практически данная корреляция не имеет смысла, так как она очень близка к нулю."
   ]
  },
  {
   "cell_type": "markdown",
   "metadata": {
    "id": "IBq7ii63FHiu"
   },
   "source": [
    "# Задание 5"
   ]
  },
  {
   "cell_type": "code",
   "execution_count": 39,
   "metadata": {
    "colab": {
     "base_uri": "https://localhost:8080/",
     "height": 320
    },
    "executionInfo": {
     "elapsed": 1104,
     "status": "ok",
     "timestamp": 1612107290926,
     "user": {
      "displayName": "Екатерина Маракова",
      "photoUrl": "https://lh3.googleusercontent.com/a-/AOh14GgvpkVnpRqwZZ_T3tE-1-wiKVe_v9XAdTLQXI5n8A=s64",
      "userId": "06825419021522521972"
     },
     "user_tz": -180
    },
    "id": "hmZXVNbZFGLM",
    "outputId": "42c4da18-0339-442e-c67a-1befebc2f53e"
   },
   "outputs": [
    {
     "data": {
      "image/png": "[encoded data removed]",
      "text/plain": [
       "<Figure size 864x360 with 2 Axes>"
      ]
     },
     "metadata": {
      "needs_background": "light"
     },
     "output_type": "display_data"
    }
   ],
   "source": [
    "pylab.figure(figsize(12, 5))\n",
    "pylab.subplot(1,2,1)\n",
    "pylab.hist(df[df.default == 0].AGE, bins = 20, color = 'b', label = 'default = 0')\n",
    "pylab.legend()\n",
    "\n",
    "pylab.subplot(1,2,2)\n",
    "pylab.hist(df[df.default == 1].AGE, bins = 20, color = 'r',  label = 'default = 1')\n",
    "pylab.legend()\n",
    "\n",
    "pylab.show()"
   ]
  },
  {
   "cell_type": "markdown",
   "metadata": {
    "id": "j4qe8ycwFa3z"
   },
   "source": []
  },
  {
   "cell_type": "code",
   "execution_count": 40,
   "metadata": {
    "colab": {
     "base_uri": "https://localhost:8080/"
    },
    "executionInfo": {
     "elapsed": 569,
     "status": "ok",
     "timestamp": 1612107360311,
     "user": {
      "displayName": "Екатерина Маракова",
      "photoUrl": "https://lh3.googleusercontent.com/a-/AOh14GgvpkVnpRqwZZ_T3tE-1-wiKVe_v9XAdTLQXI5n8A=s64",
      "userId": "06825419021522521972"
     },
     "user_tz": -180
    },
    "id": "B9-u07U9DJQT",
    "outputId": "3b5d2351-75fb-452d-c2ab-fab7addb445d"
   },
   "outputs": [
    {
     "name": "stdout",
     "output_type": "stream",
     "text": [
      "Медиана возраста для тех, кто вернул кредит равна 34.0\n",
      "Медиана возраста для тех, кто НЕ вернул кредит равна 34.0\n"
     ]
    }
   ],
   "source": [
    "print('Медиана возраста для тех, кто вернул кредит равна', df[df.default == 0].AGE.median())\n",
    "print('Медиана возраста для тех, кто НЕ вернул кредит равна', df[df.default == 1].AGE.median())"
   ]
  },
  {
   "cell_type": "code",
   "execution_count": 41,
   "metadata": {
    "executionInfo": {
     "elapsed": 609,
     "status": "ok",
     "timestamp": 1612107403226,
     "user": {
      "displayName": "Екатерина Маракова",
      "photoUrl": "https://lh3.googleusercontent.com/a-/AOh14GgvpkVnpRqwZZ_T3tE-1-wiKVe_v9XAdTLQXI5n8A=s64",
      "userId": "06825419021522521972"
     },
     "user_tz": -180
    },
    "id": "5RZkSSZzFiWR"
   },
   "outputs": [],
   "source": [
    "age_default = df[df.default == 1].AGE.values\n",
    "age_non_default = df[df.default == 0].AGE.values"
   ]
  },
  {
   "cell_type": "code",
   "execution_count": 42,
   "metadata": {
    "colab": {
     "base_uri": "https://localhost:8080/"
    },
    "executionInfo": {
     "elapsed": 1858,
     "status": "ok",
     "timestamp": 1612107486317,
     "user": {
      "displayName": "Екатерина Маракова",
      "photoUrl": "https://lh3.googleusercontent.com/a-/AOh14GgvpkVnpRqwZZ_T3tE-1-wiKVe_v9XAdTLQXI5n8A=s64",
      "userId": "06825419021522521972"
     },
     "user_tz": -180
    },
    "id": "ieDV9wQ2Fszo",
    "outputId": "9d9632e7-85b6-4b9a-8eaa-17e183e8ac18"
   },
   "outputs": [
    {
     "name": "stdout",
     "output_type": "stream",
     "text": [
      "95% confidence interval for the default median LIMIT BAL: [34. 35.]\n",
      "95% confidence interval for the non-default median LIMIT BAL: [34. 34.]\n"
     ]
    }
   ],
   "source": [
    "np.random.seed(0)\n",
    "\n",
    "ad_median_scores = list(map(np.median, get_bootstrap_samples(age_default, 1000)))\n",
    "and_median_scores = list(map(np.median, get_bootstrap_samples(age_non_default, 1000)))\n",
    "\n",
    "print(\"95% confidence interval for the default median LIMIT BAL:\",  stat_intervals(ad_median_scores, 0.05))\n",
    "print(\"95% confidence interval for the non-default median LIMIT BAL:\",  stat_intervals(and_median_scores, 0.05))"
   ]
  },
  {
   "cell_type": "markdown",
   "metadata": {
    "id": "JNhO6xW4GGMp"
   },
   "source": [
    "Доверительный интервал для возраста среди тех, кто вернул кредит, лежит внутри доверительного интервала для тех, кто не вернул кредит. Исходя из полученного результата, мы не можем сделать вывод о различии медиан в подвыборках."
   ]
  },
  {
   "cell_type": "markdown",
   "metadata": {
    "id": "woDtRjGXG18F"
   },
   "source": [
    "### 5.б. Гипотеза о равенстве распределений"
   ]
  },
  {
   "cell_type": "markdown",
   "metadata": {
    "id": "f7O_CnZP8MjK"
   },
   "source": [
    "Н0: Распределения равны\n",
    "\n",
    "Н1: Распределения не равны"
   ]
  },
  {
   "cell_type": "markdown",
   "metadata": {
    "id": "GI11W_ilHuUS"
   },
   "source": [
    "проверка с помощью перестановочного критерия"
   ]
  },
  {
   "cell_type": "code",
   "execution_count": 43,
   "metadata": {
    "colab": {
     "base_uri": "https://localhost:8080/"
    },
    "executionInfo": {
     "elapsed": 799,
     "status": "ok",
     "timestamp": 1612107744577,
     "user": {
      "displayName": "Екатерина Маракова",
      "photoUrl": "https://lh3.googleusercontent.com/a-/AOh14GgvpkVnpRqwZZ_T3tE-1-wiKVe_v9XAdTLQXI5n8A=s64",
      "userId": "06825419021522521972"
     },
     "user_tz": -180
    },
    "id": "xyS461giGAyU",
    "outputId": "3e59734a-b04a-490e-e174-2731980fbda2"
   },
   "outputs": [
    {
     "name": "stdout",
     "output_type": "stream",
     "text": [
      "p-value: 0.0184\n"
     ]
    }
   ],
   "source": [
    "print(\"p-value:\", permutation_test(age_default, age_non_default, max_permutations = 10000))"
   ]
  },
  {
   "cell_type": "markdown",
   "metadata": {
    "id": "R9hmi5tmH-zs"
   },
   "source": [
    "Р-значение меньше 0.05, что позволяет отклонить нулевую гипотезу, значит распределения статистически отличаются. Однако с практической точки зрения результаты не кажутся значимыми, так как выборочные средние значения совпадают."
   ]
  },
  {
   "cell_type": "code",
   "execution_count": null,
   "metadata": {},
   "outputs": [],
   "source": []
  }
 ],
 "metadata": {
  "colab": {
   "authorship_tag": "ABX9TyPOcJdqVS4ZiH9RvzBsZ1kw",
   "name": "Untitled3.ipynb",
   "provenance": []
  },
  "kernelspec": {
   "display_name": "Python 3",
   "language": "python",
   "name": "python3"
  },
  "language_info": {
   "codemirror_mode": {
    "name": "ipython",
    "version": 3
   },
   "file_extension": ".py",
   "mimetype": "text/x-python",
   "name": "python",
   "nbconvert_exporter": "python",
   "pygments_lexer": "ipython3",
   "version": "3.8.5"
  }
 },
 "nbformat": 4,
 "nbformat_minor": 4
}
