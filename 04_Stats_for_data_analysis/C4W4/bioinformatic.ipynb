{
 "cells": [
  {
   "cell_type": "markdown",
   "id": "saved-showcase",
   "metadata": {},
   "source": [
    "# Bioinformatica"
   ]
  },
  {
   "cell_type": "markdown",
   "id": "central-restaurant",
   "metadata": {},
   "source": [
    "## Задание по программированию: Дифференциально экспрессированные гены"
   ]
  },
  {
   "cell_type": "markdown",
   "id": "occupational-receptor",
   "metadata": {},
   "source": [
    "### Описание используемых данных"
   ]
  },
  {
   "cell_type": "markdown",
   "id": "bearing-postcard",
   "metadata": {},
   "source": [
    "Данные для этой задачи взяты из исследования, проведенного в Stanford School of Medicine. В исследовании была предпринята попытка выявить набор  генов, которые позволили  бы более точно диагностировать возникновение рака груди на самых ранних стадиях."
   ]
  },
  {
   "cell_type": "markdown",
   "id": "activated-tennessee",
   "metadata": {},
   "source": [
    "В эксперименте принимали участие 24 человек, у которых не было рака груди (normal), 25 человек, у которых это заболевание было диагностировано на ранней стадии (early neoplasia), и 23 человека с сильно выраженными симптомами (cancer)."
   ]
  },
  {
   "cell_type": "markdown",
   "id": "prescribed-texas",
   "metadata": {},
   "source": [
    "Ученые провели секвенирование биологического материала испытуемых, чтобы понять, какие из этих генов наиболее активны в клетках больных людей. \n",
    "\n",
    "Секвенирование — это определение степени активности генов в анализируемом образце с помощью подсчёта количества соответствующей каждому гену РНК.\n",
    "\n",
    "В данных для этого задания вы найдете именно эту количественную меру активности каждого из 15748 генов у каждого из 72 человек, принимавших участие в эксперименте.\n",
    "\n",
    "Вам нужно будет определить те гены, активность которых у людей в разных стадиях заболевания отличается статистически значимо.\n",
    "\n",
    "Кроме того, вам нужно будет оценить не только статистическую, но и практическую значимость этих результатов, которая часто используется в подобных исследованиях.\n",
    "\n",
    "Диагноз человека содержится в столбце под названием \"Diagnosis\"."
   ]
  },
  {
   "cell_type": "markdown",
   "id": "combined-institution",
   "metadata": {},
   "source": [
    "### Практическая значимость изменения"
   ]
  },
  {
   "cell_type": "markdown",
   "id": "honest-looking",
   "metadata": {},
   "source": [
    "Цель исследований — найти гены, средняя экспрессия которых отличается не только статистически значимо, но и достаточно сильно. В экспрессионных исследованиях для этого часто используется метрика, которая называется fold change (кратность изменения). Определяется она следующим образом:"
   ]
  },
  {
   "cell_type": "markdown",
   "id": "liked-halloween",
   "metadata": {},
   "source": [
    "### Инструкции к решению задачи"
   ]
  },
  {
   "cell_type": "markdown",
   "id": "adjustable-spirit",
   "metadata": {},
   "source": [
    "Задание состоит из трёх частей. Если не сказано обратное, то уровень значимости нужно принять равным 0.05."
   ]
  },
  {
   "cell_type": "markdown",
   "id": "sufficient-appeal",
   "metadata": {},
   "source": [
    "### Часть 1: применение t-критерия Стьюдента"
   ]
  },
  {
   "cell_type": "markdown",
   "id": "inclusive-blair",
   "metadata": {},
   "source": [
    "В первой части вам нужно будет применить критерий Стьюдента для проверки гипотезы о равенстве средних в двух независимых выборках. Применить критерий для каждого гена нужно будет дважды:\n",
    "\n",
    "   1. для групп normal (control) и early neoplasia (treatment)\n",
    "   2. для групп early neoplasia (control) и cancer (treatment)\n",
    "\n",
    "В качестве ответа в этой части задания необходимо указать количество статистически значимых отличий, которые вы нашли с помощью t-критерия Стьюдента, то есть число генов, у которых p-value этого теста оказался меньше, чем уровень значимости. "
   ]
  },
  {
   "cell_type": "code",
   "execution_count": 3,
   "id": "elder-honolulu",
   "metadata": {},
   "outputs": [],
   "source": [
    "import warnings\n",
    "warnings.filterwarnings('ignore')"
   ]
  },
  {
   "cell_type": "code",
   "execution_count": 4,
   "id": "accepted-solution",
   "metadata": {},
   "outputs": [],
   "source": [
    "import statsmodels\n",
    "import scipy as sc\n",
    "import numpy as np\n",
    "import pandas as pd\n",
    "import statsmodels.stats.multitest as smm\n",
    "import statsmodels.formula.api as smf\n",
    "import statsmodels.stats.api as sms\n",
    "from statsmodels.graphics.regressionplots import plot_leverage_resid2\n",
    "import matplotlib.pyplot as plt"
   ]
  },
  {
   "cell_type": "code",
   "execution_count": 5,
   "id": "stone-criticism",
   "metadata": {},
   "outputs": [
    {
     "name": "stdout",
     "output_type": "stream",
     "text": [
      "1.19.2\n",
      "1.2.1\n",
      "1.5.2\n",
      "0.12.1\n"
     ]
    }
   ],
   "source": [
    "print(np.__version__)\n",
    "print(pd.__version__)\n",
    "print(sc.__version__)\n",
    "print(statsmodels.__version__)"
   ]
  },
  {
   "cell_type": "code",
   "execution_count": 6,
   "id": "revolutionary-progressive",
   "metadata": {},
   "outputs": [
    {
     "name": "stdout",
     "output_type": "stream",
     "text": [
      "Populating the interactive namespace from numpy and matplotlib\n"
     ]
    }
   ],
   "source": [
    "%pylab inline"
   ]
  },
  {
   "cell_type": "code",
   "execution_count": 7,
   "id": "hearing-center",
   "metadata": {},
   "outputs": [
    {
     "data": {
      "text/html": [
       "<div>\n",
       "<style scoped>\n",
       "    .dataframe tbody tr th:only-of-type {\n",
       "        vertical-align: middle;\n",
       "    }\n",
       "\n",
       "    .dataframe tbody tr th {\n",
       "        vertical-align: top;\n",
       "    }\n",
       "\n",
       "    .dataframe thead th {\n",
       "        text-align: right;\n",
       "    }\n",
       "</style>\n",
       "<table border=\"1\" class=\"dataframe\">\n",
       "  <thead>\n",
       "    <tr style=\"text-align: right;\">\n",
       "      <th></th>\n",
       "      <th>Patient_id</th>\n",
       "      <th>Diagnosis</th>\n",
       "      <th>LOC643837</th>\n",
       "      <th>LOC100130417</th>\n",
       "      <th>SAMD11</th>\n",
       "      <th>NOC2L</th>\n",
       "      <th>KLHL17</th>\n",
       "      <th>PLEKHN1</th>\n",
       "      <th>C1orf170</th>\n",
       "      <th>HES4</th>\n",
       "      <th>...</th>\n",
       "      <th>CLIC2</th>\n",
       "      <th>RPS4Y1</th>\n",
       "      <th>ZFY</th>\n",
       "      <th>PRKY</th>\n",
       "      <th>USP9Y</th>\n",
       "      <th>DDX3Y</th>\n",
       "      <th>CD24</th>\n",
       "      <th>CYorf15B</th>\n",
       "      <th>KDM5D</th>\n",
       "      <th>EIF1AY</th>\n",
       "    </tr>\n",
       "  </thead>\n",
       "  <tbody>\n",
       "    <tr>\n",
       "      <th>0</th>\n",
       "      <td>STT5425_Breast_001_normal</td>\n",
       "      <td>normal</td>\n",
       "      <td>1.257614</td>\n",
       "      <td>2.408148</td>\n",
       "      <td>13.368622</td>\n",
       "      <td>9.494779</td>\n",
       "      <td>20.880435</td>\n",
       "      <td>12.722017</td>\n",
       "      <td>9.494779</td>\n",
       "      <td>54.349694</td>\n",
       "      <td>...</td>\n",
       "      <td>4.761250</td>\n",
       "      <td>1.257614</td>\n",
       "      <td>1.257614</td>\n",
       "      <td>1.257614</td>\n",
       "      <td>1.257614</td>\n",
       "      <td>1.257614</td>\n",
       "      <td>23.268694</td>\n",
       "      <td>1.257614</td>\n",
       "      <td>1.257614</td>\n",
       "      <td>1.257614</td>\n",
       "    </tr>\n",
       "    <tr>\n",
       "      <th>1</th>\n",
       "      <td>STT5427_Breast_023_normal</td>\n",
       "      <td>normal</td>\n",
       "      <td>4.567931</td>\n",
       "      <td>16.602734</td>\n",
       "      <td>42.477752</td>\n",
       "      <td>25.562376</td>\n",
       "      <td>23.221137</td>\n",
       "      <td>11.622386</td>\n",
       "      <td>14.330573</td>\n",
       "      <td>72.445474</td>\n",
       "      <td>...</td>\n",
       "      <td>6.871902</td>\n",
       "      <td>1.815112</td>\n",
       "      <td>1.815112</td>\n",
       "      <td>1.815112</td>\n",
       "      <td>1.815112</td>\n",
       "      <td>1.815112</td>\n",
       "      <td>10.427023</td>\n",
       "      <td>1.815112</td>\n",
       "      <td>1.815112</td>\n",
       "      <td>1.815112</td>\n",
       "    </tr>\n",
       "    <tr>\n",
       "      <th>2</th>\n",
       "      <td>STT5430_Breast_002_normal</td>\n",
       "      <td>normal</td>\n",
       "      <td>2.077597</td>\n",
       "      <td>3.978294</td>\n",
       "      <td>12.863214</td>\n",
       "      <td>13.728915</td>\n",
       "      <td>14.543176</td>\n",
       "      <td>14.141907</td>\n",
       "      <td>6.232790</td>\n",
       "      <td>57.011005</td>\n",
       "      <td>...</td>\n",
       "      <td>7.096343</td>\n",
       "      <td>2.077597</td>\n",
       "      <td>2.077597</td>\n",
       "      <td>2.077597</td>\n",
       "      <td>2.077597</td>\n",
       "      <td>2.077597</td>\n",
       "      <td>22.344226</td>\n",
       "      <td>2.077597</td>\n",
       "      <td>2.077597</td>\n",
       "      <td>2.077597</td>\n",
       "    </tr>\n",
       "    <tr>\n",
       "      <th>3</th>\n",
       "      <td>STT5439_Breast_003_normal</td>\n",
       "      <td>normal</td>\n",
       "      <td>2.066576</td>\n",
       "      <td>8.520713</td>\n",
       "      <td>14.466035</td>\n",
       "      <td>7.823932</td>\n",
       "      <td>8.520713</td>\n",
       "      <td>2.066576</td>\n",
       "      <td>10.870009</td>\n",
       "      <td>53.292034</td>\n",
       "      <td>...</td>\n",
       "      <td>5.200770</td>\n",
       "      <td>2.066576</td>\n",
       "      <td>2.066576</td>\n",
       "      <td>2.066576</td>\n",
       "      <td>2.066576</td>\n",
       "      <td>2.066576</td>\n",
       "      <td>49.295538</td>\n",
       "      <td>2.066576</td>\n",
       "      <td>2.066576</td>\n",
       "      <td>2.066576</td>\n",
       "    </tr>\n",
       "    <tr>\n",
       "      <th>4</th>\n",
       "      <td>STT5441_Breast_004_normal</td>\n",
       "      <td>normal</td>\n",
       "      <td>2.613616</td>\n",
       "      <td>3.434965</td>\n",
       "      <td>12.682222</td>\n",
       "      <td>10.543189</td>\n",
       "      <td>26.688686</td>\n",
       "      <td>12.484822</td>\n",
       "      <td>1.364917</td>\n",
       "      <td>67.140393</td>\n",
       "      <td>...</td>\n",
       "      <td>11.227770</td>\n",
       "      <td>1.364917</td>\n",
       "      <td>1.364917</td>\n",
       "      <td>1.364917</td>\n",
       "      <td>1.364917</td>\n",
       "      <td>1.364917</td>\n",
       "      <td>23.627911</td>\n",
       "      <td>1.364917</td>\n",
       "      <td>1.364917</td>\n",
       "      <td>1.364917</td>\n",
       "    </tr>\n",
       "  </tbody>\n",
       "</table>\n",
       "<p>5 rows × 15750 columns</p>\n",
       "</div>"
      ],
      "text/plain": [
       "                  Patient_id Diagnosis  LOC643837  LOC100130417     SAMD11  \\\n",
       "0  STT5425_Breast_001_normal    normal   1.257614      2.408148  13.368622   \n",
       "1  STT5427_Breast_023_normal    normal   4.567931     16.602734  42.477752   \n",
       "2  STT5430_Breast_002_normal    normal   2.077597      3.978294  12.863214   \n",
       "3  STT5439_Breast_003_normal    normal   2.066576      8.520713  14.466035   \n",
       "4  STT5441_Breast_004_normal    normal   2.613616      3.434965  12.682222   \n",
       "\n",
       "       NOC2L     KLHL17    PLEKHN1   C1orf170       HES4  ...      CLIC2  \\\n",
       "0   9.494779  20.880435  12.722017   9.494779  54.349694  ...   4.761250   \n",
       "1  25.562376  23.221137  11.622386  14.330573  72.445474  ...   6.871902   \n",
       "2  13.728915  14.543176  14.141907   6.232790  57.011005  ...   7.096343   \n",
       "3   7.823932   8.520713   2.066576  10.870009  53.292034  ...   5.200770   \n",
       "4  10.543189  26.688686  12.484822   1.364917  67.140393  ...  11.227770   \n",
       "\n",
       "     RPS4Y1       ZFY      PRKY     USP9Y     DDX3Y       CD24  CYorf15B  \\\n",
       "0  1.257614  1.257614  1.257614  1.257614  1.257614  23.268694  1.257614   \n",
       "1  1.815112  1.815112  1.815112  1.815112  1.815112  10.427023  1.815112   \n",
       "2  2.077597  2.077597  2.077597  2.077597  2.077597  22.344226  2.077597   \n",
       "3  2.066576  2.066576  2.066576  2.066576  2.066576  49.295538  2.066576   \n",
       "4  1.364917  1.364917  1.364917  1.364917  1.364917  23.627911  1.364917   \n",
       "\n",
       "      KDM5D    EIF1AY  \n",
       "0  1.257614  1.257614  \n",
       "1  1.815112  1.815112  \n",
       "2  2.077597  2.077597  \n",
       "3  2.066576  2.066576  \n",
       "4  1.364917  1.364917  \n",
       "\n",
       "[5 rows x 15750 columns]"
      ]
     },
     "execution_count": 7,
     "metadata": {},
     "output_type": "execute_result"
    }
   ],
   "source": [
    "data = pd.read_csv('gene_high_throughput_sequencing.csv', sep=',')\n",
    "data.head()"
   ]
  },
  {
   "cell_type": "code",
   "execution_count": 8,
   "id": "approximate-minority",
   "metadata": {},
   "outputs": [
    {
     "data": {
      "text/plain": [
       "array(['normal', 'early neoplasia', 'cancer'], dtype=object)"
      ]
     },
     "execution_count": 8,
     "metadata": {},
     "output_type": "execute_result"
    }
   ],
   "source": [
    "data.Diagnosis.unique()"
   ]
  },
  {
   "cell_type": "code",
   "execution_count": 9,
   "id": "static-resource",
   "metadata": {},
   "outputs": [
    {
     "data": {
      "text/plain": [
       "early neoplasia    25\n",
       "normal             24\n",
       "cancer             23\n",
       "Name: Diagnosis, dtype: int64"
      ]
     },
     "execution_count": 9,
     "metadata": {},
     "output_type": "execute_result"
    }
   ],
   "source": [
    "data['Diagnosis'].value_counts()"
   ]
  },
  {
   "cell_type": "code",
   "execution_count": 10,
   "id": "according-devon",
   "metadata": {},
   "outputs": [
    {
     "data": {
      "text/plain": [
       "(72, 15750)"
      ]
     },
     "execution_count": 10,
     "metadata": {},
     "output_type": "execute_result"
    }
   ],
   "source": [
    "data.shape"
   ]
  },
  {
   "cell_type": "code",
   "execution_count": 11,
   "id": "automated-parcel",
   "metadata": {},
   "outputs": [],
   "source": [
    "normal = data[data['Diagnosis'] == 'normal'].drop(['Patient_id','Diagnosis'], axis=1)\n",
    "cancer = data[data['Diagnosis'] == 'cancer'].drop(['Patient_id','Diagnosis'], axis=1)\n",
    "neoplasia = data[data['Diagnosis'] == 'early neoplasia'].drop(['Patient_id','Diagnosis'], axis=1)"
   ]
  },
  {
   "cell_type": "code",
   "execution_count": 12,
   "id": "conservative-marijuana",
   "metadata": {},
   "outputs": [
    {
     "name": "stdout",
     "output_type": "stream",
     "text": [
      "(24, 15748)\n",
      "(23, 15748)\n",
      "(25, 15748)\n"
     ]
    }
   ],
   "source": [
    "print(normal.shape)\n",
    "print(cancer.shape)\n",
    "print(neoplasia.shape)"
   ]
  },
  {
   "cell_type": "code",
   "execution_count": 13,
   "id": "exact-rough",
   "metadata": {},
   "outputs": [],
   "source": [
    "# scipy.stats.ttest_ind(data.Placebo, data.Methylphenidate, equal_var = False)"
   ]
  },
  {
   "cell_type": "code",
   "execution_count": 14,
   "id": "ready-heritage",
   "metadata": {},
   "outputs": [],
   "source": [
    "genes = normal.columns.tolist()"
   ]
  },
  {
   "cell_type": "code",
   "execution_count": 15,
   "id": "north-california",
   "metadata": {},
   "outputs": [
    {
     "name": "stdout",
     "output_type": "stream",
     "text": [
      "CPU times: user 8 µs, sys: 2 µs, total: 10 µs\n",
      "Wall time: 17.2 µs\n"
     ]
    }
   ],
   "source": [
    "%time\n",
    "\n",
    "normal_vs_neoplasia = []\n",
    "\n",
    "for gene in genes:\n",
    "    p = sc.stats.ttest_ind(normal[gene], neoplasia[gene], equal_var = False).pvalue\n",
    "    normal_vs_neoplasia.append([gene, p])"
   ]
  },
  {
   "cell_type": "code",
   "execution_count": 16,
   "id": "emotional-suspect",
   "metadata": {},
   "outputs": [],
   "source": [
    "normal_vs_neoplasia_df = pd.DataFrame.from_records(normal_vs_neoplasia)\n",
    "normal_vs_neoplasia_df.columns = ['Gene', 'normal_vs_neoplasia_p_value']"
   ]
  },
  {
   "cell_type": "code",
   "execution_count": 17,
   "id": "sophisticated-express",
   "metadata": {},
   "outputs": [
    {
     "data": {
      "text/html": [
       "<div>\n",
       "<style scoped>\n",
       "    .dataframe tbody tr th:only-of-type {\n",
       "        vertical-align: middle;\n",
       "    }\n",
       "\n",
       "    .dataframe tbody tr th {\n",
       "        vertical-align: top;\n",
       "    }\n",
       "\n",
       "    .dataframe thead th {\n",
       "        text-align: right;\n",
       "    }\n",
       "</style>\n",
       "<table border=\"1\" class=\"dataframe\">\n",
       "  <thead>\n",
       "    <tr style=\"text-align: right;\">\n",
       "      <th></th>\n",
       "      <th>Gene</th>\n",
       "      <th>normal_vs_neoplasia_p_value</th>\n",
       "    </tr>\n",
       "  </thead>\n",
       "  <tbody>\n",
       "    <tr>\n",
       "      <th>0</th>\n",
       "      <td>LOC643837</td>\n",
       "      <td>0.690766</td>\n",
       "    </tr>\n",
       "    <tr>\n",
       "      <th>1</th>\n",
       "      <td>LOC100130417</td>\n",
       "      <td>0.000032</td>\n",
       "    </tr>\n",
       "    <tr>\n",
       "      <th>2</th>\n",
       "      <td>SAMD11</td>\n",
       "      <td>0.060273</td>\n",
       "    </tr>\n",
       "    <tr>\n",
       "      <th>3</th>\n",
       "      <td>NOC2L</td>\n",
       "      <td>0.826429</td>\n",
       "    </tr>\n",
       "    <tr>\n",
       "      <th>4</th>\n",
       "      <td>KLHL17</td>\n",
       "      <td>0.049876</td>\n",
       "    </tr>\n",
       "    <tr>\n",
       "      <th>...</th>\n",
       "      <td>...</td>\n",
       "      <td>...</td>\n",
       "    </tr>\n",
       "    <tr>\n",
       "      <th>15743</th>\n",
       "      <td>DDX3Y</td>\n",
       "      <td>0.640904</td>\n",
       "    </tr>\n",
       "    <tr>\n",
       "      <th>15744</th>\n",
       "      <td>CD24</td>\n",
       "      <td>0.830134</td>\n",
       "    </tr>\n",
       "    <tr>\n",
       "      <th>15745</th>\n",
       "      <td>CYorf15B</td>\n",
       "      <td>0.670395</td>\n",
       "    </tr>\n",
       "    <tr>\n",
       "      <th>15746</th>\n",
       "      <td>KDM5D</td>\n",
       "      <td>0.793925</td>\n",
       "    </tr>\n",
       "    <tr>\n",
       "      <th>15747</th>\n",
       "      <td>EIF1AY</td>\n",
       "      <td>0.661031</td>\n",
       "    </tr>\n",
       "  </tbody>\n",
       "</table>\n",
       "<p>15748 rows × 2 columns</p>\n",
       "</div>"
      ],
      "text/plain": [
       "               Gene  normal_vs_neoplasia_p_value\n",
       "0         LOC643837                     0.690766\n",
       "1      LOC100130417                     0.000032\n",
       "2            SAMD11                     0.060273\n",
       "3             NOC2L                     0.826429\n",
       "4            KLHL17                     0.049876\n",
       "...             ...                          ...\n",
       "15743         DDX3Y                     0.640904\n",
       "15744          CD24                     0.830134\n",
       "15745      CYorf15B                     0.670395\n",
       "15746         KDM5D                     0.793925\n",
       "15747        EIF1AY                     0.661031\n",
       "\n",
       "[15748 rows x 2 columns]"
      ]
     },
     "execution_count": 17,
     "metadata": {},
     "output_type": "execute_result"
    }
   ],
   "source": [
    "normal_vs_neoplasia_df"
   ]
  },
  {
   "cell_type": "code",
   "execution_count": 18,
   "id": "human-hierarchy",
   "metadata": {},
   "outputs": [
    {
     "name": "stdout",
     "output_type": "stream",
     "text": [
      "CPU times: user 3 µs, sys: 0 ns, total: 3 µs\n",
      "Wall time: 5.25 µs\n"
     ]
    }
   ],
   "source": [
    "%time\n",
    "\n",
    "neoplasia_vs_cancer = []\n",
    "\n",
    "for gene in genes:\n",
    "    p = sc.stats.ttest_ind(neoplasia[gene], cancer[gene], equal_var= False).pvalue\n",
    "    neoplasia_vs_cancer.append([gene, p])"
   ]
  },
  {
   "cell_type": "code",
   "execution_count": 19,
   "id": "japanese-advice",
   "metadata": {},
   "outputs": [],
   "source": [
    "neoplasia_vs_cancer_df = pd.DataFrame.from_records(neoplasia_vs_cancer)\n",
    "neoplasia_vs_cancer_df.columns = ['Gene', 'neoplasia_vs_cancer_p_value']"
   ]
  },
  {
   "cell_type": "code",
   "execution_count": 20,
   "id": "collective-louisville",
   "metadata": {},
   "outputs": [
    {
     "data": {
      "text/html": [
       "<div>\n",
       "<style scoped>\n",
       "    .dataframe tbody tr th:only-of-type {\n",
       "        vertical-align: middle;\n",
       "    }\n",
       "\n",
       "    .dataframe tbody tr th {\n",
       "        vertical-align: top;\n",
       "    }\n",
       "\n",
       "    .dataframe thead th {\n",
       "        text-align: right;\n",
       "    }\n",
       "</style>\n",
       "<table border=\"1\" class=\"dataframe\">\n",
       "  <thead>\n",
       "    <tr style=\"text-align: right;\">\n",
       "      <th></th>\n",
       "      <th>Gene</th>\n",
       "      <th>neoplasia_vs_cancer_p_value</th>\n",
       "    </tr>\n",
       "  </thead>\n",
       "  <tbody>\n",
       "    <tr>\n",
       "      <th>0</th>\n",
       "      <td>LOC643837</td>\n",
       "      <td>0.413735</td>\n",
       "    </tr>\n",
       "    <tr>\n",
       "      <th>1</th>\n",
       "      <td>LOC100130417</td>\n",
       "      <td>0.653429</td>\n",
       "    </tr>\n",
       "    <tr>\n",
       "      <th>2</th>\n",
       "      <td>SAMD11</td>\n",
       "      <td>0.079556</td>\n",
       "    </tr>\n",
       "    <tr>\n",
       "      <th>3</th>\n",
       "      <td>NOC2L</td>\n",
       "      <td>0.287581</td>\n",
       "    </tr>\n",
       "    <tr>\n",
       "      <th>4</th>\n",
       "      <td>KLHL17</td>\n",
       "      <td>0.463292</td>\n",
       "    </tr>\n",
       "    <tr>\n",
       "      <th>...</th>\n",
       "      <td>...</td>\n",
       "      <td>...</td>\n",
       "    </tr>\n",
       "    <tr>\n",
       "      <th>15743</th>\n",
       "      <td>DDX3Y</td>\n",
       "      <td>0.659369</td>\n",
       "    </tr>\n",
       "    <tr>\n",
       "      <th>15744</th>\n",
       "      <td>CD24</td>\n",
       "      <td>0.330617</td>\n",
       "    </tr>\n",
       "    <tr>\n",
       "      <th>15745</th>\n",
       "      <td>CYorf15B</td>\n",
       "      <td>0.542939</td>\n",
       "    </tr>\n",
       "    <tr>\n",
       "      <th>15746</th>\n",
       "      <td>KDM5D</td>\n",
       "      <td>0.565753</td>\n",
       "    </tr>\n",
       "    <tr>\n",
       "      <th>15747</th>\n",
       "      <td>EIF1AY</td>\n",
       "      <td>0.639010</td>\n",
       "    </tr>\n",
       "  </tbody>\n",
       "</table>\n",
       "<p>15748 rows × 2 columns</p>\n",
       "</div>"
      ],
      "text/plain": [
       "               Gene  neoplasia_vs_cancer_p_value\n",
       "0         LOC643837                     0.413735\n",
       "1      LOC100130417                     0.653429\n",
       "2            SAMD11                     0.079556\n",
       "3             NOC2L                     0.287581\n",
       "4            KLHL17                     0.463292\n",
       "...             ...                          ...\n",
       "15743         DDX3Y                     0.659369\n",
       "15744          CD24                     0.330617\n",
       "15745      CYorf15B                     0.542939\n",
       "15746         KDM5D                     0.565753\n",
       "15747        EIF1AY                     0.639010\n",
       "\n",
       "[15748 rows x 2 columns]"
      ]
     },
     "execution_count": 20,
     "metadata": {},
     "output_type": "execute_result"
    }
   ],
   "source": [
    "neoplasia_vs_cancer_df"
   ]
  },
  {
   "cell_type": "code",
   "execution_count": 21,
   "id": "difficult-march",
   "metadata": {},
   "outputs": [
    {
     "data": {
      "text/html": [
       "<div>\n",
       "<style scoped>\n",
       "    .dataframe tbody tr th:only-of-type {\n",
       "        vertical-align: middle;\n",
       "    }\n",
       "\n",
       "    .dataframe tbody tr th {\n",
       "        vertical-align: top;\n",
       "    }\n",
       "\n",
       "    .dataframe thead th {\n",
       "        text-align: right;\n",
       "    }\n",
       "</style>\n",
       "<table border=\"1\" class=\"dataframe\">\n",
       "  <thead>\n",
       "    <tr style=\"text-align: right;\">\n",
       "      <th></th>\n",
       "      <th>normal_vs_neoplasia_p_value</th>\n",
       "      <th>neoplasia_vs_cancer_p_value</th>\n",
       "    </tr>\n",
       "    <tr>\n",
       "      <th>Gene</th>\n",
       "      <th></th>\n",
       "      <th></th>\n",
       "    </tr>\n",
       "  </thead>\n",
       "  <tbody>\n",
       "    <tr>\n",
       "      <th>LOC643837</th>\n",
       "      <td>0.690766</td>\n",
       "      <td>0.413735</td>\n",
       "    </tr>\n",
       "    <tr>\n",
       "      <th>LOC100130417</th>\n",
       "      <td>0.000032</td>\n",
       "      <td>0.653429</td>\n",
       "    </tr>\n",
       "    <tr>\n",
       "      <th>SAMD11</th>\n",
       "      <td>0.060273</td>\n",
       "      <td>0.079556</td>\n",
       "    </tr>\n",
       "    <tr>\n",
       "      <th>NOC2L</th>\n",
       "      <td>0.826429</td>\n",
       "      <td>0.287581</td>\n",
       "    </tr>\n",
       "    <tr>\n",
       "      <th>KLHL17</th>\n",
       "      <td>0.049876</td>\n",
       "      <td>0.463292</td>\n",
       "    </tr>\n",
       "    <tr>\n",
       "      <th>...</th>\n",
       "      <td>...</td>\n",
       "      <td>...</td>\n",
       "    </tr>\n",
       "    <tr>\n",
       "      <th>DDX3Y</th>\n",
       "      <td>0.640904</td>\n",
       "      <td>0.659369</td>\n",
       "    </tr>\n",
       "    <tr>\n",
       "      <th>CD24</th>\n",
       "      <td>0.830134</td>\n",
       "      <td>0.330617</td>\n",
       "    </tr>\n",
       "    <tr>\n",
       "      <th>CYorf15B</th>\n",
       "      <td>0.670395</td>\n",
       "      <td>0.542939</td>\n",
       "    </tr>\n",
       "    <tr>\n",
       "      <th>KDM5D</th>\n",
       "      <td>0.793925</td>\n",
       "      <td>0.565753</td>\n",
       "    </tr>\n",
       "    <tr>\n",
       "      <th>EIF1AY</th>\n",
       "      <td>0.661031</td>\n",
       "      <td>0.639010</td>\n",
       "    </tr>\n",
       "  </tbody>\n",
       "</table>\n",
       "<p>15748 rows × 2 columns</p>\n",
       "</div>"
      ],
      "text/plain": [
       "              normal_vs_neoplasia_p_value  neoplasia_vs_cancer_p_value\n",
       "Gene                                                                  \n",
       "LOC643837                        0.690766                     0.413735\n",
       "LOC100130417                     0.000032                     0.653429\n",
       "SAMD11                           0.060273                     0.079556\n",
       "NOC2L                            0.826429                     0.287581\n",
       "KLHL17                           0.049876                     0.463292\n",
       "...                                   ...                          ...\n",
       "DDX3Y                            0.640904                     0.659369\n",
       "CD24                             0.830134                     0.330617\n",
       "CYorf15B                         0.670395                     0.542939\n",
       "KDM5D                            0.793925                     0.565753\n",
       "EIF1AY                           0.661031                     0.639010\n",
       "\n",
       "[15748 rows x 2 columns]"
      ]
     },
     "execution_count": 21,
     "metadata": {},
     "output_type": "execute_result"
    }
   ],
   "source": [
    "pvalue_df = normal_vs_neoplasia_df.merge(neoplasia_vs_cancer_df)\n",
    "pvalue_df.index = pvalue_df['Gene']\n",
    "del pvalue_df['Gene']\n",
    "pvalue_df"
   ]
  },
  {
   "cell_type": "code",
   "execution_count": 22,
   "id": "chemical-jaguar",
   "metadata": {},
   "outputs": [
    {
     "data": {
      "text/plain": [
       "(1575, 2)"
      ]
     },
     "execution_count": 22,
     "metadata": {},
     "output_type": "execute_result"
    }
   ],
   "source": [
    "pvalue_df[pvalue_df['normal_vs_neoplasia_p_value'] < 0.05].shape"
   ]
  },
  {
   "cell_type": "code",
   "execution_count": 23,
   "id": "governing-damages",
   "metadata": {},
   "outputs": [
    {
     "data": {
      "text/plain": [
       "(3490, 2)"
      ]
     },
     "execution_count": 23,
     "metadata": {},
     "output_type": "execute_result"
    }
   ],
   "source": [
    "pvalue_df[pvalue_df['neoplasia_vs_cancer_p_value'] < 0.05].shape"
   ]
  },
  {
   "cell_type": "code",
   "execution_count": 25,
   "id": "pending-advance",
   "metadata": {},
   "outputs": [],
   "source": [
    "with open('bioinformatic_1.1.txt','w') as fout:\n",
    "    fout.write(str(pvalue_df[pvalue_df['normal_vs_neoplasia_p_value'] < 0.05].shape[0]))"
   ]
  },
  {
   "cell_type": "code",
   "execution_count": 26,
   "id": "amber-wichita",
   "metadata": {},
   "outputs": [],
   "source": [
    "with open('bioinformatic_1.2.txt','w') as fout:\n",
    "    fout.write(str(pvalue_df[pvalue_df['neoplasia_vs_cancer_p_value'] < 0.05].shape[0]))"
   ]
  },
  {
   "cell_type": "markdown",
   "id": "searching-supplier",
   "metadata": {},
   "source": [
    "### Часть 2: поправка методом Холма"
   ]
  },
  {
   "cell_type": "markdown",
   "id": "thermal-lighter",
   "metadata": {},
   "source": [
    "Для этой части задания вам понадобится модуль multitest из statsmodels."
   ]
  },
  {
   "cell_type": "markdown",
   "id": "existing-vessel",
   "metadata": {},
   "source": [
    "В этой части задания нужно будет применить поправку Холма для получившихся двух наборов достигаемых уровней значимости из предыдущей части. Обратите внимание, что поскольку вы будете делать поправку для каждого из двух наборов p-value отдельно, то проблема, связанная с множественной проверкой останется.\n",
    "\n",
    "Для того, чтобы ее устранить, достаточно воспользоваться поправкой Бонферрони, то есть использовать уровень значимости 0.05 / 2 вместо 0.05 для дальнейшего уточнения значений p-value c помощью метода Холма.\n",
    "\n",
    "В качестве ответа к этому заданию требуется ввести количество значимых отличий в каждой группе после того, как произведена коррекция Холма-Бонферрони. Причем это число нужно ввести с учетом практической значимости: посчитайте для каждого значимого изменения fold change и выпишите в ответ число таких значимых изменений, абсолютное значение fold change которых больше, чем 1.51.51.5."
   ]
  },
  {
   "cell_type": "markdown",
   "id": "announced-stanford",
   "metadata": {},
   "source": [
    "Обратите внимание, что\n",
    "\n",
    "   - применять поправку на множественную проверку  нужно  ко всем  значениям достигаемых уровней значимости, а не только для тех, которые меньше значения уровня доверия.  \n",
    "   - при использовании поправки на уровне значимости 0.025 меняются значения достигаемого уровня значимости, но не меняется значение уровня доверия (то есть для отбора значимых изменений скорректированные значения уровня значимости нужно сравнивать с порогом 0.025, а не 0.05)!\n"
   ]
  },
  {
   "cell_type": "code",
   "execution_count": 28,
   "id": "primary-triumph",
   "metadata": {},
   "outputs": [],
   "source": [
    "pvalue_df['normal_mean_expression'] = normal.mean()\n",
    "pvalue_df['neoplasia_mean_expression'] = neoplasia.mean()\n",
    "pvalue_df['cancer_mean_expression'] = cancer.mean()"
   ]
  },
  {
   "cell_type": "code",
   "execution_count": 30,
   "id": "experimental-suggestion",
   "metadata": {},
   "outputs": [],
   "source": [
    "def abs_fold_change(c, t):\n",
    "    if t > c:\n",
    "        return t/c\n",
    "    else:\n",
    "        return c/t\n",
    "    "
   ]
  },
  {
   "cell_type": "code",
   "execution_count": 44,
   "id": "forward-width",
   "metadata": {},
   "outputs": [],
   "source": [
    "pvalue_df['normal_vs_neoplasia_fold_change'] = list(map(abs_fold_change, pvalue_df.normal_mean_expression, pvalue_df.neoplasia_mean_expression))\n",
    "pvalue_df['neoplasia_vs_cancer_fold_change'] = list(map(abs_fold_change, pvalue_df.neoplasia_mean_expression, pvalue_df.cancer_mean_expression))"
   ]
  },
  {
   "cell_type": "code",
   "execution_count": 60,
   "id": "boxed-concord",
   "metadata": {},
   "outputs": [],
   "source": [
    "pvalue_df['normal_vs_neoplasia_rej_hb'] = smm.multipletests(pvalue_df.normal_vs_neoplasia_p_value, alpha=0.025, method='h')[0]\n",
    "pvalue_df['neoplasia_vs_cancer_rej_hb'] = smm.multipletests(pvalue_df.neoplasia_vs_cancer_p_value, alpha=0.025, method='h')[0]"
   ]
  },
  {
   "cell_type": "code",
   "execution_count": 61,
   "id": "bronze-standing",
   "metadata": {},
   "outputs": [
    {
     "data": {
      "text/html": [
       "<div>\n",
       "<style scoped>\n",
       "    .dataframe tbody tr th:only-of-type {\n",
       "        vertical-align: middle;\n",
       "    }\n",
       "\n",
       "    .dataframe tbody tr th {\n",
       "        vertical-align: top;\n",
       "    }\n",
       "\n",
       "    .dataframe thead th {\n",
       "        text-align: right;\n",
       "    }\n",
       "</style>\n",
       "<table border=\"1\" class=\"dataframe\">\n",
       "  <thead>\n",
       "    <tr style=\"text-align: right;\">\n",
       "      <th></th>\n",
       "      <th>normal_vs_neoplasia_p_value</th>\n",
       "      <th>neoplasia_vs_cancer_p_value</th>\n",
       "      <th>normal_mean_expression</th>\n",
       "      <th>neoplasia_mean_expression</th>\n",
       "      <th>cancer_mean_expression</th>\n",
       "      <th>normal_vs_neoplasia_fold_change</th>\n",
       "      <th>neoplasia_vs_cancer_fold_change</th>\n",
       "      <th>normal_vs_neoplasia_rej_hb</th>\n",
       "      <th>neoplasia_vs_cancer_rej_hb</th>\n",
       "      <th>normal_vs_neoplasia_rej_bh</th>\n",
       "      <th>neoplasia_vs_cancer_rej_bh</th>\n",
       "    </tr>\n",
       "    <tr>\n",
       "      <th>Gene</th>\n",
       "      <th></th>\n",
       "      <th></th>\n",
       "      <th></th>\n",
       "      <th></th>\n",
       "      <th></th>\n",
       "      <th></th>\n",
       "      <th></th>\n",
       "      <th></th>\n",
       "      <th></th>\n",
       "      <th></th>\n",
       "      <th></th>\n",
       "    </tr>\n",
       "  </thead>\n",
       "  <tbody>\n",
       "    <tr>\n",
       "      <th>LOC643837</th>\n",
       "      <td>0.690766</td>\n",
       "      <td>0.413735</td>\n",
       "      <td>2.681277</td>\n",
       "      <td>2.510894</td>\n",
       "      <td>2.186060</td>\n",
       "      <td>1.067858</td>\n",
       "      <td>1.148593</td>\n",
       "      <td>False</td>\n",
       "      <td>False</td>\n",
       "      <td>False</td>\n",
       "      <td>False</td>\n",
       "    </tr>\n",
       "    <tr>\n",
       "      <th>LOC100130417</th>\n",
       "      <td>0.000032</td>\n",
       "      <td>0.653429</td>\n",
       "      <td>4.368497</td>\n",
       "      <td>8.721781</td>\n",
       "      <td>8.190456</td>\n",
       "      <td>1.996517</td>\n",
       "      <td>1.064871</td>\n",
       "      <td>False</td>\n",
       "      <td>False</td>\n",
       "      <td>False</td>\n",
       "      <td>False</td>\n",
       "    </tr>\n",
       "    <tr>\n",
       "      <th>SAMD11</th>\n",
       "      <td>0.060273</td>\n",
       "      <td>0.079556</td>\n",
       "      <td>15.159566</td>\n",
       "      <td>18.531325</td>\n",
       "      <td>23.692614</td>\n",
       "      <td>1.222418</td>\n",
       "      <td>1.278517</td>\n",
       "      <td>False</td>\n",
       "      <td>False</td>\n",
       "      <td>False</td>\n",
       "      <td>False</td>\n",
       "    </tr>\n",
       "    <tr>\n",
       "      <th>NOC2L</th>\n",
       "      <td>0.826429</td>\n",
       "      <td>0.287581</td>\n",
       "      <td>15.374351</td>\n",
       "      <td>15.071854</td>\n",
       "      <td>16.468034</td>\n",
       "      <td>1.020070</td>\n",
       "      <td>1.092635</td>\n",
       "      <td>False</td>\n",
       "      <td>False</td>\n",
       "      <td>False</td>\n",
       "      <td>False</td>\n",
       "    </tr>\n",
       "    <tr>\n",
       "      <th>KLHL17</th>\n",
       "      <td>0.049876</td>\n",
       "      <td>0.463292</td>\n",
       "      <td>21.459886</td>\n",
       "      <td>24.152469</td>\n",
       "      <td>25.035813</td>\n",
       "      <td>1.125471</td>\n",
       "      <td>1.036574</td>\n",
       "      <td>False</td>\n",
       "      <td>False</td>\n",
       "      <td>False</td>\n",
       "      <td>False</td>\n",
       "    </tr>\n",
       "    <tr>\n",
       "      <th>...</th>\n",
       "      <td>...</td>\n",
       "      <td>...</td>\n",
       "      <td>...</td>\n",
       "      <td>...</td>\n",
       "      <td>...</td>\n",
       "      <td>...</td>\n",
       "      <td>...</td>\n",
       "      <td>...</td>\n",
       "      <td>...</td>\n",
       "      <td>...</td>\n",
       "      <td>...</td>\n",
       "    </tr>\n",
       "    <tr>\n",
       "      <th>DDX3Y</th>\n",
       "      <td>0.640904</td>\n",
       "      <td>0.659369</td>\n",
       "      <td>1.701654</td>\n",
       "      <td>1.961449</td>\n",
       "      <td>2.292908</td>\n",
       "      <td>1.152672</td>\n",
       "      <td>1.168987</td>\n",
       "      <td>False</td>\n",
       "      <td>False</td>\n",
       "      <td>False</td>\n",
       "      <td>False</td>\n",
       "    </tr>\n",
       "    <tr>\n",
       "      <th>CD24</th>\n",
       "      <td>0.830134</td>\n",
       "      <td>0.330617</td>\n",
       "      <td>17.106405</td>\n",
       "      <td>17.567902</td>\n",
       "      <td>15.752268</td>\n",
       "      <td>1.026978</td>\n",
       "      <td>1.115262</td>\n",
       "      <td>False</td>\n",
       "      <td>False</td>\n",
       "      <td>False</td>\n",
       "      <td>False</td>\n",
       "    </tr>\n",
       "    <tr>\n",
       "      <th>CYorf15B</th>\n",
       "      <td>0.670395</td>\n",
       "      <td>0.542939</td>\n",
       "      <td>1.576004</td>\n",
       "      <td>1.760707</td>\n",
       "      <td>2.157294</td>\n",
       "      <td>1.117197</td>\n",
       "      <td>1.225243</td>\n",
       "      <td>False</td>\n",
       "      <td>False</td>\n",
       "      <td>False</td>\n",
       "      <td>False</td>\n",
       "    </tr>\n",
       "    <tr>\n",
       "      <th>KDM5D</th>\n",
       "      <td>0.793925</td>\n",
       "      <td>0.565753</td>\n",
       "      <td>1.960442</td>\n",
       "      <td>2.151549</td>\n",
       "      <td>2.776173</td>\n",
       "      <td>1.097481</td>\n",
       "      <td>1.290314</td>\n",
       "      <td>False</td>\n",
       "      <td>False</td>\n",
       "      <td>False</td>\n",
       "      <td>False</td>\n",
       "    </tr>\n",
       "    <tr>\n",
       "      <th>EIF1AY</th>\n",
       "      <td>0.661031</td>\n",
       "      <td>0.639010</td>\n",
       "      <td>1.568210</td>\n",
       "      <td>1.727730</td>\n",
       "      <td>1.985272</td>\n",
       "      <td>1.101721</td>\n",
       "      <td>1.149064</td>\n",
       "      <td>False</td>\n",
       "      <td>False</td>\n",
       "      <td>False</td>\n",
       "      <td>False</td>\n",
       "    </tr>\n",
       "  </tbody>\n",
       "</table>\n",
       "<p>15748 rows × 11 columns</p>\n",
       "</div>"
      ],
      "text/plain": [
       "              normal_vs_neoplasia_p_value  neoplasia_vs_cancer_p_value  \\\n",
       "Gene                                                                     \n",
       "LOC643837                        0.690766                     0.413735   \n",
       "LOC100130417                     0.000032                     0.653429   \n",
       "SAMD11                           0.060273                     0.079556   \n",
       "NOC2L                            0.826429                     0.287581   \n",
       "KLHL17                           0.049876                     0.463292   \n",
       "...                                   ...                          ...   \n",
       "DDX3Y                            0.640904                     0.659369   \n",
       "CD24                             0.830134                     0.330617   \n",
       "CYorf15B                         0.670395                     0.542939   \n",
       "KDM5D                            0.793925                     0.565753   \n",
       "EIF1AY                           0.661031                     0.639010   \n",
       "\n",
       "              normal_mean_expression  neoplasia_mean_expression  \\\n",
       "Gene                                                              \n",
       "LOC643837                   2.681277                   2.510894   \n",
       "LOC100130417                4.368497                   8.721781   \n",
       "SAMD11                     15.159566                  18.531325   \n",
       "NOC2L                      15.374351                  15.071854   \n",
       "KLHL17                     21.459886                  24.152469   \n",
       "...                              ...                        ...   \n",
       "DDX3Y                       1.701654                   1.961449   \n",
       "CD24                       17.106405                  17.567902   \n",
       "CYorf15B                    1.576004                   1.760707   \n",
       "KDM5D                       1.960442                   2.151549   \n",
       "EIF1AY                      1.568210                   1.727730   \n",
       "\n",
       "              cancer_mean_expression  normal_vs_neoplasia_fold_change  \\\n",
       "Gene                                                                    \n",
       "LOC643837                   2.186060                         1.067858   \n",
       "LOC100130417                8.190456                         1.996517   \n",
       "SAMD11                     23.692614                         1.222418   \n",
       "NOC2L                      16.468034                         1.020070   \n",
       "KLHL17                     25.035813                         1.125471   \n",
       "...                              ...                              ...   \n",
       "DDX3Y                       2.292908                         1.152672   \n",
       "CD24                       15.752268                         1.026978   \n",
       "CYorf15B                    2.157294                         1.117197   \n",
       "KDM5D                       2.776173                         1.097481   \n",
       "EIF1AY                      1.985272                         1.101721   \n",
       "\n",
       "              neoplasia_vs_cancer_fold_change  normal_vs_neoplasia_rej_hb  \\\n",
       "Gene                                                                        \n",
       "LOC643837                            1.148593                       False   \n",
       "LOC100130417                         1.064871                       False   \n",
       "SAMD11                               1.278517                       False   \n",
       "NOC2L                                1.092635                       False   \n",
       "KLHL17                               1.036574                       False   \n",
       "...                                       ...                         ...   \n",
       "DDX3Y                                1.168987                       False   \n",
       "CD24                                 1.115262                       False   \n",
       "CYorf15B                             1.225243                       False   \n",
       "KDM5D                                1.290314                       False   \n",
       "EIF1AY                               1.149064                       False   \n",
       "\n",
       "              neoplasia_vs_cancer_rej_hb  normal_vs_neoplasia_rej_bh  \\\n",
       "Gene                                                                   \n",
       "LOC643837                          False                       False   \n",
       "LOC100130417                       False                       False   \n",
       "SAMD11                             False                       False   \n",
       "NOC2L                              False                       False   \n",
       "KLHL17                             False                       False   \n",
       "...                                  ...                         ...   \n",
       "DDX3Y                              False                       False   \n",
       "CD24                               False                       False   \n",
       "CYorf15B                           False                       False   \n",
       "KDM5D                              False                       False   \n",
       "EIF1AY                             False                       False   \n",
       "\n",
       "              neoplasia_vs_cancer_rej_bh  \n",
       "Gene                                      \n",
       "LOC643837                          False  \n",
       "LOC100130417                       False  \n",
       "SAMD11                             False  \n",
       "NOC2L                              False  \n",
       "KLHL17                             False  \n",
       "...                                  ...  \n",
       "DDX3Y                              False  \n",
       "CD24                               False  \n",
       "CYorf15B                           False  \n",
       "KDM5D                              False  \n",
       "EIF1AY                             False  \n",
       "\n",
       "[15748 rows x 11 columns]"
      ]
     },
     "execution_count": 61,
     "metadata": {},
     "output_type": "execute_result"
    }
   ],
   "source": [
    "pvalue_df"
   ]
  },
  {
   "cell_type": "code",
   "execution_count": 62,
   "id": "southwest-scientist",
   "metadata": {},
   "outputs": [
    {
     "data": {
      "text/plain": [
       "(2, 11)"
      ]
     },
     "execution_count": 62,
     "metadata": {},
     "output_type": "execute_result"
    }
   ],
   "source": [
    "pvalue_df[(pvalue_df.normal_vs_neoplasia_rej_hb) & (pvalue_df.normal_vs_neoplasia_fold_change > 1.5)].shape"
   ]
  },
  {
   "cell_type": "code",
   "execution_count": 63,
   "id": "national-campaign",
   "metadata": {},
   "outputs": [
    {
     "data": {
      "text/plain": [
       "(77, 11)"
      ]
     },
     "execution_count": 63,
     "metadata": {},
     "output_type": "execute_result"
    }
   ],
   "source": [
    "pvalue_df[(pvalue_df.neoplasia_vs_cancer_rej_hb) & (pvalue_df.neoplasia_vs_cancer_fold_change > 1.5)].shape"
   ]
  },
  {
   "cell_type": "code",
   "execution_count": 49,
   "id": "hispanic-detection",
   "metadata": {},
   "outputs": [],
   "source": [
    "with open('bioinformatic_2.1.txt','w') as fout:\n",
    "    fout.write(str(pvalue_df[(pvalue_df.normal_vs_neoplasia_rej_hb) & (pvalue_df.normal_vs_neoplasia_fold_change > 1.5)].shape[0]))"
   ]
  },
  {
   "cell_type": "code",
   "execution_count": 50,
   "id": "genetic-thought",
   "metadata": {},
   "outputs": [],
   "source": [
    "with open('bioinformatic_2.2.txt','w') as fout:\n",
    "    fout.write(str(pvalue_df[(pvalue_df.neoplasia_vs_cancer_rej_hb) & (pvalue_df.neoplasia_vs_cancer_fold_change > 1.5)].shape[0]))"
   ]
  },
  {
   "cell_type": "markdown",
   "id": "capable-retailer",
   "metadata": {},
   "source": [
    "### Часть 3: поправка методом Бенджамини-Хохберга"
   ]
  },
  {
   "cell_type": "markdown",
   "id": "controlled-payday",
   "metadata": {},
   "source": [
    "Данная часть задания аналогична второй части за исключением того, что нужно будет использовать метод Бенджамини-Хохберга.Для этой части задания вам понадобится модуль multitest из statsmodels."
   ]
  },
  {
   "cell_type": "markdown",
   "id": "exotic-luxury",
   "metadata": {},
   "source": [
    " Обратите внимание, что методы коррекции, которые контролируют FDR, допускает больше ошибок первого рода и имеют большую мощность, чем методы, контролирующие FWER. Большая мощность означает, что эти методы будут совершать меньше ошибок второго рода (то есть будут лучше улавливать отклонения от H0H_0H0​, когда они есть, и будут чаще отклонять H0H_0H0​, когда отличий нет).\n",
    "\n",
    "В качестве ответа к этому заданию требуется  ввести количество значимых отличий в каждой группе после того, как произведена коррекция Бенджамини-Хохберга, причем так же, как и во второй части, считать только такие отличия, у которых abs(fold change) > 1.5. "
   ]
  },
  {
   "cell_type": "code",
   "execution_count": 52,
   "id": "associate-cannon",
   "metadata": {},
   "outputs": [],
   "source": [
    "pvalue_df['normal_vs_neoplasia_rej_bh'] = smm.multipletests(pvalue_df.normal_vs_neoplasia_p_value, alpha=0.025, method='fdr_i')[0]\n",
    "pvalue_df['neoplasia_vs_cancer_rej_bh'] = smm.multipletests(pvalue_df.neoplasia_vs_cancer_p_value, alpha=0.025, method='fdr_i')[0]"
   ]
  },
  {
   "cell_type": "code",
   "execution_count": 54,
   "id": "important-calendar",
   "metadata": {},
   "outputs": [
    {
     "data": {
      "text/plain": [
       "False    15744\n",
       "True         4\n",
       "Name: normal_vs_neoplasia_rej_bh, dtype: int64"
      ]
     },
     "execution_count": 54,
     "metadata": {},
     "output_type": "execute_result"
    }
   ],
   "source": [
    "pvalue_df.normal_vs_neoplasia_rej_bh.value_counts()"
   ]
  },
  {
   "cell_type": "code",
   "execution_count": 56,
   "id": "latest-prototype",
   "metadata": {},
   "outputs": [
    {
     "data": {
      "text/plain": [
       "(4, 11)"
      ]
     },
     "execution_count": 56,
     "metadata": {},
     "output_type": "execute_result"
    }
   ],
   "source": [
    "pvalue_df[(pvalue_df.normal_vs_neoplasia_rej_bh) & (pvalue_df.normal_vs_neoplasia_fold_change > 1.5)].shape"
   ]
  },
  {
   "cell_type": "code",
   "execution_count": 57,
   "id": "seasonal-envelope",
   "metadata": {},
   "outputs": [
    {
     "data": {
      "text/plain": [
       "(524, 11)"
      ]
     },
     "execution_count": 57,
     "metadata": {},
     "output_type": "execute_result"
    }
   ],
   "source": [
    "pvalue_df[(pvalue_df.neoplasia_vs_cancer_rej_bh) & (pvalue_df.neoplasia_vs_cancer_fold_change > 1.5)].shape"
   ]
  },
  {
   "cell_type": "code",
   "execution_count": 58,
   "id": "precise-senegal",
   "metadata": {},
   "outputs": [],
   "source": [
    "with open('bioinformatic_3.1.txt','w') as fout:\n",
    "    fout.write(str(pvalue_df[(pvalue_df.normal_vs_neoplasia_rej_bh) & (pvalue_df.normal_vs_neoplasia_fold_change > 1.5)].shape[0]))"
   ]
  },
  {
   "cell_type": "code",
   "execution_count": 59,
   "id": "heard-portland",
   "metadata": {},
   "outputs": [],
   "source": [
    "with open('bioinformatic_3.2.txt','w') as fout:\n",
    "    fout.write(str(pvalue_df[(pvalue_df.neoplasia_vs_cancer_rej_bh) & (pvalue_df.neoplasia_vs_cancer_fold_change > 1.5)].shape[0]))"
   ]
  }
 ],
 "metadata": {
  "kernelspec": {
   "display_name": "coursera",
   "language": "python",
   "name": "coursera"
  },
  "language_info": {
   "codemirror_mode": {
    "name": "ipython",
    "version": 3
   },
   "file_extension": ".py",
   "mimetype": "text/x-python",
   "name": "python",
   "nbconvert_exporter": "python",
   "pygments_lexer": "ipython3",
   "version": "3.9.1"
  }
 },
 "nbformat": 4,
 "nbformat_minor": 5
}
