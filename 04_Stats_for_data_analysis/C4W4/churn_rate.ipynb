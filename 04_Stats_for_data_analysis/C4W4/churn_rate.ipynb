{
 "cells": [
  {
   "cell_type": "markdown",
   "id": "rental-wagon",
   "metadata": {},
   "source": [
    "# Churn rate"
   ]
  },
  {
   "cell_type": "markdown",
   "id": "inclusive-wilderness",
   "metadata": {},
   "source": [
    "В этом задании вам предлагается проанализировать данные одной из американских телекоммуникационных компаний  о пользователях, которые потенциально могут уйти."
   ]
  },
  {
   "cell_type": "markdown",
   "id": "geological-somerset",
   "metadata": {},
   "source": [
    "  Измерены следующие признаки:\n",
    "\n",
    "   - state — штат США\n",
    "   - account_length — длительность использования аккаунта\n",
    "   - area_code — деление пользователей на псевдорегионы, использующееся в телекоме\n",
    "   - intl_plan — подключена ли у пользователя услуга международного общения\n",
    "   - vmail_plan — подключена ли у пользователя услуга голосовых сообщений\n",
    "   - vmail_message — количество голосых сообщений, который пользователь отправил / принял\n",
    "   - day_calls — сколько пользователь совершил дневных звонков\n",
    "   - day_mins — сколько пользователь проговорил минут в течение дня\n",
    "   - day_charge — сколько пользователь заплатил за свою дневную активность\n",
    "   - eve_calls, eve_mins, eve_charge — аналогичные метрики относительно вечерней активности\n",
    "   - night_calls, night_mins, night_charge — аналогичные метрики относительно ночной активности\n",
    "   - intl_calls, intl_mins, intl_charge — аналогичные метрики относительно международного общения\n",
    "   - custserv_calls — сколько раз пользователь позвонил в службу поддержки\n",
    "   - treatment — номер стратегии, которая применялись для удержания абонентов (0, 2 = два разных типа воздействия, 1 = контрольная группа)\n",
    "\n",
    "   - mes_estim — оценка интенсивности пользования интернет мессенджерами\n",
    "   - churn — результат оттока: перестал ли абонент пользоваться услугами оператора"
   ]
  },
  {
   "cell_type": "code",
   "execution_count": 123,
   "id": "driven-citizenship",
   "metadata": {},
   "outputs": [],
   "source": [
    "import warnings\n",
    "warnings.filterwarnings('ignore')"
   ]
  },
  {
   "cell_type": "code",
   "execution_count": 124,
   "id": "promotional-mountain",
   "metadata": {},
   "outputs": [],
   "source": [
    "import statsmodels\n",
    "import scipy as sc\n",
    "import numpy as np\n",
    "import pandas as pd\n",
    "import statsmodels.stats.multitest as smm\n",
    "import statsmodels.formula.api as smf\n",
    "import statsmodels.stats.api as sms\n",
    "from statsmodels.sandbox.stats.multicomp import multipletests \n",
    "from statsmodels.graphics.regressionplots import plot_leverage_resid2\n",
    "from statsmodels.stats.proportion import proportion_confint\n",
    "from statsmodels.stats.weightstats import *\n",
    "import matplotlib.pyplot as plt"
   ]
  },
  {
   "cell_type": "code",
   "execution_count": 125,
   "id": "herbal-stations",
   "metadata": {},
   "outputs": [
    {
     "name": "stdout",
     "output_type": "stream",
     "text": [
      "1.19.2\n",
      "1.2.1\n",
      "1.5.2\n",
      "0.12.1\n"
     ]
    }
   ],
   "source": [
    "print(np.__version__)\n",
    "print(pd.__version__)\n",
    "print(sc.__version__)\n",
    "print(statsmodels.__version__)"
   ]
  },
  {
   "cell_type": "code",
   "execution_count": 126,
   "id": "accredited-maldives",
   "metadata": {},
   "outputs": [
    {
     "name": "stdout",
     "output_type": "stream",
     "text": [
      "Populating the interactive namespace from numpy and matplotlib\n"
     ]
    }
   ],
   "source": [
    "%pylab inline"
   ]
  },
  {
   "cell_type": "code",
   "execution_count": 5,
   "id": "essential-thriller",
   "metadata": {},
   "outputs": [
    {
     "data": {
      "text/html": [
       "<div>\n",
       "<style scoped>\n",
       "    .dataframe tbody tr th:only-of-type {\n",
       "        vertical-align: middle;\n",
       "    }\n",
       "\n",
       "    .dataframe tbody tr th {\n",
       "        vertical-align: top;\n",
       "    }\n",
       "\n",
       "    .dataframe thead th {\n",
       "        text-align: right;\n",
       "    }\n",
       "</style>\n",
       "<table border=\"1\" class=\"dataframe\">\n",
       "  <thead>\n",
       "    <tr style=\"text-align: right;\">\n",
       "      <th></th>\n",
       "      <th>state</th>\n",
       "      <th>account_length</th>\n",
       "      <th>area_code</th>\n",
       "      <th>intl_plan</th>\n",
       "      <th>vmail_plan</th>\n",
       "      <th>vmail_message</th>\n",
       "      <th>day_mins</th>\n",
       "      <th>day_calls</th>\n",
       "      <th>day_charge</th>\n",
       "      <th>eve_mins</th>\n",
       "      <th>eve_calls</th>\n",
       "      <th>eve_charge</th>\n",
       "      <th>night_mins</th>\n",
       "      <th>night_calls</th>\n",
       "      <th>night_charge</th>\n",
       "      <th>intl_mins</th>\n",
       "      <th>intl_calls</th>\n",
       "      <th>intl_charge</th>\n",
       "      <th>custserv_calls</th>\n",
       "      <th>treatment</th>\n",
       "      <th>mes_estim</th>\n",
       "      <th>churn</th>\n",
       "    </tr>\n",
       "  </thead>\n",
       "  <tbody>\n",
       "    <tr>\n",
       "      <th>0</th>\n",
       "      <td>KS</td>\n",
       "      <td>128</td>\n",
       "      <td>415</td>\n",
       "      <td>no</td>\n",
       "      <td>yes</td>\n",
       "      <td>25</td>\n",
       "      <td>265.1</td>\n",
       "      <td>110</td>\n",
       "      <td>45.07</td>\n",
       "      <td>197.4</td>\n",
       "      <td>99</td>\n",
       "      <td>16.78</td>\n",
       "      <td>244.7</td>\n",
       "      <td>91</td>\n",
       "      <td>11.01</td>\n",
       "      <td>10.0</td>\n",
       "      <td>3</td>\n",
       "      <td>2.70</td>\n",
       "      <td>1</td>\n",
       "      <td>1</td>\n",
       "      <td>0.65</td>\n",
       "      <td>False.</td>\n",
       "    </tr>\n",
       "    <tr>\n",
       "      <th>1</th>\n",
       "      <td>OH</td>\n",
       "      <td>107</td>\n",
       "      <td>415</td>\n",
       "      <td>no</td>\n",
       "      <td>yes</td>\n",
       "      <td>26</td>\n",
       "      <td>161.6</td>\n",
       "      <td>123</td>\n",
       "      <td>27.47</td>\n",
       "      <td>195.5</td>\n",
       "      <td>103</td>\n",
       "      <td>16.62</td>\n",
       "      <td>254.4</td>\n",
       "      <td>103</td>\n",
       "      <td>11.45</td>\n",
       "      <td>13.7</td>\n",
       "      <td>3</td>\n",
       "      <td>3.70</td>\n",
       "      <td>1</td>\n",
       "      <td>0</td>\n",
       "      <td>0.55</td>\n",
       "      <td>False.</td>\n",
       "    </tr>\n",
       "    <tr>\n",
       "      <th>2</th>\n",
       "      <td>NJ</td>\n",
       "      <td>137</td>\n",
       "      <td>415</td>\n",
       "      <td>no</td>\n",
       "      <td>no</td>\n",
       "      <td>0</td>\n",
       "      <td>243.4</td>\n",
       "      <td>114</td>\n",
       "      <td>41.38</td>\n",
       "      <td>121.2</td>\n",
       "      <td>110</td>\n",
       "      <td>10.30</td>\n",
       "      <td>162.6</td>\n",
       "      <td>104</td>\n",
       "      <td>7.32</td>\n",
       "      <td>12.2</td>\n",
       "      <td>5</td>\n",
       "      <td>3.29</td>\n",
       "      <td>0</td>\n",
       "      <td>0</td>\n",
       "      <td>0.72</td>\n",
       "      <td>False.</td>\n",
       "    </tr>\n",
       "    <tr>\n",
       "      <th>3</th>\n",
       "      <td>OH</td>\n",
       "      <td>84</td>\n",
       "      <td>408</td>\n",
       "      <td>yes</td>\n",
       "      <td>no</td>\n",
       "      <td>0</td>\n",
       "      <td>299.4</td>\n",
       "      <td>71</td>\n",
       "      <td>50.90</td>\n",
       "      <td>61.9</td>\n",
       "      <td>88</td>\n",
       "      <td>5.26</td>\n",
       "      <td>196.9</td>\n",
       "      <td>89</td>\n",
       "      <td>8.86</td>\n",
       "      <td>6.6</td>\n",
       "      <td>7</td>\n",
       "      <td>1.78</td>\n",
       "      <td>2</td>\n",
       "      <td>1</td>\n",
       "      <td>0.28</td>\n",
       "      <td>False.</td>\n",
       "    </tr>\n",
       "    <tr>\n",
       "      <th>4</th>\n",
       "      <td>OK</td>\n",
       "      <td>75</td>\n",
       "      <td>415</td>\n",
       "      <td>yes</td>\n",
       "      <td>no</td>\n",
       "      <td>0</td>\n",
       "      <td>166.7</td>\n",
       "      <td>113</td>\n",
       "      <td>28.34</td>\n",
       "      <td>148.3</td>\n",
       "      <td>122</td>\n",
       "      <td>12.61</td>\n",
       "      <td>186.9</td>\n",
       "      <td>121</td>\n",
       "      <td>8.41</td>\n",
       "      <td>10.1</td>\n",
       "      <td>3</td>\n",
       "      <td>2.73</td>\n",
       "      <td>3</td>\n",
       "      <td>2</td>\n",
       "      <td>0.45</td>\n",
       "      <td>False.</td>\n",
       "    </tr>\n",
       "  </tbody>\n",
       "</table>\n",
       "</div>"
      ],
      "text/plain": [
       "  state  account_length  area_code intl_plan vmail_plan  vmail_message  \\\n",
       "0    KS             128        415        no        yes             25   \n",
       "1    OH             107        415        no        yes             26   \n",
       "2    NJ             137        415        no         no              0   \n",
       "3    OH              84        408       yes         no              0   \n",
       "4    OK              75        415       yes         no              0   \n",
       "\n",
       "   day_mins  day_calls  day_charge  eve_mins  eve_calls  eve_charge  \\\n",
       "0     265.1        110       45.07     197.4         99       16.78   \n",
       "1     161.6        123       27.47     195.5        103       16.62   \n",
       "2     243.4        114       41.38     121.2        110       10.30   \n",
       "3     299.4         71       50.90      61.9         88        5.26   \n",
       "4     166.7        113       28.34     148.3        122       12.61   \n",
       "\n",
       "   night_mins  night_calls  night_charge  intl_mins  intl_calls  intl_charge  \\\n",
       "0       244.7           91         11.01       10.0           3         2.70   \n",
       "1       254.4          103         11.45       13.7           3         3.70   \n",
       "2       162.6          104          7.32       12.2           5         3.29   \n",
       "3       196.9           89          8.86        6.6           7         1.78   \n",
       "4       186.9          121          8.41       10.1           3         2.73   \n",
       "\n",
       "   custserv_calls  treatment  mes_estim   churn  \n",
       "0               1          1       0.65  False.  \n",
       "1               1          0       0.55  False.  \n",
       "2               0          0       0.72  False.  \n",
       "3               2          1       0.28  False.  \n",
       "4               3          2       0.45  False.  "
      ]
     },
     "execution_count": 5,
     "metadata": {},
     "output_type": "execute_result"
    }
   ],
   "source": [
    "data = pd.read_csv('churn_analysis.csv', sep=',')\n",
    "pd.set_option('display.max_columns', None)\n",
    "data.drop('Unnamed: 0', axis=1, inplace=True)\n",
    "data.head()"
   ]
  },
  {
   "cell_type": "code",
   "execution_count": 68,
   "id": "occupied-digit",
   "metadata": {},
   "outputs": [
    {
     "data": {
      "text/plain": [
       "False.    2850\n",
       "True.      483\n",
       "Name: churn, dtype: int64"
      ]
     },
     "execution_count": 68,
     "metadata": {},
     "output_type": "execute_result"
    }
   ],
   "source": [
    "data.churn.value_counts()"
   ]
  },
  {
   "cell_type": "code",
   "execution_count": 6,
   "id": "compliant-singles",
   "metadata": {},
   "outputs": [
    {
     "name": "stdout",
     "output_type": "stream",
     "text": [
      "<class 'pandas.core.frame.DataFrame'>\n",
      "RangeIndex: 3333 entries, 0 to 3332\n",
      "Data columns (total 22 columns):\n",
      " #   Column          Non-Null Count  Dtype  \n",
      "---  ------          --------------  -----  \n",
      " 0   state           3333 non-null   object \n",
      " 1   account_length  3333 non-null   int64  \n",
      " 2   area_code       3333 non-null   int64  \n",
      " 3   intl_plan       3333 non-null   object \n",
      " 4   vmail_plan      3333 non-null   object \n",
      " 5   vmail_message   3333 non-null   int64  \n",
      " 6   day_mins        3333 non-null   float64\n",
      " 7   day_calls       3333 non-null   int64  \n",
      " 8   day_charge      3333 non-null   float64\n",
      " 9   eve_mins        3333 non-null   float64\n",
      " 10  eve_calls       3333 non-null   int64  \n",
      " 11  eve_charge      3333 non-null   float64\n",
      " 12  night_mins      3333 non-null   float64\n",
      " 13  night_calls     3333 non-null   int64  \n",
      " 14  night_charge    3333 non-null   float64\n",
      " 15  intl_mins       3333 non-null   float64\n",
      " 16  intl_calls      3333 non-null   int64  \n",
      " 17  intl_charge     3333 non-null   float64\n",
      " 18  custserv_calls  3333 non-null   int64  \n",
      " 19  treatment       3333 non-null   int64  \n",
      " 20  mes_estim       3333 non-null   float64\n",
      " 21  churn           3333 non-null   object \n",
      "dtypes: float64(9), int64(9), object(4)\n",
      "memory usage: 573.0+ KB\n"
     ]
    }
   ],
   "source": [
    "data.info()"
   ]
  },
  {
   "cell_type": "markdown",
   "id": "prerequisite-convert",
   "metadata": {},
   "source": [
    "# Task 1"
   ]
  },
  {
   "cell_type": "markdown",
   "id": "wireless-alexander",
   "metadata": {},
   "source": [
    "Давайте рассмотрим всех пользователей из контрольной группы (treatment = 1). Для таких пользователей мы хотим проверить гипотезу о том, что штат абонента не влияет на то, перестанет ли абонент пользоваться услугами оператора. \n",
    "\n",
    "Для этого мы воспользуемся критерием хи-квадрат.  Постройте таблицы сопряженности между каждой из всех 1275 возможных неупорядоченных пар штатов и значением признака churn.  Для каждой такой таблицы 2x2 применить критерий хи-квадрат можно с помощью функции "
   ]
  },
  {
   "cell_type": "markdown",
   "id": "threatened-diabetes",
   "metadata": {},
   "source": [
    "Заметьте, что, например, (AZ, HI)  и  (HI, AZ) — это одна и та же пара. Обязательно выставьте correction=False (о том, что это значит, вы узнаете из следующих вопросов).\n",
    "\n",
    "Сколько  достигаемых уровней значимости оказались меньше, чем α=0.05?"
   ]
  },
  {
   "cell_type": "code",
   "execution_count": 73,
   "id": "regulation-estate",
   "metadata": {},
   "outputs": [],
   "source": [
    "data_states = pd.pivot_table(data=data[data['treatment'] == 1], columns ='churn', index='state', values='treatment', fill_value=0, aggfunc=len)"
   ]
  },
  {
   "cell_type": "code",
   "execution_count": 74,
   "id": "waiting-bacon",
   "metadata": {},
   "outputs": [
    {
     "data": {
      "text/html": [
       "<div>\n",
       "<style scoped>\n",
       "    .dataframe tbody tr th:only-of-type {\n",
       "        vertical-align: middle;\n",
       "    }\n",
       "\n",
       "    .dataframe tbody tr th {\n",
       "        vertical-align: top;\n",
       "    }\n",
       "\n",
       "    .dataframe thead th {\n",
       "        text-align: right;\n",
       "    }\n",
       "</style>\n",
       "<table border=\"1\" class=\"dataframe\">\n",
       "  <thead>\n",
       "    <tr style=\"text-align: right;\">\n",
       "      <th>churn</th>\n",
       "      <th>False.</th>\n",
       "      <th>True.</th>\n",
       "    </tr>\n",
       "    <tr>\n",
       "      <th>state</th>\n",
       "      <th></th>\n",
       "      <th></th>\n",
       "    </tr>\n",
       "  </thead>\n",
       "  <tbody>\n",
       "    <tr>\n",
       "      <th>AK</th>\n",
       "      <td>19</td>\n",
       "      <td>1</td>\n",
       "    </tr>\n",
       "    <tr>\n",
       "      <th>AL</th>\n",
       "      <td>25</td>\n",
       "      <td>5</td>\n",
       "    </tr>\n",
       "    <tr>\n",
       "      <th>AR</th>\n",
       "      <td>11</td>\n",
       "      <td>5</td>\n",
       "    </tr>\n",
       "    <tr>\n",
       "      <th>AZ</th>\n",
       "      <td>17</td>\n",
       "      <td>2</td>\n",
       "    </tr>\n",
       "    <tr>\n",
       "      <th>CA</th>\n",
       "      <td>10</td>\n",
       "      <td>5</td>\n",
       "    </tr>\n",
       "  </tbody>\n",
       "</table>\n",
       "</div>"
      ],
      "text/plain": [
       "churn  False.  True.\n",
       "state               \n",
       "AK         19      1\n",
       "AL         25      5\n",
       "AR         11      5\n",
       "AZ         17      2\n",
       "CA         10      5"
      ]
     },
     "execution_count": 74,
     "metadata": {},
     "output_type": "execute_result"
    }
   ],
   "source": [
    "data_states.head()"
   ]
  },
  {
   "cell_type": "code",
   "execution_count": 75,
   "id": "sunrise-explorer",
   "metadata": {},
   "outputs": [
    {
     "data": {
      "text/plain": [
       "Index(['AK', 'AL', 'AR', 'AZ', 'CA', 'CO', 'CT', 'DC', 'DE', 'FL', 'GA', 'HI',\n",
       "       'IA', 'ID', 'IL', 'IN', 'KS', 'KY', 'LA', 'MA', 'MD', 'ME', 'MI', 'MN',\n",
       "       'MO', 'MS', 'MT', 'NC', 'ND', 'NE', 'NH', 'NJ', 'NM', 'NV', 'NY', 'OH',\n",
       "       'OK', 'OR', 'PA', 'RI', 'SC', 'SD', 'TN', 'TX', 'UT', 'VA', 'VT', 'WA',\n",
       "       'WI', 'WV', 'WY'],\n",
       "      dtype='object', name='state')"
      ]
     },
     "execution_count": 75,
     "metadata": {},
     "output_type": "execute_result"
    }
   ],
   "source": [
    "data_states.index"
   ]
  },
  {
   "cell_type": "code",
   "execution_count": 76,
   "id": "laughing-poker",
   "metadata": {},
   "outputs": [
    {
     "name": "stdout",
     "output_type": "stream",
     "text": [
      "CPU times: user 958 ms, sys: 19.5 ms, total: 978 ms\n",
      "Wall time: 951 ms\n"
     ]
    }
   ],
   "source": [
    "%%time \n",
    "\n",
    "chi2_data = []\n",
    "\n",
    "for i, state_1 in enumerate(data_states.index):\n",
    "    for j, state_2 in enumerate(data_states.index):\n",
    "        if i >= j:\n",
    "            continue\n",
    "        \n",
    "        chi2, p, _, _ = sc.stats.chi2_contingency(data_states.loc[[state_1,state_2],:], correction=False)\n",
    "        chi2_data.append([state_1, state_2, chi2, p])"
   ]
  },
  {
   "cell_type": "code",
   "execution_count": 77,
   "id": "third-system",
   "metadata": {},
   "outputs": [
    {
     "data": {
      "text/html": [
       "<div>\n",
       "<style scoped>\n",
       "    .dataframe tbody tr th:only-of-type {\n",
       "        vertical-align: middle;\n",
       "    }\n",
       "\n",
       "    .dataframe tbody tr th {\n",
       "        vertical-align: top;\n",
       "    }\n",
       "\n",
       "    .dataframe thead th {\n",
       "        text-align: right;\n",
       "    }\n",
       "</style>\n",
       "<table border=\"1\" class=\"dataframe\">\n",
       "  <thead>\n",
       "    <tr style=\"text-align: right;\">\n",
       "      <th></th>\n",
       "      <th>State_A</th>\n",
       "      <th>State_B</th>\n",
       "      <th>Chi2</th>\n",
       "      <th>p</th>\n",
       "    </tr>\n",
       "  </thead>\n",
       "  <tbody>\n",
       "    <tr>\n",
       "      <th>0</th>\n",
       "      <td>AK</td>\n",
       "      <td>AL</td>\n",
       "      <td>1.546717</td>\n",
       "      <td>0.213621</td>\n",
       "    </tr>\n",
       "    <tr>\n",
       "      <th>1</th>\n",
       "      <td>AK</td>\n",
       "      <td>AR</td>\n",
       "      <td>4.410000</td>\n",
       "      <td>0.035729</td>\n",
       "    </tr>\n",
       "    <tr>\n",
       "      <th>2</th>\n",
       "      <td>AK</td>\n",
       "      <td>AZ</td>\n",
       "      <td>0.419079</td>\n",
       "      <td>0.517397</td>\n",
       "    </tr>\n",
       "    <tr>\n",
       "      <th>3</th>\n",
       "      <td>AK</td>\n",
       "      <td>CA</td>\n",
       "      <td>4.844349</td>\n",
       "      <td>0.027737</td>\n",
       "    </tr>\n",
       "    <tr>\n",
       "      <th>4</th>\n",
       "      <td>AK</td>\n",
       "      <td>CO</td>\n",
       "      <td>2.688636</td>\n",
       "      <td>0.101066</td>\n",
       "    </tr>\n",
       "  </tbody>\n",
       "</table>\n",
       "</div>"
      ],
      "text/plain": [
       "  State_A State_B      Chi2         p\n",
       "0      AK      AL  1.546717  0.213621\n",
       "1      AK      AR  4.410000  0.035729\n",
       "2      AK      AZ  0.419079  0.517397\n",
       "3      AK      CA  4.844349  0.027737\n",
       "4      AK      CO  2.688636  0.101066"
      ]
     },
     "execution_count": 77,
     "metadata": {},
     "output_type": "execute_result"
    }
   ],
   "source": [
    "chi2_states = pd.DataFrame.from_records(chi2_data)\n",
    "chi2_states.columns = ['State_A', 'State_B', 'Chi2', 'p']\n",
    "chi2_states.head()"
   ]
  },
  {
   "cell_type": "code",
   "execution_count": 78,
   "id": "generic-compromise",
   "metadata": {},
   "outputs": [],
   "source": [
    "number = chi2_states[chi2_states.p <= 0.05].p.shape[0]"
   ]
  },
  {
   "cell_type": "code",
   "execution_count": 79,
   "id": "silver-affiliate",
   "metadata": {},
   "outputs": [
    {
     "name": "stdout",
     "output_type": "stream",
     "text": [
      "Num of significance lvls below 0.05 is:  34\n"
     ]
    }
   ],
   "source": [
    "print('Num of significance lvls below 0.05 is: ',number)"
   ]
  },
  {
   "cell_type": "markdown",
   "id": "cellular-dominican",
   "metadata": {},
   "source": [
    "Ответ: (1 балов)\n",
    " - 34\n"
   ]
  },
  {
   "cell_type": "markdown",
   "id": "cleared-calgary",
   "metadata": {},
   "source": [
    "# Task 2"
   ]
  },
  {
   "cell_type": "markdown",
   "id": "loose-yeast",
   "metadata": {},
   "source": [
    "- Анализ нужно было начинать с применения xи-квадрат к  таблице сопряженности, в которой  присутствовали сразу все возможные штаты. Достигаемой уровень значимости такой проверки = 0.7, что дает нам гарантию, что нет ни одной пары штатов, в которых отличие в соотношениях ушедших и оставшихся клиентов  статистически значимо. \n",
    "\n",
    "- Поправку на множественную проверку  здесь применять нельзя — она   используется только для группы критериев, проверяющих равенство средних (типа t-критерия). Критерий xи-квадрат не принадлежит этому семейству, поэтому поправка не нужна.\n",
    "\n",
    "- Применение критерия xи-квадрат для этих данных не обосновано, потому что не выполняются условия, при которых этот критерий дает правильные результаты. \n",
    "\n",
    "- Интерпретация числа достигаемых уровней значимости,  меньших α=0.05, некорректна,  поскольку не сделана поправка на множественную проверку гипотез.\n",
    "\n",
    "- Хи-квадрат используется для того, чтобы сравнить выборку с некоторым воздействием  (treatment) и выборку без этого воздействия (control). Мы же в первом задании сравнивали штаты, используя данные только control группы. Для данных только из control группы  использование xи-квадрат неправомерно. "
   ]
  },
  {
   "cell_type": "markdown",
   "id": "pediatric-tampa",
   "metadata": {},
   "source": [
    "Ответ: (0.6 балов)\n",
    " - Интерпретация числа достигаем,\n",
    " - Хи-квадрат\n"
   ]
  },
  {
   "cell_type": "markdown",
   "id": "modular-salvation",
   "metadata": {},
   "source": [
    "Ответ: (0.8 балов)\n",
    " - Интерпретация числа достигаем,\n"
   ]
  },
  {
   "cell_type": "markdown",
   "id": "dominant-boost",
   "metadata": {},
   "source": [
    "# Task 3"
   ]
  },
  {
   "cell_type": "markdown",
   "id": "embedded-sheep",
   "metadata": {},
   "source": [
    "- Количество достигаемых уровней значимости, меньших, чем 0.05, в точности равно нулю. То есть поправка увеличила достигаемые уровни значимости настолько, что больше ни одно из значений  достигаемого уровня значимости не попадает в диапазон от 0 до 0.05.\n",
    "\n",
    "- Поправка Йетса на непрерывность всегда увеличивает значение  достигаемого уровня значимости, поэтому все получившиеся значения  достигаемого уровня значимости строго больше  или равны таковым значениям при отсутствии этой поправки.\n",
    "\n",
    "- Количество  достигаемых уровней значимости, меньших, чем 0.05, почти не изменилось, нельзя сказать, что введенная  поправка сильно поменяла достигаемые уровни значимости.\n",
    "\n",
    "- Достигаемые уровни значимости на наших данных,  полученные с помощью критерия xи-квадрат с поправкой Йетса,  в среднем получаются больше, чем соответствующие значения  без поправки."
   ]
  },
  {
   "cell_type": "code",
   "execution_count": 80,
   "id": "intellectual-mandate",
   "metadata": {},
   "outputs": [
    {
     "name": "stdout",
     "output_type": "stream",
     "text": [
      "CPU times: user 902 ms, sys: 9.23 ms, total: 911 ms\n",
      "Wall time: 903 ms\n"
     ]
    }
   ],
   "source": [
    "%%time \n",
    "chi2_data_corr = []\n",
    "\n",
    "for i, state_1 in enumerate(data_states.index):\n",
    "    for j, state_2 in enumerate(data_states.index):\n",
    "        if i >= j:\n",
    "            continue\n",
    "        \n",
    "        chi2, p, _, _ = sc.stats.chi2_contingency(data_states.loc[[state_1,state_2],:], correction=True)\n",
    "        chi2_data_corr.append([state_1, state_2, chi2, p])"
   ]
  },
  {
   "cell_type": "code",
   "execution_count": 82,
   "id": "obvious-mustang",
   "metadata": {},
   "outputs": [
    {
     "data": {
      "text/html": [
       "<div>\n",
       "<style scoped>\n",
       "    .dataframe tbody tr th:only-of-type {\n",
       "        vertical-align: middle;\n",
       "    }\n",
       "\n",
       "    .dataframe tbody tr th {\n",
       "        vertical-align: top;\n",
       "    }\n",
       "\n",
       "    .dataframe thead th {\n",
       "        text-align: right;\n",
       "    }\n",
       "</style>\n",
       "<table border=\"1\" class=\"dataframe\">\n",
       "  <thead>\n",
       "    <tr style=\"text-align: right;\">\n",
       "      <th></th>\n",
       "      <th>State_A</th>\n",
       "      <th>State_B</th>\n",
       "      <th>Chi2_corr</th>\n",
       "      <th>p_corr</th>\n",
       "      <th>p_standart</th>\n",
       "    </tr>\n",
       "  </thead>\n",
       "  <tbody>\n",
       "    <tr>\n",
       "      <th>0</th>\n",
       "      <td>AK</td>\n",
       "      <td>AL</td>\n",
       "      <td>0.639205</td>\n",
       "      <td>0.423999</td>\n",
       "      <td>0.213621</td>\n",
       "    </tr>\n",
       "    <tr>\n",
       "      <th>1</th>\n",
       "      <td>AK</td>\n",
       "      <td>AR</td>\n",
       "      <td>2.722500</td>\n",
       "      <td>0.098943</td>\n",
       "      <td>0.035729</td>\n",
       "    </tr>\n",
       "    <tr>\n",
       "      <th>2</th>\n",
       "      <td>AK</td>\n",
       "      <td>AZ</td>\n",
       "      <td>0.002138</td>\n",
       "      <td>0.963119</td>\n",
       "      <td>0.517397</td>\n",
       "    </tr>\n",
       "    <tr>\n",
       "      <th>3</th>\n",
       "      <td>AK</td>\n",
       "      <td>CA</td>\n",
       "      <td>3.054957</td>\n",
       "      <td>0.080491</td>\n",
       "      <td>0.027737</td>\n",
       "    </tr>\n",
       "    <tr>\n",
       "      <th>4</th>\n",
       "      <td>AK</td>\n",
       "      <td>CO</td>\n",
       "      <td>1.435795</td>\n",
       "      <td>0.230821</td>\n",
       "      <td>0.101066</td>\n",
       "    </tr>\n",
       "  </tbody>\n",
       "</table>\n",
       "</div>"
      ],
      "text/plain": [
       "  State_A State_B  Chi2_corr    p_corr  p_standart\n",
       "0      AK      AL   0.639205  0.423999    0.213621\n",
       "1      AK      AR   2.722500  0.098943    0.035729\n",
       "2      AK      AZ   0.002138  0.963119    0.517397\n",
       "3      AK      CA   3.054957  0.080491    0.027737\n",
       "4      AK      CO   1.435795  0.230821    0.101066"
      ]
     },
     "execution_count": 82,
     "metadata": {},
     "output_type": "execute_result"
    }
   ],
   "source": [
    "chi2_states_corr = pd.DataFrame.from_records(chi2_data_corr)\n",
    "chi2_states_corr.columns = ['State_A', 'State_B', 'Chi2_corr', 'p_corr']\n",
    "chi2_states_corr['p_standart'] = chi2_states['p']\n",
    "chi2_states_corr.head()"
   ]
  },
  {
   "cell_type": "code",
   "execution_count": 85,
   "id": "willing-arrow",
   "metadata": {},
   "outputs": [],
   "source": [
    "number = chi2_states_corr[chi2_states_corr['p_corr'] <= 0.05].p_corr.shape[0]"
   ]
  },
  {
   "cell_type": "code",
   "execution_count": 98,
   "id": "built-death",
   "metadata": {},
   "outputs": [
    {
     "name": "stdout",
     "output_type": "stream",
     "text": [
      "Num of significance lvls below 0.05 is:  0\n"
     ]
    }
   ],
   "source": [
    "print('Num of significance lvls below 0.05 is: ',number)"
   ]
  },
  {
   "cell_type": "code",
   "execution_count": 93,
   "id": "established-cyprus",
   "metadata": {},
   "outputs": [
    {
     "data": {
      "text/plain": [
       "True"
      ]
     },
     "execution_count": 93,
     "metadata": {},
     "output_type": "execute_result"
    }
   ],
   "source": [
    "chi2_states_corr['p_standart'].mean() <= chi2_states_corr['p_corr'].mean()"
   ]
  },
  {
   "cell_type": "markdown",
   "id": "varying-speed",
   "metadata": {},
   "source": [
    "Ответ: (0 балов)\n",
    " - Количество достигаемых уровней значимости, меньших, чем 0.05, в точности равно нулю. То есть поправка увеличила достигаемые уровни значимости настолько, что больше ни одно из значений  достигаемого уровня значимости не попадает в диапазон от 0 до 0.05.\n",
    " \n",
    " - Достигаемые уровни значимости на наших данных,  полученные с помощью критерия xи-квадрат с поправкой Йетса,  в среднем получаются больше, чем соответствующие значения  без поправки.\n"
   ]
  },
  {
   "cell_type": "markdown",
   "id": "creative-superintendent",
   "metadata": {},
   "source": [
    "Ответ: (1 балов)\n",
    " - Количество достигаемых уровней значимости, меньших, чем 0.05, в точности равно нулю. То есть поправка увеличила достигаемые уровни значимости настолько, что больше ни одно из значений  достигаемого уровня значимости не попадает в диапазон от 0 до 0.05.\n",
    " \n",
    " - Достигаемые уровни значимости на наших данных,  полученные с помощью критерия xи-квадрат с поправкой Йетса,  в среднем получаются больше, чем соответствующие значения  без поправки.\n"
   ]
  },
  {
   "cell_type": "markdown",
   "id": "collected-penguin",
   "metadata": {},
   "source": [
    "# Task 4"
   ]
  },
  {
   "cell_type": "markdown",
   "id": "proud-latino",
   "metadata": {},
   "source": [
    "Что если у нас мало данных,  мы не хотим использовать аппроксимацию дискретного распределения непрерывным и использовать сомнительную поправку,  предположения  критерия xи-квадрат не выполняются, а проверить гипотезу о том, что данные принадлежат одному распределению, нужно ?\n",
    "\n",
    "В таком случае прибегают к так называемому точному критерию Фишера. Этот  критерий не использует приближений  и в точности вычисляет значение достигаемого уровня значимости используя комбинаторный подход."
   ]
  },
  {
   "cell_type": "markdown",
   "id": "concerned-arctic",
   "metadata": {},
   "source": [
    "В числителе этой дроби стоит суммарное количество способов выбрать aaa и ccc из a+ba +b a+b и c+dc + dc+d соответственно. А в знаменателе — количество способов выбрать число объектов, равное сумме элементов первого столбца a+ca + ca+c из общего количества рассматриваемых объектов nnn.\n",
    "\n",
    "Чтобы посчитать достигаемый уровень значимости критерия Фишера, нужно перебрать все возможные значения a,b,c,da, b, c, d a,b,c,d, в клетках этой таблицы так, чтобы построковые и постолбцовые суммы не изменились. Для каждого такого набора a,b,c,da, b, c, d a,b,c,d нужно вычислить значение pi p_i pi​ по формуле выше и просуммировать все такие значения pi p_i pi​, которые меньше или равны p pp, которое мы вычислили по наблюдаемым значениям a,b,c,da, b, c, d a,b,c,d.\n",
    "\n",
    "Понятно, что такой критерий вычислительно неудобен в силу большого количества факториалов в формуле выше. То есть даже при небольших выборках для вычисления значения этого критерия приходится оперировать очень большими числами. Поэтому данным критерием пользуются обычно только для таблиц 2x2, но сам критерий никак не ограничен количеством строк и столбцов, и его можно построить для любой таблицы n×mn\\times mn×m.\n",
    "\n",
    "Посчитайте для каждой пары штатов, как и в первом задании, достигаемый уровень значимости с помощью точного критерия Фишера и сравните получившиеся значения с двумя другими подходами, описанными выше.\n",
    "\n",
    "Точный критерий Фишера удобно вычислять с помощью функции "
   ]
  },
  {
   "cell_type": "code",
   "execution_count": 94,
   "id": "incident-norman",
   "metadata": {},
   "outputs": [
    {
     "name": "stdout",
     "output_type": "stream",
     "text": [
      "CPU times: user 2.71 s, sys: 1.06 ms, total: 2.71 s\n",
      "Wall time: 2.7 s\n"
     ]
    }
   ],
   "source": [
    "%%time \n",
    "fisher_data = []\n",
    "\n",
    "for i, state_1 in enumerate(data_states.index):\n",
    "    for j, state_2 in enumerate(data_states.index):\n",
    "        if i >= j:\n",
    "            continue\n",
    "        \n",
    "        fisher, p = sc.stats.fisher_exact(data_states.loc[[state_1,state_2],:])\n",
    "        fisher_data.append([state_1, state_2, fisher, p])"
   ]
  },
  {
   "cell_type": "code",
   "execution_count": 96,
   "id": "stuck-customs",
   "metadata": {},
   "outputs": [
    {
     "data": {
      "text/html": [
       "<div>\n",
       "<style scoped>\n",
       "    .dataframe tbody tr th:only-of-type {\n",
       "        vertical-align: middle;\n",
       "    }\n",
       "\n",
       "    .dataframe tbody tr th {\n",
       "        vertical-align: top;\n",
       "    }\n",
       "\n",
       "    .dataframe thead th {\n",
       "        text-align: right;\n",
       "    }\n",
       "</style>\n",
       "<table border=\"1\" class=\"dataframe\">\n",
       "  <thead>\n",
       "    <tr style=\"text-align: right;\">\n",
       "      <th></th>\n",
       "      <th>State_A</th>\n",
       "      <th>State_B</th>\n",
       "      <th>Fisher</th>\n",
       "      <th>p_fisher</th>\n",
       "      <th>p_standart</th>\n",
       "      <th>p_Yetse</th>\n",
       "    </tr>\n",
       "  </thead>\n",
       "  <tbody>\n",
       "    <tr>\n",
       "      <th>0</th>\n",
       "      <td>AK</td>\n",
       "      <td>AL</td>\n",
       "      <td>3.800000</td>\n",
       "      <td>0.381063</td>\n",
       "      <td>0.213621</td>\n",
       "      <td>0.423999</td>\n",
       "    </tr>\n",
       "    <tr>\n",
       "      <th>1</th>\n",
       "      <td>AK</td>\n",
       "      <td>AR</td>\n",
       "      <td>8.636364</td>\n",
       "      <td>0.068862</td>\n",
       "      <td>0.035729</td>\n",
       "      <td>0.098943</td>\n",
       "    </tr>\n",
       "    <tr>\n",
       "      <th>2</th>\n",
       "      <td>AK</td>\n",
       "      <td>AZ</td>\n",
       "      <td>2.235294</td>\n",
       "      <td>0.604990</td>\n",
       "      <td>0.517397</td>\n",
       "      <td>0.963119</td>\n",
       "    </tr>\n",
       "    <tr>\n",
       "      <th>3</th>\n",
       "      <td>AK</td>\n",
       "      <td>CA</td>\n",
       "      <td>9.500000</td>\n",
       "      <td>0.063965</td>\n",
       "      <td>0.027737</td>\n",
       "      <td>0.080491</td>\n",
       "    </tr>\n",
       "    <tr>\n",
       "      <th>4</th>\n",
       "      <td>AK</td>\n",
       "      <td>CO</td>\n",
       "      <td>5.588235</td>\n",
       "      <td>0.187034</td>\n",
       "      <td>0.101066</td>\n",
       "      <td>0.230821</td>\n",
       "    </tr>\n",
       "  </tbody>\n",
       "</table>\n",
       "</div>"
      ],
      "text/plain": [
       "  State_A State_B    Fisher  p_fisher  p_standart   p_Yetse\n",
       "0      AK      AL  3.800000  0.381063    0.213621  0.423999\n",
       "1      AK      AR  8.636364  0.068862    0.035729  0.098943\n",
       "2      AK      AZ  2.235294  0.604990    0.517397  0.963119\n",
       "3      AK      CA  9.500000  0.063965    0.027737  0.080491\n",
       "4      AK      CO  5.588235  0.187034    0.101066  0.230821"
      ]
     },
     "execution_count": 96,
     "metadata": {},
     "output_type": "execute_result"
    }
   ],
   "source": [
    "fisher_states = pd.DataFrame.from_records(fisher_data)\n",
    "fisher_states.columns = ['State_A', 'State_B', 'Fisher', 'p_fisher']\n",
    "fisher_states['p_standart'] = chi2_states['p']\n",
    "fisher_states['p_Yetse'] = chi2_states_corr['p_corr']\n",
    "fisher_states.head()"
   ]
  },
  {
   "cell_type": "code",
   "execution_count": 13,
   "id": "confirmed-torture",
   "metadata": {},
   "outputs": [],
   "source": [
    "number = fisher_states[fisher_states.p <= 0.05].p.shape[0]"
   ]
  },
  {
   "cell_type": "code",
   "execution_count": 14,
   "id": "bearing-layer",
   "metadata": {},
   "outputs": [
    {
     "name": "stdout",
     "output_type": "stream",
     "text": [
      "Num of significance lvls below 0.05 is:  10\n"
     ]
    }
   ],
   "source": [
    "print('Num of significance lvls below 0.05 is: ',number)"
   ]
  },
  {
   "cell_type": "code",
   "execution_count": 98,
   "id": "innocent-bubble",
   "metadata": {},
   "outputs": [
    {
     "data": {
      "text/plain": [
       "(0.5018273798739158, 0.6640566382051047, 0.6483383060020681)"
      ]
     },
     "execution_count": 98,
     "metadata": {},
     "output_type": "execute_result"
    }
   ],
   "source": [
    "fisher_states['p_standart'].mean(), fisher_states['p_Yetse'].mean(), fisher_states['p_fisher'].mean()"
   ]
  },
  {
   "cell_type": "markdown",
   "id": "statewide-pepper",
   "metadata": {},
   "source": [
    "- Точный  критерий Фишера на наших данных дает значения  достигаемого уровня значимости в среднем большие, чем xи-квадрат с поправкой Йетса\n",
    "\n",
    "- Точный критерий Фишера всегда лучше, чем критерий xи-квадрат, потому что не использует аппроксимацию дискретного распределения непрерывным. Однако при увеличении размера выборки его преимущества по сравнению с критерем xи-квадрат уменьшаются, в пределе достигая нуля.\n",
    "\n",
    "- Точный критерий Фишера на наших данных дает значения достигаемого уровня значимости в среднем значительно большие, чем xи-квадрат без поправки\n",
    "\n",
    "- Точный  критерий Фишера точно также, как и критерий xи-квадрат,  нельзя использовать, если наблюдений < 40  и если ожидаемое значение меньше 5 больше чем в 20% ячейках. \n",
    "\n",
    "- Точный критерий Фишера на наших данных дает значения достигаемого уровня значимости в среднем меньшие, чем xи-квадрат с поправкой Йетса\n",
    "\n",
    "- Точный критерий Фишера на наших данных дает значения достигаемого уровня значимости в среднем меньшие, чем xи-квадрат без поправки"
   ]
  },
  {
   "cell_type": "markdown",
   "id": "medium-ghana",
   "metadata": {},
   "source": [
    "Ответ: (0.833 балов)\n",
    "\n"
   ]
  },
  {
   "cell_type": "markdown",
   "id": "considered-gathering",
   "metadata": {},
   "source": [
    "- Точный критерий Фишера на наших данных дает значения достигаемого уровня значимости в среднем значительно большие, чем xи-квадрат без поправки\n",
    "\n",
    "- Точный критерий Фишера на наших данных дает значения достигаемого уровня значимости в среднем меньшие, чем xи-квадрат с поправкой Йетса"
   ]
  },
  {
   "cell_type": "markdown",
   "id": "optional-monthly",
   "metadata": {},
   "source": [
    "Ответ: (1. балов)\n",
    "\n"
   ]
  },
  {
   "cell_type": "markdown",
   "id": "nutritional-fraction",
   "metadata": {},
   "source": [
    "- Точный критерий Фишера на наших данных дает значения достигаемого уровня значимости в среднем значительно большие, чем xи-квадрат без поправки\n",
    "\n",
    "- Точный критерий Фишера на наших данных дает значения достигаемого уровня значимости в среднем меньшие, чем xи-квадрат с поправкой Йетса\n",
    "\n",
    "- Точный критерий Фишера всегда лучше, чем критерий xи-квадрат, потому что не использует аппроксимацию дискретного распределения непрерывным. Однако при увеличении размера выборки его преимущества по сравнению с критерем xи-квадрат уменьшаются, в пределе достигая нуля."
   ]
  },
  {
   "cell_type": "markdown",
   "id": "considered-spotlight",
   "metadata": {},
   "source": [
    "# Task 5"
   ]
  },
  {
   "cell_type": "markdown",
   "id": "spread-proportion",
   "metadata": {},
   "source": [
    "Давайте попробуем применить полученные знания о разных видах корреляции и ее применимости на практике. \n",
    "\n",
    "Рассмотрим пару признаков day_calls и  mes_estim. Посчитайте корреляцию Пирсона между этими признаками на всех данных, ее значимость. \n",
    "\n",
    "Отметьте все верные утверждения. "
   ]
  },
  {
   "cell_type": "markdown",
   "id": "british-series",
   "metadata": {},
   "source": [
    "- Все варианты неверны, потому что значимость корреляции Пирсона можно оценивать только для нормального распределения, как и упоминалось в лекциях. \n",
    "\n",
    "- Корреляция Пирсона имеет отрицательный знак, и отличие корреляции от нуля на уровне доверия 0.05 не значимо. \n",
    "\n",
    "- Корреляция Пирсона имеет положительный знак, и отличие корреляции от нуля на уровне доверия 0.05 не значимо. \n",
    "\n",
    "- Корреляция Пирсона имеет отрицательный знак, и отличие корреляции от нуля на уровне доверия 0.05 значимо. \n",
    "\n",
    "- Корреляция Пирсона имеет положительный знак, и отличие корреляции от нуля на уровне доверия 0.05 значимо."
   ]
  },
  {
   "cell_type": "code",
   "execution_count": 28,
   "id": "visible-writer",
   "metadata": {},
   "outputs": [
    {
     "name": "stdout",
     "output_type": "stream",
     "text": [
      "Pearson correlation: -0.05179435058757264\n",
      "Pearson p-value: 0.0027798836869738384\n"
     ]
    }
   ],
   "source": [
    "print('Pearson correlation: {}'.format(sc.stats.pearsonr(data.day_calls, data.mes_estim)[0]))\n",
    "print('Pearson p-value: {}'.format(sc.stats.pearsonr(data.day_calls, data.mes_estim)[1]))"
   ]
  },
  {
   "cell_type": "markdown",
   "id": "gothic-flexibility",
   "metadata": {},
   "source": [
    "Ответ: (1 балов)\n",
    "\n",
    "- Корреляция Пирсона имеет отрицательный знак, и отличие корреляции от нуля на уровне доверия 0.05 значимо. "
   ]
  },
  {
   "cell_type": "markdown",
   "id": "going-pittsburgh",
   "metadata": {},
   "source": [
    "# Task 6"
   ]
  },
  {
   "cell_type": "markdown",
   "id": "comparable-zambia",
   "metadata": {},
   "source": [
    "Еще раз рассмотрим пару признаков day_calls и  mes_estim. Посчитайте корреляцию Спирмена между этими признаками на всех данных, ее значимость.\n",
    "\n",
    "Отметьте все верные утверждения. "
   ]
  },
  {
   "cell_type": "markdown",
   "id": "expanded-google",
   "metadata": {},
   "source": [
    "- Корреляция Спирмена имеет положительный знак, и отличие корреляции от нуля на уровне доверия 0.05 значимо.\n",
    "\n",
    "- Корреляция Спирмена имеет положительный знак, и отличие корреляции от нуля на уровне доверия 0.05 не значимо.\n",
    "\n",
    "- Корреляция Спирмена имеет отрицательный знак, и отличие корреляции от нуля на уровне доверия 0.05 не значимо.\n",
    "\n",
    "- Корреляция Спирмена тут неприменима, поскольку речь идет о непрерывных величинах, а корреляция Спирмена применяется к выборочным рангам  двух выборок. \n",
    "\n",
    "- Корреляция Спирмена имеет отрицательный знак, и отличие корреляции от нуля на уровне доверия 0.05 значимо."
   ]
  },
  {
   "cell_type": "code",
   "execution_count": 29,
   "id": "original-procedure",
   "metadata": {},
   "outputs": [
    {
     "name": "stdout",
     "output_type": "stream",
     "text": [
      "Spearman correlation: 0.043349880533927444\n",
      "Spearman p-value: 0.012317367189170541\n"
     ]
    }
   ],
   "source": [
    "print('Spearman correlation: {}'.format(sc.stats.spearmanr(data.day_calls, data.mes_estim)[0]))\n",
    "print('Spearman p-value: {}'.format(sc.stats.spearmanr(data.day_calls, data.mes_estim)[1]))"
   ]
  },
  {
   "cell_type": "markdown",
   "id": "stone-cross",
   "metadata": {},
   "source": [
    "Ответ: (0 балов)\n",
    "\n",
    "- Корреляция Спирмена имеет положительный знак, и отличие корреляции от нуля на уровне доверия 0.05 значимо."
   ]
  },
  {
   "cell_type": "markdown",
   "id": "generic-corpus",
   "metadata": {},
   "source": [
    "Ответ: (0 балов)\n",
    "\n",
    "- Корреляция Спирмена имеет положительный знак, и отличие корреляции от нуля на уровне доверия 0.05 NOT значимо."
   ]
  },
  {
   "cell_type": "markdown",
   "id": "surprising-johns",
   "metadata": {},
   "source": [
    "# Task 7"
   ]
  },
  {
   "cell_type": "markdown",
   "id": "revised-liberia",
   "metadata": {},
   "source": [
    "Как можно интерпретировать полученные значения коэффициентов корреляции и достигаемые уровни значимости при проверки гипотез о равенстве нулю этих коэффициентов?"
   ]
  },
  {
   "cell_type": "markdown",
   "id": "embedded-stationery",
   "metadata": {},
   "source": [
    "- Не стоит ориентироваться на значение корреляции Спирмена, потому что корреляцию Спирмена можно считать только тогда, когда оба признака дискретные и между значениями можно установить строгий порядок. \n",
    "\n",
    "- Предположение нормальности данных двух признаков не выполнено, что хорошо видно на ку-ку графике, поэтому корреляция Пирсона может быть полностью неадекватна.\n",
    "\n",
    "- Посчитанные корреляции и их значимости говорят лишь о том, что необходимо взглянуть на данные глазами и попытаться понять, что приводит к таким (противоречивым?) результатам.\n",
    "\n",
    "- Подсчет корреляций не имеет особого смысла, поскольку корреляция ничего не говорит о том, какая на самом деле зависимость имеется между признаками."
   ]
  },
  {
   "cell_type": "code",
   "execution_count": 45,
   "id": "apart-secretary",
   "metadata": {},
   "outputs": [
    {
     "data": {
      "image/png": "[encoded data removed]",
      "text/plain": [
       "<Figure size 1080x504 with 2 Axes>"
      ]
     },
     "metadata": {
      "needs_background": "light"
     },
     "output_type": "display_data"
    }
   ],
   "source": [
    "pylab.figure(figsize=(15,7))\n",
    "\n",
    "pylab.subplot(1,2,1)\n",
    "sc.stats.probplot(data.day_calls, dist=\"norm\", plot=pylab, rvalue=True)\n",
    "pylab.subplot(1,2,2)\n",
    "sc.stats.probplot(data.mes_estim, dist=\"norm\", plot=pylab, rvalue=True)\n",
    "\n",
    "pylab.show()"
   ]
  },
  {
   "cell_type": "code",
   "execution_count": 48,
   "id": "organized-thread",
   "metadata": {},
   "outputs": [
    {
     "data": {
      "image/png": "[encoded data removed]",
      "text/plain": [
       "<Figure size 720x720 with 1 Axes>"
      ]
     },
     "metadata": {
      "needs_background": "light"
     },
     "output_type": "display_data"
    }
   ],
   "source": [
    "pylab.figure(figsize=(10,10))\n",
    "\n",
    "pylab.scatter(data.day_calls, data.mes_estim)\n",
    "pylab.xlabel('day_calls')\n",
    "pylab.ylabel('mes_estim')\n",
    "\n",
    "pylab.show()"
   ]
  },
  {
   "cell_type": "markdown",
   "id": "aging-devon",
   "metadata": {},
   "source": [
    "Ответ: (1 балов)\n",
    "\n",
    "- Посчитанные корреляции и их значимости говорят лишь о том, что необходимо взглянуть на данные глазами и попытаться понять, что приводит к таким (противоречивым?) результатам."
   ]
  },
  {
   "cell_type": "markdown",
   "id": "primary-settlement",
   "metadata": {},
   "source": [
    "# Task 8"
   ]
  },
  {
   "cell_type": "markdown",
   "id": "noticed-mambo",
   "metadata": {},
   "source": [
    "Посчитайте значение коэффицента корреляции Крамера между двумя признаками:  штатом (state) и оттоком пользователей (churn) для всех пользователей, которые находились в контрольной группе (treatment=1).  Что можно сказать о достигаемом уровне значимости при проверке гипотезы о равенство нулю этого коэффициента?"
   ]
  },
  {
   "cell_type": "markdown",
   "id": "tested-chest",
   "metadata": {},
   "source": [
    "- Достигаемый уровень значимости < 0.05, то есть, отличие от нуля значения коэффицента Крамера значимо.  \n",
    "\n",
    "- Достигаемый уровень значимости > 0.05, то есть, отличие от нуля значения коэффицента Крамера незначимо.  \n",
    "\n",
    "- Для вычисления коэффициента Крамера используется значение статистики xи-квадрат, на которую мы не можем положиться применительно к нашим данным. \n",
    "\n",
    "- Коэффициент корреляции Крамера не может быть использован для сравнения связи этих двух признаков, потому что  он используется для таблиц сопряженности, где каждая из размерностей больше двух. Если хотя бы одна из размерностей равна 2, то нужно использовать коэффициент корреляции Мэтьюса. "
   ]
  },
  {
   "cell_type": "code",
   "execution_count": 50,
   "id": "refined-metallic",
   "metadata": {},
   "outputs": [],
   "source": [
    "def cramers_stat(confusion_matrix):\n",
    "    chi2 = stats.chi2_contingency(confusion_matrix)[0]\n",
    "    n = confusion_matrix.sum()\n",
    "    return np.sqrt(chi2 / (n*(min(confusion_matrix.shape)-1)))"
   ]
  },
  {
   "cell_type": "code",
   "execution_count": 102,
   "id": "harmful-album",
   "metadata": {},
   "outputs": [
    {
     "name": "stdout",
     "output_type": "stream",
     "text": [
      "V Cramer stat value: 0.2004\n"
     ]
    }
   ],
   "source": [
    "print('V Cramer stat value: %.4f' % cramers_stat(data_states.to_numpy()))"
   ]
  },
  {
   "cell_type": "code",
   "execution_count": 107,
   "id": "thermal-exchange",
   "metadata": {},
   "outputs": [
    {
     "name": "stdout",
     "output_type": "stream",
     "text": [
      "p-value: 0.7098\n"
     ]
    }
   ],
   "source": [
    "print('p-value: %.4f' % stats.chi2_contingency(data_states.values)[1])"
   ]
  },
  {
   "cell_type": "markdown",
   "id": "overall-dragon",
   "metadata": {},
   "source": [
    "Ответ: (0 балов)\n",
    "\n",
    "- Достигаемый уровень значимости > 0.05, то есть, отличие от нуля значения коэффицента Крамера незначимо. "
   ]
  },
  {
   "cell_type": "markdown",
   "id": "unlimited-midnight",
   "metadata": {},
   "source": [
    "Ответ: (1 балов)\n",
    "\n",
    "- Для вычисления коэффициента Крамера используется значение статистики xи-квадрат, на которую мы не можем положиться применительно к нашим данным. "
   ]
  },
  {
   "cell_type": "markdown",
   "id": "polished-chosen",
   "metadata": {},
   "source": [
    "# Task 9"
   ]
  },
  {
   "cell_type": "markdown",
   "id": "moving-cologne",
   "metadata": {},
   "source": [
    "Вы прослушали большой курс и к текущему моменту обладете достаточными знаниями, чтобы попытаться самостоятельно выбрать нужный метод / инструмент / статистический критерий и сделать правильное заключение. \n",
    "\n",
    "В этой части задания вам нужно будет самостоятельно решить, с помощью каких методов можно провести анализ эффективности удержания (churn) с помощью раличных методов (treatment = 0, treatment = 2) относительно контрольной группы пользователей (treatment = 1). \n",
    "\n",
    "Что можно сказать об этих двух методах (treatment = 0, treatment = 2)? Одинаковы ли они с точки зрения эффективности? Каким бы методом вы бы посоветовали воспользоваться компании?\n",
    "\n",
    "Не забудьте про поправку на множественную проверку!  И не пользуйтесь односторонними альтернативами, поскольку вы не знаете, к каким действительно последствиям приводят тестируемые методы  (treatment = 0, treatment = 2) !"
   ]
  },
  {
   "cell_type": "markdown",
   "id": "vocal-balance",
   "metadata": {},
   "source": [
    "- Ни один из методов не показал значительного улучшения относительно других, о чем говорит групповой статистический критерий. \n",
    "\n",
    "- treatment = 0 статистически значимо отличается от контрольной  группы treatment = 1\n",
    "\n",
    "- treatment = 2 статистически значимо отличается от контрольной  группы treatment = 1\n",
    "\n",
    "- В дальнейшем телеком компании рекомендуется использовать  и treatment = 0, и treatment = 2 для наибольшей эффективности удержения абонентов. \n",
    "\n",
    "- Отличие  между  treatment = 0 и treatment = 2 относительно влияния на уровень churn статистически незначимо. "
   ]
  },
  {
   "cell_type": "code",
   "execution_count": 175,
   "id": "widespread-replica",
   "metadata": {},
   "outputs": [
    {
     "data": {
      "text/html": [
       "<div>\n",
       "<style scoped>\n",
       "    .dataframe tbody tr th:only-of-type {\n",
       "        vertical-align: middle;\n",
       "    }\n",
       "\n",
       "    .dataframe tbody tr th {\n",
       "        vertical-align: top;\n",
       "    }\n",
       "\n",
       "    .dataframe thead tr th {\n",
       "        text-align: left;\n",
       "    }\n",
       "\n",
       "    .dataframe thead tr:last-of-type th {\n",
       "        text-align: right;\n",
       "    }\n",
       "</style>\n",
       "<table border=\"1\" class=\"dataframe\">\n",
       "  <thead>\n",
       "    <tr>\n",
       "      <th>treatment</th>\n",
       "      <th colspan=\"2\" halign=\"left\">0</th>\n",
       "      <th colspan=\"2\" halign=\"left\">1</th>\n",
       "      <th colspan=\"2\" halign=\"left\">2</th>\n",
       "    </tr>\n",
       "    <tr>\n",
       "      <th>churn</th>\n",
       "      <th>False.</th>\n",
       "      <th>True.</th>\n",
       "      <th>False.</th>\n",
       "      <th>True.</th>\n",
       "      <th>False.</th>\n",
       "      <th>True.</th>\n",
       "    </tr>\n",
       "    <tr>\n",
       "      <th>state</th>\n",
       "      <th></th>\n",
       "      <th></th>\n",
       "      <th></th>\n",
       "      <th></th>\n",
       "      <th></th>\n",
       "      <th></th>\n",
       "    </tr>\n",
       "  </thead>\n",
       "  <tbody>\n",
       "    <tr>\n",
       "      <th>AK</th>\n",
       "      <td>15</td>\n",
       "      <td>2</td>\n",
       "      <td>19</td>\n",
       "      <td>1</td>\n",
       "      <td>15</td>\n",
       "      <td>0</td>\n",
       "    </tr>\n",
       "    <tr>\n",
       "      <th>AL</th>\n",
       "      <td>22</td>\n",
       "      <td>1</td>\n",
       "      <td>25</td>\n",
       "      <td>5</td>\n",
       "      <td>25</td>\n",
       "      <td>2</td>\n",
       "    </tr>\n",
       "    <tr>\n",
       "      <th>AR</th>\n",
       "      <td>14</td>\n",
       "      <td>3</td>\n",
       "      <td>11</td>\n",
       "      <td>5</td>\n",
       "      <td>19</td>\n",
       "      <td>3</td>\n",
       "    </tr>\n",
       "    <tr>\n",
       "      <th>AZ</th>\n",
       "      <td>26</td>\n",
       "      <td>0</td>\n",
       "      <td>17</td>\n",
       "      <td>2</td>\n",
       "      <td>17</td>\n",
       "      <td>2</td>\n",
       "    </tr>\n",
       "    <tr>\n",
       "      <th>CA</th>\n",
       "      <td>10</td>\n",
       "      <td>3</td>\n",
       "      <td>10</td>\n",
       "      <td>5</td>\n",
       "      <td>5</td>\n",
       "      <td>1</td>\n",
       "    </tr>\n",
       "  </tbody>\n",
       "</table>\n",
       "</div>"
      ],
      "text/plain": [
       "treatment      0            1            2      \n",
       "churn     False. True. False. True. False. True.\n",
       "state                                           \n",
       "AK            15     2     19     1     15     0\n",
       "AL            22     1     25     5     25     2\n",
       "AR            14     3     11     5     19     3\n",
       "AZ            26     0     17     2     17     2\n",
       "CA            10     3     10     5      5     1"
      ]
     },
     "execution_count": 175,
     "metadata": {},
     "output_type": "execute_result"
    }
   ],
   "source": [
    "pivot_table = pd.pivot_table(data, columns=['treatment','churn'], index='state', values='account_length', fill_value=0, aggfunc=len)\n",
    "pivot_table.head()"
   ]
  },
  {
   "cell_type": "code",
   "execution_count": 65,
   "id": "knowing-lemon",
   "metadata": {},
   "outputs": [
    {
     "name": "stdout",
     "output_type": "stream",
     "text": [
      "Treatment #0 prop. of churn = 1: 0.1456\n",
      "Treatment #1 prop. of churn = 1: 0.1641\n",
      "Treatment #2 prop. of churn = 1: 0.1251\n"
     ]
    }
   ],
   "source": [
    "#proportions of churn = 1 for each treatment\n",
    "props_churn = np.array([pivot_table.loc[:, treat].loc[:, \"True.\"].sum() / \n",
    "                        (pivot_table.loc[:, treat].loc[:, \"False.\"].sum() + \n",
    "                         pivot_table.loc[:, treat].loc[:, \"True.\"].sum())\n",
    "                        for treat in range(3)])\n",
    "\n",
    "for i, prop in enumerate(props_churn): print('Treatment #%d prop. of churn = 1: %.4f' % (i, prop))"
   ]
  },
  {
   "cell_type": "code",
   "execution_count": 203,
   "id": "coordinate-witness",
   "metadata": {},
   "outputs": [
    {
     "data": {
      "text/html": [
       "<div>\n",
       "<style scoped>\n",
       "    .dataframe tbody tr th:only-of-type {\n",
       "        vertical-align: middle;\n",
       "    }\n",
       "\n",
       "    .dataframe tbody tr th {\n",
       "        vertical-align: top;\n",
       "    }\n",
       "\n",
       "    .dataframe thead th {\n",
       "        text-align: right;\n",
       "    }\n",
       "</style>\n",
       "<table border=\"1\" class=\"dataframe\">\n",
       "  <thead>\n",
       "    <tr style=\"text-align: right;\">\n",
       "      <th>treatment</th>\n",
       "      <th>0</th>\n",
       "      <th>1</th>\n",
       "      <th>2</th>\n",
       "    </tr>\n",
       "    <tr>\n",
       "      <th>state</th>\n",
       "      <th></th>\n",
       "      <th></th>\n",
       "      <th></th>\n",
       "    </tr>\n",
       "  </thead>\n",
       "  <tbody>\n",
       "    <tr>\n",
       "      <th>AK</th>\n",
       "      <td>17</td>\n",
       "      <td>20</td>\n",
       "      <td>15</td>\n",
       "    </tr>\n",
       "    <tr>\n",
       "      <th>AL</th>\n",
       "      <td>23</td>\n",
       "      <td>30</td>\n",
       "      <td>27</td>\n",
       "    </tr>\n",
       "    <tr>\n",
       "      <th>AR</th>\n",
       "      <td>17</td>\n",
       "      <td>16</td>\n",
       "      <td>22</td>\n",
       "    </tr>\n",
       "    <tr>\n",
       "      <th>AZ</th>\n",
       "      <td>26</td>\n",
       "      <td>19</td>\n",
       "      <td>19</td>\n",
       "    </tr>\n",
       "    <tr>\n",
       "      <th>CA</th>\n",
       "      <td>13</td>\n",
       "      <td>15</td>\n",
       "      <td>6</td>\n",
       "    </tr>\n",
       "  </tbody>\n",
       "</table>\n",
       "</div>"
      ],
      "text/plain": [
       "treatment   0   1   2\n",
       "state                \n",
       "AK         17  20  15\n",
       "AL         23  30  27\n",
       "AR         17  16  22\n",
       "AZ         26  19  19\n",
       "CA         13  15   6"
      ]
     },
     "execution_count": 203,
     "metadata": {},
     "output_type": "execute_result"
    }
   ],
   "source": [
    "pivot_table_all_churn = pd.pivot_table(data, columns=['treatment'], index='state', values='churn', fill_value=0, aggfunc=len)\n",
    "pivot_table_all_churn.head()"
   ]
  },
  {
   "cell_type": "code",
   "execution_count": 199,
   "id": "outer-croatia",
   "metadata": {},
   "outputs": [
    {
     "data": {
      "text/html": [
       "<div>\n",
       "<style scoped>\n",
       "    .dataframe tbody tr th:only-of-type {\n",
       "        vertical-align: middle;\n",
       "    }\n",
       "\n",
       "    .dataframe tbody tr th {\n",
       "        vertical-align: top;\n",
       "    }\n",
       "\n",
       "    .dataframe thead th {\n",
       "        text-align: right;\n",
       "    }\n",
       "</style>\n",
       "<table border=\"1\" class=\"dataframe\">\n",
       "  <thead>\n",
       "    <tr style=\"text-align: right;\">\n",
       "      <th>treatment</th>\n",
       "      <th>0</th>\n",
       "      <th>1</th>\n",
       "      <th>2</th>\n",
       "    </tr>\n",
       "    <tr>\n",
       "      <th>state</th>\n",
       "      <th></th>\n",
       "      <th></th>\n",
       "      <th></th>\n",
       "    </tr>\n",
       "  </thead>\n",
       "  <tbody>\n",
       "    <tr>\n",
       "      <th>AK</th>\n",
       "      <td>2</td>\n",
       "      <td>1</td>\n",
       "      <td>0</td>\n",
       "    </tr>\n",
       "    <tr>\n",
       "      <th>AL</th>\n",
       "      <td>1</td>\n",
       "      <td>5</td>\n",
       "      <td>2</td>\n",
       "    </tr>\n",
       "    <tr>\n",
       "      <th>AR</th>\n",
       "      <td>3</td>\n",
       "      <td>5</td>\n",
       "      <td>3</td>\n",
       "    </tr>\n",
       "    <tr>\n",
       "      <th>AZ</th>\n",
       "      <td>0</td>\n",
       "      <td>2</td>\n",
       "      <td>2</td>\n",
       "    </tr>\n",
       "    <tr>\n",
       "      <th>CA</th>\n",
       "      <td>3</td>\n",
       "      <td>5</td>\n",
       "      <td>1</td>\n",
       "    </tr>\n",
       "  </tbody>\n",
       "</table>\n",
       "</div>"
      ],
      "text/plain": [
       "treatment  0  1  2\n",
       "state             \n",
       "AK         2  1  0\n",
       "AL         1  5  2\n",
       "AR         3  5  3\n",
       "AZ         0  2  2\n",
       "CA         3  5  1"
      ]
     },
     "execution_count": 199,
     "metadata": {},
     "output_type": "execute_result"
    }
   ],
   "source": [
    "pivot_table_new = pd.pivot_table(data[data['churn'] == \"True.\"], columns=['treatment'], index='state', values='churn', fill_value=0, aggfunc=len)\n",
    "pivot_table_new.head()"
   ]
  },
  {
   "cell_type": "code",
   "execution_count": 206,
   "id": "virgin-bosnia",
   "metadata": {},
   "outputs": [
    {
     "name": "stdout",
     "output_type": "stream",
     "text": [
      "CPU times: user 7.61 ms, sys: 351 µs, total: 7.96 ms\n",
      "Wall time: 5.56 ms\n"
     ]
    }
   ],
   "source": [
    "%%time\n",
    "#Mann - Whitney test\n",
    "mann_whitney_data = []\n",
    "\n",
    "for i, treat_1 in enumerate(pivot_table_new.columns):\n",
    "    for j, treat_2 in enumerate(pivot_table_new.columns):\n",
    "        if i >= j:\n",
    "            continue\n",
    "        \n",
    "        statistic, pvalue = sc.stats.mannwhitneyu(pivot_table_new.loc[:,treat_1], pivot_table_new.loc[:,treat_2])\n",
    "        mann_whitney_data.append([treat_1, treat_2, statistic, pvalue])"
   ]
  },
  {
   "cell_type": "code",
   "execution_count": 207,
   "id": "continental-firmware",
   "metadata": {},
   "outputs": [
    {
     "data": {
      "text/html": [
       "<div>\n",
       "<style scoped>\n",
       "    .dataframe tbody tr th:only-of-type {\n",
       "        vertical-align: middle;\n",
       "    }\n",
       "\n",
       "    .dataframe tbody tr th {\n",
       "        vertical-align: top;\n",
       "    }\n",
       "\n",
       "    .dataframe thead th {\n",
       "        text-align: right;\n",
       "    }\n",
       "</style>\n",
       "<table border=\"1\" class=\"dataframe\">\n",
       "  <thead>\n",
       "    <tr style=\"text-align: right;\">\n",
       "      <th></th>\n",
       "      <th>Treat_A</th>\n",
       "      <th>Treat_B</th>\n",
       "      <th>M-W stat</th>\n",
       "      <th>p_value</th>\n",
       "    </tr>\n",
       "  </thead>\n",
       "  <tbody>\n",
       "    <tr>\n",
       "      <th>0</th>\n",
       "      <td>0</td>\n",
       "      <td>1</td>\n",
       "      <td>1158.5</td>\n",
       "      <td>0.168650</td>\n",
       "    </tr>\n",
       "    <tr>\n",
       "      <th>1</th>\n",
       "      <td>0</td>\n",
       "      <td>2</td>\n",
       "      <td>1097.5</td>\n",
       "      <td>0.084288</td>\n",
       "    </tr>\n",
       "    <tr>\n",
       "      <th>2</th>\n",
       "      <td>1</td>\n",
       "      <td>2</td>\n",
       "      <td>966.5</td>\n",
       "      <td>0.011802</td>\n",
       "    </tr>\n",
       "  </tbody>\n",
       "</table>\n",
       "</div>"
      ],
      "text/plain": [
       "   Treat_A  Treat_B  M-W stat   p_value\n",
       "0        0        1    1158.5  0.168650\n",
       "1        0        2    1097.5  0.084288\n",
       "2        1        2     966.5  0.011802"
      ]
     },
     "execution_count": 207,
     "metadata": {},
     "output_type": "execute_result"
    }
   ],
   "source": [
    "mann_whitney_table = pd.DataFrame.from_records(mann_whitney_data)\n",
    "mann_whitney_table.columns = ['Treat_A', 'Treat_B', 'M-W stat', 'p_value']\n",
    "mann_whitney_table.head()"
   ]
  },
  {
   "cell_type": "code",
   "execution_count": 202,
   "id": "legendary-roulette",
   "metadata": {},
   "outputs": [
    {
     "data": {
      "text/plain": [
       "array([0.16865016, 0.12643245, 0.03540507])"
      ]
     },
     "execution_count": 202,
     "metadata": {},
     "output_type": "execute_result"
    }
   ],
   "source": [
    "_, p_corrected, _, _ = multipletests(mann_whitney_table.iloc[:,3], alpha = 0.05, method = 'fdr_bh') \n",
    "p_corrected"
   ]
  },
  {
   "cell_type": "markdown",
   "id": "wired-victoria",
   "metadata": {},
   "source": [
    "Ответ: (1 балов)\n",
    "\n",
    "- treatment = 2 статистически значимо отличается от контрольной  группы treatment = 1\n",
    "- Отличие между treatment = 0 и treatment = 2 относительно влияния на уровень churn статистически незначимо. "
   ]
  }
 ],
 "metadata": {
  "kernelspec": {
   "display_name": "coursera",
   "language": "python",
   "name": "coursera"
  },
  "language_info": {
   "codemirror_mode": {
    "name": "ipython",
    "version": 3
   },
   "file_extension": ".py",
   "mimetype": "text/x-python",
   "name": "python",
   "nbconvert_exporter": "python",
   "pygments_lexer": "ipython3",
   "version": "3.9.1"
  }
 },
 "nbformat": 4,
 "nbformat_minor": 5
}
