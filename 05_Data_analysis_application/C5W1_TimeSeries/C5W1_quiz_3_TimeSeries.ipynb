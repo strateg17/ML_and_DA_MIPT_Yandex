{
 "cells": [
  {
   "cell_type": "code",
   "execution_count": 2,
   "id": "internal-tumor",
   "metadata": {},
   "outputs": [
    {
     "name": "stdout",
     "output_type": "stream",
     "text": [
      "1.2.1\n",
      "1.19.2\n"
     ]
    }
   ],
   "source": [
    "import pandas as pd\n",
    "import numpy as np\n",
    "\n",
    "print(pd.__version__)\n",
    "print(np.__version__)"
   ]
  },
  {
   "cell_type": "markdown",
   "id": "composed-environment",
   "metadata": {},
   "source": [
    "# Task 1"
   ]
  },
  {
   "cell_type": "markdown",
   "id": "conservative-procurement",
   "metadata": {},
   "source": [
    "Какие компоненты обычно выделяют во временных рядах?"
   ]
  },
  {
   "cell_type": "markdown",
   "id": "further-spine",
   "metadata": {},
   "source": [
    "Ответ (1 балов):\n",
    "\n",
    "- Цикл\n",
    "\n",
    "- Сезонность\n",
    "\n",
    "- Тренд\n",
    "\n",
    "- Ошибка"
   ]
  },
  {
   "cell_type": "markdown",
   "id": "lightweight-vatican",
   "metadata": {},
   "source": [
    "# Task 2"
   ]
  },
  {
   "cell_type": "markdown",
   "id": "handy-confidentiality",
   "metadata": {},
   "source": [
    "Какие особенности характерны для временных рядов?"
   ]
  },
  {
   "cell_type": "markdown",
   "id": "rubber-execution",
   "metadata": {},
   "source": [
    "Ответ (0 балов):\n",
    "\n",
    "- Временной ряд — это набор пар (t,yt)(t, y_t)(t,yt​), где ttt — произвольные моменты времени, а yty_tyt​ — значения признака yyy в эти моменты\n",
    "\n",
    "\n",
    "- Временные ряды, как правило, автокоррелированы, то есть, их значения в каждый момент времени в каком-то смысле похожи на значения в недавнем прошлом."
   ]
  },
  {
   "cell_type": "markdown",
   "id": "veterinary-workstation",
   "metadata": {},
   "source": [
    "Ответ (0 балов):\n",
    "\n",
    "- Значение признака, измерения которого составляют ряд, могут колебаться, но их распределение во времени не меняется\n",
    "\n",
    "- Временные ряды, как правило, автокоррелированы, то есть, их значения в каждый момент времени в каком-то смысле похожи на значения в недавнем прошлом."
   ]
  },
  {
   "cell_type": "markdown",
   "id": "answering-hungary",
   "metadata": {},
   "source": [
    "Ответ (0 балов):\n",
    "\n",
    "- Значение признака, измерения которого составляют ряд, могут колебаться, но их распределение во времени не меняется"
   ]
  },
  {
   "cell_type": "markdown",
   "id": "forced-finger",
   "metadata": {},
   "source": [
    "# Task 3"
   ]
  },
  {
   "cell_type": "markdown",
   "id": "certified-information",
   "metadata": {},
   "source": [
    "Из каких слагаемых состоит модель ARMA(p,q)?"
   ]
  },
  {
   "cell_type": "markdown",
   "id": "unavailable-pilot",
   "metadata": {},
   "source": [
    "Ответ (1 балов):\n",
    "\n",
    "- $p$ предыдущих значений ряда с постоянными коэффициентами\n",
    "\n",
    "- Ошибка $ε_t$\n",
    "\n",
    "- Константа $α$"
   ]
  },
  {
   "cell_type": "markdown",
   "id": "favorite-psychiatry",
   "metadata": {},
   "source": [
    "# Task 4"
   ]
  },
  {
   "cell_type": "markdown",
   "id": "successful-trash",
   "metadata": {},
   "source": [
    "Какие из параметров модели SARIMA настраиваются с помощью метода наименьших квадратов?"
   ]
  },
  {
   "cell_type": "markdown",
   "id": "pregnant-cedar",
   "metadata": {},
   "source": [
    "Ответ (1 балов):\n",
    "\n",
    "- Значения коэффициентов $\\phi$ и $\\theta$ перед предыдущими значениями ряда и предыдущими значениями ошибки\n",
    "\n",
    "- Значение константы $α$"
   ]
  },
  {
   "cell_type": "markdown",
   "id": "animated-thanks",
   "metadata": {},
   "source": [
    "# Task 5"
   ]
  },
  {
   "cell_type": "markdown",
   "id": "moderate-overall",
   "metadata": {},
   "source": [
    "Какой эвристический метод позволяет выбрать начальное приближение для гиперпараметров p и P в сезонной модели ARIMA? "
   ]
  },
  {
   "cell_type": "markdown",
   "id": "different-conjunction",
   "metadata": {},
   "source": [
    "Ответ (1 балов):\n",
    "\n",
    "- Анализ частичной автокорреляционной функции"
   ]
  },
  {
   "cell_type": "markdown",
   "id": "black-flesh",
   "metadata": {},
   "source": [
    "# Task 6"
   ]
  },
  {
   "cell_type": "markdown",
   "id": "organizational-lindsay",
   "metadata": {},
   "source": [
    "В приложенном файле — данные по ежемесячному уровню производства молока в фунтах на одну корову:"
   ]
  },
  {
   "cell_type": "markdown",
   "id": "enclosed-polymer",
   "metadata": {},
   "source": [
    "Загрузите ряд, создайте новый ряд значений среднего дневного уровня производства молока в фунтах на одну корову, поделив на число дней в месяце (вычисляется с помощью функции monthrange из пакета calendar). Постройте график полученного ряда; какой из приведённых ниже графиков у вас получился?"
   ]
  },
  {
   "cell_type": "code",
   "execution_count": 3,
   "id": "thrown-bridal",
   "metadata": {},
   "outputs": [],
   "source": [
    "milk = pd.read_csv('monthly-milk-production.csv',';', index_col=['month'], parse_dates=['month'], dayfirst=True)"
   ]
  },
  {
   "cell_type": "code",
   "execution_count": 4,
   "id": "characteristic-marijuana",
   "metadata": {},
   "outputs": [],
   "source": [
    "milk['milk_daily'] = milk.milk.values.flatten() / milk.index.days_in_month"
   ]
  },
  {
   "cell_type": "code",
   "execution_count": 5,
   "id": "portable-blade",
   "metadata": {},
   "outputs": [
    {
     "data": {
      "text/plain": [
       "<AxesSubplot:xlabel='month'>"
      ]
     },
     "execution_count": 5,
     "metadata": {},
     "output_type": "execute_result"
    },
    {
     "data": {
      "image/png": "[encoded data removed]",
      "text/plain": [
       "<Figure size 432x288 with 1 Axes>"
      ]
     },
     "metadata": {
      "needs_background": "light"
     },
     "output_type": "display_data"
    }
   ],
   "source": [
    "milk.milk_daily.plot()"
   ]
  },
  {
   "cell_type": "markdown",
   "id": "opponent-edwards",
   "metadata": {},
   "source": [
    "# Task 7"
   ]
  },
  {
   "cell_type": "markdown",
   "id": "champion-pilot",
   "metadata": {},
   "source": [
    "Для ряда со средним дневным количеством молока на корову из предыдущего вопроса давайте с помощью критерия Дики-Фуллера подберём порядок дифференцирования, при котором ряд становится стационарным. "
   ]
  },
  {
   "cell_type": "markdown",
   "id": "blocked-marble",
   "metadata": {},
   "source": [
    "Дифференцирование можно делать так:"
   ]
  },
  {
   "cell_type": "code",
   "execution_count": 12,
   "id": "irish-alexandria",
   "metadata": {},
   "outputs": [],
   "source": [
    "milk['milk_daily_diff1'] = milk.milk_daily - milk.milk_daily.shift(1)"
   ]
  },
  {
   "cell_type": "markdown",
   "id": "naval-happening",
   "metadata": {},
   "source": [
    "Чтобы сделать сезонное дифференцирование, нужно изменить значение параметра у функции shift:"
   ]
  },
  {
   "cell_type": "code",
   "execution_count": 13,
   "id": "advisory-photographer",
   "metadata": {},
   "outputs": [],
   "source": [
    "milk['milk_daily_diff12'] = milk.milk_daily - milk.milk_daily.shift(12)"
   ]
  },
  {
   "cell_type": "markdown",
   "id": "portuguese-verse",
   "metadata": {},
   "source": [
    "При дифференцировании длина ряда сокращается, поэтому в части строк в новой колонке значения будут не определены (NaN). Подавая полученные столбцы на вход критерию Дики-Фуллера, отрезайте неопределённые значения, иначе вы получите неопределённый достигаемый уровень значимости. \n",
    "\n",
    "Итак, какое дифференцирование делает ряд стационарным?"
   ]
  },
  {
   "cell_type": "code",
   "execution_count": 6,
   "id": "signal-sunset",
   "metadata": {},
   "outputs": [],
   "source": [
    "import statsmodels.api as sm"
   ]
  },
  {
   "cell_type": "code",
   "execution_count": 15,
   "id": "wound-johns",
   "metadata": {},
   "outputs": [],
   "source": [
    "Dickey_Fuller_test1 = sm.tsa.stattools.adfuller(milk['milk'])\n",
    "Dickey_Fuller_test2 = sm.tsa.stattools.adfuller(milk['milk_daily_diff1'].dropna())\n",
    "Dickey_Fuller_test3 = sm.tsa.stattools.adfuller(milk['milk_daily_diff12'].dropna())"
   ]
  },
  {
   "cell_type": "code",
   "execution_count": 18,
   "id": "metallic-enzyme",
   "metadata": {},
   "outputs": [
    {
     "name": "stdout",
     "output_type": "stream",
     "text": [
      "Dickey-Fuller test on stationary for original series p = 0.6274267086030337\n",
      "Dickey-Fuller test on stationary for 1 diff series p = 0.06430054654174037\n",
      "Dickey-Fuller test on stationary for 12 diff series p = 0.22127672658830383\n"
     ]
    }
   ],
   "source": [
    "print(f'Dickey-Fuller test on stationary for original series p = {Dickey_Fuller_test1[1]}')\n",
    "print(f'Dickey-Fuller test on stationary for 1 diff series p = {Dickey_Fuller_test2[1]}')\n",
    "print(f'Dickey-Fuller test on stationary for 12 diff series p = {Dickey_Fuller_test3[1]}')"
   ]
  },
  {
   "cell_type": "code",
   "execution_count": 19,
   "id": "international-racing",
   "metadata": {},
   "outputs": [],
   "source": [
    "milk['milk_daily_diff12and1'] = milk.milk_daily - milk.milk_daily.shift(12)"
   ]
  },
  {
   "cell_type": "code",
   "execution_count": 20,
   "id": "innovative-niger",
   "metadata": {},
   "outputs": [],
   "source": [
    "milk['milk_daily_diff12and1'] = milk.milk_daily_diff12and1 - milk.milk_daily_diff12and1.shift(1)"
   ]
  },
  {
   "cell_type": "code",
   "execution_count": 24,
   "id": "decimal-restaurant",
   "metadata": {},
   "outputs": [],
   "source": [
    "Dickey_Fuller_test4 = sm.tsa.stattools.adfuller(milk['milk_daily_diff12and1'].dropna())"
   ]
  },
  {
   "cell_type": "code",
   "execution_count": 25,
   "id": "moderate-title",
   "metadata": {},
   "outputs": [
    {
     "name": "stdout",
     "output_type": "stream",
     "text": [
      "Dickey-Fuller test on stationary for 12 diff series p = 2.2808455518037347e-06\n"
     ]
    }
   ],
   "source": [
    "print(f'Dickey-Fuller test on stationary for 12 diff series p = {Dickey_Fuller_test4[1]}')"
   ]
  },
  {
   "cell_type": "code",
   "execution_count": 26,
   "id": "scheduled-planning",
   "metadata": {},
   "outputs": [
    {
     "data": {
      "text/plain": [
       "<AxesSubplot:xlabel='month'>"
      ]
     },
     "execution_count": 26,
     "metadata": {},
     "output_type": "execute_result"
    },
    {
     "data": {
      "image/png": "[encoded data removed]",
      "text/plain": [
       "<Figure size 432x288 with 1 Axes>"
      ]
     },
     "metadata": {
      "needs_background": "light"
     },
     "output_type": "display_data"
    }
   ],
   "source": [
    "milk.milk_daily_diff12and1.plot()"
   ]
  },
  {
   "cell_type": "markdown",
   "id": "falling-privilege",
   "metadata": {},
   "source": [
    "Ответ (1 балов):\n",
    "\n",
    "- "
   ]
  },
  {
   "cell_type": "markdown",
   "id": "identical-republican",
   "metadata": {},
   "source": [
    "# Task 8"
   ]
  },
  {
   "cell_type": "markdown",
   "id": "handy-safety",
   "metadata": {},
   "source": [
    "Для стационарного ряда из предыдущего вопроса (продифференцированного столько раз, сколько вы посчитали нужным) постройте график автокорреляционной функции. Это можно cделать так:"
   ]
  },
  {
   "cell_type": "code",
   "execution_count": 27,
   "id": "moved-palace",
   "metadata": {},
   "outputs": [],
   "source": [
    "#import statsmodels.api as sm\n",
    "# sm.graphics.tsa.plot_acf(ряд.values.squeeze(), lags=50)"
   ]
  },
  {
   "cell_type": "markdown",
   "id": "broadband-manor",
   "metadata": {},
   "source": [
    "Исходя из этого графика, какое начальное приближение вы предложили бы для параметра $Q$ в модели SARIMA?"
   ]
  },
  {
   "cell_type": "code",
   "execution_count": 28,
   "id": "painted-nursery",
   "metadata": {},
   "outputs": [],
   "source": [
    "import statsmodels.api as sm"
   ]
  },
  {
   "cell_type": "code",
   "execution_count": 46,
   "id": "cosmetic-actor",
   "metadata": {},
   "outputs": [
    {
     "data": {
      "image/png": "[encoded data removed]",
      "text/plain": [
       "<Figure size 432x288 with 1 Axes>"
      ]
     },
     "execution_count": 46,
     "metadata": {},
     "output_type": "execute_result"
    },
    {
     "data": {
      "image/png": "[encoded data removed]",
      "text/plain": [
       "<Figure size 432x288 with 1 Axes>"
      ]
     },
     "metadata": {
      "needs_background": "light"
     },
     "output_type": "display_data"
    }
   ],
   "source": [
    "sm.graphics.tsa.plot_acf(milk['milk_daily_diff12and1'].dropna(), lags=20)"
   ]
  },
  {
   "cell_type": "markdown",
   "id": "mysterious-commander",
   "metadata": {},
   "source": [
    "Ответ (1 балов):\n",
    "\n",
    "- $Q=1$"
   ]
  },
  {
   "cell_type": "markdown",
   "id": "innocent-focus",
   "metadata": {},
   "source": [
    "# Task 9"
   ]
  },
  {
   "cell_type": "markdown",
   "id": "statutory-foundation",
   "metadata": {},
   "source": [
    "Для того же ряда, что и в предыдущем вопросе, постройте график частичной автокорреляционной функции. Это можно сделать так:"
   ]
  },
  {
   "cell_type": "code",
   "execution_count": 35,
   "id": "worst-architecture",
   "metadata": {},
   "outputs": [],
   "source": [
    "# import statsmodels.api as sm\n",
    "# sm.graphics.tsa.plot_pacf(ряд.values.squeeze(), lags=50)"
   ]
  },
  {
   "cell_type": "markdown",
   "id": "painted-correction",
   "metadata": {},
   "source": [
    "Исходя из этого графика, какое начальное приближение вы предложили бы для параметра $p$ в модели SARIMA?"
   ]
  },
  {
   "cell_type": "code",
   "execution_count": 37,
   "id": "dried-factor",
   "metadata": {},
   "outputs": [
    {
     "data": {
      "image/png": "[encoded data removed]",
      "text/plain": [
       "<Figure size 432x288 with 1 Axes>"
      ]
     },
     "execution_count": 37,
     "metadata": {},
     "output_type": "execute_result"
    },
    {
     "data": {
      "image/png": "[encoded data removed]",
      "text/plain": [
       "<Figure size 432x288 with 1 Axes>"
      ]
     },
     "metadata": {
      "needs_background": "light"
     },
     "output_type": "display_data"
    }
   ],
   "source": [
    "sm.graphics.tsa.plot_pacf(milk['milk_daily_diff12and1'].dropna())"
   ]
  },
  {
   "cell_type": "markdown",
   "id": "serious-cooperative",
   "metadata": {},
   "source": [
    "Ответ (1 балов):\n",
    "\n",
    "- $p=0$"
   ]
  }
 ],
 "metadata": {
  "kernelspec": {
   "display_name": "coursera",
   "language": "python",
   "name": "coursera"
  },
  "language_info": {
   "codemirror_mode": {
    "name": "ipython",
    "version": 3
   },
   "file_extension": ".py",
   "mimetype": "text/x-python",
   "name": "python",
   "nbconvert_exporter": "python",
   "pygments_lexer": "ipython3",
   "version": "3.9.1"
  }
 },
 "nbformat": 4,
 "nbformat_minor": 5
}
