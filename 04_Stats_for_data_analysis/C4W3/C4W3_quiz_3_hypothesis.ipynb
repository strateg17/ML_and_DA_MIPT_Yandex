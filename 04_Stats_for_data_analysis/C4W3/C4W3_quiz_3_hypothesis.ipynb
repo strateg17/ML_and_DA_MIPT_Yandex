{
 "cells": [
  {
   "cell_type": "code",
   "execution_count": 41,
   "id": "bulgarian-drinking",
   "metadata": {},
   "outputs": [
    {
     "name": "stdout",
     "output_type": "stream",
     "text": [
      "1.2.1\n",
      "1.19.2\n"
     ]
    }
   ],
   "source": [
    "import pandas as pd\n",
    "import numpy as np\n",
    "from scipy import stats\n",
    "import math\n",
    "\n",
    "from statsmodels.sandbox.stats.multicomp import multipletests \n",
    "\n",
    "print(pd.__version__)\n",
    "print(np.__version__)"
   ]
  },
  {
   "cell_type": "markdown",
   "id": "eleven-heading",
   "metadata": {},
   "source": [
    "# Task 1"
   ]
  },
  {
   "cell_type": "markdown",
   "id": "fewer-block",
   "metadata": {},
   "source": [
    "Выберите задачи, в которых обязательно нужно применять поправку на множественную проверку гипотез"
   ]
  },
  {
   "cell_type": "markdown",
   "id": "jewish-population",
   "metadata": {},
   "source": [
    "- все ответы"
   ]
  },
  {
   "cell_type": "markdown",
   "id": "primary-drove",
   "metadata": {},
   "source": [
    "# Task 2"
   ]
  },
  {
   "cell_type": "markdown",
   "id": "asian-start",
   "metadata": {},
   "source": [
    "Классификатор C4.5 и три его модификации: с оптимизацией гиперпараметра m, гиперпараметра cf и с одновременной оптимизацией обоих гиперпараметров. Эти четыре классификатора сравнивались на 14 наборах данных. На каждом датасете был посчитан AUC каждого классификатора. Данные записаны в файле:"
   ]
  },
  {
   "cell_type": "code",
   "execution_count": 10,
   "id": "unlikely-disability",
   "metadata": {},
   "outputs": [
    {
     "data": {
      "text/html": [
       "<div>\n",
       "<style scoped>\n",
       "    .dataframe tbody tr th:only-of-type {\n",
       "        vertical-align: middle;\n",
       "    }\n",
       "\n",
       "    .dataframe tbody tr th {\n",
       "        vertical-align: top;\n",
       "    }\n",
       "\n",
       "    .dataframe thead th {\n",
       "        text-align: right;\n",
       "    }\n",
       "</style>\n",
       "<table border=\"1\" class=\"dataframe\">\n",
       "  <thead>\n",
       "    <tr style=\"text-align: right;\">\n",
       "      <th></th>\n",
       "      <th>Data</th>\n",
       "      <th>C4.5</th>\n",
       "      <th>C4.5+m</th>\n",
       "      <th>C4.5+cf</th>\n",
       "      <th>C4.5+m+cf</th>\n",
       "    </tr>\n",
       "  </thead>\n",
       "  <tbody>\n",
       "    <tr>\n",
       "      <th>0</th>\n",
       "      <td>adult (sample)</td>\n",
       "      <td>0.763</td>\n",
       "      <td>0.768</td>\n",
       "      <td>0.771</td>\n",
       "      <td>0.798</td>\n",
       "    </tr>\n",
       "    <tr>\n",
       "      <th>1</th>\n",
       "      <td>breast cancer</td>\n",
       "      <td>0.599</td>\n",
       "      <td>0.591</td>\n",
       "      <td>0.590</td>\n",
       "      <td>0.569</td>\n",
       "    </tr>\n",
       "    <tr>\n",
       "      <th>2</th>\n",
       "      <td>breast cancer wisconsin</td>\n",
       "      <td>0.954</td>\n",
       "      <td>0.971</td>\n",
       "      <td>0.968</td>\n",
       "      <td>0.967</td>\n",
       "    </tr>\n",
       "    <tr>\n",
       "      <th>3</th>\n",
       "      <td>cmc</td>\n",
       "      <td>0.628</td>\n",
       "      <td>0.661</td>\n",
       "      <td>0.654</td>\n",
       "      <td>0.657</td>\n",
       "    </tr>\n",
       "    <tr>\n",
       "      <th>4</th>\n",
       "      <td>ionosphere</td>\n",
       "      <td>0.882</td>\n",
       "      <td>0.888</td>\n",
       "      <td>0.886</td>\n",
       "      <td>0.898</td>\n",
       "    </tr>\n",
       "    <tr>\n",
       "      <th>5</th>\n",
       "      <td>iris</td>\n",
       "      <td>0.936</td>\n",
       "      <td>0.931</td>\n",
       "      <td>0.916</td>\n",
       "      <td>0.931</td>\n",
       "    </tr>\n",
       "    <tr>\n",
       "      <th>6</th>\n",
       "      <td>liver disorders</td>\n",
       "      <td>0.661</td>\n",
       "      <td>0.668</td>\n",
       "      <td>0.609</td>\n",
       "      <td>0.685</td>\n",
       "    </tr>\n",
       "    <tr>\n",
       "      <th>7</th>\n",
       "      <td>lung cancer</td>\n",
       "      <td>0.583</td>\n",
       "      <td>0.583</td>\n",
       "      <td>0.563</td>\n",
       "      <td>0.625</td>\n",
       "    </tr>\n",
       "    <tr>\n",
       "      <th>8</th>\n",
       "      <td>lymphography</td>\n",
       "      <td>0.775</td>\n",
       "      <td>0.838</td>\n",
       "      <td>0.866</td>\n",
       "      <td>0.875</td>\n",
       "    </tr>\n",
       "    <tr>\n",
       "      <th>9</th>\n",
       "      <td>mushroom</td>\n",
       "      <td>1.000</td>\n",
       "      <td>1.000</td>\n",
       "      <td>1.000</td>\n",
       "      <td>1.000</td>\n",
       "    </tr>\n",
       "    <tr>\n",
       "      <th>10</th>\n",
       "      <td>primary tumor</td>\n",
       "      <td>0.940</td>\n",
       "      <td>0.962</td>\n",
       "      <td>0.965</td>\n",
       "      <td>0.962</td>\n",
       "    </tr>\n",
       "    <tr>\n",
       "      <th>11</th>\n",
       "      <td>rheum</td>\n",
       "      <td>0.619</td>\n",
       "      <td>0.666</td>\n",
       "      <td>0.614</td>\n",
       "      <td>0.669</td>\n",
       "    </tr>\n",
       "    <tr>\n",
       "      <th>12</th>\n",
       "      <td>voting</td>\n",
       "      <td>0.972</td>\n",
       "      <td>0.981</td>\n",
       "      <td>0.975</td>\n",
       "      <td>0.975</td>\n",
       "    </tr>\n",
       "    <tr>\n",
       "      <th>13</th>\n",
       "      <td>wine</td>\n",
       "      <td>0.957</td>\n",
       "      <td>0.978</td>\n",
       "      <td>0.946</td>\n",
       "      <td>0.970</td>\n",
       "    </tr>\n",
       "  </tbody>\n",
       "</table>\n",
       "</div>"
      ],
      "text/plain": [
       "                       Data   C4.5  C4.5+m  C4.5+cf  C4.5+m+cf\n",
       "0            adult (sample)  0.763   0.768    0.771      0.798\n",
       "1             breast cancer  0.599   0.591    0.590      0.569\n",
       "2   breast cancer wisconsin  0.954   0.971    0.968      0.967\n",
       "3                       cmc  0.628   0.661    0.654      0.657\n",
       "4                ionosphere  0.882   0.888    0.886      0.898\n",
       "5                      iris  0.936   0.931    0.916      0.931\n",
       "6           liver disorders  0.661   0.668    0.609      0.685\n",
       "7               lung cancer  0.583   0.583    0.563      0.625\n",
       "8              lymphography  0.775   0.838    0.866      0.875\n",
       "9                  mushroom  1.000   1.000    1.000      1.000\n",
       "10            primary tumor  0.940   0.962    0.965      0.962\n",
       "11                    rheum  0.619   0.666    0.614      0.669\n",
       "12                   voting  0.972   0.981    0.975      0.975\n",
       "13                     wine  0.957   0.978    0.946      0.970"
      ]
     },
     "execution_count": 10,
     "metadata": {},
     "output_type": "execute_result"
    }
   ],
   "source": [
    "data = pd.read_csv('AUCs.txt', sep='\\t')\n",
    "data.columns = ['Data', 'C4.5', 'C4.5+m', 'C4.5+cf', 'C4.5+m+cf']\n",
    "data"
   ]
  },
  {
   "cell_type": "markdown",
   "id": "fitted-print",
   "metadata": {},
   "source": [
    "Используя критерий знаковых рангов, проведите попарное сравнение каждого классификатора с каждым. Выберите два классификатора, различие между которыми наиболее статистически значимо. "
   ]
  },
  {
   "cell_type": "code",
   "execution_count": 52,
   "id": "relative-excerpt",
   "metadata": {},
   "outputs": [
    {
     "name": "stdout",
     "output_type": "stream",
     "text": [
      "CPU times: user 15.2 ms, sys: 747 µs, total: 15.9 ms\n",
      "Wall time: 12.7 ms\n"
     ]
    },
    {
     "name": "stderr",
     "output_type": "stream",
     "text": [
      "/home/fantast/anaconda3/envs/coursera/lib/python3.9/site-packages/scipy/stats/morestats.py:2957: UserWarning: Exact p-value calculation does not work if there are ties. Switching to normal approximation.\n",
      "  warnings.warn(\"Exact p-value calculation does not work if there are \"\n"
     ]
    }
   ],
   "source": [
    "%%time \n",
    "wilcoxon_data = []\n",
    "\n",
    "for i, lhs_column in enumerate(data.drop(['Data'],axis=1).columns):\n",
    "    for j, rhs_column in enumerate(data.drop(['Data'],axis=1).columns):\n",
    "        if i >= j:\n",
    "            continue\n",
    "        \n",
    "        wilcox, p = stats.wilcoxon(data[lhs_column], data[rhs_column])\n",
    "        wilcoxon_data.append([lhs_column, rhs_column, wilcox, p])"
   ]
  },
  {
   "cell_type": "code",
   "execution_count": 53,
   "id": "democratic-selection",
   "metadata": {},
   "outputs": [],
   "source": [
    "model_wilcoxon = pd.DataFrame.from_records(wilcoxon_data)\n",
    "model_wilcoxon.columns = ['Model_A', 'MOdel_B', 'Wilson', 'p-value']"
   ]
  },
  {
   "cell_type": "code",
   "execution_count": 54,
   "id": "young-stadium",
   "metadata": {},
   "outputs": [
    {
     "data": {
      "text/html": [
       "<div>\n",
       "<style scoped>\n",
       "    .dataframe tbody tr th:only-of-type {\n",
       "        vertical-align: middle;\n",
       "    }\n",
       "\n",
       "    .dataframe tbody tr th {\n",
       "        vertical-align: top;\n",
       "    }\n",
       "\n",
       "    .dataframe thead th {\n",
       "        text-align: right;\n",
       "    }\n",
       "</style>\n",
       "<table border=\"1\" class=\"dataframe\">\n",
       "  <thead>\n",
       "    <tr style=\"text-align: right;\">\n",
       "      <th></th>\n",
       "      <th>Model_A</th>\n",
       "      <th>MOdel_B</th>\n",
       "      <th>Wilson</th>\n",
       "      <th>p-value</th>\n",
       "    </tr>\n",
       "  </thead>\n",
       "  <tbody>\n",
       "    <tr>\n",
       "      <th>0</th>\n",
       "      <td>C4.5</td>\n",
       "      <td>C4.5+m</td>\n",
       "      <td>6.5</td>\n",
       "      <td>0.010757</td>\n",
       "    </tr>\n",
       "    <tr>\n",
       "      <th>2</th>\n",
       "      <td>C4.5</td>\n",
       "      <td>C4.5+m+cf</td>\n",
       "      <td>11.0</td>\n",
       "      <td>0.015874</td>\n",
       "    </tr>\n",
       "    <tr>\n",
       "      <th>5</th>\n",
       "      <td>C4.5+cf</td>\n",
       "      <td>C4.5+m+cf</td>\n",
       "      <td>10.5</td>\n",
       "      <td>0.025314</td>\n",
       "    </tr>\n",
       "    <tr>\n",
       "      <th>3</th>\n",
       "      <td>C4.5+m</td>\n",
       "      <td>C4.5+cf</td>\n",
       "      <td>18.0</td>\n",
       "      <td>0.054329</td>\n",
       "    </tr>\n",
       "    <tr>\n",
       "      <th>4</th>\n",
       "      <td>C4.5+m</td>\n",
       "      <td>C4.5+m+cf</td>\n",
       "      <td>22.0</td>\n",
       "      <td>0.327826</td>\n",
       "    </tr>\n",
       "    <tr>\n",
       "      <th>1</th>\n",
       "      <td>C4.5</td>\n",
       "      <td>C4.5+cf</td>\n",
       "      <td>43.0</td>\n",
       "      <td>0.861262</td>\n",
       "    </tr>\n",
       "  </tbody>\n",
       "</table>\n",
       "</div>"
      ],
      "text/plain": [
       "   Model_A    MOdel_B  Wilson   p-value\n",
       "0     C4.5     C4.5+m     6.5  0.010757\n",
       "2     C4.5  C4.5+m+cf    11.0  0.015874\n",
       "5  C4.5+cf  C4.5+m+cf    10.5  0.025314\n",
       "3   C4.5+m    C4.5+cf    18.0  0.054329\n",
       "4   C4.5+m  C4.5+m+cf    22.0  0.327826\n",
       "1     C4.5    C4.5+cf    43.0  0.861262"
      ]
     },
     "execution_count": 54,
     "metadata": {},
     "output_type": "execute_result"
    }
   ],
   "source": [
    "model_wilcoxon.sort_values(by='p-value', ascending=True)"
   ]
  },
  {
   "cell_type": "markdown",
   "id": "dynamic-muslim",
   "metadata": {},
   "source": [
    "# Task 3"
   ]
  },
  {
   "cell_type": "markdown",
   "id": "round-reputation",
   "metadata": {},
   "source": [
    "Сколько статистически значимых на уровне 0.05 различий мы обнаружили?"
   ]
  },
  {
   "cell_type": "markdown",
   "id": "complimentary-lesson",
   "metadata": {},
   "source": [
    "- 3"
   ]
  },
  {
   "cell_type": "markdown",
   "id": "particular-snowboard",
   "metadata": {},
   "source": [
    "# Task 4"
   ]
  },
  {
   "cell_type": "markdown",
   "id": "amateur-pocket",
   "metadata": {},
   "source": [
    "Судя по данным из предыдущего опроса, настройка какого из параметров классификатора даёт более значимое увеличение качества?"
   ]
  },
  {
   "cell_type": "markdown",
   "id": "precious-husband",
   "metadata": {},
   "source": [
    "- Только m"
   ]
  },
  {
   "cell_type": "markdown",
   "id": "actual-behavior",
   "metadata": {},
   "source": [
    "# Task 5"
   ]
  },
  {
   "cell_type": "markdown",
   "id": "treated-honor",
   "metadata": {},
   "source": [
    "Сравнивая 4 классификатора между собой, мы проверили 6 гипотез. Давайте сделаем поправку на множественную проверку. Начнём с метода Холма. Сколько гипотез можно отвергнуть на уровне значимости 0.05 после поправки этим методом?"
   ]
  },
  {
   "cell_type": "code",
   "execution_count": 55,
   "id": "narrow-connecticut",
   "metadata": {},
   "outputs": [],
   "source": [
    "reject, p_corrected, a1, a2 = multipletests(model_wilcoxon['p-value'], \n",
    "                                            alpha = 0.05, \n",
    "                                            method = 'holm') "
   ]
  },
  {
   "cell_type": "code",
   "execution_count": 56,
   "id": "universal-going",
   "metadata": {},
   "outputs": [],
   "source": [
    "model_wilcoxon['p_corrected'] = p_corrected\n",
    "model_wilcoxon['reject'] = reject"
   ]
  },
  {
   "cell_type": "code",
   "execution_count": 57,
   "id": "matched-valuable",
   "metadata": {},
   "outputs": [
    {
     "data": {
      "text/html": [
       "<div>\n",
       "<style scoped>\n",
       "    .dataframe tbody tr th:only-of-type {\n",
       "        vertical-align: middle;\n",
       "    }\n",
       "\n",
       "    .dataframe tbody tr th {\n",
       "        vertical-align: top;\n",
       "    }\n",
       "\n",
       "    .dataframe thead th {\n",
       "        text-align: right;\n",
       "    }\n",
       "</style>\n",
       "<table border=\"1\" class=\"dataframe\">\n",
       "  <thead>\n",
       "    <tr style=\"text-align: right;\">\n",
       "      <th></th>\n",
       "      <th>Model_A</th>\n",
       "      <th>MOdel_B</th>\n",
       "      <th>Wilson</th>\n",
       "      <th>p-value</th>\n",
       "      <th>p_corrected</th>\n",
       "      <th>reject</th>\n",
       "    </tr>\n",
       "  </thead>\n",
       "  <tbody>\n",
       "    <tr>\n",
       "      <th>0</th>\n",
       "      <td>C4.5</td>\n",
       "      <td>C4.5+m</td>\n",
       "      <td>6.5</td>\n",
       "      <td>0.010757</td>\n",
       "      <td>0.064543</td>\n",
       "      <td>False</td>\n",
       "    </tr>\n",
       "    <tr>\n",
       "      <th>2</th>\n",
       "      <td>C4.5</td>\n",
       "      <td>C4.5+m+cf</td>\n",
       "      <td>11.0</td>\n",
       "      <td>0.015874</td>\n",
       "      <td>0.079372</td>\n",
       "      <td>False</td>\n",
       "    </tr>\n",
       "    <tr>\n",
       "      <th>5</th>\n",
       "      <td>C4.5+cf</td>\n",
       "      <td>C4.5+m+cf</td>\n",
       "      <td>10.5</td>\n",
       "      <td>0.025314</td>\n",
       "      <td>0.101254</td>\n",
       "      <td>False</td>\n",
       "    </tr>\n",
       "    <tr>\n",
       "      <th>3</th>\n",
       "      <td>C4.5+m</td>\n",
       "      <td>C4.5+cf</td>\n",
       "      <td>18.0</td>\n",
       "      <td>0.054329</td>\n",
       "      <td>0.162986</td>\n",
       "      <td>False</td>\n",
       "    </tr>\n",
       "    <tr>\n",
       "      <th>4</th>\n",
       "      <td>C4.5+m</td>\n",
       "      <td>C4.5+m+cf</td>\n",
       "      <td>22.0</td>\n",
       "      <td>0.327826</td>\n",
       "      <td>0.655651</td>\n",
       "      <td>False</td>\n",
       "    </tr>\n",
       "    <tr>\n",
       "      <th>1</th>\n",
       "      <td>C4.5</td>\n",
       "      <td>C4.5+cf</td>\n",
       "      <td>43.0</td>\n",
       "      <td>0.861262</td>\n",
       "      <td>0.861262</td>\n",
       "      <td>False</td>\n",
       "    </tr>\n",
       "  </tbody>\n",
       "</table>\n",
       "</div>"
      ],
      "text/plain": [
       "   Model_A    MOdel_B  Wilson   p-value  p_corrected  reject\n",
       "0     C4.5     C4.5+m     6.5  0.010757     0.064543   False\n",
       "2     C4.5  C4.5+m+cf    11.0  0.015874     0.079372   False\n",
       "5  C4.5+cf  C4.5+m+cf    10.5  0.025314     0.101254   False\n",
       "3   C4.5+m    C4.5+cf    18.0  0.054329     0.162986   False\n",
       "4   C4.5+m  C4.5+m+cf    22.0  0.327826     0.655651   False\n",
       "1     C4.5    C4.5+cf    43.0  0.861262     0.861262   False"
      ]
     },
     "execution_count": 57,
     "metadata": {},
     "output_type": "execute_result"
    }
   ],
   "source": [
    "model_wilcoxon.sort_values(by='p-value', ascending=True)"
   ]
  },
  {
   "cell_type": "markdown",
   "id": "sublime-borough",
   "metadata": {},
   "source": [
    "# Task 6"
   ]
  },
  {
   "cell_type": "markdown",
   "id": "numerous-security",
   "metadata": {},
   "source": [
    "Сколько гипотез можно отвергнуть на уровне значимости 0.05 после поправки методом Бенджамини-Хохберга? "
   ]
  },
  {
   "cell_type": "code",
   "execution_count": 58,
   "id": "secure-diamond",
   "metadata": {},
   "outputs": [],
   "source": [
    "reject, p_corrected, a1, a2 = multipletests(model_wilcoxon['p-value'], \n",
    "                                            alpha = 0.05, \n",
    "                                            method = 'fdr_bh') "
   ]
  },
  {
   "cell_type": "code",
   "execution_count": 59,
   "id": "cardiac-estate",
   "metadata": {},
   "outputs": [],
   "source": [
    "model_wilcoxon['p_corrected'] = p_corrected\n",
    "model_wilcoxon['reject'] = reject"
   ]
  },
  {
   "cell_type": "code",
   "execution_count": 60,
   "id": "orange-oasis",
   "metadata": {},
   "outputs": [
    {
     "data": {
      "text/html": [
       "<div>\n",
       "<style scoped>\n",
       "    .dataframe tbody tr th:only-of-type {\n",
       "        vertical-align: middle;\n",
       "    }\n",
       "\n",
       "    .dataframe tbody tr th {\n",
       "        vertical-align: top;\n",
       "    }\n",
       "\n",
       "    .dataframe thead th {\n",
       "        text-align: right;\n",
       "    }\n",
       "</style>\n",
       "<table border=\"1\" class=\"dataframe\">\n",
       "  <thead>\n",
       "    <tr style=\"text-align: right;\">\n",
       "      <th></th>\n",
       "      <th>Model_A</th>\n",
       "      <th>MOdel_B</th>\n",
       "      <th>Wilson</th>\n",
       "      <th>p-value</th>\n",
       "      <th>p_corrected</th>\n",
       "      <th>reject</th>\n",
       "    </tr>\n",
       "  </thead>\n",
       "  <tbody>\n",
       "    <tr>\n",
       "      <th>0</th>\n",
       "      <td>C4.5</td>\n",
       "      <td>C4.5+m</td>\n",
       "      <td>6.5</td>\n",
       "      <td>0.010757</td>\n",
       "      <td>0.047623</td>\n",
       "      <td>True</td>\n",
       "    </tr>\n",
       "    <tr>\n",
       "      <th>2</th>\n",
       "      <td>C4.5</td>\n",
       "      <td>C4.5+m+cf</td>\n",
       "      <td>11.0</td>\n",
       "      <td>0.015874</td>\n",
       "      <td>0.047623</td>\n",
       "      <td>True</td>\n",
       "    </tr>\n",
       "    <tr>\n",
       "      <th>5</th>\n",
       "      <td>C4.5+cf</td>\n",
       "      <td>C4.5+m+cf</td>\n",
       "      <td>10.5</td>\n",
       "      <td>0.025314</td>\n",
       "      <td>0.050627</td>\n",
       "      <td>False</td>\n",
       "    </tr>\n",
       "    <tr>\n",
       "      <th>3</th>\n",
       "      <td>C4.5+m</td>\n",
       "      <td>C4.5+cf</td>\n",
       "      <td>18.0</td>\n",
       "      <td>0.054329</td>\n",
       "      <td>0.081493</td>\n",
       "      <td>False</td>\n",
       "    </tr>\n",
       "    <tr>\n",
       "      <th>4</th>\n",
       "      <td>C4.5+m</td>\n",
       "      <td>C4.5+m+cf</td>\n",
       "      <td>22.0</td>\n",
       "      <td>0.327826</td>\n",
       "      <td>0.393391</td>\n",
       "      <td>False</td>\n",
       "    </tr>\n",
       "    <tr>\n",
       "      <th>1</th>\n",
       "      <td>C4.5</td>\n",
       "      <td>C4.5+cf</td>\n",
       "      <td>43.0</td>\n",
       "      <td>0.861262</td>\n",
       "      <td>0.861262</td>\n",
       "      <td>False</td>\n",
       "    </tr>\n",
       "  </tbody>\n",
       "</table>\n",
       "</div>"
      ],
      "text/plain": [
       "   Model_A    MOdel_B  Wilson   p-value  p_corrected  reject\n",
       "0     C4.5     C4.5+m     6.5  0.010757     0.047623    True\n",
       "2     C4.5  C4.5+m+cf    11.0  0.015874     0.047623    True\n",
       "5  C4.5+cf  C4.5+m+cf    10.5  0.025314     0.050627   False\n",
       "3   C4.5+m    C4.5+cf    18.0  0.054329     0.081493   False\n",
       "4   C4.5+m  C4.5+m+cf    22.0  0.327826     0.393391   False\n",
       "1     C4.5    C4.5+cf    43.0  0.861262     0.861262   False"
      ]
     },
     "execution_count": 60,
     "metadata": {},
     "output_type": "execute_result"
    }
   ],
   "source": [
    "model_wilcoxon.sort_values(by='p-value', ascending=True)"
   ]
  },
  {
   "cell_type": "markdown",
   "id": "private-witch",
   "metadata": {},
   "source": [
    "# Task 7"
   ]
  },
  {
   "cell_type": "markdown",
   "id": "diagnostic-throat",
   "metadata": {},
   "source": [
    "Насколько корректно, на ваш взгляд, применение метода Бенджамини-Хохберга в этой задаче?"
   ]
  },
  {
   "cell_type": "markdown",
   "id": "collaborative-investigator",
   "metadata": {},
   "source": [
    "- Всегда не подходит, коректно тоже. Нужно брать не коректно"
   ]
  },
  {
   "cell_type": "markdown",
   "id": "inside-dealing",
   "metadata": {},
   "source": [
    "# Task 8"
   ]
  },
  {
   "cell_type": "markdown",
   "id": "extensive-processor",
   "metadata": {},
   "source": [
    "Сколько гипотез можно отвергнуть на уровне значимости 0.05 после поправки методом Бенджамини-Хохберга? "
   ]
  },
  {
   "cell_type": "markdown",
   "id": "agricultural-escape",
   "metadata": {},
   "source": [
    "- Брать гиперпараметр и (или) не обращать внимания\n",
    "- При параметре"
   ]
  }
 ],
 "metadata": {
  "kernelspec": {
   "display_name": "coursera",
   "language": "python",
   "name": "coursera"
  },
  "language_info": {
   "codemirror_mode": {
    "name": "ipython",
    "version": 3
   },
   "file_extension": ".py",
   "mimetype": "text/x-python",
   "name": "python",
   "nbconvert_exporter": "python",
   "pygments_lexer": "ipython3",
   "version": "3.9.1"
  }
 },
 "nbformat": 4,
 "nbformat_minor": 5
}
