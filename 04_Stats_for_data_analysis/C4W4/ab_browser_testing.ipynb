{
 "cells": [
  {
   "cell_type": "markdown",
   "id": "indirect-fitting",
   "metadata": {},
   "source": [
    "# AB Browser Testing"
   ]
  },
  {
   "cell_type": "markdown",
   "id": "parliamentary-portfolio",
   "metadata": {},
   "source": [
    "В данном задании вам нужно будет\n",
    "\n",
    "   - проанализировать АБ  тест,  проведенный на реальных пользователях Яндекса\n",
    "   - подтвердить или опровергнуть наличие изменений в пользовательском поведении между контрольной (control)  и тестовой (exp)  группами\n",
    "   - определить характер этих изменений и практическую значимость вводимого изменения\n",
    "   - понять, какая из пользовательских групп более всего проигрывает / выигрывает   от тестируемого изменения (локализовать изменение)"
   ]
  },
  {
   "cell_type": "markdown",
   "id": "subject-telling",
   "metadata": {},
   "source": [
    "  - userID:  уникальный идентификатор пользователя\n",
    "  - browser:  браузер, который использовал userID\n",
    "  - slot: в каком статусе пользователь участвовал в исследовании (exp = видел измененную страницу, control  = видел неизменную страницу)\n",
    "  - n_clicks: количество кликов, которые пользоваль совершил за n_queries    n_queries: количество запросов, который совершил userID, пользуясь браузером browser\n",
    "  - n_nonclk_queries: количество запросов пользователя, в которых  им не было совершено ни одного клика\n",
    "\n",
    "Обращаем ваше внимание, что не все люди используют только один браузер, поэтому в столбце userID есть повторяющиеся идентификаторы. В предлагаемых данных  уникальным является сочетание userID и browser."
   ]
  },
  {
   "cell_type": "code",
   "execution_count": 1,
   "id": "careful-abraham",
   "metadata": {},
   "outputs": [],
   "source": [
    "import warnings\n",
    "warnings.filterwarnings('ignore')"
   ]
  },
  {
   "cell_type": "code",
   "execution_count": 143,
   "id": "creative-scroll",
   "metadata": {},
   "outputs": [],
   "source": [
    "import statsmodels\n",
    "import scipy as sc\n",
    "import numpy as np\n",
    "import pandas as pd\n",
    "import statsmodels.stats.multitest as smm\n",
    "import statsmodels.formula.api as smf\n",
    "import statsmodels.stats.api as sms\n",
    "from statsmodels.sandbox.stats.multicomp import multipletests \n",
    "from statsmodels.graphics.regressionplots import plot_leverage_resid2\n",
    "from statsmodels.stats.proportion import proportion_confint\n",
    "from statsmodels.stats.weightstats import *\n",
    "import matplotlib.pyplot as plt"
   ]
  },
  {
   "cell_type": "code",
   "execution_count": 3,
   "id": "atomic-johnston",
   "metadata": {},
   "outputs": [
    {
     "name": "stdout",
     "output_type": "stream",
     "text": [
      "1.19.2\n",
      "1.2.1\n",
      "1.5.2\n",
      "0.12.1\n"
     ]
    }
   ],
   "source": [
    "print(np.__version__)\n",
    "print(pd.__version__)\n",
    "print(sc.__version__)\n",
    "print(statsmodels.__version__)"
   ]
  },
  {
   "cell_type": "code",
   "execution_count": 4,
   "id": "arranged-function",
   "metadata": {},
   "outputs": [
    {
     "name": "stdout",
     "output_type": "stream",
     "text": [
      "Populating the interactive namespace from numpy and matplotlib\n"
     ]
    }
   ],
   "source": [
    "%pylab inline"
   ]
  },
  {
   "cell_type": "code",
   "execution_count": 5,
   "id": "floral-boxing",
   "metadata": {},
   "outputs": [
    {
     "data": {
      "text/html": [
       "<div>\n",
       "<style scoped>\n",
       "    .dataframe tbody tr th:only-of-type {\n",
       "        vertical-align: middle;\n",
       "    }\n",
       "\n",
       "    .dataframe tbody tr th {\n",
       "        vertical-align: top;\n",
       "    }\n",
       "\n",
       "    .dataframe thead th {\n",
       "        text-align: right;\n",
       "    }\n",
       "</style>\n",
       "<table border=\"1\" class=\"dataframe\">\n",
       "  <thead>\n",
       "    <tr style=\"text-align: right;\">\n",
       "      <th></th>\n",
       "      <th>userID</th>\n",
       "      <th>browser</th>\n",
       "      <th>slot</th>\n",
       "      <th>n_clicks</th>\n",
       "      <th>n_queries</th>\n",
       "      <th>n_nonclk_queries</th>\n",
       "    </tr>\n",
       "  </thead>\n",
       "  <tbody>\n",
       "    <tr>\n",
       "      <th>0</th>\n",
       "      <td>1</td>\n",
       "      <td>Browser #2</td>\n",
       "      <td>exp</td>\n",
       "      <td>23</td>\n",
       "      <td>32</td>\n",
       "      <td>19</td>\n",
       "    </tr>\n",
       "    <tr>\n",
       "      <th>1</th>\n",
       "      <td>3</td>\n",
       "      <td>Browser #4</td>\n",
       "      <td>exp</td>\n",
       "      <td>3</td>\n",
       "      <td>4</td>\n",
       "      <td>2</td>\n",
       "    </tr>\n",
       "    <tr>\n",
       "      <th>2</th>\n",
       "      <td>5</td>\n",
       "      <td>Browser #4</td>\n",
       "      <td>exp</td>\n",
       "      <td>29</td>\n",
       "      <td>35</td>\n",
       "      <td>16</td>\n",
       "    </tr>\n",
       "    <tr>\n",
       "      <th>3</th>\n",
       "      <td>6</td>\n",
       "      <td>Browser #4</td>\n",
       "      <td>control</td>\n",
       "      <td>12</td>\n",
       "      <td>6</td>\n",
       "      <td>0</td>\n",
       "    </tr>\n",
       "    <tr>\n",
       "      <th>4</th>\n",
       "      <td>7</td>\n",
       "      <td>Browser #4</td>\n",
       "      <td>exp</td>\n",
       "      <td>54</td>\n",
       "      <td>68</td>\n",
       "      <td>30</td>\n",
       "    </tr>\n",
       "  </tbody>\n",
       "</table>\n",
       "</div>"
      ],
      "text/plain": [
       "   userID     browser     slot  n_clicks  n_queries  n_nonclk_queries\n",
       "0       1  Browser #2      exp        23         32                19\n",
       "1       3  Browser #4      exp         3          4                 2\n",
       "2       5  Browser #4      exp        29         35                16\n",
       "3       6  Browser #4  control        12          6                 0\n",
       "4       7  Browser #4      exp        54         68                30"
      ]
     },
     "execution_count": 5,
     "metadata": {},
     "output_type": "execute_result"
    }
   ],
   "source": [
    "data = pd.read_csv('ab_browser_test.csv', sep=',')\n",
    "data.head()"
   ]
  },
  {
   "cell_type": "code",
   "execution_count": 6,
   "id": "necessary-accident",
   "metadata": {},
   "outputs": [
    {
     "data": {
      "text/plain": [
       "(566134, 6)"
      ]
     },
     "execution_count": 6,
     "metadata": {},
     "output_type": "execute_result"
    }
   ],
   "source": [
    "data.shape"
   ]
  },
  {
   "cell_type": "code",
   "execution_count": 12,
   "id": "designed-producer",
   "metadata": {},
   "outputs": [
    {
     "data": {
      "text/plain": [
       "array(['Browser #2', 'Browser #4', 'Browser #14', 'Browser #17',\n",
       "       'Browser #20', 'Browser #22'], dtype=object)"
      ]
     },
     "execution_count": 12,
     "metadata": {},
     "output_type": "execute_result"
    }
   ],
   "source": [
    "data.browser.unique()"
   ]
  },
  {
   "cell_type": "markdown",
   "id": "productive-donna",
   "metadata": {},
   "source": [
    "## Task 1"
   ]
  },
  {
   "cell_type": "markdown",
   "id": "psychological-ensemble",
   "metadata": {},
   "source": [
    "Основная метрика, на которой мы сосредоточимся в этой работе, — это количество пользовательских кликов на web-странице в зависимости от тестируемого изменения этой страницы. \n",
    "\n",
    "Посчитайте, насколько в группе exp больше пользовательских кликов по сравнению с группой control в процентах от числа кликов в контрольной группе.\n",
    "\n",
    "Полученный процент округлите  до третьего знака после точки. "
   ]
  },
  {
   "cell_type": "code",
   "execution_count": 39,
   "id": "caroline-insight",
   "metadata": {},
   "outputs": [
    {
     "data": {
      "text/plain": [
       "control    284554\n",
       "exp        281580\n",
       "Name: slot, dtype: int64"
      ]
     },
     "execution_count": 39,
     "metadata": {},
     "output_type": "execute_result"
    }
   ],
   "source": [
    "data.slot.value_counts()"
   ]
  },
  {
   "cell_type": "code",
   "execution_count": 44,
   "id": "above-stamp",
   "metadata": {},
   "outputs": [],
   "source": [
    "exp_clicks_sum = data[data['slot'] == 'exp'].n_clicks.sum()\n",
    "control_clicks_sum = data[data['slot'] == 'control'].n_clicks.sum()"
   ]
  },
  {
   "cell_type": "code",
   "execution_count": 45,
   "id": "above-pride",
   "metadata": {},
   "outputs": [
    {
     "name": "stdout",
     "output_type": "stream",
     "text": [
      "Total exp clicks: \t\t 3261823\n",
      "Total conrol clicks: \t\t 3210027\n",
      "Total exp + control clicks: \t 6471850\n"
     ]
    }
   ],
   "source": [
    "print(\"Total exp clicks: \\t\\t {}\".format(exp_clicks_sum))\n",
    "print(\"Total conrol clicks: \\t\\t {}\".format(control_clicks_sum))\n",
    "print(\"Total exp + control clicks: \\t {}\".format(exp_clicks_sum + control_clicks_sum))"
   ]
  },
  {
   "cell_type": "code",
   "execution_count": 46,
   "id": "proper-amsterdam",
   "metadata": {},
   "outputs": [],
   "source": [
    "percentage = round((exp_clicks_sum/control_clicks_sum - 1)*100,3)"
   ]
  },
  {
   "cell_type": "code",
   "execution_count": 47,
   "id": "saved-johns",
   "metadata": {},
   "outputs": [
    {
     "name": "stdout",
     "output_type": "stream",
     "text": [
      "The number of clicks in experience group is greate then in control on 1.614%\n"
     ]
    }
   ],
   "source": [
    "print('The number of clicks in experience group is greate then in control on {}%'.format(percentage))"
   ]
  },
  {
   "cell_type": "markdown",
   "id": "union-klein",
   "metadata": {},
   "source": [
    "ОТВЕТ:(1 бал)\n",
    "- 1.614"
   ]
  },
  {
   "cell_type": "markdown",
   "id": "needed-writer",
   "metadata": {},
   "source": [
    "## Task 2"
   ]
  },
  {
   "cell_type": "markdown",
   "id": "wanted-constant",
   "metadata": {},
   "source": [
    "Давайте попробуем посмотреть более внимательно на разницу между двумя группами (control и exp) относительно количества пользовательских кликов."
   ]
  },
  {
   "cell_type": "markdown",
   "id": "opponent-majority",
   "metadata": {},
   "source": [
    "Для этого постройте с помощью бутстрепа 95% доверительный интервал для средних значений и медиан количества кликов в каждой из двух групп. Отметьте все верные утверждения. "
   ]
  },
  {
   "cell_type": "code",
   "execution_count": 42,
   "id": "sweet-justice",
   "metadata": {},
   "outputs": [],
   "source": [
    "def get_bootstrap_samples(data, n_samples):\n",
    "    indices = np.random.randint(0, len(data), (n_samples, len(data)))\n",
    "    samples = data[indices]\n",
    "    return samples"
   ]
  },
  {
   "cell_type": "code",
   "execution_count": 43,
   "id": "fluid-difficulty",
   "metadata": {},
   "outputs": [],
   "source": [
    "def stat_intervals(stat, alpha):\n",
    "    boundaries = np.percentile(stat, [100 * alpha / 2., 100 * (1 - alpha / 2.)])\n",
    "    return boundaries"
   ]
  },
  {
   "cell_type": "markdown",
   "id": "floating-focus",
   "metadata": {},
   "source": [
    "Для начала посчитаем просто медианы и средние для контрольной и експериментальной груп."
   ]
  },
  {
   "cell_type": "code",
   "execution_count": 49,
   "id": "recovered-printing",
   "metadata": {},
   "outputs": [],
   "source": [
    "exp_clicks = data[data['slot'] == 'exp'].n_clicks\n",
    "control_clicks = data[data['slot'] == 'control'].n_clicks"
   ]
  },
  {
   "cell_type": "code",
   "execution_count": 58,
   "id": "boring-workshop",
   "metadata": {},
   "outputs": [
    {
     "name": "stdout",
     "output_type": "stream",
     "text": [
      "Median of clicks for exp group: 5.0\n",
      "Median of clicks for control group: 4.0\n"
     ]
    }
   ],
   "source": [
    "print('Median of clicks for exp group: {}'.format(exp_clicks.median()))\n",
    "print('Median of clicks for control group: {}'.format(control_clicks.median()))"
   ]
  },
  {
   "cell_type": "code",
   "execution_count": 60,
   "id": "needed-mills",
   "metadata": {},
   "outputs": [
    {
     "name": "stdout",
     "output_type": "stream",
     "text": [
      "Mean of clicks for exp group: 11.58\n",
      "Mean of clicks for control group: 11.28\n"
     ]
    }
   ],
   "source": [
    "print('Mean of clicks for exp group: {}'.format(round(exp_clicks.mean(), 2)))\n",
    "print('Mean of clicks for control group: {}'.format(round(control_clicks.mean(), 2)))"
   ]
  },
  {
   "cell_type": "code",
   "execution_count": 215,
   "id": "prerequisite-cuisine",
   "metadata": {},
   "outputs": [
    {
     "name": "stdout",
     "output_type": "stream",
     "text": [
      "CPU times: user 8.71 s, sys: 620 ms, total: 9.33 s\n",
      "Wall time: 9.33 s\n"
     ]
    }
   ],
   "source": [
    "%%time\n",
    "np.random.seed(0)\n",
    "\n",
    "exp_bootstrap = get_bootstrap_samples(exp_clicks.values,n_samples=500)\n",
    "exp_boot_median = np.median(exp_bootstrap, axis=1)\n",
    "exp_boot_mean = np.mean(exp_bootstrap, axis=1)\n",
    "\n",
    "control_bootstrap = get_bootstrap_samples(control_clicks.values,n_samples=500)\n",
    "control_boot_median = np.median(control_bootstrap, axis=1)\n",
    "control_boot_mean = np.mean(control_bootstrap, axis=1)"
   ]
  },
  {
   "cell_type": "code",
   "execution_count": 218,
   "id": "nuclear-hacker",
   "metadata": {},
   "outputs": [
    {
     "name": "stdout",
     "output_type": "stream",
     "text": [
      "Bootstrap exp median confidance interval: [5. 5.]\n",
      "Bootstrap control median confidance interval: [4. 4.]\n"
     ]
    }
   ],
   "source": [
    "print('Bootstrap exp median confidance interval: {}'.format(stat_intervals(exp_boot_median,alpha=0.05)))\n",
    "print('Bootstrap control median confidance interval: {}'.format(stat_intervals(control_boot_median,alpha=0.05)))"
   ]
  },
  {
   "cell_type": "code",
   "execution_count": 219,
   "id": "scenic-accordance",
   "metadata": {},
   "outputs": [
    {
     "name": "stdout",
     "output_type": "stream",
     "text": [
      "Bootstrap exp mean confidance interval: [11.50789349 11.6588664 ]\n",
      "Bootstrap control mean confidance interval: [11.20668696 11.35347509]\n"
     ]
    }
   ],
   "source": [
    "print('Bootstrap exp mean confidance interval: {}'.format(stat_intervals(exp_boot_mean,alpha=0.05)))\n",
    "print('Bootstrap control mean confidance interval: {}'.format(stat_intervals(control_boot_mean,alpha=0.05)))"
   ]
  },
  {
   "cell_type": "markdown",
   "id": "junior-lecture",
   "metadata": {},
   "source": [
    "### Интервальная оценка для разности медиан и средних на бутстрепе"
   ]
  },
  {
   "cell_type": "code",
   "execution_count": 220,
   "id": "divine-method",
   "metadata": {},
   "outputs": [],
   "source": [
    "delta_median_scores = list(map(lambda x: x[1] - x[0], zip(exp_boot_median, control_boot_median)))\n",
    "delta_mean_scores = list(map(lambda x: x[1] - x[0], zip(exp_boot_mean, control_boot_mean)))"
   ]
  },
  {
   "cell_type": "code",
   "execution_count": 221,
   "id": "defined-olympus",
   "metadata": {},
   "outputs": [
    {
     "name": "stdout",
     "output_type": "stream",
     "text": [
      "95% conf. int. for the difference between medians: [-1.000000, -1.000000]\n"
     ]
    }
   ],
   "source": [
    "stat_int = stat_intervals(delta_median_scores, 0.05)\n",
    "print('95%% conf. int. for the difference between medians: [%f, %f]' % (stat_int[0], stat_int[1]))"
   ]
  },
  {
   "cell_type": "code",
   "execution_count": 222,
   "id": "second-bachelor",
   "metadata": {},
   "outputs": [
    {
     "name": "stdout",
     "output_type": "stream",
     "text": [
      "95% conf. int. for the difference between means: [-0.404967, -0.199603]\n"
     ]
    }
   ],
   "source": [
    "stat_int = stat_intervals(delta_mean_scores, 0.05)\n",
    "print('95%% conf. int. for the difference between means: [%f, %f]' % (stat_int[0], stat_int[1]))"
   ]
  },
  {
   "cell_type": "markdown",
   "id": "arranged-string",
   "metadata": {},
   "source": [
    "ОТВЕТ:(1 бал)\n",
    "- NOT 95% доверительный интервал для разности средних не содержит ноль, похоже, средние существенно отличаются\n",
    "- NOT 95% доверительный интервал для разности медиан не содержит ноль, похоже, медианы существенно отличаются"
   ]
  },
  {
   "cell_type": "markdown",
   "id": "presidential-torture",
   "metadata": {},
   "source": [
    "## Task 3"
   ]
  },
  {
   "cell_type": "markdown",
   "id": "desirable-fifty",
   "metadata": {},
   "source": [
    "Поскольку данных достаточно много (порядка полумиллиона уникальных пользователей), отличие в несколько процентов может быть не только практически значимым, но и  значимым статистически. Последнее утверждение нуждается в дополнительной проверке. "
   ]
  },
  {
   "cell_type": "markdown",
   "id": "corrected-pulse",
   "metadata": {},
   "source": [
    "Посмотрите на выданные вам данные и выберите все верные варианты ответа относительно проверки гипотезы о равенстве среднего количества кликов в группах. "
   ]
  },
  {
   "cell_type": "code",
   "execution_count": 79,
   "id": "further-career",
   "metadata": {},
   "outputs": [
    {
     "data": {
      "image/png": "[encoded data removed]",
      "text/plain": [
       "<Figure size 1080x504 with 2 Axes>"
      ]
     },
     "metadata": {
      "needs_background": "light"
     },
     "output_type": "display_data"
    }
   ],
   "source": [
    "pylab.figure(figsize=(15,7))\n",
    "\n",
    "pylab.subplot(1,2,1)\n",
    "pylab.grid(color='lightgrey', linestyle='--')\n",
    "pylab.hist(exp_clicks.values, color ='tab:blue',edgecolor='k', bins=100)\n",
    "pylab.xlabel('Clicks distribution')\n",
    "pylab.ylabel('Count')\n",
    "pylab.title('Exp group')\n",
    "\n",
    "pylab.subplot(1,2,2)\n",
    "pylab.grid(color='lightgrey', linestyle='--')\n",
    "pylab.hist(control_clicks.values, color = 'tab:green', edgecolor='k', bins=100)\n",
    "pylab.xlabel('Clicks distribution')\n",
    "pylab.ylabel('Count')\n",
    "pylab.title('Control group')\n",
    "\n",
    "pylab.show()"
   ]
  },
  {
   "cell_type": "markdown",
   "id": "spectacular-prize",
   "metadata": {},
   "source": [
    "ОТВЕТ: (1 бал)\n",
    "- все ответы не верны"
   ]
  },
  {
   "cell_type": "markdown",
   "id": "expressed-celebrity",
   "metadata": {},
   "source": [
    "## Task 4"
   ]
  },
  {
   "cell_type": "markdown",
   "id": "resistant-instrument",
   "metadata": {},
   "source": [
    "t-критерий Стьюдента имеет множество достоинств, и потому его достаточно часто применяют в AB экспериментах. Иногда его применение может быть необоснованно из-за сильной скошенности распределения данных. "
   ]
  },
  {
   "cell_type": "markdown",
   "id": "elementary-monster",
   "metadata": {},
   "source": [
    "Давайте постараемся понять, когда t-критерий можно применять и как это проверить на реальных данных. \n",
    "\n",
    "Для простоты рассмотрим одновыборочный t-критерий.  Его статистика имеет вид  $Xˉ−μS2/n \\frac{\\bar{X} - \\mu}{ \\sqrt {S^2 / n}} S2/n$\n",
    "\n",
    "$X − μ$, то есть чтобы действительно предположения t-критерия выполнялись необходимо, чтобы:\n",
    "\n",
    "    $X¯$  —  среднее значение в выборке — было распределено нормально N(μ,σ2n)\n",
    "    $nσ2S2$  — несмещенная оценка дисперсии c масштабирующим коэффициентом —  была распределена по хи-квадрат  c n−1 степенями свободы  $χ2(n−1) $"
   ]
  },
  {
   "cell_type": "markdown",
   "id": "sized-farming",
   "metadata": {},
   "source": [
    "Простое доказательство необходимости и достаточности этого требования  можно посмотреть в самом последнем абзаце этого вопроса. Усвоение этого доказательства не обязательно для выполнения задания.\n",
    "\n",
    "Оба этих предположения можно проверить с помощью бутстрепа. Ограничимся сейчас только контрольной группой, в которой распределение кликов будем называть данными  в рамках данного вопроса. \n",
    "\n",
    "Поскольку мы не знаем истинного распределения генеральной совокупности, мы можем применить бутстреп, чтобы понять, как распределены среднее значение и выборочная дисперсия. Для этого "
   ]
  },
  {
   "cell_type": "markdown",
   "id": "unauthorized-biodiversity",
   "metadata": {},
   "source": [
    "  1. Получите из данных n_boot_samples  псевдовыборок. \n",
    "  2. По каждой из этих выборок посчитайте среднее и сумму квадратов отклонения от выборочного среднего (control_boot_chi_squared) \n",
    "  3. Для получившегося вектора средних значений из n_boot_samples постройте q-q plot с помощью scipy.stats.probplot для нормального распределения\n",
    "  4.Для получившегося вектора  сумм квадратов отклонения от выборочного среднего постройте  qq-plot с помощью scipy.stats.probplot  для хи-квадрат распределения с помощью команды "
   ]
  },
  {
   "cell_type": "code",
   "execution_count": 83,
   "id": "discrete-disorder",
   "metadata": {},
   "outputs": [
    {
     "name": "stdout",
     "output_type": "stream",
     "text": [
      "CPU times: user 5.6 s, sys: 380 ms, total: 5.98 s\n",
      "Wall time: 5.98 s\n"
     ]
    }
   ],
   "source": [
    "%%time\n",
    "np.random.seed(0)\n",
    "\n",
    "exp_bootstrap = get_bootstrap_samples(exp_clicks.values,n_samples=500)\n",
    "exp_boot_mean = np.mean(exp_bootstrap, axis=0)\n",
    "\n",
    "control_bootstrap = get_bootstrap_samples(control_clicks.values,n_samples=500)\n",
    "control_boot_mean = np.mean(control_bootstrap, axis=0)"
   ]
  },
  {
   "cell_type": "code",
   "execution_count": 85,
   "id": "addressed-lithuania",
   "metadata": {},
   "outputs": [
    {
     "data": {
      "image/png": "[encoded data removed]",
      "text/plain": [
       "<Figure size 1080x504 with 2 Axes>"
      ]
     },
     "metadata": {
      "needs_background": "light"
     },
     "output_type": "display_data"
    }
   ],
   "source": [
    "pylab.figure(figsize=(15,7))\n",
    "\n",
    "pylab.subplot(1,2,1)\n",
    "sc.stats.probplot(exp_boot_mean, dist=\"norm\", plot=pylab, rvalue=True)\n",
    "pylab.subplot(1,2,2)\n",
    "sc.stats.probplot(control_boot_mean, dist=\"norm\", plot=pylab, rvalue=True)\n",
    "\n",
    "pylab.show()"
   ]
  },
  {
   "cell_type": "code",
   "execution_count": 223,
   "id": "killing-indicator",
   "metadata": {},
   "outputs": [
    {
     "name": "stdout",
     "output_type": "stream",
     "text": [
      "CPU times: user 6.08 s, sys: 557 ms, total: 6.64 s\n",
      "Wall time: 6.64 s\n"
     ]
    }
   ],
   "source": [
    "%%time\n",
    "np.random.seed(0)\n",
    "\n",
    "exp_bootstrap = get_bootstrap_samples(exp_clicks.values,n_samples=500)\n",
    "exp_boot_var = np.var(exp_bootstrap, axis=1)\n",
    "\n",
    "control_bootstrap = get_bootstrap_samples(control_clicks.values,n_samples=500)\n",
    "control_boot_var = np.var(control_bootstrap, axis=1)"
   ]
  },
  {
   "cell_type": "code",
   "execution_count": 224,
   "id": "secondary-personality",
   "metadata": {},
   "outputs": [
    {
     "data": {
      "image/png": "[encoded data removed]",
      "text/plain": [
       "<Figure size 1080x504 with 2 Axes>"
      ]
     },
     "metadata": {
      "needs_background": "light"
     },
     "output_type": "display_data"
    }
   ],
   "source": [
    "pylab.figure(figsize=(15,7))\n",
    "\n",
    "pylab.subplot(1,2,1)\n",
    "sc.stats.probplot(exp_boot_var, dist=\"chi2\", sparams=(exp_boot_var.shape[0]-1), plot=pylab, rvalue=True)\n",
    "pylab.subplot(1,2,2)\n",
    "sc.stats.probplot(control_boot_var, dist=\"chi2\", sparams=(control_boot_var.shape[0]-1), plot=pylab, rvalue=True)\n",
    "\n",
    "pylab.show()"
   ]
  },
  {
   "cell_type": "markdown",
   "id": "rental-robinson",
   "metadata": {},
   "source": [
    "ОТВЕТ: (1 бал)\n",
    "- NOT R2 для выборочной суммы квадратов отклонения от выборочной суммы получился больше, чем 0.99\n",
    "- NOT R2 для выборочного среднего получился больше, чем  0.99"
   ]
  },
  {
   "cell_type": "markdown",
   "id": "grand-identifier",
   "metadata": {},
   "source": [
    "## Task 5"
   ]
  },
  {
   "cell_type": "markdown",
   "id": "wanted-nursery",
   "metadata": {},
   "source": [
    "Одним из возможных аналогов t-критерия, которым можно воспрользоваться, является тест Манна-Уитни. На достаточно обширном классе распределений он является асимптотически более эффективным, чем t-критерий, и при этом не требует параметрических предположений о характере распределения.\n",
    "\n",
    "Разделите выборку на две части, соответствующие control  и exp группам. Преобразуйте данные к виду, чтобы каждому пользователю  соответствовало суммарное значение его кликов. С помощью критерия Манна-Уитни проверьте гипотезу о равенстве средних. Что можно сказать о получившемся значении достигаемого уровня значимости ? Выберите все правильные ответы"
   ]
  },
  {
   "cell_type": "code",
   "execution_count": 116,
   "id": "whole-passenger",
   "metadata": {},
   "outputs": [],
   "source": [
    "users_nclicks_exp = data[data['slot'] == 'exp'].groupby(['userID'])['n_clicks'].agg([np.sum])"
   ]
  },
  {
   "cell_type": "code",
   "execution_count": 120,
   "id": "based-recycling",
   "metadata": {},
   "outputs": [],
   "source": [
    "users_nclicks_control = data[data['slot'] == 'control'].groupby(['userID'])['n_clicks'].agg([np.sum])"
   ]
  },
  {
   "cell_type": "code",
   "execution_count": 122,
   "id": "worth-album",
   "metadata": {},
   "outputs": [
    {
     "data": {
      "text/plain": [
       "MannwhitneyuResult(statistic=41140868471.0, pvalue=8.694294377520879e-75)"
      ]
     },
     "execution_count": 122,
     "metadata": {},
     "output_type": "execute_result"
    }
   ],
   "source": [
    "sc.stats.mannwhitneyu(users_nclicks_exp, users_nclicks_control, alternative='two-sided')"
   ]
  },
  {
   "cell_type": "markdown",
   "id": "suburban-summer",
   "metadata": {},
   "source": [
    "ОТВЕТ: (1 бал)\n",
    "- Получившееся значение достигаемого уровня значимости свидетельствует о статистической значимости отличий между  двумя выборками"
   ]
  },
  {
   "cell_type": "markdown",
   "id": "alert-auction",
   "metadata": {},
   "source": [
    "## Task 6"
   ]
  },
  {
   "cell_type": "markdown",
   "id": "earned-quick",
   "metadata": {},
   "source": [
    "Проверьте, для какого из браузеров наиболее сильно выражено отличие между количеством кликов в контрольной и экспериментальной группах.\n",
    "\n",
    "Для этого примените для каждого из срезов (по каждому из уникальных значений столбца browser) критерий Манна-Уитни между control и exp группами и сделайте поправку Холма-Бонферрони на множественную проверку с α=0.05\\alpha=0.05α=0.05.\n",
    "\n",
    "Какое заключение можно сделать исходя из полученных результатов ?\n",
    "\n",
    "В качестве ответа введите количество незначимых изменений с точки зрения результатов, полученных после введения коррекции."
   ]
  },
  {
   "cell_type": "code",
   "execution_count": 127,
   "id": "dietary-cheese",
   "metadata": {},
   "outputs": [],
   "source": [
    "browser_nclicks_exp = data[data['slot'] == 'exp'].groupby(['browser','userID'])['n_clicks'].agg([np.sum])"
   ]
  },
  {
   "cell_type": "code",
   "execution_count": 128,
   "id": "naked-binding",
   "metadata": {},
   "outputs": [],
   "source": [
    "browser_nclicks_control = data[data['slot'] == 'control'].groupby(['browser','userID'])['n_clicks'].agg([np.sum])"
   ]
  },
  {
   "cell_type": "code",
   "execution_count": 188,
   "id": "radio-circumstances",
   "metadata": {},
   "outputs": [
    {
     "name": "stdout",
     "output_type": "stream",
     "text": [
      "Unique browsers numbers: ['Browser #14' 'Browser #17' 'Browser #2' 'Browser #20' 'Browser #22'\n",
      " 'Browser #4']\n",
      "\n",
      "Mann-Whitney rank test without multipletest\n",
      "Browser #14:  \t p-value = 0.0000\n",
      "Browser #17:  \t p-value = 0.0748\n",
      "Browser #2:  \t p-value = 0.0545\n",
      "Browser #20:  \t p-value = 0.9073\n",
      "Browser #22:  \t p-value = 0.5148\n",
      "Browser #4:  \t p-value = 0.8152\n",
      "\n",
      "Mann-Whitney rank test with multipletest\n",
      "Browser #14:  \t p-value = 0.0 \t- True\n",
      "Browser #17:  \t p-value = 0.3 \t- False\n",
      "Browser #2:  \t p-value = 0.3 \t- False\n",
      "Browser #20:  \t p-value = 1.0 \t- False\n",
      "Browser #22:  \t p-value = 1.0 \t- False\n",
      "Browser #4:  \t p-value = 1.0 \t- False\n"
     ]
    }
   ],
   "source": [
    "browsers = np.unique(data.browser)\n",
    "print('Unique browsers numbers: ' + str(browsers))\n",
    "print('')\n",
    "\n",
    "print('Mann-Whitney rank test without multipletest')\n",
    "mw_p = np.empty(browsers.shape[0])\n",
    "for i, br in enumerate(browsers):\n",
    "    _, mw_p[i] = sc.stats.mannwhitneyu(browser_nclicks_exp.loc[br, :], browser_nclicks_control.loc[br, :], alternative='two-sided')\n",
    "    print('{}: '.format(br),end=' '),    \n",
    "    print('\\t p-value = %.4f' % mw_p[i])\n",
    "    \n",
    "print('')\n",
    "print('Mann-Whitney rank test with multipletest')\n",
    "rejected, mw_p_corr, _, _ = multipletests(mw_p, alpha = 0.05, method = 'holm')\n",
    "for i, br in enumerate(browsers):\n",
    "    print('{}: '.format(br),end=' '),\n",
    "    print('\\t p-value = {} \\t- {}'.format(round(mw_p_corr[i],1),rejected[i]))\n"
   ]
  },
  {
   "cell_type": "markdown",
   "id": "silent-width",
   "metadata": {},
   "source": [
    "ОТВЕТ: (1 бал)\n",
    "- 5"
   ]
  },
  {
   "cell_type": "markdown",
   "id": "former-scenario",
   "metadata": {},
   "source": [
    "## Task 7"
   ]
  },
  {
   "cell_type": "markdown",
   "id": "certified-shareware",
   "metadata": {},
   "source": [
    "Для каждого браузера в каждой из двух групп (control  и exp) посчитайте долю запросов, в которых пользователь не кликнул ни разу. Это можно сделать, поделив сумму значений  n_nonclk_queries  на сумму значений  n_queries. Умножив это значение на 100, получим процент некликнутых запросов, который можно легче  проинтерпретировать."
   ]
  },
  {
   "cell_type": "code",
   "execution_count": 176,
   "id": "ultimate-inclusion",
   "metadata": {},
   "outputs": [],
   "source": [
    "browser_n_queries_exp = data[data['slot'] == 'exp'].groupby(['browser'])['n_queries'].agg(np.sum)\n",
    "browser_n_nonclk_queries_exp = data[data['slot'] == 'exp'].groupby(['browser'])['n_nonclk_queries'].agg(np.sum)\n",
    "browsers_nonclk_q_prop_exp = browser_n_nonclk_queries_exp / browser_n_queries_exp"
   ]
  },
  {
   "cell_type": "code",
   "execution_count": 177,
   "id": "hollow-brunswick",
   "metadata": {},
   "outputs": [],
   "source": [
    "browser_n_queries_control = data[data['slot'] == 'control'].groupby(['browser'])['n_queries'].agg(np.sum)\n",
    "browser_n_nonclk_queries_control = data[data['slot'] == 'control'].groupby(['browser'])['n_nonclk_queries'].agg(np.sum)\n",
    "browsers_nonclk_q_prop_control = browser_n_nonclk_queries_control / browser_n_queries_control"
   ]
  },
  {
   "cell_type": "code",
   "execution_count": 178,
   "id": "wanted-wildlife",
   "metadata": {},
   "outputs": [],
   "source": [
    "table = pd.DataFrame(data=None, columns=['Browser','Exp','Control'])\n",
    "table['Browser'] = browsers\n",
    "table['Exp'] = browsers_nonclk_q_prop_exp.values\n",
    "table['Control'] = browsers_nonclk_q_prop_control.values"
   ]
  },
  {
   "cell_type": "code",
   "execution_count": 183,
   "id": "impossible-cabin",
   "metadata": {},
   "outputs": [
    {
     "data": {
      "text/html": [
       "<div>\n",
       "<style scoped>\n",
       "    .dataframe tbody tr th:only-of-type {\n",
       "        vertical-align: middle;\n",
       "    }\n",
       "\n",
       "    .dataframe tbody tr th {\n",
       "        vertical-align: top;\n",
       "    }\n",
       "\n",
       "    .dataframe thead th {\n",
       "        text-align: right;\n",
       "    }\n",
       "</style>\n",
       "<table border=\"1\" class=\"dataframe\">\n",
       "  <thead>\n",
       "    <tr style=\"text-align: right;\">\n",
       "      <th></th>\n",
       "      <th>Browser</th>\n",
       "      <th>Exp</th>\n",
       "      <th>Control</th>\n",
       "    </tr>\n",
       "  </thead>\n",
       "  <tbody>\n",
       "    <tr>\n",
       "      <th>0</th>\n",
       "      <td>Browser #14</td>\n",
       "      <td>0.437556</td>\n",
       "      <td>0.575904</td>\n",
       "    </tr>\n",
       "    <tr>\n",
       "      <th>1</th>\n",
       "      <td>Browser #17</td>\n",
       "      <td>0.369374</td>\n",
       "      <td>0.362994</td>\n",
       "    </tr>\n",
       "    <tr>\n",
       "      <th>2</th>\n",
       "      <td>Browser #2</td>\n",
       "      <td>0.449827</td>\n",
       "      <td>0.459627</td>\n",
       "    </tr>\n",
       "    <tr>\n",
       "      <th>3</th>\n",
       "      <td>Browser #20</td>\n",
       "      <td>0.389774</td>\n",
       "      <td>0.405405</td>\n",
       "    </tr>\n",
       "    <tr>\n",
       "      <th>4</th>\n",
       "      <td>Browser #22</td>\n",
       "      <td>0.398539</td>\n",
       "      <td>0.405940</td>\n",
       "    </tr>\n",
       "    <tr>\n",
       "      <th>5</th>\n",
       "      <td>Browser #4</td>\n",
       "      <td>0.451429</td>\n",
       "      <td>0.469709</td>\n",
       "    </tr>\n",
       "  </tbody>\n",
       "</table>\n",
       "</div>"
      ],
      "text/plain": [
       "       Browser       Exp   Control\n",
       "0  Browser #14  0.437556  0.575904\n",
       "1  Browser #17  0.369374  0.362994\n",
       "2   Browser #2  0.449827  0.459627\n",
       "3  Browser #20  0.389774  0.405405\n",
       "4  Browser #22  0.398539  0.405940\n",
       "5   Browser #4  0.451429  0.469709"
      ]
     },
     "execution_count": 183,
     "metadata": {},
     "output_type": "execute_result"
    }
   ],
   "source": [
    "table.sort_values(['Browser'])"
   ]
  },
  {
   "cell_type": "markdown",
   "id": "unlikely-worcester",
   "metadata": {},
   "source": [
    "ОТВЕТ: (1 бал)\n",
    "- С помощью анализа"
   ]
  },
  {
   "cell_type": "code",
   "execution_count": null,
   "id": "taken-jerusalem",
   "metadata": {},
   "outputs": [],
   "source": []
  }
 ],
 "metadata": {
  "kernelspec": {
   "display_name": "coursera",
   "language": "python",
   "name": "coursera"
  },
  "language_info": {
   "codemirror_mode": {
    "name": "ipython",
    "version": 3
   },
   "file_extension": ".py",
   "mimetype": "text/x-python",
   "name": "python",
   "nbconvert_exporter": "python",
   "pygments_lexer": "ipython3",
   "version": "3.9.1"
  }
 },
 "nbformat": 4,
 "nbformat_minor": 5
}
