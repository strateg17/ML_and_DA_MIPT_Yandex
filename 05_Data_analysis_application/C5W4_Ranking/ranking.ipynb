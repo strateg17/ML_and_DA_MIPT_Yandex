{
 "cells": [
  {
   "cell_type": "markdown",
   "id": "enclosed-scheme",
   "metadata": {},
   "source": [
    "# Programming Assignment: Рекомендательные системы\n",
    "## Описание задачи\n",
    "\n",
    "Небольшой интернет-магазин попросил вас добавить ранжирование товаров в блок «Смотрели ранее» — в нем теперь надо показывать не последние просмотренные пользователем товары, а те товары из просмотренных, которые он наиболее вероятно купит. Качество вашего решения будет оцениваться по количеству покупок в сравнении с прошлым решением в ходе А/В теста, т.к. по доходу от продаж статзначимость будет достигаться дольше из-за разброса цен. Таким образом, ничего заранее не зная про корелляцию оффлайновых и онлайновых метрик качества, в начале проекта вы можете лишь постараться оптимизировать recall@k и precision@k.\n",
    "\n",
    "Это задание посвящено построению простых бейзлайнов для этой задачи: ранжирование просмотренных товаров по частоте просмотров и по частоте покупок. Эти бейзлайны, с одной стороны, могут помочь вам грубо оценить возможный эффект от ранжирования товаров в блоке — например, чтобы вписать какие-то числа в коммерческое предложение заказчику, а с другой стороны, могут оказаться самым хорошим вариантом, если данных очень мало (недостаточно для обучения даже простых моделей).\n",
    "\n",
    "\n",
    "## Данные\n",
    "\n",
    "Вам дается две выборки с пользовательскими сессиями – id-шниками просмотренных и id-шниками купленных товаров. Одна выборка будет использоваться для обучения (оценки популярностей товаров), а другая - для теста.\n",
    "\n",
    "В файлах записаны сессии по одной в каждой строке. Формат сессии: id просмотренных товаров через , затем идёт ;, после чего следуют id купленных товаров (если такие имеются), разделённые запятой. Например, 1,2,3,4; или 1,2,3,4;5,6.\n",
    "\n",
    "Гарантируется, что среди id купленных товаров все различные.\n",
    "\n",
    "Важно:\n",
    "\n",
    "   - Сессии, в которых пользователь ничего не купил, исключаем из оценки качества.\n",
    "   - Если товар не встречался в обучающей выборке, его популярность равна 0.\n",
    "   - Рекомендуем разные товары. И их число должно быть не больше, чем количество различных просмотренных пользователем товаров.\n",
    "   - Рекомендаций всегда не больше, чем минимум из двух чисел: количество просмотренных пользователем товаров и k в recall@k/precision@k."
   ]
  },
  {
   "cell_type": "code",
   "execution_count": 1,
   "id": "reported-merit",
   "metadata": {},
   "outputs": [],
   "source": [
    "from __future__ import division, print_function\n",
    "\n",
    "import numpy as np\n",
    "import  pandas as pd\n",
    "\n",
    "from IPython.core.interactiveshell import InteractiveShell\n",
    "InteractiveShell.ast_node_interactivity = \"all\""
   ]
  },
  {
   "cell_type": "markdown",
   "id": "growing-participant",
   "metadata": {},
   "source": [
    "## Задание\n",
    "\n",
    "#### Задание 1.\n",
    "\n",
    "На обучении постройте частоты появления id в просмотренных и в купленных (id может несколько раз появляться в просмотренных, все появления надо учитывать).\n"
   ]
  },
  {
   "cell_type": "code",
   "execution_count": 294,
   "id": "fantastic-deficit",
   "metadata": {},
   "outputs": [],
   "source": [
    "# Readining files in directory\n",
    "\n",
    "with open(file='coursera_sessions_test.txt', mode='r') as file:\n",
    "    sessions_test_data = file.read().splitlines() \n",
    "\n",
    "with open(file='coursera_sessions_train.txt', mode='r') as file:\n",
    "    sessions_train_data = file.read().splitlines()"
   ]
  },
  {
   "cell_type": "code",
   "execution_count": 295,
   "id": "mighty-medicare",
   "metadata": {},
   "outputs": [],
   "source": [
    "# Create a list of test sessions with separate looks and buys\n",
    "sessions_test_split_records = []\n",
    "\n",
    "for sess in sessions_test_data:\n",
    "    session_looks, session_buys = sess.split(';')\n",
    "    session_looks = [int(item) for item in session_looks.split(sep=',')]\n",
    "    if len(session_buys) > 0:\n",
    "        session_buys = [int(item) for item in session_buys.split(',')]\n",
    "    else:\n",
    "        session_buys = []\n",
    "    sessions_test_split_records.append([session_looks,session_buys])\n",
    "\n",
    "# Create a list of train session with separate looks and buys\n",
    "session_train_split_records = []\n",
    "\n",
    "for sess in sessions_train_data:\n",
    "    session_looks, session_buys = sess.split(';')\n",
    "    session_looks = [int(item) for item in session_looks.split(sep=',')]\n",
    "    if len(session_buys) > 0:\n",
    "        session_buys = [int(item) for item in session_buys.split(sep=',')]\n",
    "    else:\n",
    "        session_buys = []\n",
    "    session_train_split_records.append([session_looks, session_buys])"
   ]
  },
  {
   "cell_type": "code",
   "execution_count": 4,
   "id": "visible-syntax",
   "metadata": {},
   "outputs": [],
   "source": [
    "# Creating an array of looks\n",
    "session_train_looks = [element[0] for element in session_train_split_records]\n",
    "session_train_looks_np = np.array( [id_n for sess in session_train_looks for id_n in sess] )\n",
    "\n",
    "# Array of unique ids and looks in train data\n",
    "session_train_looks_cnt = np.transpose(np.unique(session_train_looks_np, return_counts=True))"
   ]
  },
  {
   "cell_type": "code",
   "execution_count": 59,
   "id": "vocal-gasoline",
   "metadata": {},
   "outputs": [],
   "source": [
    "#session_train_looks_cnt"
   ]
  },
  {
   "cell_type": "code",
   "execution_count": 6,
   "id": "municipal-maximum",
   "metadata": {},
   "outputs": [],
   "source": [
    "# Creating an array of buys\n",
    "session_train_buys = [element[1] for element in session_train_split_records]\n",
    "session_train_buys_np = np.array( [id_n for sess in session_train_buys for id_n in sess] )\n",
    "\n",
    "# Array of unique ids and buys in train data\n",
    "session_train_buys_cnt = np.transpose(np.unique(session_train_buys_np, return_counts=True))"
   ]
  },
  {
   "cell_type": "code",
   "execution_count": 60,
   "id": "ordinary-citizen",
   "metadata": {},
   "outputs": [],
   "source": [
    "#session_train_buys_cnt"
   ]
  },
  {
   "cell_type": "code",
   "execution_count": 227,
   "id": "quantitative-front",
   "metadata": {},
   "outputs": [
    {
     "data": {
      "text/html": [
       "<div>\n",
       "<style scoped>\n",
       "    .dataframe tbody tr th:only-of-type {\n",
       "        vertical-align: middle;\n",
       "    }\n",
       "\n",
       "    .dataframe tbody tr th {\n",
       "        vertical-align: top;\n",
       "    }\n",
       "\n",
       "    .dataframe thead th {\n",
       "        text-align: right;\n",
       "    }\n",
       "</style>\n",
       "<table border=\"1\" class=\"dataframe\">\n",
       "  <thead>\n",
       "    <tr style=\"text-align: right;\">\n",
       "      <th></th>\n",
       "      <th>id</th>\n",
       "      <th>count</th>\n",
       "    </tr>\n",
       "  </thead>\n",
       "  <tbody>\n",
       "    <tr>\n",
       "      <th>0</th>\n",
       "      <td>158</td>\n",
       "      <td>14</td>\n",
       "    </tr>\n",
       "    <tr>\n",
       "      <th>1</th>\n",
       "      <td>204</td>\n",
       "      <td>12</td>\n",
       "    </tr>\n",
       "  </tbody>\n",
       "</table>\n",
       "</div>"
      ],
      "text/plain": [
       "    id  count\n",
       "0  158     14\n",
       "1  204     12"
      ]
     },
     "execution_count": 227,
     "metadata": {},
     "output_type": "execute_result"
    }
   ],
   "source": [
    "# Creating a dataframe with ID and count\n",
    "\n",
    "session_train_buys_df = pd.DataFrame.from_records(session_train_buys_cnt, columns=['id','count'])\n",
    "session_train_buys_df.drop_duplicates(subset=['id'], keep='first',inplace=True)\n",
    "session_train_buys_df.sort_values(by=['count'],inplace=True,ascending=False)\n",
    "session_train_buys_df.reset_index(inplace=True,drop=True)\n",
    "session_train_buys_df.dropna(inplace=True)\n",
    "\n",
    "session_train_buys_df.head(2)"
   ]
  },
  {
   "cell_type": "code",
   "execution_count": 229,
   "id": "rolled-retailer",
   "metadata": {},
   "outputs": [
    {
     "data": {
      "text/html": [
       "<div>\n",
       "<style scoped>\n",
       "    .dataframe tbody tr th:only-of-type {\n",
       "        vertical-align: middle;\n",
       "    }\n",
       "\n",
       "    .dataframe tbody tr th {\n",
       "        vertical-align: top;\n",
       "    }\n",
       "\n",
       "    .dataframe thead th {\n",
       "        text-align: right;\n",
       "    }\n",
       "</style>\n",
       "<table border=\"1\" class=\"dataframe\">\n",
       "  <thead>\n",
       "    <tr style=\"text-align: right;\">\n",
       "      <th></th>\n",
       "      <th>id</th>\n",
       "      <th>count</th>\n",
       "    </tr>\n",
       "  </thead>\n",
       "  <tbody>\n",
       "    <tr>\n",
       "      <th>0</th>\n",
       "      <td>73</td>\n",
       "      <td>677</td>\n",
       "    </tr>\n",
       "    <tr>\n",
       "      <th>1</th>\n",
       "      <td>158</td>\n",
       "      <td>641</td>\n",
       "    </tr>\n",
       "  </tbody>\n",
       "</table>\n",
       "</div>"
      ],
      "text/plain": [
       "    id  count\n",
       "0   73    677\n",
       "1  158    641"
      ]
     },
     "execution_count": 229,
     "metadata": {},
     "output_type": "execute_result"
    }
   ],
   "source": [
    "# Creating a dataframe with ID and count\n",
    "\n",
    "session_train_looks_df = pd.DataFrame.from_records(session_train_looks_cnt, columns=['id','count'])\n",
    "session_train_looks_df.drop_duplicates(subset=['id'], keep='first',inplace=True)\n",
    "session_train_looks_df.sort_values(by=['count'],inplace=True,ascending=False)\n",
    "session_train_looks_df.reset_index(inplace=True,drop=True)\n",
    "session_train_looks_df.dropna(inplace=True)\n",
    "\n",
    "session_train_looks_df.head(2)"
   ]
  },
  {
   "cell_type": "markdown",
   "id": "inner-office",
   "metadata": {},
   "source": [
    "### Задание 2.\n",
    "\n",
    "Реализуйте два алгоритма рекомендаций: сортировка просмотренных id по популярности (частота появления в просмотренных), сортировка просморенных id по покупаемости (частота появления в покупках). Если частота одинаковая, то сортировать надо по возрастанию момента просмотра (чем раньше появился в просмотренных, тем больше приоритет)\n"
   ]
  },
  {
   "cell_type": "code",
   "execution_count": 67,
   "id": "applied-procedure",
   "metadata": {},
   "outputs": [],
   "source": [
    "# We have to create a function to calculte precision@k and recall@k mertrics, based on purchases in session and recommendations + k-recommendations\n",
    "\n",
    "def precision_and_recall(session_purchases, recommendations, k): \n",
    "    '''\n",
    "    Calculation the precision@k and recall@k metrics for recommendations\n",
    "    '''\n",
    "    purchases_from_recommendations = 0\n",
    "    \n",
    "    for ind in recommendations:\n",
    "        if ind in session_purchases:\n",
    "            purchases_from_recommendations +=1\n",
    "    \n",
    "    precision = purchases_from_recommendations / k\n",
    "    \n",
    "    recall = purchases_from_recommendations / len(session_purchases)\n",
    "    \n",
    "    return (precision, recall)"
   ]
  },
  {
   "cell_type": "code",
   "execution_count": 270,
   "id": "postal-anime",
   "metadata": {},
   "outputs": [],
   "source": [
    "def dataframe_transform(session_ids):\n",
    "    '''\n",
    "    Transform the series or array like object into necessary dataframe with columns ID and cnt\n",
    "    '''   \n",
    "    # Create array from list\n",
    "    session_ids_np = np.array( [id_n for sess in session_ids for id_n in sess] )\n",
    "\n",
    "    # Array of unique ids and buys in train data\n",
    "    session_ids_cnt = np.transpose(np.unique(session_ids_np, return_counts=True))\n",
    "    \n",
    "    # Transformarion array into dataframe\n",
    "    session_ids_df = pd.DataFrame.from_records(session_ids_cnt, columns=['id','count'])\n",
    "    session_ids_df.drop_duplicates(subset=['id'], keep='first',inplace=True)\n",
    "    session_ids_df.sort_values(by=['count'],inplace=True,ascending=False)\n",
    "    session_ids_df.reset_index(inplace=True,drop=True)\n",
    "    session_ids_df.dropna(inplace=True)\n",
    "    \n",
    "    return session_ids_df    "
   ]
  },
  {
   "cell_type": "code",
   "execution_count": 283,
   "id": "artistic-license",
   "metadata": {},
   "outputs": [],
   "source": [
    "# Let's define a function:\n",
    "def recommendation_assessment(session_buys, session_looks, method=['looks','buys'], k=1):\n",
    "    '''\n",
    "    \n",
    "    '''\n",
    "    prec_at_k, rec_at_k = [], []\n",
    "    \n",
    "    # Create two dataframes from list of buys and looks with frequencies\n",
    "    session_buys_df = dataframe_transform(session_buys)\n",
    "    session_looks_df = dataframe_transform(session_looks)\n",
    "\n",
    "    for i, sess_p in enumerate(session_buys):\n",
    "        # skip sessions without purchases\n",
    "        if sess_p == []: continue\n",
    "\n",
    "        # looks ids\n",
    "        sess_l = session_looks[i]\n",
    "        if sess_l == ['']: continue\n",
    "\n",
    "        # sorted looks ids indices in sess_train_l_cnt array\n",
    "        # sort in accordance with looks counts\n",
    "        l_ind_sess = []\n",
    "        \n",
    "        if method=='looks':\n",
    "            for j in range(len(sess_l)):\n",
    "                l_ind_sess.append(np.where(session_looks_df.iloc[:,0].to_numpy() == sess_l[j])[0][0])\n",
    "            l_ind_sess_sorted = np.unique(l_ind_sess)\n",
    "            \n",
    "            # k recommendations for looks\n",
    "            num_of_recs_k = min(k, len(sess_l))\n",
    "            if num_of_recs_k == 0: continue\n",
    "            recs_k = session_looks_df.iloc[l_ind_sess_sorted[:num_of_recs_k],0]\n",
    "\n",
    "            \n",
    "        else:\n",
    "            for j in range(len(sess_l)):\n",
    "                if sess_l[j] not in session_buys_df.iloc[:,0].values: continue\n",
    "                l_ind_sess.append(np.where(session_buys_df.iloc[:,0].to_numpy() == sess_l[j])[0][0])\n",
    "            l_ind_sess_sorted = np.unique(l_ind_sess)\n",
    "            \n",
    "            # k recommendations for buys \n",
    "            num_of_recs_k = min(k, len(sess_l), len(l_ind_sess_sorted))\n",
    "            if num_of_recs_k == 0: continue\n",
    "            recs_k = session_buys_df.iloc[l_ind_sess_sorted[:num_of_recs_k],0]\n",
    "            \n",
    "\n",
    "        \n",
    "\n",
    "        # k metrics\n",
    "        prec, rec = precision_and_recall(sess_p, recs_k, k)\n",
    "        prec_at_k.append(prec)\n",
    "        rec_at_k.append(rec)  \n",
    "\n",
    "        # Avg metrics\n",
    "        avg_prec_at_k = np.mean(prec_at_k)\n",
    "        avg_rec_at_k = np.mean(rec_at_k)\n",
    "        \n",
    "    print('Method:', method, 'for k =',k)\n",
    "    return avg_rec_at_k, avg_prec_at_k"
   ]
  },
  {
   "cell_type": "markdown",
   "id": "aquatic-watson",
   "metadata": {},
   "source": [
    "### Задание 3.\n",
    "\n",
    "Для данных алгоритмов выпишите через пробел AverageRecall@1, AveragePrecision@1, AverageRecall@5, AveragePrecision@5 на обучающей и тестовых выборках, округляя до 2 знака после запятой. Это будут ваши ответы в этом задании. Посмотрите, как они соотносятся друг с другом. Где качество получилось выше? Значимо ли это различие? Обратите внимание на различие качества на обучающей и тестовой выборке в случае рекомендаций по частотам покупки.\n"
   ]
  },
  {
   "cell_type": "markdown",
   "id": "spread-threshold",
   "metadata": {},
   "source": [
    "### Тренировочная выборка"
   ]
  },
  {
   "cell_type": "code",
   "execution_count": 278,
   "id": "christian-george",
   "metadata": {},
   "outputs": [
    {
     "name": "stdout",
     "output_type": "stream",
     "text": [
      "Method: looks for k = 1\n"
     ]
    },
    {
     "data": {
      "text/plain": [
       "(0.4399666336681303, 0.5091463414634146)"
      ]
     },
     "execution_count": 278,
     "metadata": {},
     "output_type": "execute_result"
    }
   ],
   "source": [
    "recommendation_assessment(session_train_buys, session_train_looks, method='looks', k=1)"
   ]
  },
  {
   "cell_type": "code",
   "execution_count": 280,
   "id": "complex-trail",
   "metadata": {},
   "outputs": [
    {
     "name": "stdout",
     "output_type": "stream",
     "text": [
      "Method: looks for k = 5\n"
     ]
    },
    {
     "data": {
      "text/plain": [
       "(0.8232921573068469, 0.21191796008869182)"
      ]
     },
     "execution_count": 280,
     "metadata": {},
     "output_type": "execute_result"
    }
   ],
   "source": [
    "recommendation_assessment(session_train_buys, session_train_looks, method='looks', k=5)"
   ]
  },
  {
   "cell_type": "code",
   "execution_count": 284,
   "id": "imposed-thumbnail",
   "metadata": {},
   "outputs": [
    {
     "name": "stdout",
     "output_type": "stream",
     "text": [
      "Method: buys for k = 1\n"
     ]
    },
    {
     "data": {
      "text/plain": [
       "(0.6880057257894187, 0.8041468198374895)"
      ]
     },
     "execution_count": 284,
     "metadata": {},
     "output_type": "execute_result"
    }
   ],
   "source": [
    "recommendation_assessment(session_train_buys, session_train_looks, method='buys', k=1)"
   ]
  },
  {
   "cell_type": "code",
   "execution_count": 282,
   "id": "lonely-virgin",
   "metadata": {},
   "outputs": [
    {
     "name": "stdout",
     "output_type": "stream",
     "text": [
      "Method: buys for k = 5\n"
     ]
    },
    {
     "data": {
      "text/plain": [
       "(0.9367924858678571, 0.2559820678061082)"
      ]
     },
     "execution_count": 282,
     "metadata": {},
     "output_type": "execute_result"
    }
   ],
   "source": [
    "recommendation_assessment(session_train_buys, session_train_looks, method='buys', k=5)"
   ]
  },
  {
   "cell_type": "code",
   "execution_count": 292,
   "id": "accompanied-princess",
   "metadata": {},
   "outputs": [
    {
     "data": {
      "text/plain": [
       "19"
      ]
     },
     "execution_count": 292,
     "metadata": {},
     "output_type": "execute_result"
    },
    {
     "name": "stdout",
     "output_type": "stream",
     "text": [
      "[0.44, 0.51, 0.83, 0.21]\n"
     ]
    }
   ],
   "source": [
    "with open('looks_popularity_train.txt','w') as file_out:\n",
    "    file_out.write(' '.join([str(x) for x in [0.44, 0.51, 0.83, 0.21]]))\n",
    "    print([0.44, 0.51, 0.83, 0.21])"
   ]
  },
  {
   "cell_type": "code",
   "execution_count": 291,
   "id": "developed-national",
   "metadata": {},
   "outputs": [
    {
     "data": {
      "text/plain": [
       "19"
      ]
     },
     "execution_count": 291,
     "metadata": {},
     "output_type": "execute_result"
    },
    {
     "name": "stdout",
     "output_type": "stream",
     "text": [
      "[0.68, 0.79, 0.93, 0.25]\n"
     ]
    }
   ],
   "source": [
    "with open('buys_popularity_train.txt','w') as file_out:\n",
    "    file_out.write(' '.join([str(x) for x in [0.68, 0.79, 0.93, 0.25]]))\n",
    "    print([0.68, 0.79, 0.93, 0.25])"
   ]
  },
  {
   "cell_type": "markdown",
   "id": "cooperative-import",
   "metadata": {},
   "source": [
    "### Тестовая выборка"
   ]
  },
  {
   "cell_type": "code",
   "execution_count": 299,
   "id": "automated-grocery",
   "metadata": {},
   "outputs": [],
   "source": [
    "# sessions_test_split_records\n",
    "session_test_looks = [element[0] for element in sessions_test_split_records]\n",
    "session_test_buys = [element[1] for element in sessions_test_split_records]"
   ]
  },
  {
   "cell_type": "code",
   "execution_count": 300,
   "id": "present-median",
   "metadata": {},
   "outputs": [
    {
     "name": "stdout",
     "output_type": "stream",
     "text": [
      "Method: looks for k = 1\n"
     ]
    },
    {
     "data": {
      "text/plain": [
       "(0.43274578271508696, 0.5020463847203275)"
      ]
     },
     "execution_count": 300,
     "metadata": {},
     "output_type": "execute_result"
    }
   ],
   "source": [
    "recommendation_assessment(session_test_buys,session_test_looks,method='looks',k=1)"
   ]
  },
  {
   "cell_type": "code",
   "execution_count": 301,
   "id": "maritime-tamil",
   "metadata": {},
   "outputs": [
    {
     "name": "stdout",
     "output_type": "stream",
     "text": [
      "Method: looks for k = 5\n"
     ]
    },
    {
     "data": {
      "text/plain": [
       "(0.812639186475672, 0.20774897680763987)"
      ]
     },
     "execution_count": 301,
     "metadata": {},
     "output_type": "execute_result"
    }
   ],
   "source": [
    "recommendation_assessment(session_test_buys,session_test_looks,method='looks',k=5)"
   ]
  },
  {
   "cell_type": "code",
   "execution_count": 302,
   "id": "structural-classic",
   "metadata": {},
   "outputs": [
    {
     "name": "stdout",
     "output_type": "stream",
     "text": [
      "Method: buys for k = 1\n"
     ]
    },
    {
     "data": {
      "text/plain": [
       "(0.6916714338317488, 0.8061309030654515)"
      ]
     },
     "execution_count": 302,
     "metadata": {},
     "output_type": "execute_result"
    }
   ],
   "source": [
    "recommendation_assessment(session_test_buys,session_test_looks,method='buys',k=1)"
   ]
  },
  {
   "cell_type": "code",
   "execution_count": 303,
   "id": "apart-stomach",
   "metadata": {},
   "outputs": [
    {
     "name": "stdout",
     "output_type": "stream",
     "text": [
      "Method: buys for k = 5\n"
     ]
    },
    {
     "data": {
      "text/plain": [
       "(0.9310429825355336, 0.251919359293013)"
      ]
     },
     "execution_count": 303,
     "metadata": {},
     "output_type": "execute_result"
    }
   ],
   "source": [
    "recommendation_assessment(session_test_buys,session_test_looks,method='buys',k=5)"
   ]
  },
  {
   "cell_type": "code",
   "execution_count": 307,
   "id": "specific-resistance",
   "metadata": {},
   "outputs": [
    {
     "data": {
      "text/plain": [
       "17"
      ]
     },
     "execution_count": 307,
     "metadata": {},
     "output_type": "execute_result"
    },
    {
     "name": "stdout",
     "output_type": "stream",
     "text": [
      "[0.42, 0.48, 0.8, 0.2]\n"
     ]
    }
   ],
   "source": [
    "with open('looks_popularity_test.txt','w') as file_out:\n",
    "    file_out.write(' '.join([str(x) for x in [0.42, 0.48, 0.80, 0.20]]))\n",
    "    print([0.42, 0.48, 0.80, 0.20])"
   ]
  },
  {
   "cell_type": "code",
   "execution_count": 305,
   "id": "brave-compilation",
   "metadata": {},
   "outputs": [
    {
     "data": {
      "text/plain": [
       "19"
      ]
     },
     "execution_count": 305,
     "metadata": {},
     "output_type": "execute_result"
    },
    {
     "name": "stdout",
     "output_type": "stream",
     "text": [
      "[0.46, 0.52, 0.82, 0.21]\n"
     ]
    }
   ],
   "source": [
    "with open('buys_popularity_test.txt','w') as file_out:\n",
    "    file_out.write(' '.join([str(x) for x in [0.46, 0.52, 0.82, 0.21]]))\n",
    "    print([0.46, 0.52, 0.82, 0.21])"
   ]
  },
  {
   "cell_type": "markdown",
   "id": "changing-equivalent",
   "metadata": {},
   "source": [
    "### Дополнительные вопросы\n",
    "\n",
    "-   Обратите внимание, что при сортировке по покупаемости возникает много товаров с одинаковым рангом - это означает, что значение метрик будет зависеть от того, как мы будем сортировать товары с одинаковым рангом. Попробуйте убедиться, что при изменении сортировки таких товаров recall@k меняется. Подумайте, как оценить минимальное и максимальное значение recall@k в зависимости от правила сортировки.\n",
    "\n",
    "-   Мы обучаемся и тестируемся на полных сессиях (в которых есть все просмотренные за сессию товары). Подумайте, почему полученная нами оценка качества рекомендаций в этом случае несколько завышена.\n",
    "\n"
   ]
  }
 ],
 "metadata": {
  "kernelspec": {
   "display_name": "coursera",
   "language": "python",
   "name": "coursera"
  },
  "language_info": {
   "codemirror_mode": {
    "name": "ipython",
    "version": 3
   },
   "file_extension": ".py",
   "mimetype": "text/x-python",
   "name": "python",
   "nbconvert_exporter": "python",
   "pygments_lexer": "ipython3",
   "version": "3.9.1"
  }
 },
 "nbformat": 4,
 "nbformat_minor": 5
}
