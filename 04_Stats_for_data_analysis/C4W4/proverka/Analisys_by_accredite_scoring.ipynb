{
 "cells": [
  {
   "cell_type": "code",
   "execution_count": 124,
   "metadata": {
    "colab": {
     "base_uri": "https://localhost:8080/"
    },
    "id": "puY3Hn-5yQHK",
    "outputId": "63f5ce17-ca43-4663-f94e-9413281a3c6e"
   },
   "outputs": [
    {
     "name": "stderr",
     "output_type": "stream",
     "text": [
      "/usr/local/lib/python3.6/dist-packages/statsmodels/tools/_testing.py:19: FutureWarning: pandas.util.testing is deprecated. Use the functions in the public API at pandas.testing instead.\n",
      "  import pandas.util.testing as tm\n"
     ]
    }
   ],
   "source": [
    "import pandas as pd\r\n",
    "import numpy as np\r\n",
    "from random import sample\r\n",
    "import scipy\r\n",
    "import statsmodels\r\n",
    "from statsmodels.stats.weightstats import *\r\n",
    "from statsmodels.stats.proportion import proportion_confint\r\n",
    "import itertools\r\n",
    "import seaborn as sns\r\n",
    "import matplotlib.pyplot as plt\r\n",
    "%matplotlib inline"
   ]
  },
  {
   "cell_type": "markdown",
   "metadata": {
    "id": "n41J2mPMyc76"
   },
   "source": [
    "Для выполнения этого задания вам понадобятся данные о кредитных историях клиентов одного из банков. Поля в предоставляемых данных имеют следующий смысл: \r\n",
    "\r\n",
    "* LIMIT_BAL:  размер кредитного лимита (в том числе и на семью клиента)\r\n",
    "* SEX: пол клиента (1 = мужской, 2 = женский )\r\n",
    "* EDUCATION: образование (0 = доктор, 1 = магистр; 2 = бакалавр; 3 = выпускник школы; 4 = начальное образование; 5= прочее; 6 = нет данных ).\r\n",
    "* MARRIAGE: (0 = отказываюсь отвечать; 1 = замужем/женат; 2 = холост; 3 = нет данных). \r\n",
    "* AGE: возраст в годах\r\n",
    "* PAY_0 - PAY_6 : История прошлых платежей по кредиту. PAY_6 - платеж в апреле, ... Pay_0 - платеж в сентябре. Платеж = (0 = исправный платеж, 1=задержка в один месяц, 2=задержка в 2 месяца ...)\r\n",
    "* BILL_AMT1 - BILL_AMT6:  задолженность,  BILL_AMT6 - на апрель, BILL_AMT1 - на сентябрь \r\n",
    "* PAY_AMT1 - PAY_AMT6: сумма уплаченная в PAY_AMT6 - апреле, ..., PAY_AMT1 - сентябре \r\n",
    "* default - индикатор невозврата денежных средств"
   ]
  },
  {
   "cell_type": "code",
   "execution_count": 2,
   "metadata": {
    "colab": {
     "base_uri": "https://localhost:8080/",
     "height": 224
    },
    "id": "BU3gs8O1z7jh",
    "outputId": "455416a8-8f69-4967-8304-99cd8828a2d8"
   },
   "outputs": [
    {
     "data": {
      "text/html": [
       "<div>\n",
       "<style scoped>\n",
       "    .dataframe tbody tr th:only-of-type {\n",
       "        vertical-align: middle;\n",
       "    }\n",
       "\n",
       "    .dataframe tbody tr th {\n",
       "        vertical-align: top;\n",
       "    }\n",
       "\n",
       "    .dataframe thead th {\n",
       "        text-align: right;\n",
       "    }\n",
       "</style>\n",
       "<table border=\"1\" class=\"dataframe\">\n",
       "  <thead>\n",
       "    <tr style=\"text-align: right;\">\n",
       "      <th></th>\n",
       "      <th>ID</th>\n",
       "      <th>LIMIT_BAL</th>\n",
       "      <th>SEX</th>\n",
       "      <th>EDUCATION</th>\n",
       "      <th>MARRIAGE</th>\n",
       "      <th>AGE</th>\n",
       "      <th>PAY_0</th>\n",
       "      <th>PAY_2</th>\n",
       "      <th>PAY_3</th>\n",
       "      <th>PAY_4</th>\n",
       "      <th>PAY_5</th>\n",
       "      <th>PAY_6</th>\n",
       "      <th>BILL_AMT1</th>\n",
       "      <th>BILL_AMT2</th>\n",
       "      <th>BILL_AMT3</th>\n",
       "      <th>BILL_AMT4</th>\n",
       "      <th>BILL_AMT5</th>\n",
       "      <th>BILL_AMT6</th>\n",
       "      <th>PAY_AMT1</th>\n",
       "      <th>PAY_AMT2</th>\n",
       "      <th>PAY_AMT3</th>\n",
       "      <th>PAY_AMT4</th>\n",
       "      <th>PAY_AMT5</th>\n",
       "      <th>PAY_AMT6</th>\n",
       "      <th>default</th>\n",
       "    </tr>\n",
       "  </thead>\n",
       "  <tbody>\n",
       "    <tr>\n",
       "      <th>0</th>\n",
       "      <td>1</td>\n",
       "      <td>20000</td>\n",
       "      <td>2</td>\n",
       "      <td>2</td>\n",
       "      <td>1</td>\n",
       "      <td>24</td>\n",
       "      <td>2</td>\n",
       "      <td>2</td>\n",
       "      <td>0</td>\n",
       "      <td>0</td>\n",
       "      <td>0</td>\n",
       "      <td>0</td>\n",
       "      <td>3913</td>\n",
       "      <td>3102</td>\n",
       "      <td>689</td>\n",
       "      <td>0</td>\n",
       "      <td>0</td>\n",
       "      <td>0</td>\n",
       "      <td>0</td>\n",
       "      <td>689</td>\n",
       "      <td>0</td>\n",
       "      <td>0</td>\n",
       "      <td>0</td>\n",
       "      <td>0</td>\n",
       "      <td>1</td>\n",
       "    </tr>\n",
       "    <tr>\n",
       "      <th>1</th>\n",
       "      <td>2</td>\n",
       "      <td>120000</td>\n",
       "      <td>2</td>\n",
       "      <td>2</td>\n",
       "      <td>2</td>\n",
       "      <td>26</td>\n",
       "      <td>0</td>\n",
       "      <td>2</td>\n",
       "      <td>0</td>\n",
       "      <td>0</td>\n",
       "      <td>0</td>\n",
       "      <td>2</td>\n",
       "      <td>2682</td>\n",
       "      <td>1725</td>\n",
       "      <td>2682</td>\n",
       "      <td>3272</td>\n",
       "      <td>3455</td>\n",
       "      <td>3261</td>\n",
       "      <td>0</td>\n",
       "      <td>1000</td>\n",
       "      <td>1000</td>\n",
       "      <td>1000</td>\n",
       "      <td>0</td>\n",
       "      <td>2000</td>\n",
       "      <td>1</td>\n",
       "    </tr>\n",
       "    <tr>\n",
       "      <th>2</th>\n",
       "      <td>3</td>\n",
       "      <td>90000</td>\n",
       "      <td>2</td>\n",
       "      <td>2</td>\n",
       "      <td>2</td>\n",
       "      <td>34</td>\n",
       "      <td>0</td>\n",
       "      <td>0</td>\n",
       "      <td>0</td>\n",
       "      <td>0</td>\n",
       "      <td>0</td>\n",
       "      <td>0</td>\n",
       "      <td>29239</td>\n",
       "      <td>14027</td>\n",
       "      <td>13559</td>\n",
       "      <td>14331</td>\n",
       "      <td>14948</td>\n",
       "      <td>15549</td>\n",
       "      <td>1518</td>\n",
       "      <td>1500</td>\n",
       "      <td>1000</td>\n",
       "      <td>1000</td>\n",
       "      <td>1000</td>\n",
       "      <td>5000</td>\n",
       "      <td>0</td>\n",
       "    </tr>\n",
       "    <tr>\n",
       "      <th>3</th>\n",
       "      <td>4</td>\n",
       "      <td>50000</td>\n",
       "      <td>2</td>\n",
       "      <td>2</td>\n",
       "      <td>1</td>\n",
       "      <td>37</td>\n",
       "      <td>0</td>\n",
       "      <td>0</td>\n",
       "      <td>0</td>\n",
       "      <td>0</td>\n",
       "      <td>0</td>\n",
       "      <td>0</td>\n",
       "      <td>46990</td>\n",
       "      <td>48233</td>\n",
       "      <td>49291</td>\n",
       "      <td>28314</td>\n",
       "      <td>28959</td>\n",
       "      <td>29547</td>\n",
       "      <td>2000</td>\n",
       "      <td>2019</td>\n",
       "      <td>1200</td>\n",
       "      <td>1100</td>\n",
       "      <td>1069</td>\n",
       "      <td>1000</td>\n",
       "      <td>0</td>\n",
       "    </tr>\n",
       "    <tr>\n",
       "      <th>4</th>\n",
       "      <td>5</td>\n",
       "      <td>50000</td>\n",
       "      <td>1</td>\n",
       "      <td>2</td>\n",
       "      <td>1</td>\n",
       "      <td>57</td>\n",
       "      <td>0</td>\n",
       "      <td>0</td>\n",
       "      <td>0</td>\n",
       "      <td>0</td>\n",
       "      <td>0</td>\n",
       "      <td>0</td>\n",
       "      <td>8617</td>\n",
       "      <td>5670</td>\n",
       "      <td>35835</td>\n",
       "      <td>20940</td>\n",
       "      <td>19146</td>\n",
       "      <td>19131</td>\n",
       "      <td>2000</td>\n",
       "      <td>36681</td>\n",
       "      <td>10000</td>\n",
       "      <td>9000</td>\n",
       "      <td>689</td>\n",
       "      <td>679</td>\n",
       "      <td>0</td>\n",
       "    </tr>\n",
       "  </tbody>\n",
       "</table>\n",
       "</div>"
      ],
      "text/plain": [
       "   ID  LIMIT_BAL  SEX  EDUCATION  ...  PAY_AMT4  PAY_AMT5  PAY_AMT6  default\n",
       "0   1      20000    2          2  ...         0         0         0        1\n",
       "1   2     120000    2          2  ...      1000         0      2000        1\n",
       "2   3      90000    2          2  ...      1000      1000      5000        0\n",
       "3   4      50000    2          2  ...      1100      1069      1000        0\n",
       "4   5      50000    1          2  ...      9000       689       679        0\n",
       "\n",
       "[5 rows x 25 columns]"
      ]
     },
     "execution_count": 2,
     "metadata": {
      "tags": []
     },
     "output_type": "execute_result"
    }
   ],
   "source": [
    "df = pd.read_csv('/content/drive/MyDrive/Colab Notebooks/MPTI_ML_4course/week_4/credit_card_default_analysis.csv', sep=',', header=0)\r\n",
    "df.head()"
   ]
  },
  {
   "cell_type": "code",
   "execution_count": 3,
   "metadata": {
    "colab": {
     "base_uri": "https://localhost:8080/"
    },
    "id": "5Tc2cWge2_GV",
    "outputId": "935847d0-2ab5-4819-ce40-187186cff9ee"
   },
   "outputs": [
    {
     "name": "stdout",
     "output_type": "stream",
     "text": [
      "(30000, 25)\n"
     ]
    }
   ],
   "source": [
    "print(df.shape)"
   ]
  },
  {
   "cell_type": "code",
   "execution_count": 14,
   "metadata": {
    "id": "76_7RwrU1U5u"
   },
   "outputs": [],
   "source": [
    "def get_bootstrap_samples(data, n_samples):\r\n",
    "    indices = np.random.randint(0, len(data), (n_samples, len(data)))\r\n",
    "    samples = data[indices]\r\n",
    "    return samples\r\n",
    "\r\n",
    "def stat_intervals(stat, alpha):\r\n",
    "    boundaries = np.percentile(stat, [100 * alpha / 2., 100 * (1 - alpha / 2.)])\r\n",
    "    return boundaries\r\n",
    "\r\n",
    "def calculate_median_confidence_interval(data, samples_count = 1000, alpha = 0.05):\r\n",
    "    median = np.median(data)\r\n",
    "    medians = list(map(lambda samples_group: np.median(samples_group), get_bootstrap_samples(data, samples_count)))\r\n",
    "    confint = stat_intervals(medians, alpha)\r\n",
    "    return (median, confint)\r\n",
    "\r\n",
    "def compare_distributions(data1, data2, samples_count, alpha):\r\n",
    "    boot_med_data1 = np.asarray(list(\r\n",
    "        map(lambda samples_group: np.median(samples_group), get_bootstrap_samples(data1, samples_count))))\r\n",
    "    \r\n",
    "    boot_med_data2 = np.asarray(list(\r\n",
    "        map(lambda samples_group: np.median(samples_group), get_bootstrap_samples(data2, samples_count))))\r\n",
    "\r\n",
    "    median_deltas = boot_med_data1 - boot_med_data2\r\n",
    "\r\n",
    "    return stat_intervals(median_deltas, alpha)"
   ]
  },
  {
   "cell_type": "markdown",
   "metadata": {
    "id": "rZT6nnvcywHJ"
   },
   "source": [
    "#Задание 1\r\n",
    "\r\n",
    "Размер кредитного лимита (LIMIT_BAL). В двух группах, тех людей, кто вернул кредит (default = 0) и тех, кто его не вернул (default = 1) проверьте гипотезы:   \r\n",
    "\r\n",
    "##a)  о равенстве медианных значений кредитного лимита с помощью подходящей интервальной оценки  "
   ]
  },
  {
   "cell_type": "code",
   "execution_count": 6,
   "metadata": {
    "id": "1AfDh2jzykrv"
   },
   "outputs": [],
   "source": [
    "# Разделим данные на две группы default и success\r\n",
    "df_default = df[df['default'] == 1]\r\n",
    "df_success = df[df['default'] == 0]"
   ]
  },
  {
   "cell_type": "code",
   "execution_count": 7,
   "metadata": {
    "colab": {
     "base_uri": "https://localhost:8080/",
     "height": 389
    },
    "id": "MkA0gM4p3EQT",
    "outputId": "d1f228da-cbef-4243-f012-a9b8775e6253"
   },
   "outputs": [
    {
     "data": {
      "image/png": "[encoded data removed]",
      "text/plain": [
       "<Figure size 864x432 with 1 Axes>"
      ]
     },
     "metadata": {
      "tags": []
     },
     "output_type": "display_data"
    }
   ],
   "source": [
    "_, ax = plt.subplots(figsize = (12, 6), facecolor='w')\r\n",
    "sns.boxplot(y='default', x='LIMIT_BAL', data=df, orient=\"h\", ax=ax)\r\n",
    "ax.grid()"
   ]
  },
  {
   "cell_type": "code",
   "execution_count": 175,
   "metadata": {
    "colab": {
     "base_uri": "https://localhost:8080/",
     "height": 294
    },
    "id": "jBHpnX3K5GkW",
    "outputId": "46cc4a7b-aaf0-48b1-fe18-544b9bc6fde8"
   },
   "outputs": [
    {
     "data": {
      "image/png": "[encoded data removed]",
      "text/plain": [
       "<Figure size 504x288 with 1 Axes>"
      ]
     },
     "metadata": {
      "tags": []
     },
     "output_type": "display_data"
    }
   ],
   "source": [
    "_, ax = plt.subplots(figsize = (7, 4), facecolor='w')\r\n",
    "df_success.hist(column='LIMIT_BAL', label='Success limits', ax=ax, ec='k')\r\n",
    "df_default.hist(column='LIMIT_BAL', label='Default limits', ax=ax, ec='k')\r\n",
    "ax.legend()\r\n",
    "ax.grid(False)\r\n",
    "plt.show()"
   ]
  },
  {
   "cell_type": "markdown",
   "metadata": {
    "id": "n2G0fzPv9ZSE"
   },
   "source": [
    "По графикам видно, что распределения лимитов для групп 'success' и 'default' очень похожи друг на друга, но есть разница между размерами кредитного лимита. Для группы success размер кредитного лимита выше. \r\n",
    "\r\n",
    "Докажем, с помощью доверительных интервалов, построенных с помощью метода bootstrap, что различие между значениями в этих группах действительно есть.\r\n"
   ]
  },
  {
   "cell_type": "code",
   "execution_count": 19,
   "metadata": {
    "id": "P8YTlxhM9ooQ"
   },
   "outputs": [],
   "source": [
    "samples_count = 1000\r\n",
    "alpha = 0.05\r\n",
    "# confint for default data median\r\n",
    "med_default_confint = calculate_median_confidence_interval(df_default['LIMIT_BAL'].values, \r\n",
    "                                                           samples_count, alpha)\r\n",
    "# confint for success data median\r\n",
    "med_success_confint = calculate_median_confidence_interval(df_success['LIMIT_BAL'].values, \r\n",
    "                                                             samples_count, alpha)\r\n",
    "# confint for difference midle default and success data median\r\n",
    "med_delta_confint = compare_distributions(df_success['LIMIT_BAL'].values, \r\n",
    "                                             df_default['LIMIT_BAL'].values, \r\n",
    "                                             samples_count, alpha)"
   ]
  },
  {
   "cell_type": "code",
   "execution_count": 179,
   "metadata": {
    "colab": {
     "base_uri": "https://localhost:8080/"
    },
    "id": "AbCK3a-m_eQW",
    "outputId": "4bf47de9-147b-4c42-cbc2-fd8178bd90b0"
   },
   "outputs": [
    {
     "name": "stdout",
     "output_type": "stream",
     "text": [
      "median for default ages: 90000.0000\tconf_int: [80000. 90000.]\n",
      "median for success ages: 150000.0000\tconf_int: [150000. 150000.]\n",
      "conf_int for difference between default & success groups is [60000. 70000.]\n"
     ]
    }
   ],
   "source": [
    "print('median for default ages: %.4f\\tconf_int: %s' % med_default_confint)\r\n",
    "print('median for success ages: %.4f\\tconf_int: %s' % med_success_confint)\r\n",
    "print('conf_int for difference between default & success groups is %s' % med_delta_confint)"
   ]
  },
  {
   "cell_type": "markdown",
   "metadata": {
    "id": "8mM_VTn2wVWB"
   },
   "source": [
    "Доверительный интервал для разницы кредитного лимита между 'success' и 'default' группами далеко отстоит от нуля. Поэтому можно с уверенностью сказать, что кредитный лимит в группе 'success' значимо выше."
   ]
  },
  {
   "cell_type": "markdown",
   "metadata": {
    "id": "29DPrb8bwwS9"
   },
   "source": [
    "##b) о равенстве распределений с помощью одного из подходящих непараметрических критериев проверки равенства средних.  Значимы ли полученные результаты с практической точки зрения?"
   ]
  },
  {
   "cell_type": "code",
   "execution_count": 85,
   "metadata": {
    "id": "mZKDNfjRwv3M"
   },
   "outputs": [],
   "source": [
    "def permutation_t_stat_ind(sample1, sample2):\r\n",
    "    return np.median(sample1) - np.median(sample2)\r\n",
    "\r\n",
    "def get_random_combinations(n1, n2, max_combinations):\r\n",
    "    index = np.arange(n1 + n2)\r\n",
    "    indices = set([tuple(index)])\r\n",
    "    for i in range(max_combinations - 1):\r\n",
    "        np.random.shuffle(index)\r\n",
    "        indices.add(tuple(index))\r\n",
    "    return [(index[:n1], index[n1:]) for index in indices]\r\n",
    "\r\n",
    "def permutation_zero_dist_ind(sample1, sample2, max_combinations = None):\r\n",
    "    joined_sample = np.hstack((sample1, sample2))\r\n",
    "    n1 = len(sample1)\r\n",
    "    n = len(joined_sample)\r\n",
    "    \r\n",
    "    if max_combinations is not None:\r\n",
    "        indices = get_random_combinations(n1, len(sample2), max_combinations)\r\n",
    "    else:\r\n",
    "        indices = [(list(index), filter(lambda i: i not in index, range(n))) \\\r\n",
    "                    for index in itertools.combinations(range(n), n1)]\r\n",
    "    \r\n",
    "    distr = [joined_sample[list(i[0])].mean() - joined_sample[list(i[1])].mean() \\\r\n",
    "             for i in indices]\r\n",
    "    return distr\r\n",
    "\r\n",
    "def permutation_test(sample1, sample2, max_permutations = None, alternative = 'two-sided'):\r\n",
    "    if alternative not in ('two-sided', 'less', 'greater'):\r\n",
    "        raise ValueError(\"alternative not recognized\\n\"\r\n",
    "                         \"should be 'two-sided', 'less' or 'greater'\")\r\n",
    "    \r\n",
    "    t_stat = permutation_t_stat_ind(sample1, sample2)\r\n",
    "    \r\n",
    "    zero_distr = permutation_zero_dist_ind(sample1, sample2, max_permutations)\r\n",
    "    \r\n",
    "    if alternative == 'two-sided':\r\n",
    "        return sum([1. if abs(x) >= abs(t_stat) else 0. for x in zero_distr]) / len(zero_distr)\r\n",
    "    \r\n",
    "    if alternative == 'less':\r\n",
    "        return sum([1. if x <= t_stat else 0. for x in zero_distr]) / len(zero_distr)\r\n",
    "\r\n",
    "    if alternative == 'greater':\r\n",
    "        return sum([1. if x >= t_stat else 0. for x in zero_distr]) / len(zero_distr)"
   ]
  },
  {
   "cell_type": "code",
   "execution_count": 87,
   "metadata": {
    "colab": {
     "base_uri": "https://localhost:8080/"
    },
    "id": "NxXdWrUFyBIT",
    "outputId": "d8d1f5ba-62e0-4b88-cb62-a88f2847e013"
   },
   "outputs": [
    {
     "name": "stdout",
     "output_type": "stream",
     "text": [
      "Permutation criterion p-value: 0.0000\n"
     ]
    }
   ],
   "source": [
    "perm_results = permutation_test(df_default['LIMIT_BAL'].values, \r\n",
    "                                df_success['LIMIT_BAL'].values, \r\n",
    "                                max_permutations=1000, alternative='two-sided')\r\n",
    "print('Permutation criterion p-value: %.4f' % perm_results)"
   ]
  },
  {
   "cell_type": "markdown",
   "metadata": {
    "id": "ARQUQDaD57Y2"
   },
   "source": [
    "Доверительные интервалы для медиан в группах 'success' и 'default' сильно различаются. Эти выводы сделаны на основании следующих фактах:\r\n",
    "\r\n",
    "-- доверительный интервал для разницы медианных значений в этих группах далеко отстоит от нуля.\r\n",
    "\r\n",
    "-- перестановочный критерий для двух независимых выборок дает достигаемый уровень значимости сильно меньше 0.05. \r\n",
    "\r\n",
    "Из этого можно сделать вывод, что гипотеза о равенстве распределений отвергается. С практической точки зрения эти результаты говорят о том, что банк выдает большие кредиты надежным клиентам не просрачивающим выплаты.\r\n"
   ]
  },
  {
   "cell_type": "markdown",
   "metadata": {
    "id": "48_Fk97uy9-o"
   },
   "source": [
    "#Задание 2\r\n",
    "\r\n",
    "Пол (SEX): Проверьте гипотезу о том,  что гендерный состав  группы людей вернувших и не вернувших кредит отличается.  Хорошо, если вы предоставите несколько различных решений  этой задачи (с помощью доверительного интервала и подходящего статистического критерия)"
   ]
  },
  {
   "cell_type": "code",
   "execution_count": 88,
   "metadata": {
    "id": "lPcY7bHKzA8c"
   },
   "outputs": [],
   "source": [
    "# members of both sexes who have defaulted on a loan\r\n",
    "default_gender = df_default['SEX'].values\r\n",
    "# members of both sexes who have success on a loan\r\n",
    "success_gender = df_success['SEX'].values"
   ]
  },
  {
   "cell_type": "markdown",
   "metadata": {
    "id": "H693rJL6CYVk"
   },
   "source": [
    "Применим Z-критерий для разности"
   ]
  },
  {
   "cell_type": "markdown",
   "metadata": {
    "id": "whApZplGCTBS"
   },
   "source": [
    "   | $X_1$ | $X_2$  \r\n",
    "  ------------- | -------------|\r\n",
    "  1  | a | b \r\n",
    "  0  | c | d \r\n",
    "  $\\sum$ | $n_1$| $n_2$\r\n",
    "  \r\n",
    "$$ \\hat{p}_1 = \\frac{a}{n_1}$$\r\n",
    "\r\n",
    "$$ \\hat{p}_2 = \\frac{b}{n_2}$$\r\n",
    "\r\n",
    "\r\n",
    "$$\\text{Доверительный интервал для }p_1 - p_2\\colon \\;\\; \\hat{p}_1 - \\hat{p}_2 \\pm z_{1-\\frac{\\alpha}{2}}\\sqrt{\\frac{\\hat{p}_1(1 - \\hat{p}_1)}{n_1} + \\frac{\\hat{p}_2(1 - \\hat{p}_2)}{n_2}}$$\r\n",
    "\r\n",
    "$$Z-статистика: Z({X_1, X_2}) =  \\frac{\\hat{p}_1 - \\hat{p}_2}{\\sqrt{P(1 - P)(\\frac{1}{n_1} + \\frac{1}{n_2})}}$$\r\n",
    "$$P = \\frac{\\hat{p}_1{n_1} + \\hat{p}_2{n_2}}{{n_1} + {n_2}} $$"
   ]
  },
  {
   "cell_type": "code",
   "execution_count": 126,
   "metadata": {
    "id": "kfljVKDUEpaD"
   },
   "outputs": [],
   "source": [
    "def proportions_confint_diff(first_vector, second_vector, alpha = 0.05):\r\n",
    "    count1 = float(len(first_vector))\r\n",
    "    count2 = float(len(second_vector))\r\n",
    "    p1 = float(len(list(filter(lambda x: x == 1, first_vector))))/count1\r\n",
    "    p2 = float(len(list(filter(lambda x: x == 1, second_vector))))/count2\r\n",
    "    z = stats.norm.ppf(1. - alpha / 2.)\r\n",
    "\r\n",
    "    left_boundary = (p1 - p2) - z * np.sqrt(p1 * (1. - p1)/ count1 + p2 * (1 - p2)/ count2)\r\n",
    "    right_boundary = (p1 - p2) + z * np.sqrt(p1 * (1. - p1)/ count1 + p2 * (1 - p2)/ count2)\r\n",
    "    \r\n",
    "    return (left_boundary, right_boundary)"
   ]
  },
  {
   "cell_type": "code",
   "execution_count": 122,
   "metadata": {
    "id": "-1b5rpAM7p4b"
   },
   "outputs": [],
   "source": [
    "def proportions_diff_z_stat_ind(sample1, sample2):\r\n",
    "    n1 = len(sample1)\r\n",
    "    n2 = len(sample2)\r\n",
    "    \r\n",
    "    p1 = float(len(list(filter(lambda x: x == 1, sample1)))) / n1\r\n",
    "    p2 = float(len(list(filter(lambda x: x == 1, sample2)))) / n2 \r\n",
    "    P = float(p1 * n1 + p2 * n2) / (n1 + n2)\r\n",
    "    \r\n",
    "    return (p1 - p2) / np.sqrt(P * (1 - P) * (1. / n1 + 1. / n2))\r\n",
    "\r\n",
    "def proportions_diff_z_test(sample1, sample2, alternative = 'two-sided'):\r\n",
    "    z_stat = proportions_diff_z_stat_ind(sample1, sample2)\r\n",
    "    if alternative not in ('two-sided', 'less', 'greater'):\r\n",
    "        raise ValueError(\"alternative not recognized\\n\"\r\n",
    "                         \"should be 'two-sided', 'less' or 'greater'\")\r\n",
    "    \r\n",
    "    if alternative == 'two-sided':\r\n",
    "        return 2 * (1 - stats.norm.cdf(np.abs(z_stat)))\r\n",
    "    \r\n",
    "    if alternative == 'less':\r\n",
    "        return stats.norm.cdf(z_stat)\r\n",
    "\r\n",
    "    if alternative == 'greater':\r\n",
    "        return 1 - stats.norm.cdf(z_stat)"
   ]
  },
  {
   "cell_type": "code",
   "execution_count": 164,
   "metadata": {
    "id": "MgcBt_Fl73zJ"
   },
   "outputs": [],
   "source": [
    "# Function that builds a bar chart for the conjugacy matrix\r\n",
    "def barPlot_contingency(contingency_matrix, row_groups, column_groups, ax):\r\n",
    "    for row_index, row_name in enumerate(row_groups):\r\n",
    "        column_counts = list(map(lambda cell: float(cell), contingency_matrix[row_index]))\r\n",
    "        overall_count = sum(column_counts)\r\n",
    "        if overall_count > 0:\r\n",
    "            for column_count, column_name in zip(column_counts, column_groups):\r\n",
    "                ax.bar(row_index, column_count / overall_count, \r\n",
    "                        label = '%s %s, num = %.0f' % (row_name, column_name, column_count), ec='k')\r\n",
    "    ax.legend(bbox_to_anchor=(1.05, 1), loc='upper left')\r\n",
    "    plt.show()"
   ]
  },
  {
   "cell_type": "code",
   "execution_count": 113,
   "metadata": {
    "colab": {
     "base_uri": "https://localhost:8080/",
     "height": 173
    },
    "id": "X2BZst1I8NOl",
    "outputId": "d4a5a96d-3ecb-43b7-883a-5c6fd4ac75b8"
   },
   "outputs": [
    {
     "data": {
      "text/html": [
       "<div>\n",
       "<style scoped>\n",
       "    .dataframe tbody tr th:only-of-type {\n",
       "        vertical-align: middle;\n",
       "    }\n",
       "\n",
       "    .dataframe tbody tr th {\n",
       "        vertical-align: top;\n",
       "    }\n",
       "\n",
       "    .dataframe thead tr th {\n",
       "        text-align: left;\n",
       "    }\n",
       "\n",
       "    .dataframe thead tr:last-of-type th {\n",
       "        text-align: right;\n",
       "    }\n",
       "</style>\n",
       "<table border=\"1\" class=\"dataframe\">\n",
       "  <thead>\n",
       "    <tr>\n",
       "      <th></th>\n",
       "      <th colspan=\"2\" halign=\"left\">LIMIT_BAL</th>\n",
       "    </tr>\n",
       "    <tr>\n",
       "      <th>default</th>\n",
       "      <th>0</th>\n",
       "      <th>1</th>\n",
       "    </tr>\n",
       "    <tr>\n",
       "      <th>SEX</th>\n",
       "      <th></th>\n",
       "      <th></th>\n",
       "    </tr>\n",
       "  </thead>\n",
       "  <tbody>\n",
       "    <tr>\n",
       "      <th>1</th>\n",
       "      <td>9015</td>\n",
       "      <td>2873</td>\n",
       "    </tr>\n",
       "    <tr>\n",
       "      <th>2</th>\n",
       "      <td>14349</td>\n",
       "      <td>3763</td>\n",
       "    </tr>\n",
       "  </tbody>\n",
       "</table>\n",
       "</div>"
      ],
      "text/plain": [
       "        LIMIT_BAL      \n",
       "default         0     1\n",
       "SEX                    \n",
       "1            9015  2873\n",
       "2           14349  3763"
      ]
     },
     "execution_count": 113,
     "metadata": {
      "tags": []
     },
     "output_type": "execute_result"
    }
   ],
   "source": [
    "# let's see 0 'LIMIT_BAL' for both gender\r\n",
    "gender_contingency_table = pd.pivot_table(df[['SEX', 'default', 'LIMIT_BAL']],\r\n",
    "                                          values=['LIMIT_BAL'],\r\n",
    "                                          index=['SEX'],\r\n",
    "                                          columns=['default'],\r\n",
    "                                          fill_value = 0,\r\n",
    "                                          aggfunc='count')\r\n",
    "gender_contingency_matrix = gender_contingency_table.values\r\n",
    "gender_contingency_table"
   ]
  },
  {
   "cell_type": "code",
   "execution_count": 151,
   "metadata": {
    "colab": {
     "base_uri": "https://localhost:8080/",
     "height": 265
    },
    "id": "KAMMM65r9ocG",
    "outputId": "4677b102-f860-4730-8945-d5d991b2b180"
   },
   "outputs": [
    {
     "data": {
      "image/png": "[encoded data removed]",
      "text/plain": [
       "<Figure size 432x288 with 1 Axes>"
      ]
     },
     "metadata": {
      "tags": []
     },
     "output_type": "display_data"
    }
   ],
   "source": [
    "_, ax = plt.subplots(facecolor='w')\r\n",
    "barPlot_contingency(gender_contingency_matrix, ['male', 'female'], ['success', 'default'], ax)"
   ]
  },
  {
   "cell_type": "code",
   "execution_count": 125,
   "metadata": {
    "colab": {
     "base_uri": "https://localhost:8080/"
    },
    "id": "0Ujx3SiSAfgu",
    "outputId": "5763570a-203c-46f0-f9a4-ff5c06f9a352"
   },
   "outputs": [
    {
     "name": "stdout",
     "output_type": "stream",
     "text": [
      "Proportion confidential interval is [0.0336; 0.0605]\n"
     ]
    }
   ],
   "source": [
    "print('Proportion confidential interval is [%.4f; %.4f]' % proportions_confint_diff(default_gender, success_gender))"
   ]
  },
  {
   "cell_type": "markdown",
   "metadata": {
    "id": "rLg5SGC7CzE_"
   },
   "source": [
    "При визульном рассмотрении было видно, что доля мужчин вернувших кредит ('SEX'=1) меньше доли женщин вернувших кредит ('SEX'=2). Однако такой эффект может объясняться просто большим количеством женских кредитов.\r\n",
    "\r\n",
    "Для того, чтобы формально выяснить существует ли стат. значимые различия в двух мужских группах, которые вернули и невернули кредит, были построены дов. интервалы для разности. Оказалось, что дов. интервал не содержит 0 и находится от него справа, поэтому можно утверждать, что доля мужчин не вернувших кредит больше, чем доля вернувших.\r\n",
    "\r\n",
    "Чтобы проверить данный результат сравним доли мужчин в тех-же группах на основе z-критерия для двух независимых выборок"
   ]
  },
  {
   "cell_type": "code",
   "execution_count": 127,
   "metadata": {
    "colab": {
     "base_uri": "https://localhost:8080/"
    },
    "id": "Wp6VVt_I-JIO",
    "outputId": "fba46ae5-5aa2-4a19-9087-4eb327f07da6"
   },
   "outputs": [
    {
     "data": {
      "text/plain": [
       "4.472866521609831e-12"
      ]
     },
     "execution_count": 127,
     "metadata": {
      "tags": []
     },
     "output_type": "execute_result"
    }
   ],
   "source": [
    "pval = proportions_diff_z_test(default_gender, success_gender, alternative='two-sided')\r\n",
    "pval"
   ]
  },
  {
   "cell_type": "markdown",
   "metadata": {
    "id": "XrfOKh6JFA6T"
   },
   "source": [
    "Достигаемый уровень значимости Z-критерия p-value для этих двух выборок сильно меньше 0.05. Нулевая ипотеза о равенстве доли мужчин в группах 'default' и 'success' отвергается.\r\n",
    "\r\n",
    "По значениям доверительного итервала можно сказать, что мужчины возвращают кредит реже, чем женщины. Доверительный интервал не сильно далек от нуля. В полне может оказаться, что существуют более значимые с практической точки зрения признаки, чем разница в гендере."
   ]
  },
  {
   "cell_type": "markdown",
   "metadata": {
    "id": "mV50x1ZfzXNF"
   },
   "source": [
    "#Задание 3\r\n",
    "\r\n",
    "Образование (EDUCATION): Проверьте гипотезу о том, что образование не влияет на то, вернет ли человек долг.  Предложите способ наглядного представления разницы в ожидаемых и наблюдаемых значениях количества человек вернувших и не вернувших долг. Например, составьте таблицу сопряженности \"образование\" на \"возврат долга\", где значением ячейки была бы  разность между наблюдаемым и ожидаемым количеством человек.  Как бы вы предложили модифицировать таблицу так, чтобы привести значения ячеек к одному масштабу не потеряв в интерпретируемости ?  Наличие какого образования является наилучшим индикатором того, что человек  отдаст долг ? наоборт, не отдаст долг ?"
   ]
  },
  {
   "cell_type": "code",
   "execution_count": 128,
   "metadata": {
    "id": "n9un2yKjOMWg"
   },
   "outputs": [],
   "source": [
    "edu_success = df_success['EDUCATION'].values\r\n",
    "edu_default = df_default['EDUCATION'].values"
   ]
  },
  {
   "cell_type": "code",
   "execution_count": 141,
   "metadata": {
    "colab": {
     "base_uri": "https://localhost:8080/",
     "height": 281
    },
    "id": "dGn1jTVWO0gc",
    "outputId": "6597b15d-6714-4bf5-ad2e-f315ffb51e07"
   },
   "outputs": [
    {
     "data": {
      "image/png": "[encoded data removed]",
      "text/plain": [
       "<Figure size 504x288 with 1 Axes>"
      ]
     },
     "metadata": {
      "tags": []
     },
     "output_type": "display_data"
    }
   ],
   "source": [
    "_, ax = plt.subplots(figsize = (7, 4), facecolor='w')\r\n",
    "df_success.hist(column='EDUCATION', label='Success', ax=ax, ec='k')\r\n",
    "df_default.hist(column='EDUCATION', label='Default', ax=ax, ec='k')\r\n",
    "ax.legend()\r\n",
    "ax.grid(False)\r\n",
    "plt.show()"
   ]
  },
  {
   "cell_type": "markdown",
   "metadata": {
    "id": "a5OpapjTQGkO"
   },
   "source": [
    "Визуально несложно заметить, что данные в группах немасштабированы. Также непонятно как можно проинтерпретировать разницу между ожидаемыми и наблюдаемыми значениях количества человек вернувших и не вернувших долг. "
   ]
  },
  {
   "cell_type": "code",
   "execution_count": 159,
   "metadata": {
    "id": "Z011eIjyQS8P"
   },
   "outputs": [],
   "source": [
    "def v_Cramer_correlation(data):\r\n",
    "    chi_stat, pval = stats.chi2_contingency(data)[:2]\r\n",
    "    k_min = np.min(data.shape)\r\n",
    "    n = np.sum(data)\r\n",
    "    return np.sqrt(chi_stat / (n * (k_min - 1))), pval"
   ]
  },
  {
   "cell_type": "code",
   "execution_count": 143,
   "metadata": {
    "id": "Rvuf-2u3QQsJ"
   },
   "outputs": [],
   "source": [
    "# let's build a conjugacy table\r\n",
    "edu_contingency_table = pd.pivot_table(df[['EDUCATION', 'default', 'LIMIT_BAL']],\r\n",
    "                                        values=['LIMIT_BAL'],\r\n",
    "                                        index=['EDUCATION'],\r\n",
    "                                        columns=['default'],\r\n",
    "                                        fill_value = 0,\r\n",
    "                                        aggfunc='count')\r\n",
    "edu_contingency_matrix = edu_contingency_table.values"
   ]
  },
  {
   "cell_type": "code",
   "execution_count": 144,
   "metadata": {
    "colab": {
     "base_uri": "https://localhost:8080/",
     "height": 328
    },
    "id": "Ys4AsJ_tzZ_q",
    "outputId": "86e430ac-224d-4550-ac71-a74afa742ceb"
   },
   "outputs": [
    {
     "data": {
      "text/html": [
       "<div>\n",
       "<style scoped>\n",
       "    .dataframe tbody tr th:only-of-type {\n",
       "        vertical-align: middle;\n",
       "    }\n",
       "\n",
       "    .dataframe tbody tr th {\n",
       "        vertical-align: top;\n",
       "    }\n",
       "\n",
       "    .dataframe thead tr th {\n",
       "        text-align: left;\n",
       "    }\n",
       "\n",
       "    .dataframe thead tr:last-of-type th {\n",
       "        text-align: right;\n",
       "    }\n",
       "</style>\n",
       "<table border=\"1\" class=\"dataframe\">\n",
       "  <thead>\n",
       "    <tr>\n",
       "      <th></th>\n",
       "      <th colspan=\"2\" halign=\"left\">LIMIT_BAL</th>\n",
       "    </tr>\n",
       "    <tr>\n",
       "      <th>default</th>\n",
       "      <th>0</th>\n",
       "      <th>1</th>\n",
       "    </tr>\n",
       "    <tr>\n",
       "      <th>EDUCATION</th>\n",
       "      <th></th>\n",
       "      <th></th>\n",
       "    </tr>\n",
       "  </thead>\n",
       "  <tbody>\n",
       "    <tr>\n",
       "      <th>0</th>\n",
       "      <td>14</td>\n",
       "      <td>0</td>\n",
       "    </tr>\n",
       "    <tr>\n",
       "      <th>1</th>\n",
       "      <td>8549</td>\n",
       "      <td>2036</td>\n",
       "    </tr>\n",
       "    <tr>\n",
       "      <th>2</th>\n",
       "      <td>10700</td>\n",
       "      <td>3330</td>\n",
       "    </tr>\n",
       "    <tr>\n",
       "      <th>3</th>\n",
       "      <td>3680</td>\n",
       "      <td>1237</td>\n",
       "    </tr>\n",
       "    <tr>\n",
       "      <th>4</th>\n",
       "      <td>116</td>\n",
       "      <td>7</td>\n",
       "    </tr>\n",
       "    <tr>\n",
       "      <th>5</th>\n",
       "      <td>262</td>\n",
       "      <td>18</td>\n",
       "    </tr>\n",
       "    <tr>\n",
       "      <th>6</th>\n",
       "      <td>43</td>\n",
       "      <td>8</td>\n",
       "    </tr>\n",
       "  </tbody>\n",
       "</table>\n",
       "</div>"
      ],
      "text/plain": [
       "          LIMIT_BAL      \n",
       "default           0     1\n",
       "EDUCATION                \n",
       "0                14     0\n",
       "1              8549  2036\n",
       "2             10700  3330\n",
       "3              3680  1237\n",
       "4               116     7\n",
       "5               262    18\n",
       "6                43     8"
      ]
     },
     "execution_count": 144,
     "metadata": {
      "tags": []
     },
     "output_type": "execute_result"
    }
   ],
   "source": [
    "edu_contingency_table"
   ]
  },
  {
   "cell_type": "markdown",
   "metadata": {
    "id": "DaBG51qOSebr"
   },
   "source": [
    "Представим эту матрицу сопряженности bar chart. На данном графике будут наглядно представлены доли клиентов вернувших кредит и доли клиентов просрочивших выплаты. "
   ]
  },
  {
   "cell_type": "code",
   "execution_count": 152,
   "metadata": {
    "colab": {
     "base_uri": "https://localhost:8080/",
     "height": 265
    },
    "id": "ZVrz-rkHSoJ-",
    "outputId": "6afa4a14-f6e3-45bf-d455-1a7d24e07667"
   },
   "outputs": [
    {
     "data": {
      "image/png": "[encoded data removed]",
      "text/plain": [
       "<Figure size 432x288 with 1 Axes>"
      ]
     },
     "metadata": {
      "tags": []
     },
     "output_type": "display_data"
    }
   ],
   "source": [
    "_, ax = plt.subplots(facecolor='w')\r\n",
    "barPlot_contingency(edu_contingency_matrix,\r\n",
    "                    ['doctor','master','bachelor','scholar','basic','other','n/a'], \r\n",
    "                    ['success', 'default'], ax)"
   ]
  },
  {
   "cell_type": "markdown",
   "metadata": {
    "id": "sJ7Xjd9wckPx"
   },
   "source": [
    "На основании полученного графика чаще всего отдают долг люди с докторской степенью, реже всего, - люди со школьным образованием."
   ]
  },
  {
   "cell_type": "markdown",
   "metadata": {
    "id": "7CL_3ezyVT2g"
   },
   "source": [
    "Т.к. признаки 'EDUCATION' и 'default' являются категориальными, то в качестве меры корреляции между ними можно использовать коэффициент V-Крамера. \r\n",
    "\r\n",
    "Чтобы статистически проверить наличие взаимосвязи используем критерий Хи-квадрат. Для того, чтобы применить этот критерий необходимо проверить два условия:\r\n",
    "\r\n",
    "1) количество элементов должно быть больше 40\r\n",
    "\r\n",
    "2) кол-во элементов больше 5 должно составлять более 80%"
   ]
  },
  {
   "cell_type": "code",
   "execution_count": 156,
   "metadata": {
    "colab": {
     "base_uri": "https://localhost:8080/"
    },
    "id": "h4b9epJHSuFn",
    "outputId": "54572839-0c38-4162-df6e-54606d65d007"
   },
   "outputs": [
    {
     "name": "stdout",
     "output_type": "stream",
     "text": [
      "Общее количество элементов: 30000.\n",
      "Процент ячеек, где количество элементов больше 5: 92.8571%\n"
     ]
    }
   ],
   "source": [
    "edu_contingency_matrix_to_vec = edu_contingency_matrix.reshape(-1)\r\n",
    "count_is_enough = len(list(filter(lambda val: val > 5, edu_contingency_matrix_to_vec)))\r\n",
    "all_to_vec_count = len(edu_contingency_matrix_to_vec)\r\n",
    "elements_count = sum(edu_contingency_matrix_to_vec)\r\n",
    "print('Общее количество элементов: %i.\\nПроцент ячеек, где количество элементов больше 5: %.4f%%' % \r\n",
    "      (elements_count, (float(count_is_enough) * 100 / all_to_vec_count)))"
   ]
  },
  {
   "cell_type": "markdown",
   "metadata": {
    "id": "p8XAZt2vWwm-"
   },
   "source": [
    "Видно, что критерий хи-квадрат применим."
   ]
  },
  {
   "cell_type": "code",
   "execution_count": 160,
   "metadata": {
    "colab": {
     "base_uri": "https://localhost:8080/"
    },
    "id": "5LPTYT00SwC7",
    "outputId": "bb10776e-d5cf-4839-c25e-2763530eaa4d"
   },
   "outputs": [
    {
     "name": "stdout",
     "output_type": "stream",
     "text": [
      "V-Cramer statistic is: 0.0738\n",
      "p-value: 1.2332626245415605e-32\n"
     ]
    }
   ],
   "source": [
    "stat_val, p_val = v_Cramer_correlation(edu_contingency_matrix)\r\n",
    "print('V-Cramer statistic is: %.4f' % stat_val)\r\n",
    "print('p-value:', p_val)"
   ]
  },
  {
   "cell_type": "markdown",
   "metadata": {
    "id": "gyOPiDFiS4Q0"
   },
   "source": [
    "Получили, что достигаемый уровень p-value критерия хи-квадрат сильно меньше порога значимости, поэтому мы отвергаем нулевую гипотезу (об отсутсвии взаимосвязи). Однако значение статистики V-Крамера невелико, поэтому ничего сказать о силе взаимосвязи."
   ]
  },
  {
   "cell_type": "markdown",
   "metadata": {
    "id": "xJsjtt6rzdo2"
   },
   "source": [
    "# Задание 4\r\n",
    "\r\n",
    "Семейное положение (MARRIAGE): Проверьте, как связан семейный статус с индикатором дефолта: нужно предложить меру, по которой можно измерить возможную связь этих переменных и посчитать ее значение.\r\n"
   ]
  },
  {
   "cell_type": "markdown",
   "metadata": {
    "id": "C9GaTs_hcu_2"
   },
   "source": [
    "Т.к. признак 'MARRIAGE' также является категориальным, то в качестве критерия можно воспользоваться критерием Хи-квадрат для статистики V-Крамера."
   ]
  },
  {
   "cell_type": "code",
   "execution_count": 162,
   "metadata": {
    "colab": {
     "base_uri": "https://localhost:8080/",
     "height": 235
    },
    "id": "RSluIS8MzgGn",
    "outputId": "b55479a9-d1b4-4874-e8c8-31af7e0e6e9a"
   },
   "outputs": [
    {
     "data": {
      "text/html": [
       "<div>\n",
       "<style scoped>\n",
       "    .dataframe tbody tr th:only-of-type {\n",
       "        vertical-align: middle;\n",
       "    }\n",
       "\n",
       "    .dataframe tbody tr th {\n",
       "        vertical-align: top;\n",
       "    }\n",
       "\n",
       "    .dataframe thead tr th {\n",
       "        text-align: left;\n",
       "    }\n",
       "\n",
       "    .dataframe thead tr:last-of-type th {\n",
       "        text-align: right;\n",
       "    }\n",
       "</style>\n",
       "<table border=\"1\" class=\"dataframe\">\n",
       "  <thead>\n",
       "    <tr>\n",
       "      <th></th>\n",
       "      <th colspan=\"2\" halign=\"left\">LIMIT_BAL</th>\n",
       "    </tr>\n",
       "    <tr>\n",
       "      <th>default</th>\n",
       "      <th>0</th>\n",
       "      <th>1</th>\n",
       "    </tr>\n",
       "    <tr>\n",
       "      <th>MARRIAGE</th>\n",
       "      <th></th>\n",
       "      <th></th>\n",
       "    </tr>\n",
       "  </thead>\n",
       "  <tbody>\n",
       "    <tr>\n",
       "      <th>0</th>\n",
       "      <td>49</td>\n",
       "      <td>5</td>\n",
       "    </tr>\n",
       "    <tr>\n",
       "      <th>1</th>\n",
       "      <td>10453</td>\n",
       "      <td>3206</td>\n",
       "    </tr>\n",
       "    <tr>\n",
       "      <th>2</th>\n",
       "      <td>12623</td>\n",
       "      <td>3341</td>\n",
       "    </tr>\n",
       "    <tr>\n",
       "      <th>3</th>\n",
       "      <td>239</td>\n",
       "      <td>84</td>\n",
       "    </tr>\n",
       "  </tbody>\n",
       "</table>\n",
       "</div>"
      ],
      "text/plain": [
       "         LIMIT_BAL      \n",
       "default          0     1\n",
       "MARRIAGE                \n",
       "0               49     5\n",
       "1            10453  3206\n",
       "2            12623  3341\n",
       "3              239    84"
      ]
     },
     "execution_count": 162,
     "metadata": {
      "tags": []
     },
     "output_type": "execute_result"
    }
   ],
   "source": [
    "marriage_contingency_table = pd.pivot_table(df[['MARRIAGE', 'default', 'LIMIT_BAL']],\r\n",
    "                                            values=['LIMIT_BAL'],\r\n",
    "                                            index=['MARRIAGE'],\r\n",
    "                                            columns=['default'],\r\n",
    "                                            fill_value = 0,\r\n",
    "                                            aggfunc='count')\r\n",
    "marriage_contingency_matrix = marriage_contingency_table.values\r\n",
    "marriage_contingency_table"
   ]
  },
  {
   "cell_type": "markdown",
   "metadata": {
    "id": "liHrbPBPdthF"
   },
   "source": [
    "Bar chart для данной таблице представлен ниже"
   ]
  },
  {
   "cell_type": "code",
   "execution_count": 165,
   "metadata": {
    "colab": {
     "base_uri": "https://localhost:8080/",
     "height": 265
    },
    "id": "bInODmf3d0FM",
    "outputId": "19a3af14-258e-444f-eb50-a1fa20aaff49"
   },
   "outputs": [
    {
     "data": {
      "image/png": "[encoded data removed]",
      "text/plain": [
       "<Figure size 432x288 with 1 Axes>"
      ]
     },
     "metadata": {
      "tags": []
     },
     "output_type": "display_data"
    }
   ],
   "source": [
    "_, ax = plt.subplots(facecolor='w')\r\n",
    "barPlot_contingency(marriage_contingency_matrix, \r\n",
    "                    ['never tell','married','free','n/a'], ['success', 'default'], ax)"
   ]
  },
  {
   "cell_type": "markdown",
   "metadata": {
    "id": "SkBy-IpqeURm"
   },
   "source": [
    "Глядя на данный график кажется, что доля тех, что доля тех, кто умалчивает о своем семейном положении и невыплачивает кредит, меньше остальных. Однако в данной группе очень мало примеров относительно остальных, поэтому нельзя делать таких поспешных выводов.\r\n",
    "\r\n",
    "Как говорилось выше будем использовать критерий Хи-квадрат.Проверим корректность использования этого критерия:"
   ]
  },
  {
   "cell_type": "code",
   "execution_count": 170,
   "metadata": {
    "colab": {
     "base_uri": "https://localhost:8080/"
    },
    "id": "0Wka2lZYdet7",
    "outputId": "3d6d2084-bc94-4e0c-b863-c7a62dbf0d98"
   },
   "outputs": [
    {
     "name": "stdout",
     "output_type": "stream",
     "text": [
      "Общее количество элементов: 30000.\n",
      "Процент ячеек, где количество элементов больше 5: 87.5000%\n"
     ]
    }
   ],
   "source": [
    "marriage_contingency_matrix_to_vec = marriage_contingency_matrix.reshape(-1)\r\n",
    "mar_to_vec_is_enough = len(list(filter(lambda val: val > 5, marriage_contingency_matrix_to_vec)))\r\n",
    "mar_all_to_vec_count = len(marriage_contingency_matrix_to_vec)\r\n",
    "mar_elements_count = sum(marriage_contingency_matrix_to_vec)\r\n",
    "print('Общее количество элементов: %i.\\nПроцент ячеек, где количество элементов больше 5: %.4f%%' % \r\n",
    "      (mar_elements_count, (float(mar_to_vec_is_enough) * 100 / mar_all_to_vec_count)))"
   ]
  },
  {
   "cell_type": "markdown",
   "metadata": {
    "id": "REJLRVfyedX4"
   },
   "source": [
    "Применение критерия Хи-квадрат корректно."
   ]
  },
  {
   "cell_type": "code",
   "execution_count": 171,
   "metadata": {
    "colab": {
     "base_uri": "https://localhost:8080/"
    },
    "id": "mFgkuabieboW",
    "outputId": "e918fb83-3389-4c88-becc-747e3bd1f694"
   },
   "outputs": [
    {
     "name": "stdout",
     "output_type": "stream",
     "text": [
      "V-Cramer statistic is: 0.0345\n",
      "p-value: 8.825862457577375e-08\n"
     ]
    }
   ],
   "source": [
    "stat_val, p_val = v_Cramer_correlation(marriage_contingency_matrix)\r\n",
    "print('V-Cramer statistic is: %.4f' % stat_val)\r\n",
    "print('p-value:', p_val)"
   ]
  },
  {
   "cell_type": "markdown",
   "metadata": {
    "id": "Qnl4uG1Sejnw"
   },
   "source": [
    "Достигаемый уровень p-value критерия хи-квадрат позволяет отклонить гипотезу об отсутсвии взаимосвязи, однако значение коэффициента V Крамера не очень велико, поэтому и из видуального анализа можно заключить, что значение признака 'MARRIAGE' не сильно влияет на возврат долга."
   ]
  },
  {
   "cell_type": "markdown",
   "metadata": {
    "id": "KtHXsA_ezhOs"
   },
   "source": [
    "#Задание 5\r\n",
    "\r\n",
    "Возраст (AGE): Относительно двух групп людей  вернувших и не вернувших кредит  проверьте следующие гипотезы:   \r\n",
    "\r\n",
    "a)  о равенстве медианных значений возрастов людей   \r\n",
    "\r\n",
    "b) о равенстве распределений  с помощью одного из подходящих непараметрических критериев проверки равенства средних.  \r\n",
    "\r\n",
    "Значимы ли полученные результаты с практической точки зрения ?"
   ]
  },
  {
   "cell_type": "code",
   "execution_count": 172,
   "metadata": {
    "colab": {
     "base_uri": "https://localhost:8080/",
     "height": 388
    },
    "id": "bvbhNeVhiCFv",
    "outputId": "4a677000-c1ac-4415-dd91-f2d1664311df"
   },
   "outputs": [
    {
     "data": {
      "image/png": "[encoded data removed]",
      "text/plain": [
       "<Figure size 864x432 with 1 Axes>"
      ]
     },
     "metadata": {
      "tags": []
     },
     "output_type": "display_data"
    }
   ],
   "source": [
    "_, ax = plt.subplots(figsize = (12, 6), facecolor='w')\r\n",
    "sns.boxplot(y='default', x='AGE', data=df, orient=\"h\", ax=ax)\r\n",
    "ax.grid()"
   ]
  },
  {
   "cell_type": "code",
   "execution_count": 173,
   "metadata": {
    "colab": {
     "base_uri": "https://localhost:8080/",
     "height": 281
    },
    "id": "cuWURu_TiJZJ",
    "outputId": "698ac26b-61a4-4375-bab0-6138775564ea"
   },
   "outputs": [
    {
     "data": {
      "image/png": "[encoded data removed]",
      "text/plain": [
       "<Figure size 504x288 with 1 Axes>"
      ]
     },
     "metadata": {
      "tags": []
     },
     "output_type": "display_data"
    }
   ],
   "source": [
    "_, ax = plt.subplots(figsize = (7, 4), facecolor='w')\r\n",
    "df_success.hist(column='AGE', label='Success', ax=ax, ec='k')\r\n",
    "df_default.hist(column='AGE', label='Default', ax=ax, ec='k')\r\n",
    "ax.legend()\r\n",
    "ax.grid(False)\r\n",
    "plt.show()"
   ]
  },
  {
   "cell_type": "markdown",
   "metadata": {
    "id": "9yIrZdVNir5L"
   },
   "source": [
    "По виду boxplot и гистограмм медианы качествено не различиются. Но проверим это более формально."
   ]
  },
  {
   "cell_type": "code",
   "execution_count": 177,
   "metadata": {
    "id": "lGQ9SDE0kO-J"
   },
   "outputs": [],
   "source": [
    "# confint for default data median\r\n",
    "med_default_ages_confint = calculate_median_confidence_interval(df_default['AGE'].values, \r\n",
    "                                                                samples_count, alpha)\r\n",
    "# confint for success data median\r\n",
    "med_success_ages_confint = calculate_median_confidence_interval(df_success['AGE'].values, \r\n",
    "                                                                samples_count, alpha)\r\n",
    "# confint for difference midle default and success data median\r\n",
    "med_delta_ages_confint = compare_distributions(df_success['AGE'].values, \r\n",
    "                                              df_default['AGE'].values, \r\n",
    "                                              samples_count, alpha)"
   ]
  },
  {
   "cell_type": "code",
   "execution_count": 178,
   "metadata": {
    "colab": {
     "base_uri": "https://localhost:8080/"
    },
    "id": "tQwkE1-ZjGbG",
    "outputId": "25755a82-7770-4077-eabc-9f97fb894212"
   },
   "outputs": [
    {
     "name": "stdout",
     "output_type": "stream",
     "text": [
      "median for default ages: 34.0000\tconf_int: [34. 35.]\n",
      "median for success ages: 34.0000\tconf_int: [34. 34.]\n",
      "conf_int for difference between ages in default & success groups is [-1.  0.]\n"
     ]
    }
   ],
   "source": [
    "print('median for default ages: %.4f\\tconf_int: %s' % med_default_ages_confint)\r\n",
    "print('median for success ages: %.4f\\tconf_int: %s' % med_success_ages_confint)\r\n",
    "print('conf_int for difference between ages in default & success groups is %s' % med_delta_ages_confint)"
   ]
  },
  {
   "cell_type": "markdown",
   "metadata": {
    "id": "mTocFnsljoPC"
   },
   "source": [
    "Как и раньше используем перестановочный критерий для двух независимых выборок:\r\n"
   ]
  },
  {
   "cell_type": "code",
   "execution_count": 180,
   "metadata": {
    "colab": {
     "base_uri": "https://localhost:8080/"
    },
    "id": "HCdg2G5_jeeB",
    "outputId": "b7f7c0ee-73a8-4c11-bb7e-150f8aa227dc"
   },
   "outputs": [
    {
     "name": "stdout",
     "output_type": "stream",
     "text": [
      "Permutation criterion p-value: 1.0000\n"
     ]
    }
   ],
   "source": [
    "print('Permutation criterion p-value: %.4f' % permutation_test(df_default['AGE'].values, \r\n",
    "                                                               df_success['AGE'].values, \r\n",
    "                                                               max_permutations=1000, \r\n",
    "                                                               alternative='two-sided'))"
   ]
  },
  {
   "cell_type": "markdown",
   "metadata": {
    "id": "jifM8X4Fji7x"
   },
   "source": [
    "При полученном значении p-value в перестановочном критерии мы не можем отвергнуть нулевую гипотезу о равенстве медиан признака 'AGE' для вернувших и просрочивших кредит."
   ]
  },
  {
   "cell_type": "markdown",
   "metadata": {
    "id": "_DOGb0YYG8BT"
   },
   "source": [
    "# ИТОГ\r\n",
    "В ходе анализа было получено, что  \r\n",
    "\r\n",
    "* размер кредитного лимита для людей, не допускающих просрочки по кредиту, значимо выше.\r\n",
    "* гендерный состав людей вернувших и просрочивших долг значимо различается, а именно доля женщин, не допускающих просрочку, выше.\r\n",
    "* образование не сильно, но все-таки статистически значимо влияет на вероятность возврата долга.\r\n",
    "* возрастной состав в группах вернувших и просрочивших долг примерно одинаков."
   ]
  }
 ],
 "metadata": {
  "colab": {
   "collapsed_sections": [],
   "name": "Анализ_данных_в_задаче_кредитного_скоринга.ipynb",
   "provenance": []
  },
  "kernelspec": {
   "display_name": "Python 3",
   "language": "python",
   "name": "python3"
  },
  "language_info": {
   "codemirror_mode": {
    "name": "ipython",
    "version": 3
   },
   "file_extension": ".py",
   "mimetype": "text/x-python",
   "name": "python",
   "nbconvert_exporter": "python",
   "pygments_lexer": "ipython3",
   "version": "3.8.5"
  }
 },
 "nbformat": 4,
 "nbformat_minor": 4
}
