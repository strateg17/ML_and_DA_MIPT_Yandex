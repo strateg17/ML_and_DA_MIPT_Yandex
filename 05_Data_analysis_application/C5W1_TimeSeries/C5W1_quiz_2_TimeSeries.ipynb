{
 "cells": [
  {
   "cell_type": "code",
   "execution_count": 2,
   "id": "environmental-gambling",
   "metadata": {},
   "outputs": [
    {
     "name": "stdout",
     "output_type": "stream",
     "text": [
      "1.2.1\n",
      "1.19.2\n"
     ]
    }
   ],
   "source": [
    "import pandas as pd\n",
    "import numpy as np\n",
    "\n",
    "print(pd.__version__)\n",
    "print(np.__version__)"
   ]
  },
  {
   "cell_type": "markdown",
   "id": "detailed-sussex",
   "metadata": {},
   "source": [
    "# Task 1"
   ]
  },
  {
   "cell_type": "markdown",
   "id": "gentle-childhood",
   "metadata": {},
   "source": [
    "Разминочный вопрос: какие параметры модели ARIMA можно определить по графику автокорреляционной функции?"
   ]
  },
  {
   "cell_type": "markdown",
   "id": "senior-finnish",
   "metadata": {},
   "source": [
    "Ответ (1 балов):\n",
    "- q, Q"
   ]
  },
  {
   "cell_type": "markdown",
   "id": "neither-dialogue",
   "metadata": {},
   "source": [
    "# Task 2"
   ]
  },
  {
   "cell_type": "markdown",
   "id": "municipal-notification",
   "metadata": {},
   "source": [
    "Какое начальное приближение для параметра Q подсказывает нам автокорреляционная функция?"
   ]
  },
  {
   "cell_type": "markdown",
   "id": "superb-knife",
   "metadata": {},
   "source": [
    "Ответ (1 балов):\n",
    "\n",
    "- 4"
   ]
  },
  {
   "cell_type": "markdown",
   "id": "running-traveler",
   "metadata": {},
   "source": [
    "# Task 3"
   ]
  },
  {
   "cell_type": "markdown",
   "id": "comparable-belarus",
   "metadata": {},
   "source": [
    "Какое начальное приближение для параметра q подсказывает нам автокорреляционная функция?  "
   ]
  },
  {
   "cell_type": "markdown",
   "id": "blocked-domain",
   "metadata": {},
   "source": [
    "Ответ (1 балов):\n",
    "\n",
    "- 1"
   ]
  },
  {
   "cell_type": "markdown",
   "id": "higher-lewis",
   "metadata": {},
   "source": [
    "# Task 4"
   ]
  },
  {
   "cell_type": "markdown",
   "id": "meaning-guitar",
   "metadata": {},
   "source": [
    "Какое начальное приближение для параметра P подсказывает нам частичная автокорреляционная функция? "
   ]
  },
  {
   "cell_type": "markdown",
   "id": "smart-doctor",
   "metadata": {},
   "source": [
    "Ответ (1 балов):\n",
    "\n",
    "- 0"
   ]
  },
  {
   "cell_type": "markdown",
   "id": "dressed-division",
   "metadata": {},
   "source": [
    "# Task 5"
   ]
  },
  {
   "cell_type": "markdown",
   "id": "lyric-andrews",
   "metadata": {},
   "source": [
    "Какое начальное приближение для параметра p подсказывает нам частичная автокорреляционная функция? "
   ]
  },
  {
   "cell_type": "markdown",
   "id": "worst-trail",
   "metadata": {},
   "source": [
    "Ответ (1 балов):\n",
    "\n",
    "- 11"
   ]
  },
  {
   "cell_type": "markdown",
   "id": "suited-calibration",
   "metadata": {},
   "source": [
    "# Task 6"
   ]
  },
  {
   "cell_type": "markdown",
   "id": "third-cathedral",
   "metadata": {},
   "source": [
    "Какое начальное приближение для параметра p подсказывает нам частичная автокорреляционная функция? "
   ]
  },
  {
   "cell_type": "markdown",
   "id": "suburban-principle",
   "metadata": {},
   "source": [
    "Ответ (1 балов):\n",
    "\n",
    "- 0"
   ]
  },
  {
   "cell_type": "markdown",
   "id": "weighted-vinyl",
   "metadata": {},
   "source": [
    "# Task 7"
   ]
  },
  {
   "cell_type": "markdown",
   "id": "supreme-doubt",
   "metadata": {},
   "source": [
    "Какое начальное приближение для параметра p подсказывает нам частичная автокорреляционная функция? "
   ]
  },
  {
   "cell_type": "markdown",
   "id": "floppy-botswana",
   "metadata": {},
   "source": [
    "Ответ (1 балов):\n",
    "\n",
    "- 8"
   ]
  },
  {
   "cell_type": "markdown",
   "id": "popular-slovenia",
   "metadata": {},
   "source": [
    "# Task 8"
   ]
  },
  {
   "cell_type": "markdown",
   "id": "hybrid-sharp",
   "metadata": {},
   "source": [
    "Какое начальное приближение для параметра p подсказывает нам частичная автокорреляционная функция? "
   ]
  },
  {
   "cell_type": "markdown",
   "id": "amended-romantic",
   "metadata": {},
   "source": [
    "Ответ (1 балов):\n",
    "\n",
    "- 48=4"
   ]
  },
  {
   "cell_type": "markdown",
   "id": "difficult-serum",
   "metadata": {},
   "source": [
    "# Task 9"
   ]
  },
  {
   "cell_type": "markdown",
   "id": "interracial-kernel",
   "metadata": {},
   "source": [
    "Какое начальное приближение для параметра p подсказывает нам частичная автокорреляционная функция? "
   ]
  },
  {
   "cell_type": "markdown",
   "id": "opening-hearing",
   "metadata": {},
   "source": [
    "Ответ (1 балов):\n",
    "\n",
    "- 11"
   ]
  }
 ],
 "metadata": {
  "kernelspec": {
   "display_name": "coursera",
   "language": "python",
   "name": "coursera"
  },
  "language_info": {
   "codemirror_mode": {
    "name": "ipython",
    "version": 3
   },
   "file_extension": ".py",
   "mimetype": "text/x-python",
   "name": "python",
   "nbconvert_exporter": "python",
   "pygments_lexer": "ipython3",
   "version": "3.9.1"
  }
 },
 "nbformat": 4,
 "nbformat_minor": 5
}
