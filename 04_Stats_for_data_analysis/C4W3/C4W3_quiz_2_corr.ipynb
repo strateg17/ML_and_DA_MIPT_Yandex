{
 "cells": [
  {
   "cell_type": "code",
   "execution_count": 64,
   "id": "continuing-cigarette",
   "metadata": {},
   "outputs": [
    {
     "name": "stdout",
     "output_type": "stream",
     "text": [
      "1.2.1\n",
      "1.19.2\n"
     ]
    }
   ],
   "source": [
    "import pandas as pd\n",
    "import numpy as np\n",
    "from scipy import stats\n",
    "import math\n",
    "\n",
    "print(pd.__version__)\n",
    "print(np.__version__)"
   ]
  },
  {
   "cell_type": "markdown",
   "id": "aware-vertical",
   "metadata": {},
   "source": [
    "# Task 1"
   ]
  },
  {
   "cell_type": "markdown",
   "id": "blessed-airfare",
   "metadata": {},
   "source": [
    "Для 61 большого города в Англии и Уэльсе известны средняя годовая смертность на 100000 населения (по данным 1958–1964) и концентрация кальция в питьевой воде (в частях на маллион). Чем выше концентрация кальция, тем жёстче вода. Города дополнительно поделены на северные и южные."
   ]
  },
  {
   "cell_type": "code",
   "execution_count": 3,
   "id": "moderate-vegetable",
   "metadata": {},
   "outputs": [
    {
     "data": {
      "text/html": [
       "<div>\n",
       "<style scoped>\n",
       "    .dataframe tbody tr th:only-of-type {\n",
       "        vertical-align: middle;\n",
       "    }\n",
       "\n",
       "    .dataframe tbody tr th {\n",
       "        vertical-align: top;\n",
       "    }\n",
       "\n",
       "    .dataframe thead th {\n",
       "        text-align: right;\n",
       "    }\n",
       "</style>\n",
       "<table border=\"1\" class=\"dataframe\">\n",
       "  <thead>\n",
       "    <tr style=\"text-align: right;\">\n",
       "      <th></th>\n",
       "      <th>location</th>\n",
       "      <th>town</th>\n",
       "      <th>mortality</th>\n",
       "      <th>hardness</th>\n",
       "    </tr>\n",
       "  </thead>\n",
       "  <tbody>\n",
       "    <tr>\n",
       "      <th>0</th>\n",
       "      <td>South</td>\n",
       "      <td>Bath</td>\n",
       "      <td>1247</td>\n",
       "      <td>105</td>\n",
       "    </tr>\n",
       "    <tr>\n",
       "      <th>1</th>\n",
       "      <td>North</td>\n",
       "      <td>Birkenhead</td>\n",
       "      <td>1668</td>\n",
       "      <td>17</td>\n",
       "    </tr>\n",
       "    <tr>\n",
       "      <th>2</th>\n",
       "      <td>South</td>\n",
       "      <td>Birmingham</td>\n",
       "      <td>1466</td>\n",
       "      <td>5</td>\n",
       "    </tr>\n",
       "    <tr>\n",
       "      <th>3</th>\n",
       "      <td>North</td>\n",
       "      <td>Blackburn</td>\n",
       "      <td>1800</td>\n",
       "      <td>14</td>\n",
       "    </tr>\n",
       "    <tr>\n",
       "      <th>4</th>\n",
       "      <td>North</td>\n",
       "      <td>Blackpool</td>\n",
       "      <td>1609</td>\n",
       "      <td>18</td>\n",
       "    </tr>\n",
       "  </tbody>\n",
       "</table>\n",
       "</div>"
      ],
      "text/plain": [
       "  location        town  mortality  hardness\n",
       "0    South        Bath       1247       105\n",
       "1    North  Birkenhead       1668        17\n",
       "2    South  Birmingham       1466         5\n",
       "3    North   Blackburn       1800        14\n",
       "4    North   Blackpool       1609        18"
      ]
     },
     "execution_count": 3,
     "metadata": {},
     "output_type": "execute_result"
    }
   ],
   "source": [
    "data = pd.read_csv('water.txt', delimiter='\\t')\n",
    "data.head()"
   ]
  },
  {
   "cell_type": "markdown",
   "id": "detected-diameter",
   "metadata": {},
   "source": [
    "Есть ли связь между жёсткостью воды и средней годовой смертностью? Посчитайте значение коэффициента корреляции Пирсона между этими признаками, округлите его до четырёх знаков после десятичной точки."
   ]
  },
  {
   "cell_type": "code",
   "execution_count": 17,
   "id": "alert-henry",
   "metadata": {},
   "outputs": [],
   "source": [
    "mortality = data[['mortality']] # DataFrame object as data[['']]\n",
    "hardness = data['hardness']     #  Series object as data['']"
   ]
  },
  {
   "cell_type": "code",
   "execution_count": 19,
   "id": "different-sword",
   "metadata": {},
   "outputs": [
    {
     "data": {
      "text/plain": [
       "mortality   -0.6548\n",
       "dtype: float64"
      ]
     },
     "execution_count": 19,
     "metadata": {},
     "output_type": "execute_result"
    }
   ],
   "source": [
    "round(mortality.corrwith(hardness, axis=0, method='pearson'),4)"
   ]
  },
  {
   "cell_type": "markdown",
   "id": "excited-attention",
   "metadata": {},
   "source": [
    "# Task 2"
   ]
  },
  {
   "cell_type": "markdown",
   "id": "excellent-lottery",
   "metadata": {},
   "source": [
    "В предыдущей задаче посчитайте значение коэффициента корреляции Спирмена между средней годовой смертностью и жёсткостью воды. Округлите до четырёх знаков после десятичной точки. "
   ]
  },
  {
   "cell_type": "code",
   "execution_count": 20,
   "id": "charitable-richmond",
   "metadata": {},
   "outputs": [
    {
     "data": {
      "text/plain": [
       "mortality   -0.6317\n",
       "dtype: float64"
      ]
     },
     "execution_count": 20,
     "metadata": {},
     "output_type": "execute_result"
    }
   ],
   "source": [
    "round(mortality.corrwith(hardness, axis=0, method='spearman'),4)"
   ]
  },
  {
   "cell_type": "markdown",
   "id": "conscious-stuff",
   "metadata": {},
   "source": [
    "# Task 3"
   ]
  },
  {
   "cell_type": "markdown",
   "id": "informed-medline",
   "metadata": {},
   "source": [
    "Сохраняется ли связь между признаками, если разбить выборку на северные и южные города? Посчитайте значения корреляции Пирсона между средней годовой смертностью и жёсткостью воды в каждой из двух подвыборок, введите наименьшее по модулю из двух значений, округлив его до четырёх знаков после десятичной точки."
   ]
  },
  {
   "cell_type": "code",
   "execution_count": 26,
   "id": "indonesian-pharmacology",
   "metadata": {},
   "outputs": [],
   "source": [
    "south_mortality = data[data['location'] == 'South']['mortality']\n",
    "north_mortality = data[data['location'] == 'North']['mortality']\n",
    "\n",
    "south_hardness  = data[data['location'] == 'South']['hardness']\n",
    "north_hardness  = data[data['location'] == 'North']['hardness']"
   ]
  },
  {
   "cell_type": "code",
   "execution_count": 57,
   "id": "miniature-reputation",
   "metadata": {},
   "outputs": [
    {
     "name": "stdout",
     "output_type": "stream",
     "text": [
      "South mortality and water hardness Pearson correlatoin: -0.6022\n",
      "North mortality and water hardness Pearson correlatoin: -0.3686\n"
     ]
    }
   ],
   "source": [
    "print(\"South mortality and water hardness Pearson correlatoin: {}\".format(round(stats.pearsonr(south_mortality, south_hardness)[0],4)))\n",
    "print(\"North mortality and water hardness Pearson correlatoin: {}\".format(round(stats.pearsonr(north_mortality, north_hardness)[0],4)))"
   ]
  },
  {
   "cell_type": "code",
   "execution_count": 176,
   "id": "mineral-pierre",
   "metadata": {},
   "outputs": [
    {
     "name": "stdout",
     "output_type": "stream",
     "text": [
      "Task 3 asnwer is -0.3686\n"
     ]
    }
   ],
   "source": [
    "print('Task 3 asnwer is {}'.format(-abs(round(stats.pearsonr(north_mortality, north_hardness)[0],4))))"
   ]
  },
  {
   "cell_type": "markdown",
   "id": "occupied-speaking",
   "metadata": {},
   "source": [
    "# Task 4"
   ]
  },
  {
   "cell_type": "markdown",
   "id": "patent-sponsorship",
   "metadata": {},
   "source": [
    "Среди респондентов General Social Survey 2014 года хотя бы раз в месяц проводят вечер в баре 203 женщины и 239 мужчин; реже, чем раз в месяц, это делают 718 женщин и 515 мужчин.  "
   ]
  },
  {
   "cell_type": "markdown",
   "id": "functional-april",
   "metadata": {},
   "source": [
    "Посчитайте значение коэффициента корреляции Мэтьюса между полом и частотой похода в бары. Округлите значение до трёх знаков после десятичной точки."
   ]
  },
  {
   "cell_type": "code",
   "execution_count": 62,
   "id": "sublime-belly",
   "metadata": {},
   "outputs": [],
   "source": [
    "a,b,c,d = 239,515,203,718"
   ]
  },
  {
   "cell_type": "code",
   "execution_count": 65,
   "id": "worst-greensboro",
   "metadata": {},
   "outputs": [],
   "source": [
    "MCC = (a*d - b*c)/math.sqrt((a+b)*(a+c)*(b+d)*(c+d))"
   ]
  },
  {
   "cell_type": "code",
   "execution_count": 70,
   "id": "demonstrated-status",
   "metadata": {},
   "outputs": [
    {
     "name": "stdout",
     "output_type": "stream",
     "text": [
      "Sex and bar visitting Mathues correlation: 0.109\n"
     ]
    }
   ],
   "source": [
    "print(\"Sex and bar visitting Mathues correlation: {}\".format(round(MCC,5)))"
   ]
  },
  {
   "cell_type": "markdown",
   "id": "inclusive-award",
   "metadata": {},
   "source": [
    "# Task 5"
   ]
  },
  {
   "cell_type": "markdown",
   "id": "secret-marketing",
   "metadata": {},
   "source": [
    "В предыдущей задаче проверьте, значимо ли коэффициент корреляции Мэтьюса отличается от нуля. Посчитайте достигаемый уровень значимости; используйте функцию scipy.stats.chi2_contingency. Введите номер первой значащей цифры (например, если вы получили 5.5×10−85.5\\times10^{-8}5.5×10−8, нужно ввести 8)."
   ]
  },
  {
   "cell_type": "code",
   "execution_count": 71,
   "id": "spiritual-spray",
   "metadata": {},
   "outputs": [
    {
     "name": "stdout",
     "output_type": "stream",
     "text": [
      "X^2 p_value is: (19.40753078854304, 1.0558987006638725e-05, 1, array([[198.96597015, 555.03402985],\n",
      "       [243.03402985, 677.96597015]]))\n"
     ]
    }
   ],
   "source": [
    "print('X^2 p_value is: {}'.format(stats.chi2_contingency([[a,b],[c,d]])))"
   ]
  },
  {
   "cell_type": "code",
   "execution_count": 72,
   "id": "encouraging-wrong",
   "metadata": {},
   "outputs": [
    {
     "name": "stdout",
     "output_type": "stream",
     "text": [
      "X^2 p_value is: 1.0558987006638725e-05\n"
     ]
    }
   ],
   "source": [
    "print('X^2 p_value is: {}'.format(stats.chi2_contingency([[a,b],[c,d]])[1]))"
   ]
  },
  {
   "cell_type": "markdown",
   "id": "characteristic-morning",
   "metadata": {},
   "source": [
    "5???"
   ]
  },
  {
   "cell_type": "markdown",
   "id": "naughty-deviation",
   "metadata": {},
   "source": [
    "# Task 6"
   ]
  },
  {
   "cell_type": "markdown",
   "id": "fancy-feeling",
   "metadata": {},
   "source": [
    "В предыдущей задаче давайте попробуем ответить на немного другой вопрос: отличаются ли доля мужчин и доля женщин, относительно часто проводящих вечера в баре? Постройте 95% доверительный интервал для разности долей, вычитая долю женщин из доли мужчин. Чему равна его нижняя граница? Округлите до четырёх знаков после десятичной точки."
   ]
  },
  {
   "cell_type": "code",
   "execution_count": 74,
   "id": "periodic-separation",
   "metadata": {},
   "outputs": [],
   "source": [
    "def proportions_diff_confint_ind(sample1, sample2, alpha = 0.05):    \n",
    "    z = stats.norm.ppf(1 - alpha / 2.)\n",
    "\n",
    "    p1 = sample1[0] / np.sum(sample1)\n",
    "    p2 = sample2[0] / np.sum(sample2)\n",
    "    \n",
    "    left_boundary = (p1 - p2) - z * np.sqrt(p1 * (1 - p1)/ np.sum(sample1) + p2 * (1 - p2)/ np.sum(sample2))\n",
    "    right_boundary = (p1 - p2) + z * np.sqrt(p1 * (1 - p1)/ np.sum(sample1) + p2 * (1 - p2)/ np.sum(sample2))\n",
    "    \n",
    "    return (left_boundary, right_boundary)"
   ]
  },
  {
   "cell_type": "code",
   "execution_count": 76,
   "id": "substantial-alignment",
   "metadata": {},
   "outputs": [
    {
     "name": "stdout",
     "output_type": "stream",
     "text": [
      "Conf interval for 2 independent: (0.053905233215813156, 0.13922183141523897)\n"
     ]
    }
   ],
   "source": [
    "print(\"Conf interval for 2 independent: {}\".format(proportions_diff_confint_ind([a,b],[c,d])))"
   ]
  },
  {
   "cell_type": "code",
   "execution_count": 80,
   "id": "enhanced-console",
   "metadata": {},
   "outputs": [
    {
     "name": "stdout",
     "output_type": "stream",
     "text": [
      "Conf interval for 2 independent: 0.0539\n"
     ]
    }
   ],
   "source": [
    "print(\"Conf interval for 2 independent: {}\".format(round(proportions_diff_confint_ind([a,b],[c,d])[0],4)))"
   ]
  },
  {
   "cell_type": "markdown",
   "id": "understanding-quest",
   "metadata": {},
   "source": [
    "# Task 7"
   ]
  },
  {
   "cell_type": "markdown",
   "id": "developing-today",
   "metadata": {},
   "source": [
    "Проверьте гипотезу о равенстве долей любителей часто проводить вечера в баре среди мужчин и женщин. Посчитайте достигаемый уровень значимости, используя двустороннюю альтернативу. Введите номер первой значащей цифры (например, если вы получили 5.5×10−85.5\\times10^{-8}5.5×10−8, нужно ввести 8)."
   ]
  },
  {
   "cell_type": "code",
   "execution_count": 81,
   "id": "respected-group",
   "metadata": {},
   "outputs": [],
   "source": [
    "def proportions_diff_z_stat_ind(sample1, sample2):\n",
    "    n1 = np.sum(sample1)\n",
    "    n2 = np.sum(sample2)\n",
    "    \n",
    "    p1 = sample1[0] / n1\n",
    "    p2 = sample2[0] / n2 \n",
    "    P = float(p1*n1 + p2*n2) / (n1 + n2)\n",
    "    \n",
    "    return (p1 - p2) / np.sqrt(P * (1 - P) * (1. / n1 + 1. / n2))"
   ]
  },
  {
   "cell_type": "code",
   "execution_count": 82,
   "id": "cutting-julian",
   "metadata": {},
   "outputs": [],
   "source": [
    "def proportions_diff_z_test(z_stat, alternative = 'two-sided'):\n",
    "    if alternative not in ('two-sided', 'less', 'greater'):\n",
    "        raise ValueError(\"alternative not recognized\\n\"\n",
    "                         \"should be 'two-sided', 'less' or 'greater'\")\n",
    "    \n",
    "    if alternative == 'two-sided':\n",
    "        return 2 * (1 - stats.norm.cdf(np.abs(z_stat)))\n",
    "    \n",
    "    if alternative == 'less':\n",
    "        return stats.norm.cdf(z_stat)\n",
    "\n",
    "    if alternative == 'greater':\n",
    "        return 1 - stats.norm.cdf(z_stat)\n"
   ]
  },
  {
   "cell_type": "code",
   "execution_count": 86,
   "id": "overhead-graphic",
   "metadata": {},
   "outputs": [],
   "source": [
    "bars_sex = np.array([[203., 239.], [718., 515.]])"
   ]
  },
  {
   "cell_type": "code",
   "execution_count": 87,
   "id": "national-surface",
   "metadata": {},
   "outputs": [
    {
     "name": "stdout",
     "output_type": "stream",
     "text": [
      "p-value: 0.000008\n"
     ]
    }
   ],
   "source": [
    "print('p-value: %f' % proportions_diff_z_test(proportions_diff_z_stat_ind(bars_sex[:,1], bars_sex[:,0])))"
   ]
  },
  {
   "cell_type": "code",
   "execution_count": 121,
   "id": "skilled-mandate",
   "metadata": {},
   "outputs": [
    {
     "name": "stdout",
     "output_type": "stream",
     "text": [
      "p-value value is: 1e-05\n"
     ]
    }
   ],
   "source": [
    "print('p-value value is: {}'.format(round(stats.chi2_contingency(bars_sex)[1],5)))"
   ]
  },
  {
   "cell_type": "markdown",
   "id": "returning-morning",
   "metadata": {},
   "source": [
    "Не 5 і не 7, може 6?"
   ]
  },
  {
   "cell_type": "markdown",
   "id": "expensive-adolescent",
   "metadata": {},
   "source": [
    "# Task 8"
   ]
  },
  {
   "cell_type": "markdown",
   "id": "intimate-magnitude",
   "metadata": {},
   "source": [
    "Посмотрим на данные General Social Survey 2014 года и проанализируем, как связаны ответы на вопросы \"Счастливы ли вы?\" и \"Довольны ли вы вашим финансовым положением?\""
   ]
  },
  {
   "cell_type": "markdown",
   "id": "separate-private",
   "metadata": {},
   "source": [
    "\tНе доволен\tБолее или менее\tДоволен\n",
    "Не очень счастлив\t197\t111\t33\n",
    "Достаточно счастлив\t382\t685\t331\n",
    "Очень счастлив\t110\t342\t333"
   ]
  },
  {
   "cell_type": "code",
   "execution_count": 93,
   "id": "thousand-consequence",
   "metadata": {},
   "outputs": [],
   "source": [
    "happiness = np.array( [[197., 111., 33. ],\n",
    "                       [382., 685., 331.],\n",
    "                       [110., 342., 333.]] )"
   ]
  },
  {
   "cell_type": "code",
   "execution_count": 90,
   "id": "broke-banks",
   "metadata": {},
   "outputs": [
    {
     "data": {
      "text/plain": [
       "(293.68311039689746,\n",
       " 2.4964299580093467e-62,\n",
       " 4,\n",
       " array([[ 93.08597464, 153.74722662,  94.16679873],\n",
       "        [381.6251981 , 630.318542  , 386.0562599 ],\n",
       "        [214.28882726, 353.93423138, 216.77694136]]))"
      ]
     },
     "execution_count": 90,
     "metadata": {},
     "output_type": "execute_result"
    }
   ],
   "source": [
    "stats.chi2_contingency(happiness)"
   ]
  },
  {
   "cell_type": "code",
   "execution_count": 92,
   "id": "worst-standard",
   "metadata": {},
   "outputs": [
    {
     "name": "stdout",
     "output_type": "stream",
     "text": [
      "Chi2 value is: 293.6831\n"
     ]
    }
   ],
   "source": [
    "print('Chi2 value is: {}'.format(round(stats.chi2_contingency(happiness)[0],4)))"
   ]
  },
  {
   "cell_type": "markdown",
   "id": "american-accessory",
   "metadata": {},
   "source": [
    "# Task 9"
   ]
  },
  {
   "cell_type": "markdown",
   "id": "interim-request",
   "metadata": {},
   "source": [
    "На данных из предыдущего вопроса посчитайте значение достигаемого уровня значимости. Введите номер первой значащей цифры (например, если вы получили 5.5×10−85.5\\times10^{-8}5.5×10−8, нужно ввести 8)."
   ]
  },
  {
   "cell_type": "code",
   "execution_count": 102,
   "id": "previous-adventure",
   "metadata": {},
   "outputs": [
    {
     "name": "stdout",
     "output_type": "stream",
     "text": [
      "Chi2 stat p-value is: 1.9999999999999996e-62\n"
     ]
    }
   ],
   "source": [
    "print('Chi2 stat p-value is: {}'.format(round(stats.chi2_contingency(happiness)[1],62)))"
   ]
  },
  {
   "cell_type": "markdown",
   "id": "virtual-lincoln",
   "metadata": {},
   "source": [
    "62???"
   ]
  },
  {
   "cell_type": "markdown",
   "id": "disturbed-sphere",
   "metadata": {},
   "source": [
    "# Task 10"
   ]
  },
  {
   "cell_type": "markdown",
   "id": "welsh-tunnel",
   "metadata": {},
   "source": [
    "Чему в предыдущей задаче равно значение коэффициента V Крамера для рассматриваемых признаков? Округлите ответ до четырёх знаков после десятичной точки. "
   ]
  },
  {
   "cell_type": "code",
   "execution_count": 173,
   "id": "cloudy-series",
   "metadata": {},
   "outputs": [],
   "source": [
    "def cramers_stat(matrix):\n",
    "    return np.sqrt((stats.chi2_contingency(matrix)[0])/(np.sum(matrix)*(min(matrix.shape)-1)))"
   ]
  },
  {
   "cell_type": "code",
   "execution_count": 175,
   "id": "strong-allergy",
   "metadata": {},
   "outputs": [
    {
     "data": {
      "text/plain": [
       "0.2412"
      ]
     },
     "execution_count": 175,
     "metadata": {},
     "output_type": "execute_result"
    }
   ],
   "source": [
    "round(cramers_stat(happiness),4)"
   ]
  },
  {
   "cell_type": "code",
   "execution_count": 168,
   "id": "basic-nowhere",
   "metadata": {},
   "outputs": [
    {
     "data": {
      "text/plain": [
       "0.2412"
      ]
     },
     "execution_count": 168,
     "metadata": {},
     "output_type": "execute_result"
    }
   ],
   "source": [
    "round(np.sqrt((stats.chi2_contingency(happiness)[0])/(np.sum(happiness)*(min(happiness.shape)-1))),4)"
   ]
  }
 ],
 "metadata": {
  "kernelspec": {
   "display_name": "coursera",
   "language": "python",
   "name": "coursera"
  },
  "language_info": {
   "codemirror_mode": {
    "name": "ipython",
    "version": 3
   },
   "file_extension": ".py",
   "mimetype": "text/x-python",
   "name": "python",
   "nbconvert_exporter": "python",
   "pygments_lexer": "ipython3",
   "version": "3.9.1"
  }
 },
 "nbformat": 4,
 "nbformat_minor": 5
}
