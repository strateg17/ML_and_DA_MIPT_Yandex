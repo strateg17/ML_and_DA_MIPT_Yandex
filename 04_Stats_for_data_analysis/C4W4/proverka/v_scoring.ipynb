{
 "cells": [
  {
   "cell_type": "code",
   "execution_count": 1,
   "metadata": {},
   "outputs": [
    {
     "name": "stdout",
     "output_type": "stream",
     "text": [
      "Populating the interactive namespace from numpy and matplotlib\n"
     ]
    }
   ],
   "source": [
    "import pandas as pd\n",
    "from statsmodels.stats.proportion import proportion_confint\n",
    "from statsmodels.stats.weightstats import *\n",
    "import scipy.stats as stats\n",
    "\n",
    "%pylab inline"
   ]
  },
  {
   "cell_type": "code",
   "execution_count": 2,
   "metadata": {},
   "outputs": [],
   "source": [
    "c = pd.read_csv('credit_card_default_analysis.csv')"
   ]
  },
  {
   "cell_type": "code",
   "execution_count": 3,
   "metadata": {},
   "outputs": [
    {
     "data": {
      "text/html": [
       "<div>\n",
       "<style scoped>\n",
       "    .dataframe tbody tr th:only-of-type {\n",
       "        vertical-align: middle;\n",
       "    }\n",
       "\n",
       "    .dataframe tbody tr th {\n",
       "        vertical-align: top;\n",
       "    }\n",
       "\n",
       "    .dataframe thead th {\n",
       "        text-align: right;\n",
       "    }\n",
       "</style>\n",
       "<table border=\"1\" class=\"dataframe\">\n",
       "  <thead>\n",
       "    <tr style=\"text-align: right;\">\n",
       "      <th></th>\n",
       "      <th>ID</th>\n",
       "      <th>LIMIT_BAL</th>\n",
       "      <th>SEX</th>\n",
       "      <th>EDUCATION</th>\n",
       "      <th>MARRIAGE</th>\n",
       "      <th>AGE</th>\n",
       "      <th>PAY_0</th>\n",
       "      <th>PAY_2</th>\n",
       "      <th>PAY_3</th>\n",
       "      <th>PAY_4</th>\n",
       "      <th>...</th>\n",
       "      <th>BILL_AMT4</th>\n",
       "      <th>BILL_AMT5</th>\n",
       "      <th>BILL_AMT6</th>\n",
       "      <th>PAY_AMT1</th>\n",
       "      <th>PAY_AMT2</th>\n",
       "      <th>PAY_AMT3</th>\n",
       "      <th>PAY_AMT4</th>\n",
       "      <th>PAY_AMT5</th>\n",
       "      <th>PAY_AMT6</th>\n",
       "      <th>default</th>\n",
       "    </tr>\n",
       "  </thead>\n",
       "  <tbody>\n",
       "    <tr>\n",
       "      <th>0</th>\n",
       "      <td>1</td>\n",
       "      <td>20000</td>\n",
       "      <td>2</td>\n",
       "      <td>2</td>\n",
       "      <td>1</td>\n",
       "      <td>24</td>\n",
       "      <td>2</td>\n",
       "      <td>2</td>\n",
       "      <td>0</td>\n",
       "      <td>0</td>\n",
       "      <td>...</td>\n",
       "      <td>0</td>\n",
       "      <td>0</td>\n",
       "      <td>0</td>\n",
       "      <td>0</td>\n",
       "      <td>689</td>\n",
       "      <td>0</td>\n",
       "      <td>0</td>\n",
       "      <td>0</td>\n",
       "      <td>0</td>\n",
       "      <td>1</td>\n",
       "    </tr>\n",
       "    <tr>\n",
       "      <th>1</th>\n",
       "      <td>2</td>\n",
       "      <td>120000</td>\n",
       "      <td>2</td>\n",
       "      <td>2</td>\n",
       "      <td>2</td>\n",
       "      <td>26</td>\n",
       "      <td>0</td>\n",
       "      <td>2</td>\n",
       "      <td>0</td>\n",
       "      <td>0</td>\n",
       "      <td>...</td>\n",
       "      <td>3272</td>\n",
       "      <td>3455</td>\n",
       "      <td>3261</td>\n",
       "      <td>0</td>\n",
       "      <td>1000</td>\n",
       "      <td>1000</td>\n",
       "      <td>1000</td>\n",
       "      <td>0</td>\n",
       "      <td>2000</td>\n",
       "      <td>1</td>\n",
       "    </tr>\n",
       "    <tr>\n",
       "      <th>2</th>\n",
       "      <td>3</td>\n",
       "      <td>90000</td>\n",
       "      <td>2</td>\n",
       "      <td>2</td>\n",
       "      <td>2</td>\n",
       "      <td>34</td>\n",
       "      <td>0</td>\n",
       "      <td>0</td>\n",
       "      <td>0</td>\n",
       "      <td>0</td>\n",
       "      <td>...</td>\n",
       "      <td>14331</td>\n",
       "      <td>14948</td>\n",
       "      <td>15549</td>\n",
       "      <td>1518</td>\n",
       "      <td>1500</td>\n",
       "      <td>1000</td>\n",
       "      <td>1000</td>\n",
       "      <td>1000</td>\n",
       "      <td>5000</td>\n",
       "      <td>0</td>\n",
       "    </tr>\n",
       "    <tr>\n",
       "      <th>3</th>\n",
       "      <td>4</td>\n",
       "      <td>50000</td>\n",
       "      <td>2</td>\n",
       "      <td>2</td>\n",
       "      <td>1</td>\n",
       "      <td>37</td>\n",
       "      <td>0</td>\n",
       "      <td>0</td>\n",
       "      <td>0</td>\n",
       "      <td>0</td>\n",
       "      <td>...</td>\n",
       "      <td>28314</td>\n",
       "      <td>28959</td>\n",
       "      <td>29547</td>\n",
       "      <td>2000</td>\n",
       "      <td>2019</td>\n",
       "      <td>1200</td>\n",
       "      <td>1100</td>\n",
       "      <td>1069</td>\n",
       "      <td>1000</td>\n",
       "      <td>0</td>\n",
       "    </tr>\n",
       "    <tr>\n",
       "      <th>4</th>\n",
       "      <td>5</td>\n",
       "      <td>50000</td>\n",
       "      <td>1</td>\n",
       "      <td>2</td>\n",
       "      <td>1</td>\n",
       "      <td>57</td>\n",
       "      <td>0</td>\n",
       "      <td>0</td>\n",
       "      <td>0</td>\n",
       "      <td>0</td>\n",
       "      <td>...</td>\n",
       "      <td>20940</td>\n",
       "      <td>19146</td>\n",
       "      <td>19131</td>\n",
       "      <td>2000</td>\n",
       "      <td>36681</td>\n",
       "      <td>10000</td>\n",
       "      <td>9000</td>\n",
       "      <td>689</td>\n",
       "      <td>679</td>\n",
       "      <td>0</td>\n",
       "    </tr>\n",
       "  </tbody>\n",
       "</table>\n",
       "<p>5 rows × 25 columns</p>\n",
       "</div>"
      ],
      "text/plain": [
       "   ID  LIMIT_BAL  SEX  EDUCATION  MARRIAGE  AGE  PAY_0  PAY_2  PAY_3  PAY_4  \\\n",
       "0   1      20000    2          2         1   24      2      2      0      0   \n",
       "1   2     120000    2          2         2   26      0      2      0      0   \n",
       "2   3      90000    2          2         2   34      0      0      0      0   \n",
       "3   4      50000    2          2         1   37      0      0      0      0   \n",
       "4   5      50000    1          2         1   57      0      0      0      0   \n",
       "\n",
       "   ...  BILL_AMT4  BILL_AMT5  BILL_AMT6  PAY_AMT1  PAY_AMT2  PAY_AMT3  \\\n",
       "0  ...          0          0          0         0       689         0   \n",
       "1  ...       3272       3455       3261         0      1000      1000   \n",
       "2  ...      14331      14948      15549      1518      1500      1000   \n",
       "3  ...      28314      28959      29547      2000      2019      1200   \n",
       "4  ...      20940      19146      19131      2000     36681     10000   \n",
       "\n",
       "   PAY_AMT4  PAY_AMT5  PAY_AMT6  default  \n",
       "0         0         0         0        1  \n",
       "1      1000         0      2000        1  \n",
       "2      1000      1000      5000        0  \n",
       "3      1100      1069      1000        0  \n",
       "4      9000       689       679        0  \n",
       "\n",
       "[5 rows x 25 columns]"
      ]
     },
     "execution_count": 3,
     "metadata": {},
     "output_type": "execute_result"
    }
   ],
   "source": [
    "c.head()"
   ]
  },
  {
   "cell_type": "markdown",
   "metadata": {},
   "source": [
    "**Задание 1.**  \n",
    "Размер кредитного лимита (LIMIT_BAL). В двух группах, тех людей, кто вернул кредит (default = 0) и тех, кто его не вернул (default = 1) проверьте гипотезы:   a)  о равенстве медианных значений кредитного лимита с помощью подходящей интервальной оценки  b) о равенстве распределений с помощью одного из подходящих непараметрических критериев проверки равенства средних.  Значимы ли полученные результаты с практической точки зрения ?"
   ]
  },
  {
   "cell_type": "markdown",
   "metadata": {},
   "source": [
    "Нарисуем гистограммы значений LIMIT_BAL для двух групп - вернувших и не вернувших кредит."
   ]
  },
  {
   "cell_type": "code",
   "execution_count": 4,
   "metadata": {},
   "outputs": [
    {
     "data": {
      "text/plain": [
       "<matplotlib.legend.Legend at 0x19a9e11d7f0>"
      ]
     },
     "execution_count": 4,
     "metadata": {},
     "output_type": "execute_result"
    },
    {
     "data": {
      "image/png": "[encoded data removed]",
      "text/plain": [
       "<Figure size 432x288 with 1 Axes>"
      ]
     },
     "metadata": {
      "needs_background": "light"
     },
     "output_type": "display_data"
    }
   ],
   "source": [
    "c0 = c[c.default==0].LIMIT_BAL.values\n",
    "c1 = c[c.default==1].LIMIT_BAL.values\n",
    "\n",
    "bins = 100\n",
    "log = True\n",
    "\n",
    "pylab.hist(c0, log=log, label='Вернули', bins=bins)\n",
    "pylab.hist(c1, log=log, label='Нет', bins=bins)\n",
    "pylab.legend()"
   ]
  },
  {
   "cell_type": "markdown",
   "metadata": {},
   "source": [
    "Будем решать задачу с помощью бутстрепа."
   ]
  },
  {
   "cell_type": "code",
   "execution_count": 5,
   "metadata": {},
   "outputs": [],
   "source": [
    "def get_bootstrap_samples(data, n_samples):\n",
    "    indices = np.random.randint(0, len(data), (n_samples, len(data)))\n",
    "    samples = data[indices]\n",
    "    return samples"
   ]
  },
  {
   "cell_type": "code",
   "execution_count": 6,
   "metadata": {},
   "outputs": [],
   "source": [
    "def stat_intervals(stat, alpha):\n",
    "    boundaries = np.percentile(stat, [100 * alpha / 2., 100 * (1 - alpha / 2.)])\n",
    "    return boundaries"
   ]
  },
  {
   "cell_type": "code",
   "execution_count": 7,
   "metadata": {},
   "outputs": [
    {
     "name": "stdout",
     "output_type": "stream",
     "text": [
      "95% confidence interval for c0 median credit limit: [150000. 150000.]\n",
      "95% confidence interval for c1 median credit limit: [80000. 90000.]\n"
     ]
    }
   ],
   "source": [
    "np.random.seed(0)\n",
    "\n",
    "c0_median_scores = list(map(np.median, get_bootstrap_samples(c0, 1000)))\n",
    "c1_median_scores = list(map(np.median, get_bootstrap_samples(c1, 1000)))\n",
    "\n",
    "print(\"95% confidence interval for c0 median credit limit:\",  stat_intervals(c0_median_scores, 0.05))\n",
    "print(\"95% confidence interval for c1 median credit limit:\",  stat_intervals(c1_median_scores, 0.05))"
   ]
  },
  {
   "cell_type": "markdown",
   "metadata": {},
   "source": [
    "Видим, что медианы не совпадают. Люди, не возвращающие кредит, запрашивают меньшую сумму."
   ]
  },
  {
   "cell_type": "markdown",
   "metadata": {},
   "source": [
    "**Проверка равенства распределений**"
   ]
  },
  {
   "cell_type": "markdown",
   "metadata": {},
   "source": [
    "Проверяем гипотезу о равенстве распределений:  \n",
    "$H_0\\colon F_{с_0}(x) = F_{с_1}(x)$ - распределения выборок равны\n",
    "\n",
    "$H_1\\colon F_{с_0}(x) = F_{с_1}(x + \\Delta), \\Delta\\neq 0$ - распределения отличаются на некоторую величину сдвига"
   ]
  },
  {
   "cell_type": "code",
   "execution_count": 8,
   "metadata": {},
   "outputs": [],
   "source": [
    "def permutation_t_stat_ind(sample1, sample2):\n",
    "    return np.mean(sample1) - np.mean(sample2)"
   ]
  },
  {
   "cell_type": "code",
   "execution_count": 9,
   "metadata": {},
   "outputs": [],
   "source": [
    "def get_random_combinations(n1, n2, max_combinations):\n",
    "    index = np.arange(n1 + n2)\n",
    "    indices = set([tuple(index)])\n",
    "    for i in range(max_combinations - 1):\n",
    "        np.random.shuffle(index)\n",
    "        indices.add(tuple(index))\n",
    "    return [(index[:n1], index[n1:]) for index in indices]"
   ]
  },
  {
   "cell_type": "code",
   "execution_count": 10,
   "metadata": {},
   "outputs": [],
   "source": [
    "def permutation_zero_dist_ind(sample1, sample2, max_combinations=None):\n",
    "    joined_sample = np.hstack((sample1, sample2))\n",
    "    n1 = len(sample1)\n",
    "    n = len(joined_sample)\n",
    "    \n",
    "    if max_combinations:\n",
    "        indices = get_random_combinations(n1, len(sample2), max_combinations)\n",
    "    else:\n",
    "        indices = [(list(index), filter(lambda i: i not in index, range(n))) \\\n",
    "                    for index in itertools.combinations(range(n), n1)]\n",
    "    \n",
    "    distr = [joined_sample[list(i[0])].mean() - joined_sample[list(i[1])].mean() \\\n",
    "             for i in indices]\n",
    "    return distr"
   ]
  },
  {
   "cell_type": "code",
   "execution_count": 11,
   "metadata": {},
   "outputs": [],
   "source": [
    "def permutation_test(sample1, sample2, max_permutations=None, alternative='two-sided'):\n",
    "    if alternative not in ('two-sided', 'less', 'greater'):\n",
    "        raise ValueError(\"alternative not recognized\\n\"\n",
    "                         \"should be 'two-sided', 'less' or 'greater'\")\n",
    "    \n",
    "    t_stat = permutation_t_stat_ind(sample1, sample2)\n",
    "    \n",
    "    zero_distr = permutation_zero_dist_ind(sample1, sample2, max_permutations)\n",
    "    \n",
    "    if alternative == 'two-sided':\n",
    "        return sum([1. if abs(x) >= abs(t_stat) else 0. for x in zero_distr]) / len(zero_distr)\n",
    "    \n",
    "    if alternative == 'less':\n",
    "        return sum([1. if x <= t_stat else 0. for x in zero_distr]) / len(zero_distr)\n",
    "\n",
    "    if alternative == 'greater':\n",
    "        return sum([1. if x >= t_stat else 0. for x in zero_distr]) / len(zero_distr)"
   ]
  },
  {
   "cell_type": "code",
   "execution_count": 12,
   "metadata": {},
   "outputs": [
    {
     "name": "stdout",
     "output_type": "stream",
     "text": [
      "p-value: 0.001000\n"
     ]
    }
   ],
   "source": [
    "print('p-value: %f' % permutation_test(c0, c1, max_permutations=1000))"
   ]
  },
  {
   "cell_type": "markdown",
   "metadata": {},
   "source": [
    "Гипотеза $H_0$ уверенно отвергается (pvalue очень мало). Значит, распределения не совпадают.  \n",
    "Результат является практически значимым, поскольку разница между медианами существенно большая."
   ]
  },
  {
   "cell_type": "markdown",
   "metadata": {},
   "source": [
    "**Задание 2.**  \n",
    "Пол (SEX): Проверьте гипотезу о том, что гендерный состав группы людей вернувших и не вернувших кредит отличается.  Хорошо, если вы предоставите несколько различных решений  этой задачи (с помощью доверительного интервала и подходящего статистического критерия)."
   ]
  },
  {
   "cell_type": "code",
   "execution_count": 13,
   "metadata": {},
   "outputs": [
    {
     "data": {
      "text/plain": [
       "<matplotlib.legend.Legend at 0x19a9eb44a20>"
      ]
     },
     "execution_count": 13,
     "metadata": {},
     "output_type": "execute_result"
    },
    {
     "data": {
      "image/png": "[encoded data removed]",
      "text/plain": [
       "<Figure size 432x288 with 1 Axes>"
      ]
     },
     "metadata": {
      "needs_background": "light"
     },
     "output_type": "display_data"
    }
   ],
   "source": [
    "s0 = c[c.default==0].SEX.values\n",
    "s1 = c[c.default==1].SEX.values\n",
    "\n",
    "bins = 2\n",
    "log = False\n",
    "\n",
    "pylab.hist(s0, log=log, label='Вернули', bins=bins)\n",
    "pylab.hist(s1, log=log, label='Нет', bins=bins)\n",
    "pylab.legend()"
   ]
  },
  {
   "cell_type": "markdown",
   "metadata": {},
   "source": [
    "Из гистограммы не очевидно, что есть какая-нибудь разница в гендерном составе по группам: и там, и там женщин примерно в 1.5 раза больше, чем мужчин.\n",
    "Под гендерным составом выборки будем понимать пропорцию m/f, где m - количество мужчин, f - количество женщин.\n",
    "Сначала проверим доверительные интервалы на основе нормального распределения.  \n",
    "Гипотезы:  \n",
    "$𝐻_0$: гендерный состав одинаков  \n",
    "$𝐻_1$: гендерный состав отличается"
   ]
  },
  {
   "cell_type": "code",
   "execution_count": 14,
   "metadata": {},
   "outputs": [
    {
     "name": "stdout",
     "output_type": "stream",
     "text": [
      "Confident interval for \"men/women proportion for \"default = 0\": [0.3796, 0.3921]\n",
      "Confident interval for \"men/women proportion for \"default = 1\": [0.4210, 0.4449]\n"
     ]
    }
   ],
   "source": [
    "confint_0 = proportion_confint(np.where(s0 == 1)[0].shape[0], s0.shape[0])\n",
    "confint_1 = proportion_confint(np.where(s1 == 1)[0].shape[0], s1.shape[0])\n",
    "\n",
    "print('Confident interval for \"men/women proportion for \"default = 0\": [%.4f, %.4f]' % confint_0)\n",
    "print('Confident interval for \"men/women proportion for \"default = 1\": [%.4f, %.4f]' % confint_1)"
   ]
  },
  {
   "cell_type": "markdown",
   "metadata": {},
   "source": [
    "Доверительные интервалы не пересекаются, следовательно гендерный состав различается.  \n",
    "\n",
    "Применим теперь Z-критерий для доли для двух независимых выборок.  \n",
    "Гипотезы:  \n",
    "$𝐻_0$: гендерный состав одинаков  \n",
    "$𝐻_1$: гендерный состав отличается"
   ]
  },
  {
   "cell_type": "code",
   "execution_count": 15,
   "metadata": {},
   "outputs": [],
   "source": [
    "def proportions_diff_z_stat_ind(sample1, sample2):\n",
    "    n1 = len(sample1)\n",
    "    n2 = len(sample2)\n",
    "    \n",
    "    p1 = float(sum(sample1)) / n1\n",
    "    p2 = float(sum(sample2)) / n2 \n",
    "    P = float(p1*n1 + p2*n2) / (n1 + n2)\n",
    "    \n",
    "    return (p1 - p2) / np.sqrt(P * (1 - P) * (1. / n1 + 1. / n2))"
   ]
  },
  {
   "cell_type": "code",
   "execution_count": 16,
   "metadata": {},
   "outputs": [],
   "source": [
    "def proportions_diff_z_test(z_stat, alternative='two-sided'):\n",
    "    if alternative not in ('two-sided', 'less', 'greater'):\n",
    "        raise ValueError(\"alternative not recognized\\n\"\n",
    "                         \"should be 'two-sided', 'less' or 'greater'\")\n",
    "    \n",
    "    if alternative == 'two-sided':\n",
    "        return 2 * (1 - stats.norm.cdf(np.abs(z_stat)))\n",
    "    \n",
    "    if alternative == 'less':\n",
    "        return stats.norm.cdf(z_stat)\n",
    "\n",
    "    if alternative == 'greater':\n",
    "        return 1 - stats.norm.cdf(z_stat)"
   ]
  },
  {
   "cell_type": "code",
   "execution_count": 17,
   "metadata": {},
   "outputs": [
    {
     "name": "stdout",
     "output_type": "stream",
     "text": [
      "p-value: 0.000000000004473\n"
     ]
    }
   ],
   "source": [
    "print('p-value: %.15f' % proportions_diff_z_test(proportions_diff_z_stat_ind(np.abs(s0 - 2), np.abs(s1 - 2))))"
   ]
  },
  {
   "cell_type": "markdown",
   "metadata": {},
   "source": [
    "Гипотеза $𝐻_0$  уверенно отвергается (pvalue очень мало). Значит, равенства нет."
   ]
  },
  {
   "cell_type": "markdown",
   "metadata": {},
   "source": [
    "**Задание 3.**  \n",
    "Образование (EDUCATION): Проверьте гипотезу о том, что образование не влияет на то, вернет ли человек долг.  Предложите способ наглядного представления разницы в ожидаемых и наблюдаемых значениях количества человек вернувших и не вернувших долг. Например, составьте таблицу сопряженности \"образование\" на \"возврат долга\", где значением ячейки была бы  разность между наблюдаемым и ожидаемым количеством человек.  Как бы вы предложили модифицировать таблицу так, чтобы привести значения ячеек к одному масштабу не потеряв в интерпретируемости ?  Наличие какого образования является наилучшим индикатором того, что человек  отдаст долг ? наоборот, не отдаст долг ?"
   ]
  },
  {
   "cell_type": "code",
   "execution_count": 18,
   "metadata": {},
   "outputs": [
    {
     "data": {
      "text/plain": [
       "<matplotlib.legend.Legend at 0x19a9ed03780>"
      ]
     },
     "execution_count": 18,
     "metadata": {},
     "output_type": "execute_result"
    },
    {
     "data": {
      "image/png": "[encoded data removed]",
      "text/plain": [
       "<Figure size 432x288 with 1 Axes>"
      ]
     },
     "metadata": {
      "needs_background": "light"
     },
     "output_type": "display_data"
    }
   ],
   "source": [
    "e0 = c[c.default==0].EDUCATION.values\n",
    "e1 = c[c.default==1].EDUCATION.values\n",
    "\n",
    "bins = 20\n",
    "log = True\n",
    "\n",
    "pylab.hist(e0, log=log, label='Вернули', bins=bins)\n",
    "pylab.hist(e1, log=log, label='Нет', bins=bins)\n",
    "pylab.legend()"
   ]
  },
  {
   "cell_type": "markdown",
   "metadata": {},
   "source": [
    "Из графиков можно сделать следующие выводы: 1) доктора наук всегда возвращают кредиты; 2) люди со средним и высшим образованием показывают примерно одинаковое распределение по части возврата/невозврата кредитов; 3) люди с начальным и прочим образованием более склонны возвращать кредиты, нежели люди с более высоким образованием (кроме докторов)."
   ]
  },
  {
   "cell_type": "code",
   "execution_count": 19,
   "metadata": {},
   "outputs": [
    {
     "data": {
      "text/html": [
       "<div>\n",
       "<style scoped>\n",
       "    .dataframe tbody tr th:only-of-type {\n",
       "        vertical-align: middle;\n",
       "    }\n",
       "\n",
       "    .dataframe tbody tr th {\n",
       "        vertical-align: top;\n",
       "    }\n",
       "\n",
       "    .dataframe thead th {\n",
       "        text-align: right;\n",
       "    }\n",
       "</style>\n",
       "<table border=\"1\" class=\"dataframe\">\n",
       "  <thead>\n",
       "    <tr style=\"text-align: right;\">\n",
       "      <th></th>\n",
       "      <th>% возвращающих долг</th>\n",
       "      <th>ожидался возврат долга</th>\n",
       "      <th>вернувших</th>\n",
       "      <th>не вернувших</th>\n",
       "    </tr>\n",
       "  </thead>\n",
       "  <tbody>\n",
       "    <tr>\n",
       "      <th>доктор</th>\n",
       "      <td>1.00</td>\n",
       "      <td>14.0</td>\n",
       "      <td>14.0</td>\n",
       "      <td>0.0</td>\n",
       "    </tr>\n",
       "    <tr>\n",
       "      <th>магистр</th>\n",
       "      <td>0.81</td>\n",
       "      <td>10585.0</td>\n",
       "      <td>8549.0</td>\n",
       "      <td>2036.0</td>\n",
       "    </tr>\n",
       "    <tr>\n",
       "      <th>бакалавр</th>\n",
       "      <td>0.76</td>\n",
       "      <td>14030.0</td>\n",
       "      <td>10700.0</td>\n",
       "      <td>3330.0</td>\n",
       "    </tr>\n",
       "    <tr>\n",
       "      <th>выпускник школы</th>\n",
       "      <td>0.75</td>\n",
       "      <td>4917.0</td>\n",
       "      <td>3680.0</td>\n",
       "      <td>1237.0</td>\n",
       "    </tr>\n",
       "    <tr>\n",
       "      <th>начальное образование</th>\n",
       "      <td>0.94</td>\n",
       "      <td>123.0</td>\n",
       "      <td>116.0</td>\n",
       "      <td>7.0</td>\n",
       "    </tr>\n",
       "    <tr>\n",
       "      <th>прочее</th>\n",
       "      <td>0.94</td>\n",
       "      <td>280.0</td>\n",
       "      <td>262.0</td>\n",
       "      <td>18.0</td>\n",
       "    </tr>\n",
       "    <tr>\n",
       "      <th>нет данных</th>\n",
       "      <td>0.84</td>\n",
       "      <td>51.0</td>\n",
       "      <td>43.0</td>\n",
       "      <td>8.0</td>\n",
       "    </tr>\n",
       "  </tbody>\n",
       "</table>\n",
       "</div>"
      ],
      "text/plain": [
       "                       % возвращающих долг  ожидался возврат долга  вернувших  \\\n",
       "доктор                                1.00                    14.0       14.0   \n",
       "магистр                               0.81                 10585.0     8549.0   \n",
       "бакалавр                              0.76                 14030.0    10700.0   \n",
       "выпускник школы                       0.75                  4917.0     3680.0   \n",
       "начальное образование                 0.94                   123.0      116.0   \n",
       "прочее                                0.94                   280.0      262.0   \n",
       "нет данных                            0.84                    51.0       43.0   \n",
       "\n",
       "                       не вернувших  \n",
       "доктор                          0.0  \n",
       "магистр                      2036.0  \n",
       "бакалавр                     3330.0  \n",
       "выпускник школы              1237.0  \n",
       "начальное образование           7.0  \n",
       "прочее                         18.0  \n",
       "нет данных                      8.0  "
      ]
     },
     "execution_count": 19,
     "metadata": {},
     "output_type": "execute_result"
    }
   ],
   "source": [
    "e_dict = {0 : 'доктор', 1 : 'магистр', 2 : 'бакалавр', 3 : 'выпускник школы',\n",
    "          4 : 'начальное образование', 5 : 'прочее', 6 : 'нет данных'}\n",
    "e, i0, i1 = [], [], []\n",
    "for i in range(7):\n",
    "    i0.append(sum([1 for j in e0 if j==i], dtype='int'))\n",
    "    i1.append(sum([1 for j in e1 if j==i], dtype='int'))\n",
    "    e.append(round(i0[i]/(i0[i] + i1[i]), 2))\n",
    "\n",
    "ec = pd.DataFrame([e, [x+y for x,y in zip(i0, i1)], i0, i1]).T\n",
    "ec.columns = ['% возвращающих долг', 'ожидался возврат долга', 'вернувших', 'не вернувших']\n",
    "ec.rename(index=e_dict)"
   ]
  },
  {
   "cell_type": "markdown",
   "metadata": {},
   "source": [
    "Чтобы привести данные в таблице к одному масштабу, можно прологарифмировать значения."
   ]
  },
  {
   "cell_type": "code",
   "execution_count": 20,
   "metadata": {},
   "outputs": [
    {
     "name": "stderr",
     "output_type": "stream",
     "text": [
      "c:\\users\\vetix\\appdata\\local\\programs\\python\\python37\\lib\\site-packages\\ipykernel_launcher.py:1: RuntimeWarning: divide by zero encountered in log\n",
      "  \"\"\"Entry point for launching an IPython kernel.\n"
     ]
    },
    {
     "data": {
      "text/html": [
       "<div>\n",
       "<style scoped>\n",
       "    .dataframe tbody tr th:only-of-type {\n",
       "        vertical-align: middle;\n",
       "    }\n",
       "\n",
       "    .dataframe tbody tr th {\n",
       "        vertical-align: top;\n",
       "    }\n",
       "\n",
       "    .dataframe thead th {\n",
       "        text-align: right;\n",
       "    }\n",
       "</style>\n",
       "<table border=\"1\" class=\"dataframe\">\n",
       "  <thead>\n",
       "    <tr style=\"text-align: right;\">\n",
       "      <th></th>\n",
       "      <th>% возвращающих долг</th>\n",
       "      <th>ожидался возврат долга</th>\n",
       "      <th>вернувших</th>\n",
       "      <th>не вернувших</th>\n",
       "    </tr>\n",
       "  </thead>\n",
       "  <tbody>\n",
       "    <tr>\n",
       "      <th>доктор</th>\n",
       "      <td>1.00</td>\n",
       "      <td>2.64</td>\n",
       "      <td>2.64</td>\n",
       "      <td>-inf</td>\n",
       "    </tr>\n",
       "    <tr>\n",
       "      <th>магистр</th>\n",
       "      <td>0.81</td>\n",
       "      <td>9.27</td>\n",
       "      <td>9.05</td>\n",
       "      <td>7.62</td>\n",
       "    </tr>\n",
       "    <tr>\n",
       "      <th>бакалавр</th>\n",
       "      <td>0.76</td>\n",
       "      <td>9.55</td>\n",
       "      <td>9.28</td>\n",
       "      <td>8.11</td>\n",
       "    </tr>\n",
       "    <tr>\n",
       "      <th>выпускник школы</th>\n",
       "      <td>0.75</td>\n",
       "      <td>8.50</td>\n",
       "      <td>8.21</td>\n",
       "      <td>7.12</td>\n",
       "    </tr>\n",
       "    <tr>\n",
       "      <th>начальное образование</th>\n",
       "      <td>0.94</td>\n",
       "      <td>4.81</td>\n",
       "      <td>4.75</td>\n",
       "      <td>1.95</td>\n",
       "    </tr>\n",
       "    <tr>\n",
       "      <th>прочее</th>\n",
       "      <td>0.94</td>\n",
       "      <td>5.63</td>\n",
       "      <td>5.57</td>\n",
       "      <td>2.89</td>\n",
       "    </tr>\n",
       "    <tr>\n",
       "      <th>нет данных</th>\n",
       "      <td>0.84</td>\n",
       "      <td>3.93</td>\n",
       "      <td>3.76</td>\n",
       "      <td>2.08</td>\n",
       "    </tr>\n",
       "  </tbody>\n",
       "</table>\n",
       "</div>"
      ],
      "text/plain": [
       "                       % возвращающих долг  ожидался возврат долга  вернувших  \\\n",
       "доктор                                1.00                    2.64       2.64   \n",
       "магистр                               0.81                    9.27       9.05   \n",
       "бакалавр                              0.76                    9.55       9.28   \n",
       "выпускник школы                       0.75                    8.50       8.21   \n",
       "начальное образование                 0.94                    4.81       4.75   \n",
       "прочее                                0.94                    5.63       5.57   \n",
       "нет данных                            0.84                    3.93       3.76   \n",
       "\n",
       "                       не вернувших  \n",
       "доктор                         -inf  \n",
       "магистр                        7.62  \n",
       "бакалавр                       8.11  \n",
       "выпускник школы                7.12  \n",
       "начальное образование          1.95  \n",
       "прочее                         2.89  \n",
       "нет данных                     2.08  "
      ]
     },
     "execution_count": 20,
     "metadata": {},
     "output_type": "execute_result"
    }
   ],
   "source": [
    "ec = pd.DataFrame([e, np.log([x+y for x,y in zip(i0, i1)]).round(2), np.log(i0).round(2), np.log(i1).round(2)]).T\n",
    "ec.columns = ['% возвращающих долг', 'ожидался возврат долга', 'вернувших', 'не вернувших']\n",
    "ec.rename(index=e_dict)"
   ]
  },
  {
   "cell_type": "markdown",
   "metadata": {},
   "source": [
    "Итак, степень доктора является наилучшим индикатором того, что человек отдаст долг, а человек со средним образованием, но без высшего - наоборот, не отдаст."
   ]
  },
  {
   "cell_type": "markdown",
   "metadata": {},
   "source": [
    "Проведем проверку гипотезы о том, что образование не влияет на то, вернет ли человек долг. Фактически, это означает, что распределение клиентов по уровню образования - равномерное.\n",
    "Итак, проведем проверку на соответствие данного распределения равномерному, с помощью критерия согласия Пирсона хи-квадрат.  \n",
    "Гипотезы:  \n",
    "$H_0$: рассматриваемая величина имеет равномерное распределение  \n",
    "$H_1$: не имеет"
   ]
  },
  {
   "cell_type": "code",
   "execution_count": 21,
   "metadata": {},
   "outputs": [
    {
     "data": {
      "text/plain": [
       "Power_divergenceResult(statistic=36917.35687382297, pvalue=0.0)"
      ]
     },
     "execution_count": 21,
     "metadata": {},
     "output_type": "execute_result"
    }
   ],
   "source": [
    "stats.chisquare(i0)  # Распределение по образованию среди людей, возвращающих кредиты"
   ]
  },
  {
   "cell_type": "code",
   "execution_count": 22,
   "metadata": {},
   "outputs": [
    {
     "data": {
      "text/plain": [
       "Power_divergenceResult(statistic=11048.390295358648, pvalue=0.0)"
      ]
     },
     "execution_count": 22,
     "metadata": {},
     "output_type": "execute_result"
    }
   ],
   "source": [
    "stats.chisquare(i1)  # Распределение по образованию среди людей, не возвращающих кредиты"
   ]
  },
  {
   "cell_type": "code",
   "execution_count": 23,
   "metadata": {},
   "outputs": [
    {
     "data": {
      "text/plain": [
       "Power_divergenceResult(statistic=71717.81573333332, pvalue=0.0)"
      ]
     },
     "execution_count": 23,
     "metadata": {},
     "output_type": "execute_result"
    }
   ],
   "source": [
    "stats.chisquare(i0+i1)  # Распределение по образованию среди всех людей, берущих кредиты"
   ]
  },
  {
   "cell_type": "markdown",
   "metadata": {},
   "source": [
    "Видим, что гипотеза о равномерности, т.е. независимости возврата кредитов от образования, уверенно отвергается по всем группам."
   ]
  },
  {
   "cell_type": "markdown",
   "metadata": {},
   "source": [
    "**Задание 4.**  \n",
    "Семейное положение (MARRIAGE): Проверьте, как связан семейный статус с индикатором дефолта: нужно предложить меру, по которой можно измерить возможную связь этих переменных и посчитать ее значение."
   ]
  },
  {
   "cell_type": "code",
   "execution_count": 24,
   "metadata": {},
   "outputs": [
    {
     "data": {
      "text/plain": [
       "<matplotlib.legend.Legend at 0x19a9fecc860>"
      ]
     },
     "execution_count": 24,
     "metadata": {},
     "output_type": "execute_result"
    },
    {
     "data": {
      "image/png": "[encoded data removed]",
      "text/plain": [
       "<Figure size 432x288 with 1 Axes>"
      ]
     },
     "metadata": {
      "needs_background": "light"
     },
     "output_type": "display_data"
    }
   ],
   "source": [
    "m0 = c[c.default==0].MARRIAGE.values\n",
    "m1 = c[c.default==1].MARRIAGE.values\n",
    "\n",
    "bins = 20\n",
    "log = True\n",
    "\n",
    "pylab.hist(m0, log=log, label='Вернули', bins=bins)\n",
    "pylab.hist(m1, log=log, label='Нет', bins=bins)\n",
    "pylab.legend()"
   ]
  },
  {
   "cell_type": "markdown",
   "metadata": {},
   "source": [
    "Исследуем возможную связь семейного статуса с индикатором дефолта имеется. Проверим ее по критериям Пирсона и Спирмена:"
   ]
  },
  {
   "cell_type": "code",
   "execution_count": 27,
   "metadata": {},
   "outputs": [
    {
     "data": {
      "text/plain": [
       "(-0.02433921568340417, 2.4853638863386893e-05)"
      ]
     },
     "execution_count": 27,
     "metadata": {},
     "output_type": "execute_result"
    }
   ],
   "source": [
    "stats.pearsonr(c.MARRIAGE, c.default)"
   ]
  },
  {
   "cell_type": "code",
   "execution_count": 28,
   "metadata": {},
   "outputs": [
    {
     "data": {
      "text/plain": [
       "SpearmanrResult(correlation=-0.026489789964479267, pvalue=4.45843573619923e-06)"
      ]
     },
     "execution_count": 28,
     "metadata": {},
     "output_type": "execute_result"
    }
   ],
   "source": [
    "stats.spearmanr(c.MARRIAGE, c.default)"
   ]
  },
  {
   "cell_type": "markdown",
   "metadata": {},
   "source": [
    "По обоим критериям корреляция получается близкой к нулю, т.е. связи нет."
   ]
  },
  {
   "cell_type": "markdown",
   "metadata": {},
   "source": [
    "**Задание 5.**  \n",
    "Возраст (AGE): Относительно двух групп людей  вернувших и не вернувших кредит  проверьте следующие гипотезы:   \n",
    "a)  о равенстве медианных значений возрастов людей   \n",
    "b) о равенстве распределений  с помощью одного из подходящих непараметрических критериев проверки равенства средних.  \n",
    "Значимы ли полученные результаты с практической точки зрения ?"
   ]
  },
  {
   "cell_type": "code",
   "execution_count": 29,
   "metadata": {},
   "outputs": [
    {
     "data": {
      "text/plain": [
       "<matplotlib.legend.Legend at 0x19a9fea76d8>"
      ]
     },
     "execution_count": 29,
     "metadata": {},
     "output_type": "execute_result"
    },
    {
     "data": {
      "image/png": "[encoded data removed]",
      "text/plain": [
       "<Figure size 432x288 with 1 Axes>"
      ]
     },
     "metadata": {
      "needs_background": "light"
     },
     "output_type": "display_data"
    }
   ],
   "source": [
    "a0 = c[c.default==0].AGE.values\n",
    "a1 = c[c.default==1].AGE.values\n",
    "\n",
    "bins = 60\n",
    "log = True\n",
    "\n",
    "pylab.hist(a0, log=log, label='Вернули', bins=bins)\n",
    "pylab.hist(a1, log=log, label='Нет', bins=bins)\n",
    "pylab.legend()"
   ]
  },
  {
   "cell_type": "markdown",
   "metadata": {},
   "source": [
    "Судя по картинке, распределения по вернувшим/не вернувшим похожи.  \n",
    "Задачу сравнения медианных значений будем решать опять с помощью бутстрепа."
   ]
  },
  {
   "cell_type": "code",
   "execution_count": 30,
   "metadata": {},
   "outputs": [
    {
     "name": "stdout",
     "output_type": "stream",
     "text": [
      "95% confidence interval for a0 median credit limit: [34. 34.]\n",
      "95% confidence interval for a1 median credit limit: [34. 35.]\n"
     ]
    }
   ],
   "source": [
    "np.random.seed(0)\n",
    "\n",
    "a0_median_scores = list(map(np.median, get_bootstrap_samples(a0, 1000)))\n",
    "a1_median_scores = list(map(np.median, get_bootstrap_samples(a1, 1000)))\n",
    "\n",
    "print(\"95% confidence interval for a0 median credit limit:\",  stat_intervals(a0_median_scores, 0.05))\n",
    "print(\"95% confidence interval for a1 median credit limit:\",  stat_intervals(a1_median_scores, 0.05))"
   ]
  },
  {
   "cell_type": "markdown",
   "metadata": {},
   "source": [
    "Итак, интервальные оценки для медианы пересекаются.  \n",
    "Построим интервальную оценку для разности медиан."
   ]
  },
  {
   "cell_type": "code",
   "execution_count": 31,
   "metadata": {},
   "outputs": [],
   "source": [
    "delta_median_scores = list(map(lambda x: x[1] - x[0], zip(a0_median_scores, a1_median_scores)))"
   ]
  },
  {
   "cell_type": "code",
   "execution_count": 32,
   "metadata": {},
   "outputs": [
    {
     "name": "stdout",
     "output_type": "stream",
     "text": [
      "95% confidence interval for the difference between medians: [0.000000, 1.000000]\n"
     ]
    }
   ],
   "source": [
    "stat_int = stat_intervals(delta_median_scores, 0.05)\n",
    "print('95%% confidence interval for the difference between medians: [%f, %f]' % (stat_int[0], stat_int[1]))"
   ]
  },
  {
   "cell_type": "markdown",
   "metadata": {},
   "source": [
    "Доверительный интервал содержит ноль, значит, значения медиан не различаются."
   ]
  },
  {
   "cell_type": "markdown",
   "metadata": {},
   "source": [
    "Проверим теперь гипотезу о равенстве распределений для независимых выборок:  \n",
    "$H_0\\colon F_{с_0}(x) = F_{с_1}(x)$ - распределения выборок равны\n",
    "\n",
    "$H_1\\colon F_{с_0}(x) = F_{с_1}(x + \\Delta), \\Delta\\neq 0$ - распределения отличаются на некоторую величину сдвига"
   ]
  },
  {
   "cell_type": "code",
   "execution_count": 33,
   "metadata": {},
   "outputs": [
    {
     "name": "stdout",
     "output_type": "stream",
     "text": [
      "p-value: 0.014000\n"
     ]
    }
   ],
   "source": [
    "print('p-value: %f' % permutation_test(a0, a1, max_permutations=1000))"
   ]
  },
  {
   "cell_type": "markdown",
   "metadata": {},
   "source": [
    "p-value мало (<0.05), значит, нулевая гипотеза отвергается на уровне 0.05."
   ]
  },
  {
   "cell_type": "code",
   "execution_count": null,
   "metadata": {},
   "outputs": [],
   "source": []
  }
 ],
 "metadata": {
  "kernelspec": {
   "display_name": "Python 3",
   "language": "python",
   "name": "python3"
  },
  "language_info": {
   "codemirror_mode": {
    "name": "ipython",
    "version": 3
   },
   "file_extension": ".py",
   "mimetype": "text/x-python",
   "name": "python",
   "nbconvert_exporter": "python",
   "pygments_lexer": "ipython3",
   "version": "3.8.5"
  }
 },
 "nbformat": 4,
 "nbformat_minor": 4
}
