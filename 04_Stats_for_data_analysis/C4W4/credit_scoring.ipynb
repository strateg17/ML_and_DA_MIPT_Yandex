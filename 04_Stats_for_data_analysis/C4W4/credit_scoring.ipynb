{
 "cells": [
  {
   "cell_type": "markdown",
   "id": "australian-explosion",
   "metadata": {},
   "source": [
    "# Credit Scoring"
   ]
  },
  {
   "cell_type": "markdown",
   "id": "macro-italian",
   "metadata": {},
   "source": [
    "Для выполнения этого задания вам понадобятся данные о кредитных историях клиентов одного из банков. Поля в предоставляемых данных имеют следующий смысл: "
   ]
  },
  {
   "cell_type": "markdown",
   "id": "colored-dealer",
   "metadata": {},
   "source": [
    "   - LIMIT_BAL:  размер кредитного лимита (в том числе и на семью клиента)\n",
    "   - SEX: пол клиента (1 = мужской, 2 = женский )\n",
    "   - EDUCATION: образование (0 = доктор, 1 = магистр; 2 = бакалавр; 3 = выпускник школы; 4 = начальное образование; 5= прочее; 6 = нет данных ).\n",
    "   - MARRIAGE: (0 = отказываюсь отвечать; 1 = замужем/женат; 2 = холост; 3 = нет данных). \n",
    "   - AGE: возраст в годах\n",
    "   - PAY_0 - PAY_6 : История прошлых платежей по кредиту. PAY_6 - платеж в апреле, ... Pay_0 - платеж в сентябре. Платеж = (0 = исправный платеж, 1=задержка в один месяц, 2=задержка в 2 месяца ...)\n",
    "   - BILL_AMT1 - BILL_AMT6:  задолженность,  BILL_AMT6 - на апрель, BILL_AMT1 - на сентябрь \n",
    "   - PAY_AMT1 - PAY_AMT6: сумма уплаченная в PAY_AMT6 - апреле, ..., PAY_AMT1 - сентябре     - default - индикатор невозврата денежных средств"
   ]
  },
  {
   "cell_type": "code",
   "execution_count": 2,
   "id": "blocked-vessel",
   "metadata": {},
   "outputs": [],
   "source": [
    "import warnings\n",
    "warnings.filterwarnings('ignore')"
   ]
  },
  {
   "cell_type": "code",
   "execution_count": 3,
   "id": "veterinary-compiler",
   "metadata": {},
   "outputs": [],
   "source": [
    "import statsmodels\n",
    "import scipy as sc\n",
    "import numpy as np\n",
    "import pandas as pd\n",
    "import statsmodels.stats.multitest as smm\n",
    "import statsmodels.formula.api as smf\n",
    "import statsmodels.stats.api as sms\n",
    "from statsmodels.graphics.regressionplots import plot_leverage_resid2\n",
    "from statsmodels.stats.proportion import proportion_confint\n",
    "from statsmodels.stats.weightstats import *\n",
    "import matplotlib.pyplot as plt"
   ]
  },
  {
   "cell_type": "code",
   "execution_count": 4,
   "id": "external-coalition",
   "metadata": {},
   "outputs": [
    {
     "name": "stdout",
     "output_type": "stream",
     "text": [
      "1.19.2\n",
      "1.2.1\n",
      "1.5.2\n",
      "0.12.1\n"
     ]
    }
   ],
   "source": [
    "print(np.__version__)\n",
    "print(pd.__version__)\n",
    "print(sc.__version__)\n",
    "print(statsmodels.__version__)"
   ]
  },
  {
   "cell_type": "code",
   "execution_count": 5,
   "id": "agreed-welsh",
   "metadata": {},
   "outputs": [
    {
     "name": "stdout",
     "output_type": "stream",
     "text": [
      "Populating the interactive namespace from numpy and matplotlib\n"
     ]
    }
   ],
   "source": [
    "%pylab inline"
   ]
  },
  {
   "cell_type": "code",
   "execution_count": 6,
   "id": "corporate-vector",
   "metadata": {},
   "outputs": [
    {
     "data": {
      "text/html": [
       "<div>\n",
       "<style scoped>\n",
       "    .dataframe tbody tr th:only-of-type {\n",
       "        vertical-align: middle;\n",
       "    }\n",
       "\n",
       "    .dataframe tbody tr th {\n",
       "        vertical-align: top;\n",
       "    }\n",
       "\n",
       "    .dataframe thead th {\n",
       "        text-align: right;\n",
       "    }\n",
       "</style>\n",
       "<table border=\"1\" class=\"dataframe\">\n",
       "  <thead>\n",
       "    <tr style=\"text-align: right;\">\n",
       "      <th></th>\n",
       "      <th>ID</th>\n",
       "      <th>LIMIT_BAL</th>\n",
       "      <th>SEX</th>\n",
       "      <th>EDUCATION</th>\n",
       "      <th>MARRIAGE</th>\n",
       "      <th>AGE</th>\n",
       "      <th>PAY_0</th>\n",
       "      <th>PAY_2</th>\n",
       "      <th>PAY_3</th>\n",
       "      <th>PAY_4</th>\n",
       "      <th>...</th>\n",
       "      <th>BILL_AMT4</th>\n",
       "      <th>BILL_AMT5</th>\n",
       "      <th>BILL_AMT6</th>\n",
       "      <th>PAY_AMT1</th>\n",
       "      <th>PAY_AMT2</th>\n",
       "      <th>PAY_AMT3</th>\n",
       "      <th>PAY_AMT4</th>\n",
       "      <th>PAY_AMT5</th>\n",
       "      <th>PAY_AMT6</th>\n",
       "      <th>default</th>\n",
       "    </tr>\n",
       "  </thead>\n",
       "  <tbody>\n",
       "    <tr>\n",
       "      <th>0</th>\n",
       "      <td>1</td>\n",
       "      <td>20000</td>\n",
       "      <td>2</td>\n",
       "      <td>2</td>\n",
       "      <td>1</td>\n",
       "      <td>24</td>\n",
       "      <td>2</td>\n",
       "      <td>2</td>\n",
       "      <td>0</td>\n",
       "      <td>0</td>\n",
       "      <td>...</td>\n",
       "      <td>0</td>\n",
       "      <td>0</td>\n",
       "      <td>0</td>\n",
       "      <td>0</td>\n",
       "      <td>689</td>\n",
       "      <td>0</td>\n",
       "      <td>0</td>\n",
       "      <td>0</td>\n",
       "      <td>0</td>\n",
       "      <td>1</td>\n",
       "    </tr>\n",
       "    <tr>\n",
       "      <th>1</th>\n",
       "      <td>2</td>\n",
       "      <td>120000</td>\n",
       "      <td>2</td>\n",
       "      <td>2</td>\n",
       "      <td>2</td>\n",
       "      <td>26</td>\n",
       "      <td>0</td>\n",
       "      <td>2</td>\n",
       "      <td>0</td>\n",
       "      <td>0</td>\n",
       "      <td>...</td>\n",
       "      <td>3272</td>\n",
       "      <td>3455</td>\n",
       "      <td>3261</td>\n",
       "      <td>0</td>\n",
       "      <td>1000</td>\n",
       "      <td>1000</td>\n",
       "      <td>1000</td>\n",
       "      <td>0</td>\n",
       "      <td>2000</td>\n",
       "      <td>1</td>\n",
       "    </tr>\n",
       "    <tr>\n",
       "      <th>2</th>\n",
       "      <td>3</td>\n",
       "      <td>90000</td>\n",
       "      <td>2</td>\n",
       "      <td>2</td>\n",
       "      <td>2</td>\n",
       "      <td>34</td>\n",
       "      <td>0</td>\n",
       "      <td>0</td>\n",
       "      <td>0</td>\n",
       "      <td>0</td>\n",
       "      <td>...</td>\n",
       "      <td>14331</td>\n",
       "      <td>14948</td>\n",
       "      <td>15549</td>\n",
       "      <td>1518</td>\n",
       "      <td>1500</td>\n",
       "      <td>1000</td>\n",
       "      <td>1000</td>\n",
       "      <td>1000</td>\n",
       "      <td>5000</td>\n",
       "      <td>0</td>\n",
       "    </tr>\n",
       "    <tr>\n",
       "      <th>3</th>\n",
       "      <td>4</td>\n",
       "      <td>50000</td>\n",
       "      <td>2</td>\n",
       "      <td>2</td>\n",
       "      <td>1</td>\n",
       "      <td>37</td>\n",
       "      <td>0</td>\n",
       "      <td>0</td>\n",
       "      <td>0</td>\n",
       "      <td>0</td>\n",
       "      <td>...</td>\n",
       "      <td>28314</td>\n",
       "      <td>28959</td>\n",
       "      <td>29547</td>\n",
       "      <td>2000</td>\n",
       "      <td>2019</td>\n",
       "      <td>1200</td>\n",
       "      <td>1100</td>\n",
       "      <td>1069</td>\n",
       "      <td>1000</td>\n",
       "      <td>0</td>\n",
       "    </tr>\n",
       "    <tr>\n",
       "      <th>4</th>\n",
       "      <td>5</td>\n",
       "      <td>50000</td>\n",
       "      <td>1</td>\n",
       "      <td>2</td>\n",
       "      <td>1</td>\n",
       "      <td>57</td>\n",
       "      <td>0</td>\n",
       "      <td>0</td>\n",
       "      <td>0</td>\n",
       "      <td>0</td>\n",
       "      <td>...</td>\n",
       "      <td>20940</td>\n",
       "      <td>19146</td>\n",
       "      <td>19131</td>\n",
       "      <td>2000</td>\n",
       "      <td>36681</td>\n",
       "      <td>10000</td>\n",
       "      <td>9000</td>\n",
       "      <td>689</td>\n",
       "      <td>679</td>\n",
       "      <td>0</td>\n",
       "    </tr>\n",
       "  </tbody>\n",
       "</table>\n",
       "<p>5 rows × 25 columns</p>\n",
       "</div>"
      ],
      "text/plain": [
       "   ID  LIMIT_BAL  SEX  EDUCATION  MARRIAGE  AGE  PAY_0  PAY_2  PAY_3  PAY_4  \\\n",
       "0   1      20000    2          2         1   24      2      2      0      0   \n",
       "1   2     120000    2          2         2   26      0      2      0      0   \n",
       "2   3      90000    2          2         2   34      0      0      0      0   \n",
       "3   4      50000    2          2         1   37      0      0      0      0   \n",
       "4   5      50000    1          2         1   57      0      0      0      0   \n",
       "\n",
       "   ...  BILL_AMT4  BILL_AMT5  BILL_AMT6  PAY_AMT1  PAY_AMT2  PAY_AMT3  \\\n",
       "0  ...          0          0          0         0       689         0   \n",
       "1  ...       3272       3455       3261         0      1000      1000   \n",
       "2  ...      14331      14948      15549      1518      1500      1000   \n",
       "3  ...      28314      28959      29547      2000      2019      1200   \n",
       "4  ...      20940      19146      19131      2000     36681     10000   \n",
       "\n",
       "   PAY_AMT4  PAY_AMT5  PAY_AMT6  default  \n",
       "0         0         0         0        1  \n",
       "1      1000         0      2000        1  \n",
       "2      1000      1000      5000        0  \n",
       "3      1100      1069      1000        0  \n",
       "4      9000       689       679        0  \n",
       "\n",
       "[5 rows x 25 columns]"
      ]
     },
     "execution_count": 6,
     "metadata": {},
     "output_type": "execute_result"
    }
   ],
   "source": [
    "data = pd.read_csv('credit_card_default_analysis.csv', sep=',')\n",
    "data.head()"
   ]
  },
  {
   "cell_type": "code",
   "execution_count": 7,
   "id": "champion-kelly",
   "metadata": {},
   "outputs": [
    {
     "data": {
      "text/plain": [
       "(30000, 25)"
      ]
     },
     "execution_count": 7,
     "metadata": {},
     "output_type": "execute_result"
    }
   ],
   "source": [
    "data.shape"
   ]
  },
  {
   "cell_type": "markdown",
   "id": "accessory-bleeding",
   "metadata": {},
   "source": [
    "## Задание 1"
   ]
  },
  {
   "cell_type": "markdown",
   "id": "sustained-beast",
   "metadata": {},
   "source": [
    "Размер кредитного лимита (LIMIT_BAL). В двух группах, тех людей, кто вернул кредит (default = 0) и тех, кто его не вернул (default = 1) проверьте гипотезы:   a)  о равенстве медианных значений кредитного лимита с помощью подходящей интервальной оценки  b) о равенстве распределений с помощью одного из подходящих непараметрических критериев проверки равенства средних.  Значимы ли полученные результаты с практической точки зрения ?"
   ]
  },
  {
   "cell_type": "code",
   "execution_count": 59,
   "id": "leading-dominican",
   "metadata": {},
   "outputs": [],
   "source": [
    "limit_default = data[data['default'] == 1].LIMIT_BAL\n",
    "# limit_default"
   ]
  },
  {
   "cell_type": "code",
   "execution_count": 60,
   "id": "medieval-chancellor",
   "metadata": {},
   "outputs": [],
   "source": [
    "limit_no_default = data[data['default'] == 0].LIMIT_BAL\n",
    "# limit_no_default"
   ]
  },
  {
   "cell_type": "code",
   "execution_count": 47,
   "id": "intelligent-settlement",
   "metadata": {},
   "outputs": [
    {
     "data": {
      "image/png": "[encoded data removed]",
      "text/plain": [
       "<Figure size 1080x504 with 2 Axes>"
      ]
     },
     "metadata": {
      "needs_background": "light"
     },
     "output_type": "display_data"
    }
   ],
   "source": [
    "pylab.figure(figsize=(15,7))\n",
    "\n",
    "pylab.subplot(1,2,1)\n",
    "pylab.grid(color='lightgrey', linestyle='--')\n",
    "pylab.hist(limit_no_default.values, color ='tab:blue',  edgecolor='k')\n",
    "pylab.xlabel('Default = 0')\n",
    "pylab.ylabel('Credit limit')\n",
    "pylab.title('Credit limit with default = 0')\n",
    "\n",
    "pylab.subplot(1,2,2)\n",
    "pylab.grid(color='lightgrey', linestyle='--')\n",
    "pylab.hist(limit_default.values, color = 'tab:red', edgecolor='k')\n",
    "pylab.xlabel('Default = 1')\n",
    "pylab.ylabel('Credit limit')\n",
    "pylab.title('Credit limit with default = 1')\n",
    "\n",
    "pylab.show()"
   ]
  },
  {
   "cell_type": "code",
   "execution_count": 77,
   "id": "million-serve",
   "metadata": {},
   "outputs": [
    {
     "data": {
      "image/png": "[encoded data removed]",
      "text/plain": [
       "<Figure size 1080x576 with 1 Axes>"
      ]
     },
     "metadata": {
      "needs_background": "light"
     },
     "output_type": "display_data"
    }
   ],
   "source": [
    "pylab.figure(figsize=(15,8))\n",
    "pylab.boxplot([limit_no_default.values,limit_default.values], vert=False, labels=[\"No default\", \"Default\"])\n",
    "pylab.show()"
   ]
  },
  {
   "cell_type": "code",
   "execution_count": 84,
   "id": "middle-possibility",
   "metadata": {},
   "outputs": [
    {
     "data": {
      "image/png": "[encoded data removed]",
      "text/plain": [
       "<Figure size 1080x504 with 2 Axes>"
      ]
     },
     "metadata": {
      "needs_background": "light"
     },
     "output_type": "display_data"
    }
   ],
   "source": [
    "pylab.figure(figsize=(15,7))\n",
    "\n",
    "pylab.subplot(1,2,1)\n",
    "sc.stats.probplot(limit_no_default.values, dist=\"norm\", plot=pylab)\n",
    "pylab.subplot(1,2,2)\n",
    "sc.stats.probplot(limit_default.values, dist=\"norm\", plot=pylab)\n",
    "\n",
    "pylab.show()"
   ]
  },
  {
   "cell_type": "code",
   "execution_count": 85,
   "id": "above-philip",
   "metadata": {},
   "outputs": [
    {
     "name": "stdout",
     "output_type": "stream",
     "text": [
      "Shapiro-Wilk normality test, W-statistic: 0.919726, p-value: 0.000000\n"
     ]
    }
   ],
   "source": [
    "print(\"Shapiro-Wilk normality test, W-statistic: %f, p-value: %f\" % sc.stats.shapiro(limit_no_default.values))"
   ]
  },
  {
   "cell_type": "code",
   "execution_count": 86,
   "id": "fewer-anderson",
   "metadata": {},
   "outputs": [
    {
     "name": "stdout",
     "output_type": "stream",
     "text": [
      "Shapiro-Wilk normality test, W-statistic: 0.854983, p-value: 0.000000\n"
     ]
    }
   ],
   "source": [
    "print(\"Shapiro-Wilk normality test, W-statistic: %f, p-value: %f\" % sc.stats.shapiro(limit_default.values))"
   ]
  },
  {
   "cell_type": "markdown",
   "id": "owned-section",
   "metadata": {},
   "source": [
    "\n",
    "Q-Q plot и графики распределения подтверждают, что мы имеем дело с двумя выборками, которые имеют не нормальное распределение. Также мы можем сделать вывод о том, что кредитный лимит значительно выше для категории default = 0. Нулевую гипотезу о нормальности распределений отвергает и критерий Шапиро-Уилка.\n",
    "\n",
    "Так как выборки не имеют нормального распределения мы не можеи использовать параметрические критерии для распределений Стьюдента и тд. Для этой задачи может подойти использование критерия Манна-Уитни, перестановочный критерий или бутсрап.\n"
   ]
  },
  {
   "cell_type": "markdown",
   "id": "comfortable-stability",
   "metadata": {},
   "source": [
    "Тогда мы расматриваем такие гипотезы:"
   ]
  },
  {
   "cell_type": "markdown",
   "id": "revised-ultimate",
   "metadata": {},
   "source": [
    "$H_{0}: med(X_{1}) = med(X_{2})) $"
   ]
  },
  {
   "cell_type": "markdown",
   "id": "boxed-gathering",
   "metadata": {},
   "source": [
    "$H_{0} = med(X_{1})\\neq med(X_{2})) $"
   ]
  },
  {
   "cell_type": "code",
   "execution_count": 49,
   "id": "purple-growth",
   "metadata": {},
   "outputs": [
    {
     "name": "stdout",
     "output_type": "stream",
     "text": [
      "Credit limit median for default = 0: 150000.0\n",
      "Credit limit median for default = 1: 90000.0\n"
     ]
    }
   ],
   "source": [
    "print('Credit limit median for default = 0: {}'.format(limit_no_default.median()))\n",
    "print('Credit limit median for default = 1: {}'.format(limit_default.median()))"
   ]
  },
  {
   "cell_type": "markdown",
   "id": "generic-fifth",
   "metadata": {},
   "source": [
    "### Непараметрические критерии равенства средних: критерий Манна-Уитни"
   ]
  },
  {
   "cell_type": "code",
   "execution_count": 82,
   "id": "limited-aquarium",
   "metadata": {},
   "outputs": [
    {
     "name": "stdout",
     "output_type": "stream",
     "text": [
      "Критерий Манна-Уитни для двухвыборочной задачи с независимыми выборками: MannwhitneyuResult(statistic=59257217.5, pvalue=6.127742909111652e-190)\n"
     ]
    }
   ],
   "source": [
    "print('Критерий Манна-Уитни для двухвыборочной задачи с независимыми выборками: {}'.format(sc.stats.mannwhitneyu(limit_no_default,limit_default)))\n"
   ]
  },
  {
   "cell_type": "markdown",
   "id": "secondary-subject",
   "metadata": {},
   "source": [
    "### Непараметрические критерии равенства средних: перестановочный критерий для независимых выборок"
   ]
  },
  {
   "cell_type": "markdown",
   "id": "exciting-moment",
   "metadata": {},
   "source": [
    "$H_0\\colon F_{X_1}(x) = F_{X_2}(x)$\n",
    "\n",
    "$H_1\\colon F_{X_1}(x) = F_{X_2}(x + \\Delta), \\Delta\\neq 0$"
   ]
  },
  {
   "cell_type": "code",
   "execution_count": 87,
   "id": "thick-juvenile",
   "metadata": {},
   "outputs": [],
   "source": [
    "def permutation_t_stat_ind(sample1, sample2):\n",
    "    return np.mean(sample1) - np.mean(sample2)"
   ]
  },
  {
   "cell_type": "code",
   "execution_count": 92,
   "id": "liquid-truck",
   "metadata": {},
   "outputs": [],
   "source": [
    "def get_random_combinations(n1, n2, max_combinations):\n",
    "    index = list(range(n1 + n2))\n",
    "    indices = set([tuple(index)])\n",
    "    for i in range(max_combinations - 1):\n",
    "        np.random.shuffle(index)\n",
    "        indices.add(tuple(index))\n",
    "    return [(index[:n1], index[n1:]) for index in indices]"
   ]
  },
  {
   "cell_type": "code",
   "execution_count": 89,
   "id": "interior-strand",
   "metadata": {},
   "outputs": [],
   "source": [
    "def permutation_zero_dist_ind(sample1, sample2, max_combinations = None):\n",
    "    joined_sample = np.hstack((sample1, sample2))\n",
    "    n1 = len(sample1)\n",
    "    n = len(joined_sample)\n",
    "    \n",
    "    if max_combinations:\n",
    "        indices = get_random_combinations(n1, len(sample2), max_combinations)\n",
    "    else:\n",
    "        indices = [(list(index), filter(lambda i: i not in index, range(n))) \\\n",
    "                    for index in itertools.combinations(range(n), n1)]\n",
    "    \n",
    "    distr = [joined_sample[list(i[0])].mean() - joined_sample[list(i[1])].mean() \\\n",
    "             for i in indices]\n",
    "    return distr"
   ]
  },
  {
   "cell_type": "code",
   "execution_count": 90,
   "id": "arabic-charter",
   "metadata": {},
   "outputs": [],
   "source": [
    "def permutation_test(sample, mean, max_permutations = None, alternative = 'two-sided'):\n",
    "    if alternative not in ('two-sided', 'less', 'greater'):\n",
    "        raise ValueError(\"alternative not recognized\\n\"\n",
    "                         \"should be 'two-sided', 'less' or 'greater'\")\n",
    "    \n",
    "    t_stat = permutation_t_stat_ind(sample, mean)\n",
    "    \n",
    "    zero_distr = permutation_zero_dist_ind(sample, mean, max_permutations)\n",
    "    \n",
    "    if alternative == 'two-sided':\n",
    "        return sum([1. if abs(x) >= abs(t_stat) else 0. for x in zero_distr]) / len(zero_distr)\n",
    "    \n",
    "    if alternative == 'less':\n",
    "        return sum([1. if x <= t_stat else 0. for x in zero_distr]) / len(zero_distr)\n",
    "\n",
    "    if alternative == 'greater':\n",
    "        return sum([1. if x >= t_stat else 0. for x in zero_distr]) / len(zero_distr)"
   ]
  },
  {
   "cell_type": "code",
   "execution_count": 93,
   "id": "functioning-sapphire",
   "metadata": {},
   "outputs": [
    {
     "name": "stdout",
     "output_type": "stream",
     "text": [
      "p-value: 0.000100\n"
     ]
    }
   ],
   "source": [
    "print (\"p-value: %f\" % permutation_test(limit_no_default, limit_default, max_permutations = 10000))"
   ]
  },
  {
   "cell_type": "markdown",
   "id": "identified-snowboard",
   "metadata": {},
   "source": [
    "### Непараметрические критерии равенства средних: бутстреп"
   ]
  },
  {
   "cell_type": "code",
   "execution_count": 94,
   "id": "severe-repair",
   "metadata": {},
   "outputs": [],
   "source": [
    "def get_bootstrap_samples(data, n_samples):\n",
    "    indices = np.random.randint(0, len(data), (n_samples, len(data)))\n",
    "    samples = data[indices]\n",
    "    return samples"
   ]
  },
  {
   "cell_type": "code",
   "execution_count": 95,
   "id": "spoken-background",
   "metadata": {},
   "outputs": [],
   "source": [
    "def stat_intervals(stat, alpha):\n",
    "    boundaries = np.percentile(stat, [100 * alpha / 2., 100 * (1 - alpha / 2.)])\n",
    "    return boundaries"
   ]
  },
  {
   "cell_type": "code",
   "execution_count": 100,
   "id": "romantic-cargo",
   "metadata": {},
   "outputs": [],
   "source": [
    "np.random.seed(0)\n",
    "\n",
    "limit_default_bootstrap = get_bootstrap_samples(limit_default.values,n_samples=1000)\n",
    "limit_default_boot_median = np.median(limit_default_bootstrap, axis=0)\n",
    "\n",
    "limit_no_default_bootstrap = get_bootstrap_samples(limit_no_default.values,n_samples=1000)\n",
    "limit_no_default_boot_median = np.median(limit_no_default_bootstrap, axis=0)"
   ]
  },
  {
   "cell_type": "code",
   "execution_count": 107,
   "id": "studied-debut",
   "metadata": {},
   "outputs": [
    {
     "name": "stdout",
     "output_type": "stream",
     "text": [
      "Bootstrap default median confidance interval: [ 80000. 100000.]\n",
      "Bootstrap no default median confidance interval: [145000. 160000.]\n"
     ]
    }
   ],
   "source": [
    "print('Bootstrap default median confidance interval: {}'.format(stat_intervals(limit_default_boot_median,alpha=0.05)))\n",
    "print('Bootstrap no default median confidance interval: {}'.format(stat_intervals(limit_no_default_boot_median,alpha=0.05)))"
   ]
  },
  {
   "cell_type": "markdown",
   "id": "induced-merchant",
   "metadata": {},
   "source": [
    "Доверительные интервалы для медиан не пересекаются."
   ]
  },
  {
   "cell_type": "markdown",
   "id": "golden-township",
   "metadata": {},
   "source": [
    "## Задание 2"
   ]
  },
  {
   "cell_type": "markdown",
   "id": "incomplete-greek",
   "metadata": {},
   "source": [
    "Пол (SEX): Проверьте гипотезу о том,  что гендерный состав  группы людей вернувших и не вернувших кредит отличается.  Хорошо, если вы предоставите несколько различных решений  этой задачи (с помощью доверительного интервала и подходящего статистического критерия)"
   ]
  },
  {
   "cell_type": "code",
   "execution_count": 247,
   "id": "familiar-florist",
   "metadata": {},
   "outputs": [],
   "source": [
    "male = data[data['SEX'] == 1].default\n",
    "female = data[data['SEX']== 2].default"
   ]
  },
  {
   "cell_type": "code",
   "execution_count": 248,
   "id": "afraid-chaos",
   "metadata": {},
   "outputs": [
    {
     "data": {
      "image/png": "[encoded data removed]",
      "text/plain": [
       "<Figure size 1080x504 with 2 Axes>"
      ]
     },
     "metadata": {
      "needs_background": "light"
     },
     "output_type": "display_data"
    }
   ],
   "source": [
    "pylab.figure(figsize=(15,7))\n",
    "\n",
    "pylab.subplot(1,2,1)\n",
    "pylab.title('Default and not default male distribution')\n",
    "pylab.grid(color='lightgrey', linestyle='--')\n",
    "pylab.hist(male.values, color ='tab:blue',  edgecolor='k', bins=3)\n",
    "pylab.xticks([0, 1], ['Default', 'No default'],rotation=20)\n",
    "pylab.xlabel('Default = 0')\n",
    "pylab.ylabel('Count')\n",
    "\n",
    "pylab.subplot(1,2,2)\n",
    "pylab.title('Default and not default female distribution')\n",
    "pylab.grid(color='lightgrey', linestyle='--')\n",
    "pylab.hist(female.values, color = 'tab:pink', edgecolor='k', bins=3)\n",
    "pylab.xticks([0, 1], ['Default', 'No default'],rotation=20)\n",
    "pylab.xlabel('Default = 1')\n",
    "pylab.ylabel('Count')\n",
    "\n",
    "\n",
    "pylab.show()"
   ]
  },
  {
   "cell_type": "markdown",
   "id": "advanced-venice",
   "metadata": {},
   "source": [
    "### Интервальные оценки долей"
   ]
  },
  {
   "cell_type": "markdown",
   "id": "american-devon",
   "metadata": {},
   "source": [
    "$$\\frac1{ 1 + \\frac{z^2}{n} } \\left( \\hat{p} + \\frac{z^2}{2n} \\pm z \\sqrt{ \\frac{ \\hat{p}\\left(1-\\hat{p}\\right)}{n} + \\frac{z^2}{4n^2} } \\right), \\;\\; z \\equiv z_{1-\\frac{\\alpha}{2}}$$ "
   ]
  },
  {
   "cell_type": "code",
   "execution_count": 11,
   "id": "structural-sewing",
   "metadata": {},
   "outputs": [],
   "source": [
    "conf_interval_male = proportion_confint(sum(male.values),male.shape[0],method = 'wilson')\n",
    "conf_interval_female = proportion_confint(sum(female.values), female.shape[0],method = 'wilson')"
   ]
  },
  {
   "cell_type": "code",
   "execution_count": 12,
   "id": "convinced-pollution",
   "metadata": {},
   "outputs": [
    {
     "name": "stdout",
     "output_type": "stream",
     "text": [
      "95% confidence interval for male default distribution: [0.234061, 0.249450]\n",
      "95% confidence interval for female default distribution: [0.201917, 0.213733]\n"
     ]
    }
   ],
   "source": [
    "print('95%% confidence interval for male default distribution: [%f, %f]' % conf_interval_male)\n",
    "print('95%% confidence interval for female default distribution: [%f, %f]' % conf_interval_female)"
   ]
  },
  {
   "cell_type": "markdown",
   "id": "editorial-gnome",
   "metadata": {},
   "source": [
    "Как видно с разности доверительных интервалов, а они не пересекаются, мы можем сделать вывод о том, что доля возврата кредита для мужчин и женщин отличается."
   ]
  },
  {
   "cell_type": "markdown",
   "id": "single-advice",
   "metadata": {},
   "source": [
    "### Z-критерий для доли для двух независимых выборок (разности долей)"
   ]
  },
  {
   "cell_type": "markdown",
   "id": "specified-shopper",
   "metadata": {},
   "source": [
    "$$ \\hat{p}_1 = \\frac{a}{n_1}$$  $$ \\hat{p}_2 = \\frac{b}{n_2}$$\n",
    "\n",
    "\n",
    "$$\\text{Доверительный интервал для }p_1 - p_2\\colon \\;\\; \\hat{p}_1 - \\hat{p}_2 \\pm z_{1-\\frac{\\alpha}{2}}\\sqrt{\\frac{\\hat{p}_1(1 - \\hat{p}_1)}{n_1} + \\frac{\\hat{p}_2(1 - \\hat{p}_2)}{n_2}}$$\n",
    "\n",
    "$$Z-статистика: Z({X_1, X_2}) =  \\frac{\\hat{p}_1 - \\hat{p}_2}{\\sqrt{P(1 - P)(\\frac{1}{n_1} + \\frac{1}{n_2})}}$$\n",
    "$$P = \\frac{\\hat{p}_1{n_1} + \\hat{p}_2{n_2}}{{n_1} + {n_2}} $$"
   ]
  },
  {
   "cell_type": "code",
   "execution_count": 23,
   "id": "collaborative-murder",
   "metadata": {},
   "outputs": [],
   "source": [
    "def proportions_diff_confint_ind(sample1, sample2, alpha = 0.05):    \n",
    "    z = sc.stats.norm.ppf(1 - alpha / 2.)\n",
    "    \n",
    "    p1 = float(sum(sample1)) / len(sample1)\n",
    "    p2 = float(sum(sample2)) / len(sample2)\n",
    "    \n",
    "    left_boundary = (p1 - p2) - z * np.sqrt(p1 * (1 - p1)/ len(sample1) + p2 * (1 - p2)/ len(sample2))\n",
    "    right_boundary = (p1 - p2) + z * np.sqrt(p1 * (1 - p1)/ len(sample1) + p2 * (1 - p2)/ len(sample2))\n",
    "    \n",
    "    return (left_boundary, right_boundary)"
   ]
  },
  {
   "cell_type": "code",
   "execution_count": 24,
   "id": "connected-lafayette",
   "metadata": {},
   "outputs": [],
   "source": [
    "def proportions_diff_z_stat_ind(sample1, sample2):\n",
    "    n1 = len(sample1)\n",
    "    n2 = len(sample2)\n",
    "    \n",
    "    p1 = float(sum(sample1)) / n1\n",
    "    p2 = float(sum(sample2)) / n2 \n",
    "    P = float(p1*n1 + p2*n2) / (n1 + n2)\n",
    "    \n",
    "    return (p1 - p2) / np.sqrt(P * (1 - P) * (1. / n1 + 1. / n2))"
   ]
  },
  {
   "cell_type": "code",
   "execution_count": 25,
   "id": "bridal-organ",
   "metadata": {},
   "outputs": [],
   "source": [
    "def proportions_diff_z_test(z_stat, alternative = 'two-sided'):\n",
    "    if alternative not in ('two-sided', 'less', 'greater'):\n",
    "        raise ValueError(\"alternative not recognized\\n\"\n",
    "                         \"should be 'two-sided', 'less' or 'greater'\")\n",
    "    \n",
    "    if alternative == 'two-sided':\n",
    "        return 2 * (1 - sc.stats.norm.cdf(np.abs(z_stat)))\n",
    "    \n",
    "    if alternative == 'less':\n",
    "        return sc.stats.norm.cdf(z_stat)\n",
    "\n",
    "    if alternative == 'greater':\n",
    "        return 1 - sc.stats.norm.cdf(z_stat)"
   ]
  },
  {
   "cell_type": "code",
   "execution_count": 26,
   "id": "subsequent-whole",
   "metadata": {},
   "outputs": [
    {
     "name": "stdout",
     "output_type": "stream",
     "text": [
      "95% confidence interval for a difference between proportions: [0.024207, 0.043612]\n"
     ]
    }
   ],
   "source": [
    "print(\"95%% confidence interval for a difference between proportions: [%f, %f]\" % proportions_diff_confint_ind(male.values, female.values))"
   ]
  },
  {
   "cell_type": "markdown",
   "id": "numerical-static",
   "metadata": {},
   "source": [
    "Доверитерильний интервал для разности долей не включает ноль."
   ]
  },
  {
   "cell_type": "code",
   "execution_count": 31,
   "id": "juvenile-mixer",
   "metadata": {},
   "outputs": [
    {
     "name": "stdout",
     "output_type": "stream",
     "text": [
      "p-value: 0.000000\n"
     ]
    }
   ],
   "source": [
    "print(\"p-value: %f\" % proportions_diff_z_test(proportions_diff_z_stat_ind(male.values, female.values), alternative='two-sided'))"
   ]
  },
  {
   "cell_type": "code",
   "execution_count": 32,
   "id": "average-teach",
   "metadata": {},
   "outputs": [
    {
     "name": "stdout",
     "output_type": "stream",
     "text": [
      "p-value: 0.000000\n"
     ]
    }
   ],
   "source": [
    "print(\"p-value: %f\" % proportions_diff_z_test(proportions_diff_z_stat_ind(male.values, female.values), alternative='greater'))"
   ]
  },
  {
   "cell_type": "markdown",
   "id": "relevant-seafood",
   "metadata": {},
   "source": [
    "В задаче кредитног скоринга нулевая гипотеза о том, что пол не влияет на возврат кредита против двусторонней альтернативы отвергается z-критерием с достигаемым уровнем значимости 0.05. Доверительный интервал [0.024207, 0.043612]"
   ]
  },
  {
   "cell_type": "markdown",
   "id": "gross-stick",
   "metadata": {},
   "source": [
    "## Задание 3"
   ]
  },
  {
   "cell_type": "markdown",
   "id": "opposed-server",
   "metadata": {},
   "source": [
    "Образование (EDUCATION): Проверьте гипотезу о том, что образование не влияет на то, вернет ли человек долг.  Предложите способ наглядного представления разницы в ожидаемых и наблюдаемых значениях количества человек вернувших и не вернувших долг. Например, составьте таблицу сопряженности \"образование\" на \"возврат долга\", где значением ячейки была бы  разность между наблюдаемым и ожидаемым количеством человек.  Как бы вы предложили модифицировать таблицу так, чтобы привести значения ячеек к одному масштабу не потеряв в интерпретируемости ?  Наличие какого образования является наилучшим индикатором того, что человек  отдаст долг ? наоборт, не отдаст долг ?"
   ]
  },
  {
   "cell_type": "code",
   "execution_count": 245,
   "id": "classified-armenia",
   "metadata": {},
   "outputs": [],
   "source": [
    "education_default = data[data['default'] == 1].EDUCATION\n",
    "education_no_default = data[data['default'] == 0].EDUCATION"
   ]
  },
  {
   "cell_type": "code",
   "execution_count": 246,
   "id": "another-broad",
   "metadata": {},
   "outputs": [
    {
     "data": {
      "image/png": "[encoded data removed]",
      "text/plain": [
       "<Figure size 1080x504 with 2 Axes>"
      ]
     },
     "metadata": {
      "needs_background": "light"
     },
     "output_type": "display_data"
    }
   ],
   "source": [
    "pylab.figure(figsize=(15,7))\n",
    "\n",
    "pylab.subplot(1,2,1)\n",
    "pylab.title('Default sample education distribution')\n",
    "pylab.grid(color='lightgrey', linestyle='--')\n",
    "pylab.hist(education_default.values, color ='tab:red',  edgecolor='k')\n",
    "pylab.xticks([0, 1, 2, 3, 4, 5, 6], ['PhD', 'Ms', 'Bs', 'Sch', 'Elem', 'Other', 'NaN'],rotation=20)\n",
    "pylab.xlabel('Default = 0')\n",
    "pylab.ylabel('Count')\n",
    "\n",
    "pylab.subplot(1,2,2)\n",
    "pylab.title('No default sample education distribution')\n",
    "pylab.grid(color='lightgrey', linestyle='--')\n",
    "pylab.hist(education_no_default.values, color = 'tab:green', edgecolor='k')\n",
    "pylab.xticks([0, 1, 2, 3, 4, 5, 6], ['PhD', 'Ms', 'Bs', 'Sch', 'Elem', 'Other', 'NaN'],rotation=20)\n",
    "pylab.xlabel('Default = 1')\n",
    "pylab.ylabel('Count')\n",
    "\n",
    "pylab.show()"
   ]
  },
  {
   "cell_type": "markdown",
   "id": "everyday-samoa",
   "metadata": {},
   "source": [
    "Распределения для тех, кто вернул кредит и не вернул сильно не отличаются. Но очевидно, что больше всего берут кредиты люди с образованием: Bs, MS, Sch. Но для нас было бы лучше посчитать долю возврата кредитов для каждой категории и отобразить графически их соотношение."
   ]
  },
  {
   "cell_type": "code",
   "execution_count": 19,
   "id": "equal-coordinator",
   "metadata": {},
   "outputs": [],
   "source": [
    "mean_default = []\n",
    "mean_no_default = []\n",
    "    \n",
    "for educ in range(0,7):\n",
    "    mean_default.append(data[data['EDUCATION'] == educ].default.mean())\n",
    "    mean_no_default.append(1- data[data['EDUCATION'] == educ].default.mean())"
   ]
  },
  {
   "cell_type": "code",
   "execution_count": 55,
   "id": "educational-popularity",
   "metadata": {},
   "outputs": [
    {
     "data": {
      "image/png": "[encoded data removed]",
      "text/plain": [
       "<Figure size 1080x504 with 1 Axes>"
      ]
     },
     "metadata": {
      "needs_background": "light"
     },
     "output_type": "display_data"
    }
   ],
   "source": [
    "pylab.figure(figsize=(15,7))\n",
    "\n",
    "pylab.title('Default sample education distribution')\n",
    "pylab.grid(color='lightgrey', linestyle='--')\n",
    "\n",
    "pylab.bar(range(0,7), mean_no_default, width=0.35, color ='tab:blue',  edgecolor='k')\n",
    "pylab.bar(range(0,7), mean_default, width=0.35, color ='tab:red',  edgecolor='k', bottom=mean_no_default)\n",
    "pylab.plot([-0.5,6.5],[0.8,0.8], color='tab:gray', linestyle='dashdot')\n",
    "\n",
    "pylab.xticks([0, 1, 2, 3, 4, 5, 6], ['PhD', 'Ms', 'Bs', 'Sch', 'Elem', 'Other', 'NaN'],rotation=0)\n",
    "pylab.xlabel('Education')\n",
    "pylab.ylabel('Probability')\n",
    "\n",
    "pylab.show()"
   ]
  },
  {
   "cell_type": "code",
   "execution_count": 178,
   "id": "valid-gasoline",
   "metadata": {},
   "outputs": [],
   "source": [
    "table_real = pd.DataFrame(data=None, columns=['Education','Default_0','Default_1','Sum'])\n",
    "table_real['Education'] = np.array(['PhD', 'Ms', 'Bs', 'Sch', 'Elem', 'Other', 'NaN'])"
   ]
  },
  {
   "cell_type": "code",
   "execution_count": 179,
   "id": "private-ballet",
   "metadata": {},
   "outputs": [],
   "source": [
    "for educ in range(0,7):\n",
    "    table_real.iloc[educ, 1] = data[(data['EDUCATION'] == educ) & (data['default'] == 0)].shape[0]\n",
    "    table_real.iloc[educ, 2] = data[(data['EDUCATION'] == educ) & (data['default'] == 1)].shape[0]\n",
    "    table_real.iloc[educ, 3] = table.iloc[educ, 1] + table.iloc[educ, 2]"
   ]
  },
  {
   "cell_type": "code",
   "execution_count": 180,
   "id": "acquired-welding",
   "metadata": {},
   "outputs": [
    {
     "data": {
      "text/html": [
       "<div>\n",
       "<style scoped>\n",
       "    .dataframe tbody tr th:only-of-type {\n",
       "        vertical-align: middle;\n",
       "    }\n",
       "\n",
       "    .dataframe tbody tr th {\n",
       "        vertical-align: top;\n",
       "    }\n",
       "\n",
       "    .dataframe thead th {\n",
       "        text-align: right;\n",
       "    }\n",
       "</style>\n",
       "<table border=\"1\" class=\"dataframe\">\n",
       "  <thead>\n",
       "    <tr style=\"text-align: right;\">\n",
       "      <th></th>\n",
       "      <th>Education</th>\n",
       "      <th>Default_0</th>\n",
       "      <th>Default_1</th>\n",
       "      <th>Sum</th>\n",
       "    </tr>\n",
       "  </thead>\n",
       "  <tbody>\n",
       "    <tr>\n",
       "      <th>0</th>\n",
       "      <td>PhD</td>\n",
       "      <td>14</td>\n",
       "      <td>0</td>\n",
       "      <td>14</td>\n",
       "    </tr>\n",
       "    <tr>\n",
       "      <th>1</th>\n",
       "      <td>Ms</td>\n",
       "      <td>8549</td>\n",
       "      <td>2036</td>\n",
       "      <td>10585</td>\n",
       "    </tr>\n",
       "    <tr>\n",
       "      <th>2</th>\n",
       "      <td>Bs</td>\n",
       "      <td>10700</td>\n",
       "      <td>3330</td>\n",
       "      <td>14030</td>\n",
       "    </tr>\n",
       "    <tr>\n",
       "      <th>3</th>\n",
       "      <td>Sch</td>\n",
       "      <td>3680</td>\n",
       "      <td>1237</td>\n",
       "      <td>4917</td>\n",
       "    </tr>\n",
       "    <tr>\n",
       "      <th>4</th>\n",
       "      <td>Elem</td>\n",
       "      <td>116</td>\n",
       "      <td>7</td>\n",
       "      <td>123</td>\n",
       "    </tr>\n",
       "    <tr>\n",
       "      <th>5</th>\n",
       "      <td>Other</td>\n",
       "      <td>262</td>\n",
       "      <td>18</td>\n",
       "      <td>280</td>\n",
       "    </tr>\n",
       "    <tr>\n",
       "      <th>6</th>\n",
       "      <td>NaN</td>\n",
       "      <td>43</td>\n",
       "      <td>8</td>\n",
       "      <td>51</td>\n",
       "    </tr>\n",
       "  </tbody>\n",
       "</table>\n",
       "</div>"
      ],
      "text/plain": [
       "  Education Default_0 Default_1    Sum\n",
       "0       PhD        14         0     14\n",
       "1        Ms      8549      2036  10585\n",
       "2        Bs     10700      3330  14030\n",
       "3       Sch      3680      1237   4917\n",
       "4      Elem       116         7    123\n",
       "5     Other       262        18    280\n",
       "6       NaN        43         8     51"
      ]
     },
     "execution_count": 180,
     "metadata": {},
     "output_type": "execute_result"
    }
   ],
   "source": [
    "table_real"
   ]
  },
  {
   "cell_type": "code",
   "execution_count": 173,
   "id": "collectible-allocation",
   "metadata": {},
   "outputs": [],
   "source": [
    "table_expected = pd.DataFrame(data=None, columns=['Education','Default_0','Default_1','Sum'])\n",
    "table_expected['Education'] = np.array(['PhD', 'Ms', 'Bs', 'Sch', 'Elem', 'Other', 'NaN'])"
   ]
  },
  {
   "cell_type": "code",
   "execution_count": 190,
   "id": "relative-morrison",
   "metadata": {},
   "outputs": [],
   "source": [
    "for educ in range(0,7):\n",
    "    table_expected.iloc[educ, 1] = round((data[(data['EDUCATION'] == educ) & (data['default'] == 0)].shape[0])*mean_no_default[educ],0)\n",
    "    table_expected.iloc[educ, 2] = round((data[(data['EDUCATION'] == educ) & (data['default'] == 1)].shape[0])*mean_default[educ],0)\n",
    "    table_expected.iloc[educ, 3] = table_expected.iloc[educ, 1] + table_expected.iloc[educ, 2]"
   ]
  },
  {
   "cell_type": "code",
   "execution_count": 191,
   "id": "pursuant-garden",
   "metadata": {},
   "outputs": [
    {
     "data": {
      "text/html": [
       "<div>\n",
       "<style scoped>\n",
       "    .dataframe tbody tr th:only-of-type {\n",
       "        vertical-align: middle;\n",
       "    }\n",
       "\n",
       "    .dataframe tbody tr th {\n",
       "        vertical-align: top;\n",
       "    }\n",
       "\n",
       "    .dataframe thead th {\n",
       "        text-align: right;\n",
       "    }\n",
       "</style>\n",
       "<table border=\"1\" class=\"dataframe\">\n",
       "  <thead>\n",
       "    <tr style=\"text-align: right;\">\n",
       "      <th></th>\n",
       "      <th>Education</th>\n",
       "      <th>Default_0</th>\n",
       "      <th>Default_1</th>\n",
       "      <th>Sum</th>\n",
       "    </tr>\n",
       "  </thead>\n",
       "  <tbody>\n",
       "    <tr>\n",
       "      <th>0</th>\n",
       "      <td>PhD</td>\n",
       "      <td>14.0</td>\n",
       "      <td>0.0</td>\n",
       "      <td>14.0</td>\n",
       "    </tr>\n",
       "    <tr>\n",
       "      <th>1</th>\n",
       "      <td>Ms</td>\n",
       "      <td>6905.0</td>\n",
       "      <td>392.0</td>\n",
       "      <td>7297.0</td>\n",
       "    </tr>\n",
       "    <tr>\n",
       "      <th>2</th>\n",
       "      <td>Bs</td>\n",
       "      <td>8160.0</td>\n",
       "      <td>790.0</td>\n",
       "      <td>8950.0</td>\n",
       "    </tr>\n",
       "    <tr>\n",
       "      <th>3</th>\n",
       "      <td>Sch</td>\n",
       "      <td>2754.0</td>\n",
       "      <td>311.0</td>\n",
       "      <td>3065.0</td>\n",
       "    </tr>\n",
       "    <tr>\n",
       "      <th>4</th>\n",
       "      <td>Elem</td>\n",
       "      <td>109.0</td>\n",
       "      <td>0.0</td>\n",
       "      <td>109.0</td>\n",
       "    </tr>\n",
       "    <tr>\n",
       "      <th>5</th>\n",
       "      <td>Other</td>\n",
       "      <td>245.0</td>\n",
       "      <td>1.0</td>\n",
       "      <td>246.0</td>\n",
       "    </tr>\n",
       "    <tr>\n",
       "      <th>6</th>\n",
       "      <td>NaN</td>\n",
       "      <td>36.0</td>\n",
       "      <td>1.0</td>\n",
       "      <td>37.0</td>\n",
       "    </tr>\n",
       "  </tbody>\n",
       "</table>\n",
       "</div>"
      ],
      "text/plain": [
       "  Education Default_0 Default_1     Sum\n",
       "0       PhD      14.0       0.0    14.0\n",
       "1        Ms    6905.0     392.0  7297.0\n",
       "2        Bs    8160.0     790.0  8950.0\n",
       "3       Sch    2754.0     311.0  3065.0\n",
       "4      Elem     109.0       0.0   109.0\n",
       "5     Other     245.0       1.0   246.0\n",
       "6       NaN      36.0       1.0    37.0"
      ]
     },
     "execution_count": 191,
     "metadata": {},
     "output_type": "execute_result"
    }
   ],
   "source": [
    "table_expected"
   ]
  },
  {
   "cell_type": "code",
   "execution_count": 238,
   "id": "commercial-chuck",
   "metadata": {},
   "outputs": [],
   "source": [
    "table_difference = pd.DataFrame(data=None, columns=['Education','Default_0_','Default_1','Sum'])\n",
    "table_difference['Education'] = np.array(['PhD', 'Ms', 'Bs', 'Sch', 'Elem', 'Other', 'NaN'])"
   ]
  },
  {
   "cell_type": "code",
   "execution_count": 224,
   "id": "starting-drilling",
   "metadata": {},
   "outputs": [],
   "source": [
    "for educ in range(0,7):\n",
    "    table_difference.iloc[educ, 1] = table_real.iloc[educ,1] - table_expected.iloc[educ,1]\n",
    "    table_difference.iloc[educ, 2] = table_real.iloc[educ,2] - table_expected.iloc[educ,2]\n",
    "    table_difference.iloc[educ, 3] = table_difference.iloc[educ, 1] + table_difference.iloc[educ, 2]"
   ]
  },
  {
   "cell_type": "code",
   "execution_count": 225,
   "id": "bottom-nature",
   "metadata": {},
   "outputs": [
    {
     "data": {
      "text/html": [
       "<div>\n",
       "<style scoped>\n",
       "    .dataframe tbody tr th:only-of-type {\n",
       "        vertical-align: middle;\n",
       "    }\n",
       "\n",
       "    .dataframe tbody tr th {\n",
       "        vertical-align: top;\n",
       "    }\n",
       "\n",
       "    .dataframe thead th {\n",
       "        text-align: right;\n",
       "    }\n",
       "</style>\n",
       "<table border=\"1\" class=\"dataframe\">\n",
       "  <thead>\n",
       "    <tr style=\"text-align: right;\">\n",
       "      <th></th>\n",
       "      <th>Education</th>\n",
       "      <th>Default_0</th>\n",
       "      <th>Default_1</th>\n",
       "      <th>Sum</th>\n",
       "    </tr>\n",
       "  </thead>\n",
       "  <tbody>\n",
       "    <tr>\n",
       "      <th>0</th>\n",
       "      <td>PhD</td>\n",
       "      <td>0.0</td>\n",
       "      <td>0.0</td>\n",
       "      <td>0.0</td>\n",
       "    </tr>\n",
       "    <tr>\n",
       "      <th>1</th>\n",
       "      <td>Ms</td>\n",
       "      <td>1644.0</td>\n",
       "      <td>1644.0</td>\n",
       "      <td>3288.0</td>\n",
       "    </tr>\n",
       "    <tr>\n",
       "      <th>2</th>\n",
       "      <td>Bs</td>\n",
       "      <td>2540.0</td>\n",
       "      <td>2540.0</td>\n",
       "      <td>5080.0</td>\n",
       "    </tr>\n",
       "    <tr>\n",
       "      <th>3</th>\n",
       "      <td>Sch</td>\n",
       "      <td>926.0</td>\n",
       "      <td>926.0</td>\n",
       "      <td>1852.0</td>\n",
       "    </tr>\n",
       "    <tr>\n",
       "      <th>4</th>\n",
       "      <td>Elem</td>\n",
       "      <td>7.0</td>\n",
       "      <td>7.0</td>\n",
       "      <td>14.0</td>\n",
       "    </tr>\n",
       "    <tr>\n",
       "      <th>5</th>\n",
       "      <td>Other</td>\n",
       "      <td>17.0</td>\n",
       "      <td>17.0</td>\n",
       "      <td>34.0</td>\n",
       "    </tr>\n",
       "    <tr>\n",
       "      <th>6</th>\n",
       "      <td>NaN</td>\n",
       "      <td>7.0</td>\n",
       "      <td>7.0</td>\n",
       "      <td>14.0</td>\n",
       "    </tr>\n",
       "  </tbody>\n",
       "</table>\n",
       "</div>"
      ],
      "text/plain": [
       "  Education Default_0 Default_1     Sum\n",
       "0       PhD       0.0       0.0     0.0\n",
       "1        Ms    1644.0    1644.0  3288.0\n",
       "2        Bs    2540.0    2540.0  5080.0\n",
       "3       Sch     926.0     926.0  1852.0\n",
       "4      Elem       7.0       7.0    14.0\n",
       "5     Other      17.0      17.0    34.0\n",
       "6       NaN       7.0       7.0    14.0"
      ]
     },
     "execution_count": 225,
     "metadata": {},
     "output_type": "execute_result"
    }
   ],
   "source": [
    "table_difference"
   ]
  },
  {
   "cell_type": "code",
   "execution_count": 228,
   "id": "eligible-princeton",
   "metadata": {},
   "outputs": [],
   "source": [
    "def cramers_stat(matrix):\n",
    "    return np.sqrt((stats.chi2_contingency(matrix)[0])/(np.sum(matrix)*(min(matrix.shape)-1)))"
   ]
  },
  {
   "cell_type": "code",
   "execution_count": 226,
   "id": "cathedral-portfolio",
   "metadata": {},
   "outputs": [
    {
     "data": {
      "text/plain": [
       "(159.18512540464334,\n",
       " 1.4764557605044473e-32,\n",
       " 5,\n",
       " array([[ 8242.50483559,  2342.49516441],\n",
       "        [10925.11505369,  3104.88494631],\n",
       "        [ 3828.85179751,  1088.14820249],\n",
       "        [   95.77969719,    27.22030281],\n",
       "        [  218.03508304,    61.96491696],\n",
       "        [   39.71353298,    11.28646702]]))"
      ]
     },
     "execution_count": 226,
     "metadata": {},
     "output_type": "execute_result"
    }
   ],
   "source": [
    "sc.stats.chi2_contingency(table_real.iloc[1:,1:3])"
   ]
  },
  {
   "cell_type": "code",
   "execution_count": 235,
   "id": "medical-chest",
   "metadata": {},
   "outputs": [
    {
     "data": {
      "text/plain": [
       "0.07286047087405424"
      ]
     },
     "execution_count": 235,
     "metadata": {},
     "output_type": "execute_result"
    }
   ],
   "source": [
    "cramers_stat(table_real.iloc[1:,1:3].to_numpy())"
   ]
  },
  {
   "cell_type": "markdown",
   "id": "congressional-organizer",
   "metadata": {},
   "source": [
    "Таким образом нулевая гипотеза об отсутствии связи образования и уровня дефолта уверенно отвергается на уровне значимости 0.05. Значение V Крамера равно 0.07\n",
    "Очевидно, что образование должно присутствовать при оценке возврата кредита."
   ]
  },
  {
   "cell_type": "markdown",
   "id": "operating-bikini",
   "metadata": {},
   "source": [
    "## Задание 4"
   ]
  },
  {
   "cell_type": "markdown",
   "id": "interstate-craps",
   "metadata": {},
   "source": [
    "Семейное положение (MARRIAGE): Проверьте, как связан семейный статус с индикатором дефолта: нужно предложить меру, по которой можно измерить возможную связь этих переменных и посчитать ее значение."
   ]
  },
  {
   "cell_type": "code",
   "execution_count": 239,
   "id": "musical-sucking",
   "metadata": {},
   "outputs": [],
   "source": [
    "marriage_default = data[data['default'] == 1].MARRIAGE\n",
    "marriage_no_default = data[data['default'] == 0].MARRIAGE"
   ]
  },
  {
   "cell_type": "code",
   "execution_count": 243,
   "id": "suited-daily",
   "metadata": {},
   "outputs": [
    {
     "data": {
      "image/png": "[encoded data removed]",
      "text/plain": [
       "<Figure size 1080x504 with 2 Axes>"
      ]
     },
     "metadata": {
      "needs_background": "light"
     },
     "output_type": "display_data"
    }
   ],
   "source": [
    "pylab.figure(figsize=(15,7))\n",
    "\n",
    "pylab.subplot(1,2,1)\n",
    "pylab.title('Default sample marriage distribution')\n",
    "pylab.grid(color='lightgrey', linestyle='--')\n",
    "pylab.hist(marriage_default.values, color ='tab:red',  edgecolor='k')\n",
    "pylab.xticks([0, 1, 2, 3], ['Refused', 'Married', 'Single', 'NaN'],rotation=20)\n",
    "pylab.xlabel('Default = 0')\n",
    "pylab.ylabel('Count')\n",
    "\n",
    "pylab.subplot(1,2,2)\n",
    "pylab.title('No default sample marriage distribution')\n",
    "pylab.grid(color='lightgrey', linestyle='--')\n",
    "pylab.hist(marriage_no_default.values, color = 'tab:green', edgecolor='k')\n",
    "pylab.xticks([0, 1, 2, 3], ['Refused', 'Married', 'Single', 'NaN'],rotation=20)\n",
    "pylab.xlabel('Default = 1')\n",
    "pylab.ylabel('Count')\n",
    "\n",
    "pylab.show()"
   ]
  },
  {
   "cell_type": "code",
   "execution_count": 252,
   "id": "intensive-chemistry",
   "metadata": {},
   "outputs": [],
   "source": [
    "marriage_mean_default = []\n",
    "marriage_mean_no_default = []\n",
    "    \n",
    "for mar in range(0,4):\n",
    "    marriage_mean_default.append(data[data['MARRIAGE'] == mar].default.mean())\n",
    "    marriage_mean_no_default.append(1-data[data['MARRIAGE'] == mar].default.mean())"
   ]
  },
  {
   "cell_type": "code",
   "execution_count": 256,
   "id": "increased-donna",
   "metadata": {},
   "outputs": [
    {
     "data": {
      "image/png": "[encoded data removed]",
      "text/plain": [
       "<Figure size 1080x504 with 1 Axes>"
      ]
     },
     "metadata": {
      "needs_background": "light"
     },
     "output_type": "display_data"
    }
   ],
   "source": [
    "pylab.figure(figsize=(15,7))\n",
    "\n",
    "pylab.title('Default sample education distribution')\n",
    "pylab.grid(color='lightgrey', linestyle='--')\n",
    "\n",
    "pylab.bar(range(0,4), marriage_mean_no_default, width=0.35, color ='tab:blue',  edgecolor='k')\n",
    "pylab.bar(range(0,4), marriage_mean_default, width=0.35, color ='tab:red',  edgecolor='k', bottom=marriage_mean_no_default)\n",
    "pylab.plot([-0.5,3.5],[0.8,0.8], color='tab:gray', linestyle='dashdot')\n",
    "\n",
    "pylab.xticks([0, 1, 2, 3], ['Refused', 'Married', 'Single', 'NaN'],rotation=0)\n",
    "pylab.xlabel('Education')\n",
    "pylab.ylabel('Probability')\n",
    "\n",
    "pylab.show()"
   ]
  },
  {
   "cell_type": "code",
   "execution_count": 272,
   "id": "genetic-disorder",
   "metadata": {},
   "outputs": [],
   "source": [
    "table_marriage_real = pd.DataFrame(data=None, columns=['Marriage','Default_0','Default_1','Sum'])\n",
    "table_marriage_real['Marriage'] = np.array(['Refused', 'Married', 'Single', 'NaN'])"
   ]
  },
  {
   "cell_type": "code",
   "execution_count": 273,
   "id": "vital-minneapolis",
   "metadata": {},
   "outputs": [
    {
     "data": {
      "text/html": [
       "<div>\n",
       "<style scoped>\n",
       "    .dataframe tbody tr th:only-of-type {\n",
       "        vertical-align: middle;\n",
       "    }\n",
       "\n",
       "    .dataframe tbody tr th {\n",
       "        vertical-align: top;\n",
       "    }\n",
       "\n",
       "    .dataframe thead th {\n",
       "        text-align: right;\n",
       "    }\n",
       "</style>\n",
       "<table border=\"1\" class=\"dataframe\">\n",
       "  <thead>\n",
       "    <tr style=\"text-align: right;\">\n",
       "      <th></th>\n",
       "      <th>Marriage</th>\n",
       "      <th>Default_0</th>\n",
       "      <th>Default_1</th>\n",
       "      <th>Sum</th>\n",
       "    </tr>\n",
       "  </thead>\n",
       "  <tbody>\n",
       "    <tr>\n",
       "      <th>0</th>\n",
       "      <td>Refused</td>\n",
       "      <td>NaN</td>\n",
       "      <td>NaN</td>\n",
       "      <td>NaN</td>\n",
       "    </tr>\n",
       "    <tr>\n",
       "      <th>1</th>\n",
       "      <td>Married</td>\n",
       "      <td>NaN</td>\n",
       "      <td>NaN</td>\n",
       "      <td>NaN</td>\n",
       "    </tr>\n",
       "    <tr>\n",
       "      <th>2</th>\n",
       "      <td>Single</td>\n",
       "      <td>NaN</td>\n",
       "      <td>NaN</td>\n",
       "      <td>NaN</td>\n",
       "    </tr>\n",
       "    <tr>\n",
       "      <th>3</th>\n",
       "      <td>NaN</td>\n",
       "      <td>NaN</td>\n",
       "      <td>NaN</td>\n",
       "      <td>NaN</td>\n",
       "    </tr>\n",
       "  </tbody>\n",
       "</table>\n",
       "</div>"
      ],
      "text/plain": [
       "  Marriage Default_0 Default_1  Sum\n",
       "0  Refused       NaN       NaN  NaN\n",
       "1  Married       NaN       NaN  NaN\n",
       "2   Single       NaN       NaN  NaN\n",
       "3      NaN       NaN       NaN  NaN"
      ]
     },
     "execution_count": 273,
     "metadata": {},
     "output_type": "execute_result"
    }
   ],
   "source": [
    "table_marriage_real"
   ]
  },
  {
   "cell_type": "code",
   "execution_count": 275,
   "id": "parallel-space",
   "metadata": {},
   "outputs": [],
   "source": [
    "for mar in range(0,4):\n",
    "    table_marriage_real.iloc[mar, 1] = data[(data['MARRIAGE'] == mar) & (data['default'] == 0)].shape[0]\n",
    "    table_marriage_real.iloc[mar, 2] = data[(data['MARRIAGE'] == mar) & (data['default'] == 1)].shape[0]\n",
    "    table_marriage_real.iloc[mar, 3] = table_marriage_real.iloc[mar, 1] + table_marriage_real.iloc[mar, 2]"
   ]
  },
  {
   "cell_type": "code",
   "execution_count": 276,
   "id": "center-breath",
   "metadata": {},
   "outputs": [
    {
     "data": {
      "text/html": [
       "<div>\n",
       "<style scoped>\n",
       "    .dataframe tbody tr th:only-of-type {\n",
       "        vertical-align: middle;\n",
       "    }\n",
       "\n",
       "    .dataframe tbody tr th {\n",
       "        vertical-align: top;\n",
       "    }\n",
       "\n",
       "    .dataframe thead th {\n",
       "        text-align: right;\n",
       "    }\n",
       "</style>\n",
       "<table border=\"1\" class=\"dataframe\">\n",
       "  <thead>\n",
       "    <tr style=\"text-align: right;\">\n",
       "      <th></th>\n",
       "      <th>Marriage</th>\n",
       "      <th>Default_0</th>\n",
       "      <th>Default_1</th>\n",
       "      <th>Sum</th>\n",
       "    </tr>\n",
       "  </thead>\n",
       "  <tbody>\n",
       "    <tr>\n",
       "      <th>0</th>\n",
       "      <td>Refused</td>\n",
       "      <td>49</td>\n",
       "      <td>5</td>\n",
       "      <td>54</td>\n",
       "    </tr>\n",
       "    <tr>\n",
       "      <th>1</th>\n",
       "      <td>Married</td>\n",
       "      <td>10453</td>\n",
       "      <td>3206</td>\n",
       "      <td>13659</td>\n",
       "    </tr>\n",
       "    <tr>\n",
       "      <th>2</th>\n",
       "      <td>Single</td>\n",
       "      <td>12623</td>\n",
       "      <td>3341</td>\n",
       "      <td>15964</td>\n",
       "    </tr>\n",
       "    <tr>\n",
       "      <th>3</th>\n",
       "      <td>NaN</td>\n",
       "      <td>239</td>\n",
       "      <td>84</td>\n",
       "      <td>323</td>\n",
       "    </tr>\n",
       "  </tbody>\n",
       "</table>\n",
       "</div>"
      ],
      "text/plain": [
       "  Marriage Default_0 Default_1    Sum\n",
       "0  Refused        49         5     54\n",
       "1  Married     10453      3206  13659\n",
       "2   Single     12623      3341  15964\n",
       "3      NaN       239        84    323"
      ]
     },
     "execution_count": 276,
     "metadata": {},
     "output_type": "execute_result"
    }
   ],
   "source": [
    "table_marriage_real"
   ]
  },
  {
   "cell_type": "code",
   "execution_count": 280,
   "id": "rapid-enlargement",
   "metadata": {},
   "outputs": [],
   "source": [
    "def cramers_stat(matrix):\n",
    "    return np.sqrt((stats.chi2_contingency(matrix)[0])/(np.sum(matrix)*(min(matrix.shape)-1)))"
   ]
  },
  {
   "cell_type": "code",
   "execution_count": 281,
   "id": "under-slope",
   "metadata": {},
   "outputs": [
    {
     "data": {
      "text/plain": [
       "(35.66239583433609,\n",
       " 8.825862457577375e-08,\n",
       " 3,\n",
       " array([[4.20552000e+01, 1.19448000e+01],\n",
       "        [1.06376292e+04, 3.02137080e+03],\n",
       "        [1.24327632e+04, 3.53123680e+03],\n",
       "        [2.51552400e+02, 7.14476000e+01]]))"
      ]
     },
     "execution_count": 281,
     "metadata": {},
     "output_type": "execute_result"
    }
   ],
   "source": [
    "sc.stats.chi2_contingency(table_marriage_real.iloc[:,1:3])"
   ]
  },
  {
   "cell_type": "code",
   "execution_count": 283,
   "id": "bigger-thursday",
   "metadata": {},
   "outputs": [
    {
     "data": {
      "text/plain": [
       "0.034478203662766466"
      ]
     },
     "execution_count": 283,
     "metadata": {},
     "output_type": "execute_result"
    }
   ],
   "source": [
    "cramers_stat(table_marriage_real.iloc[:,1:3].to_numpy())"
   ]
  },
  {
   "cell_type": "markdown",
   "id": "established-greene",
   "metadata": {},
   "source": [
    "Таким образом нулевая гипотеза об отсутствии связи замужества и уровня дефолта уверенно отвергается на уровне значимости 0.05. Значение V Крамера равно 0.0345\n",
    "Очевидно, что замужество важно при оценке возврата кредита."
   ]
  },
  {
   "cell_type": "markdown",
   "id": "statistical-consumption",
   "metadata": {},
   "source": [
    "## Задание 5"
   ]
  },
  {
   "cell_type": "markdown",
   "id": "antique-viking",
   "metadata": {},
   "source": [
    "Возраст (AGE): Относительно двух групп людей  вернувших и не вернувших кредит  проверьте следующие гипотезы:   a)  о равенстве медианных значений возрастов людей   b) о равенстве распределений  с помощью одного из подходящих непараметрических критериев проверки равенства средних.  Значимы ли полученные результаты с практической точки зрения ?"
   ]
  },
  {
   "cell_type": "code",
   "execution_count": 284,
   "id": "bronze-islam",
   "metadata": {},
   "outputs": [],
   "source": [
    "age_default = data[data['default'] == 1].AGE\n",
    "age_no_default = data[data['default'] == 0].AGE"
   ]
  },
  {
   "cell_type": "code",
   "execution_count": 305,
   "id": "aquatic-latest",
   "metadata": {},
   "outputs": [
    {
     "data": {
      "image/png": "[encoded data removed]",
      "text/plain": [
       "<Figure size 1080x504 with 2 Axes>"
      ]
     },
     "metadata": {
      "needs_background": "light"
     },
     "output_type": "display_data"
    }
   ],
   "source": [
    "pylab.figure(figsize=(15,7))\n",
    "\n",
    "pylab.subplot(1,2,1)\n",
    "pylab.grid(color='lightgrey', linestyle='--')\n",
    "pylab.hist(age_no_default.values, color ='tab:blue',edgecolor='k')\n",
    "pylab.xlabel('Default = 0')\n",
    "pylab.ylabel('Credit limit')\n",
    "pylab.title('Age with default = 0')\n",
    "\n",
    "pylab.subplot(1,2,2)\n",
    "pylab.grid(color='lightgrey', linestyle='--')\n",
    "pylab.hist(age_default.values, color = 'tab:red', edgecolor='k')\n",
    "pylab.xlabel('Default = 1')\n",
    "pylab.ylabel('Credit limit')\n",
    "pylab.title('Age with default = 1')\n",
    "\n",
    "pylab.show()"
   ]
  },
  {
   "cell_type": "code",
   "execution_count": 306,
   "id": "wrong-affiliate",
   "metadata": {},
   "outputs": [
    {
     "data": {
      "image/png": "[encoded data removed]",
      "text/plain": [
       "<Figure size 1080x360 with 1 Axes>"
      ]
     },
     "metadata": {
      "needs_background": "light"
     },
     "output_type": "display_data"
    }
   ],
   "source": [
    "pylab.figure(figsize=(15,5))\n",
    "pylab.boxplot([age_no_default.values,age_default.values], vert=False, labels=[\"No default\", \"Default\"])\n",
    "pylab.xlabel('Age')\n",
    "pylab.show()"
   ]
  },
  {
   "cell_type": "code",
   "execution_count": 302,
   "id": "actual-session",
   "metadata": {},
   "outputs": [
    {
     "data": {
      "image/png": "[encoded data removed]",
      "text/plain": [
       "<Figure size 1080x504 with 2 Axes>"
      ]
     },
     "metadata": {
      "needs_background": "light"
     },
     "output_type": "display_data"
    }
   ],
   "source": [
    "pylab.figure(figsize=(15,7))\n",
    "\n",
    "pylab.subplot(1,2,1)\n",
    "sc.stats.probplot(age_no_default.values, dist=\"norm\", plot=pylab)\n",
    "pylab.subplot(1,2,2)\n",
    "sc.stats.probplot(age_default.values, dist=\"norm\", plot=pylab)\n",
    "\n",
    "pylab.show()"
   ]
  },
  {
   "cell_type": "code",
   "execution_count": 303,
   "id": "expanded-scope",
   "metadata": {},
   "outputs": [
    {
     "name": "stdout",
     "output_type": "stream",
     "text": [
      "Shapiro-Wilk normality test, W-statistic: 0.949614, p-value: 0.000000\n"
     ]
    }
   ],
   "source": [
    "print(\"Shapiro-Wilk normality test, W-statistic: %f, p-value: %f\" % sc.stats.shapiro(age_no_default.values))"
   ]
  },
  {
   "cell_type": "code",
   "execution_count": 304,
   "id": "searching-manitoba",
   "metadata": {},
   "outputs": [
    {
     "name": "stdout",
     "output_type": "stream",
     "text": [
      "Shapiro-Wilk normality test, W-statistic: 0.950164, p-value: 0.000000\n"
     ]
    }
   ],
   "source": [
    "print(\"Shapiro-Wilk normality test, W-statistic: %f, p-value: %f\" % sc.stats.shapiro(age_default.values))"
   ]
  },
  {
   "cell_type": "markdown",
   "id": "another-acoustic",
   "metadata": {},
   "source": [
    "Q-Q plot и графики распределения подтверждают, что мы имеем дело с двумя выборками, которые имеют не нормальное распределение.\n",
    "Нулевую гипотезу о нормальности распределений отвергает и критерий Шапиро-Уилка.\n",
    "\n",
    "Так как выборки не имеют нормального распределения мы не можеи использовать параметрические критерии для распределений Стьюдента и тд. Для этой задачи может подойти использование критерия Манна-Уитни, перестановочный критерий или бутсрап.\n"
   ]
  },
  {
   "cell_type": "markdown",
   "id": "civilian-analysis",
   "metadata": {},
   "source": [
    "Тогда мы расматриваем такие гипотезы:"
   ]
  },
  {
   "cell_type": "markdown",
   "id": "natural-venezuela",
   "metadata": {},
   "source": [
    "$H_{0}: med(X_{1}) = med(X_{2})) $"
   ]
  },
  {
   "cell_type": "markdown",
   "id": "consecutive-constitutional",
   "metadata": {},
   "source": [
    "$H_{0} = med(X_{1})\\neq med(X_{2})) $"
   ]
  },
  {
   "cell_type": "code",
   "execution_count": 316,
   "id": "ancient-structure",
   "metadata": {},
   "outputs": [
    {
     "name": "stdout",
     "output_type": "stream",
     "text": [
      "Age median for default = 0: 34.0\n",
      "Age median for default = 1: 34.0\n"
     ]
    }
   ],
   "source": [
    "print('Age median for default = 0: {}'.format(age_no_default.median()))\n",
    "print('Age median for default = 1: {}'.format(age_default.median()))"
   ]
  },
  {
   "cell_type": "markdown",
   "id": "young-earthquake",
   "metadata": {},
   "source": [
    "### Непараметрические критерии равенства средних: критерий Манна-Уитни"
   ]
  },
  {
   "cell_type": "code",
   "execution_count": 309,
   "id": "organized-frame",
   "metadata": {},
   "outputs": [
    {
     "name": "stdout",
     "output_type": "stream",
     "text": [
      "Критерий Манна-Уитни для двухвыборочной задачи с независимыми выборками: MannwhitneyuResult(statistic=76966879.5, pvalue=0.1862517717449308)\n"
     ]
    }
   ],
   "source": [
    "print('Критерий Манна-Уитни для двухвыборочной задачи с независимыми выборками: {}'.format(sc.stats.mannwhitneyu(age_no_default,age_default)))"
   ]
  },
  {
   "cell_type": "markdown",
   "id": "established-prescription",
   "metadata": {},
   "source": [
    "За критерием Манна-Уитни при уровне значимости 0.05 нулевую гипотезу о равенстве медиан двух выборок отвергнуть нельзя."
   ]
  },
  {
   "cell_type": "markdown",
   "id": "coupled-colors",
   "metadata": {},
   "source": [
    "### Непараметрические критерии равенства средних: перестановочный критерий для независимых выборок"
   ]
  },
  {
   "cell_type": "markdown",
   "id": "sophisticated-praise",
   "metadata": {},
   "source": [
    "$H_0\\colon F_{X_1}(x) = F_{X_2}(x)$\n",
    "\n",
    "$H_1\\colon F_{X_1}(x) = F_{X_2}(x + \\Delta), \\Delta\\neq 0$"
   ]
  },
  {
   "cell_type": "code",
   "execution_count": 317,
   "id": "hungry-carnival",
   "metadata": {},
   "outputs": [
    {
     "name": "stdout",
     "output_type": "stream",
     "text": [
      "Age mean for default = 0: 35.417265879130284\n",
      "Age mean for default = 1: 35.72573839662447\n"
     ]
    }
   ],
   "source": [
    "print('Age mean for default = 0: {}'.format(age_no_default.mean()))\n",
    "print('Age mean for default = 1: {}'.format(age_default.mean()))"
   ]
  },
  {
   "cell_type": "code",
   "execution_count": 310,
   "id": "optimum-messenger",
   "metadata": {},
   "outputs": [],
   "source": [
    "def permutation_t_stat_ind(sample1, sample2):\n",
    "    return np.mean(sample1) - np.mean(sample2)"
   ]
  },
  {
   "cell_type": "code",
   "execution_count": 311,
   "id": "comparative-technique",
   "metadata": {},
   "outputs": [],
   "source": [
    "def get_random_combinations(n1, n2, max_combinations):\n",
    "    index = list(range(n1 + n2))\n",
    "    indices = set([tuple(index)])\n",
    "    for i in range(max_combinations - 1):\n",
    "        np.random.shuffle(index)\n",
    "        indices.add(tuple(index))\n",
    "    return [(index[:n1], index[n1:]) for index in indices]"
   ]
  },
  {
   "cell_type": "code",
   "execution_count": 312,
   "id": "distinct-berlin",
   "metadata": {},
   "outputs": [],
   "source": [
    "def permutation_zero_dist_ind(sample1, sample2, max_combinations = None):\n",
    "    joined_sample = np.hstack((sample1, sample2))\n",
    "    n1 = len(sample1)\n",
    "    n = len(joined_sample)\n",
    "    \n",
    "    if max_combinations:\n",
    "        indices = get_random_combinations(n1, len(sample2), max_combinations)\n",
    "    else:\n",
    "        indices = [(list(index), filter(lambda i: i not in index, range(n))) \\\n",
    "                    for index in itertools.combinations(range(n), n1)]\n",
    "    \n",
    "    distr = [joined_sample[list(i[0])].mean() - joined_sample[list(i[1])].mean() \\\n",
    "             for i in indices]\n",
    "    return distr"
   ]
  },
  {
   "cell_type": "code",
   "execution_count": 313,
   "id": "bright-salon",
   "metadata": {},
   "outputs": [],
   "source": [
    "def permutation_test(sample, mean, max_permutations = None, alternative = 'two-sided'):\n",
    "    if alternative not in ('two-sided', 'less', 'greater'):\n",
    "        raise ValueError(\"alternative not recognized\\n\"\n",
    "                         \"should be 'two-sided', 'less' or 'greater'\")\n",
    "    \n",
    "    t_stat = permutation_t_stat_ind(sample, mean)\n",
    "    \n",
    "    zero_distr = permutation_zero_dist_ind(sample, mean, max_permutations)\n",
    "    \n",
    "    if alternative == 'two-sided':\n",
    "        return sum([1. if abs(x) >= abs(t_stat) else 0. for x in zero_distr]) / len(zero_distr)\n",
    "    \n",
    "    if alternative == 'less':\n",
    "        return sum([1. if x <= t_stat else 0. for x in zero_distr]) / len(zero_distr)\n",
    "\n",
    "    if alternative == 'greater':\n",
    "        return sum([1. if x >= t_stat else 0. for x in zero_distr]) / len(zero_distr)"
   ]
  },
  {
   "cell_type": "code",
   "execution_count": 320,
   "id": "determined-settlement",
   "metadata": {},
   "outputs": [
    {
     "name": "stdout",
     "output_type": "stream",
     "text": [
      "p-value: 0.015900\n"
     ]
    }
   ],
   "source": [
    "print (\"p-value: %f\" % permutation_test(age_no_default, age_default, max_permutations = 10000))"
   ]
  },
  {
   "cell_type": "markdown",
   "id": "prepared-saturn",
   "metadata": {},
   "source": [
    "### Непараметрические критерии равенства средних: бутстреп"
   ]
  },
  {
   "cell_type": "code",
   "execution_count": 321,
   "id": "lightweight-circumstances",
   "metadata": {},
   "outputs": [],
   "source": [
    "def get_bootstrap_samples(data, n_samples):\n",
    "    indices = np.random.randint(0, len(data), (n_samples, len(data)))\n",
    "    samples = data[indices]\n",
    "    return samples"
   ]
  },
  {
   "cell_type": "code",
   "execution_count": 322,
   "id": "reported-contact",
   "metadata": {},
   "outputs": [],
   "source": [
    "def stat_intervals(stat, alpha):\n",
    "    boundaries = np.percentile(stat, [100 * alpha / 2., 100 * (1 - alpha / 2.)])\n",
    "    return boundaries"
   ]
  },
  {
   "cell_type": "code",
   "execution_count": 325,
   "id": "indoor-soccer",
   "metadata": {},
   "outputs": [],
   "source": [
    "np.random.seed(0)\n",
    "\n",
    "age_default_bootstrap = get_bootstrap_samples(age_default.values,n_samples=1000)\n",
    "age_default_boot_median = np.median(age_default_bootstrap, axis=0)\n",
    "\n",
    "age_no_default_bootstrap = get_bootstrap_samples(age_no_default.values,n_samples=1000)\n",
    "age_no_default_boot_median = np.median(age_no_default_bootstrap, axis=0)"
   ]
  },
  {
   "cell_type": "code",
   "execution_count": 326,
   "id": "aquatic-telescope",
   "metadata": {},
   "outputs": [
    {
     "name": "stdout",
     "output_type": "stream",
     "text": [
      "Bootstrap default median confidance interval: [33. 35.]\n",
      "Bootstrap no default median confidance interval: [33. 35.]\n"
     ]
    }
   ],
   "source": [
    "print('Bootstrap default median confidance interval: {}'.format(stat_intervals(age_default_boot_median,alpha=0.05)))\n",
    "print('Bootstrap no default median confidance interval: {}'.format(stat_intervals(age_no_default_boot_median,alpha=0.05)))"
   ]
  },
  {
   "cell_type": "markdown",
   "id": "accomplished-attribute",
   "metadata": {},
   "source": [
    "Доверительные интервалы для медиан одинаковые."
   ]
  },
  {
   "cell_type": "markdown",
   "id": "entertaining-panama",
   "metadata": {},
   "source": [
    "### Интервальная оценка для разности медиан на бутстрепе"
   ]
  },
  {
   "cell_type": "code",
   "execution_count": 327,
   "id": "stable-parker",
   "metadata": {},
   "outputs": [
    {
     "name": "stdout",
     "output_type": "stream",
     "text": [
      "Difference between medians: 0.000000\n"
     ]
    }
   ],
   "source": [
    "print('Difference between medians: %f' % (np.median(age_default) - np.median(age_no_default)))"
   ]
  },
  {
   "cell_type": "code",
   "execution_count": 335,
   "id": "portable-sweet",
   "metadata": {},
   "outputs": [],
   "source": [
    "delta_median_scores = list(map(lambda x: x[1] - x[0], zip(age_default_boot_median, age_no_default_boot_median)))"
   ]
  },
  {
   "cell_type": "code",
   "execution_count": 337,
   "id": "rotary-reviewer",
   "metadata": {},
   "outputs": [
    {
     "name": "stdout",
     "output_type": "stream",
     "text": [
      "95% conf. int. for the difference between medians: [-2.000000, 1.000000]\n"
     ]
    }
   ],
   "source": [
    "stat_int = stat_intervals(delta_median_scores, 0.05)\n",
    "print('95%% conf. int. for the difference between medians: [%f, %f]' % (stat_int[0], stat_int[1]))"
   ]
  },
  {
   "cell_type": "markdown",
   "id": "prerequisite-magazine",
   "metadata": {},
   "source": [
    "Доверительный интервал для разницы медиан содержит 0, разница статистически не значима. Но перестановочный критерий для средних для уровня значимости 0.05 отверг нулевую гипотезу о равенстве распределений."
   ]
  },
  {
   "cell_type": "markdown",
   "id": "enormous-gossip",
   "metadata": {},
   "source": [
    "Результат является практически значимым, потому что разница видна на графиках и подверждена перестановочным критерием."
   ]
  },
  {
   "cell_type": "markdown",
   "id": "arbitrary-dayton",
   "metadata": {},
   "source": [
    "## Notes"
   ]
  },
  {
   "cell_type": "markdown",
   "id": "wooden-promotion",
   "metadata": {},
   "source": [
    "   1. Выполнение каждого пункта задания должно начинаться с графика с данными, которые вы собираетесь анализировать. Еще лучше, если вы разложите графики анализируемого фактора по переменной (default), на которую хотите изучить влияние этого фактора, и проинтерпретируете отличия в полученных распределениях.\n",
    "   2. При использовании статистических критериев необходимо убедиться в том, что условия их применимости выполняются. Например, если вы видите, что данные бинарные, то не нужно применять критерий Стьюдента.\n",
    "   3. При каждом использовании любого критерия необходимо указать, какая проверяется гипотеза, против какой альтернативы, чему равен достигаемый уровень значимости, принимается или отвергается нулевая гипотеза на уровне значимости 0.05. Если задача позволяет, нужно оценить размер эффекта и предположить, имеет ли этот результат практическую значимость. \n",
    "   4. Выполненное задание необходимо представить в ipython-ноутбука."
   ]
  }
 ],
 "metadata": {
  "kernelspec": {
   "display_name": "coursera",
   "language": "python",
   "name": "coursera"
  },
  "language_info": {
   "codemirror_mode": {
    "name": "ipython",
    "version": 3
   },
   "file_extension": ".py",
   "mimetype": "text/x-python",
   "name": "python",
   "nbconvert_exporter": "python",
   "pygments_lexer": "ipython3",
   "version": "3.9.1"
  }
 },
 "nbformat": 4,
 "nbformat_minor": 5
}
