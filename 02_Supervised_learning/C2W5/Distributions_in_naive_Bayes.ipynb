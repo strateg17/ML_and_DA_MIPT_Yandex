{
 "cells": [
  {
   "cell_type": "code",
   "execution_count": 3,
   "metadata": {},
   "outputs": [],
   "source": [
    "from sklearn import datasets\n",
    "from sklearn.naive_bayes import BernoulliNB, MultinomialNB, GaussianNB\n",
    "from sklearn.model_selection import cross_val_score\n",
    "import numpy as np"
   ]
  },
  {
   "cell_type": "code",
   "execution_count": 4,
   "metadata": {},
   "outputs": [],
   "source": [
    "digits = datasets.load_digits()\n",
    "breast = datasets.load_breast_cancer()"
   ]
  },
  {
   "cell_type": "code",
   "execution_count": 5,
   "metadata": {},
   "outputs": [],
   "source": [
    "x_digits = digits.data\n",
    "y_digits = digits.target\n",
    "\n",
    "x_breast = breast.data\n",
    "y_breast = breast.target"
   ]
  },
  {
   "cell_type": "code",
   "execution_count": 6,
   "metadata": {},
   "outputs": [],
   "source": [
    "Bern_clf = BernoulliNB()\n",
    "Mult_clf = MultinomialNB()\n",
    "Gauss_clf = GaussianNB()"
   ]
  },
  {
   "cell_type": "code",
   "execution_count": 8,
   "metadata": {},
   "outputs": [],
   "source": [
    "Bern_val_score_digits = cross_val_score(Bern_clf, x_digits, y_digits).mean()\n",
    "Mult_val_score_digits = cross_val_score(Mult_clf, x_digits, y_digits).mean()\n",
    "Gaus_val_score_digits = cross_val_score(Gauss_clf,x_digits, y_digits).mean()\n",
    "\n",
    "Bern_val_score_breast = cross_val_score(Bern_clf, x_breast, y_breast).mean()\n",
    "Mult_val_score_breast = cross_val_score(Mult_clf, x_breast, y_breast).mean()\n",
    "Gaus_val_score_breast = cross_val_score(Gauss_clf,x_breast, y_breast).mean()"
   ]
  },
  {
   "cell_type": "code",
   "execution_count": 9,
   "metadata": {},
   "outputs": [
    {
     "name": "stdout",
     "output_type": "stream",
     "text": [
      "BernoulliNB, digits =  0.8241736304549674\n",
      "MultinominalNB, digits =  0.8703497369235531\n",
      "GaussianNB, digits=  0.8069281956050759\n",
      "\n",
      "BernoulliNB, breast =  0.6274181027790716\n",
      "MultinominalNB, breast =  0.8963204471355379\n",
      "GaussianNB, breast =  0.9385188635305075\n"
     ]
    }
   ],
   "source": [
    "print('BernoulliNB, digits = ', Bern_val_score_digits)\n",
    "print('MultinominalNB, digits = ', Mult_val_score_digits)\n",
    "print('GaussianNB, digits= ', Gaus_val_score_digits)\n",
    "print()\n",
    "print('BernoulliNB, breast = ', Bern_val_score_breast)\n",
    "print('MultinominalNB, breast = ', Mult_val_score_breast)\n",
    "print('GaussianNB, breast = ', Gaus_val_score_breast)"
   ]
  },
  {
   "cell_type": "code",
   "execution_count": 10,
   "metadata": {},
   "outputs": [],
   "source": [
    "ans1 = '0.9385188635305075'\n",
    "ans2 = '0.8703497369235531'\n",
    "ans3 = '3 4'"
   ]
  },
  {
   "cell_type": "code",
   "execution_count": 14,
   "metadata": {},
   "outputs": [],
   "source": [
    "def write_answer(answer, file_name):\n",
    "    with open(file_name,'w') as file_out:\n",
    "        file_out.write(str(answer))"
   ]
  },
  {
   "cell_type": "code",
   "execution_count": 15,
   "metadata": {},
   "outputs": [],
   "source": [
    "write_answer(ans1, 'naive_bayes_1')\n",
    "write_answer(ans2, 'naive_bayes_2')\n",
    "write_answer(ans3, 'naive-bayes_3')"
   ]
  }
 ],
 "metadata": {
  "kernelspec": {
   "display_name": "Python 3",
   "language": "python",
   "name": "python3"
  },
  "language_info": {
   "codemirror_mode": {
    "name": "ipython",
    "version": 3
   },
   "file_extension": ".py",
   "mimetype": "text/x-python",
   "name": "python",
   "nbconvert_exporter": "python",
   "pygments_lexer": "ipython3",
   "version": "3.8.3"
  }
 },
 "nbformat": 4,
 "nbformat_minor": 4
}
